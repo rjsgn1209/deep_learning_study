{
 "cells": [
  {
   "cell_type": "code",
   "execution_count": null,
   "metadata": {
    "colab": {
     "base_uri": "https://localhost:8080/"
    },
    "id": "N-RKDD1VIIcr",
    "outputId": "24b8df3c-a2c6-46f4-ddf8-17f6a42645e5"
   },
   "outputs": [
    {
     "name": "stdout",
     "output_type": "stream",
     "text": [
      "Mounted at ./mydrive\n"
     ]
    }
   ],
   "source": [
    "from google.colab import drive\n",
    "drive.mount('./mydrive')"
   ]
  },
  {
   "cell_type": "code",
   "execution_count": null,
   "metadata": {
    "colab": {
     "base_uri": "https://localhost:8080/",
     "height": 35
    },
    "id": "KtWBT2ZTJEXp",
    "outputId": "4c829d35-5dea-40b7-ffd7-e7639d45908f"
   },
   "outputs": [
    {
     "data": {
      "application/vnd.google.colaboratory.intrinsic+json": {
       "type": "string"
      },
      "text/plain": [
       "'/content'"
      ]
     },
     "execution_count": 8,
     "metadata": {},
     "output_type": "execute_result"
    }
   ],
   "source": [
    "pwd"
   ]
  },
  {
   "cell_type": "code",
   "execution_count": null,
   "metadata": {
    "colab": {
     "base_uri": "https://localhost:8080/"
    },
    "id": "zveSWZlXi_R_",
    "outputId": "9b8de32a-1284-4aa7-d498-5e1f027a1b0b"
   },
   "outputs": [
    {
     "name": "stdout",
     "output_type": "stream",
     "text": [
      "\u001b[0m\u001b[01;34mMyDrive\u001b[0m/\n"
     ]
    }
   ],
   "source": []
  },
  {
   "cell_type": "code",
   "execution_count": null,
   "metadata": {
    "colab": {
     "base_uri": "https://localhost:8080/"
    },
    "id": "1Tl4M5LlJEah",
    "outputId": "d9304ec6-646c-46f5-a2d9-b9310caf39c7"
   },
   "outputs": [
    {
     "name": "stdout",
     "output_type": "stream",
     "text": [
      "/content/mydrive\n"
     ]
    }
   ],
   "source": [
    "cd mydrive/"
   ]
  },
  {
   "cell_type": "code",
   "execution_count": null,
   "metadata": {
    "colab": {
     "base_uri": "https://localhost:8080/"
    },
    "id": "1vKr62hsjM_m",
    "outputId": "74fc2623-2fc5-4df4-d007-765eb9fea497"
   },
   "outputs": [
    {
     "name": "stdout",
     "output_type": "stream",
     "text": [
      "\u001b[0m\u001b[01;34mMyDrive\u001b[0m/\n"
     ]
    }
   ],
   "source": [
    "ls"
   ]
  },
  {
   "cell_type": "code",
   "execution_count": null,
   "metadata": {
    "colab": {
     "base_uri": "https://localhost:8080/"
    },
    "id": "kOTnwh0LjO6G",
    "outputId": "46d5ecc7-48ce-49e0-a1f9-481df5377cee"
   },
   "outputs": [
    {
     "name": "stdout",
     "output_type": "stream",
     "text": [
      "/content/mydrive/MyDrive\n"
     ]
    }
   ],
   "source": [
    "cd MyDrive"
   ]
  },
  {
   "cell_type": "code",
   "execution_count": null,
   "metadata": {
    "colab": {
     "base_uri": "https://localhost:8080/"
    },
    "id": "l3MCRIhYjoqw",
    "outputId": "76014527-23cd-4061-b9a3-c3d8b096c628"
   },
   "outputs": [
    {
     "name": "stdout",
     "output_type": "stream",
     "text": [
      "'유가 변동에 따른 주가 변동 예측 (1) (1).gslides'\n",
      "'유가 변동에 따른 주가 변동 예측 (1).gslides'\n",
      "'제목 없는 프레젠테이션 (1).gslides'\n",
      "'제목 없는 프레젠테이션의 사본 (1).gslides'\n",
      " BDS최종.xd\n",
      " \u001b[0m\u001b[01;34mbrainimages-20220321T013748Z-001\u001b[0m/\n",
      " brainimages-20220321T013748Z-001.zip\n",
      "\u001b[01;34m'Colab Notebooks'\u001b[0m/\n",
      " \u001b[01;34mdrawable-mdpi\u001b[0m/\n",
      " 파워포인트-원본파일-다운-free-powerpoint-ppt-template-1042.gslides\n",
      "'유가 변동에 따른 주가 변동 예측.gslides'\n",
      "'유가 변동에 따른 주가 변동 예측의 사본.gslides'\n",
      "'제목 없는 프레젠테이션.gslides'\n",
      "'제목 없는 프레젠테이션의 사본.gslides'\n",
      " 팀프로젝트.gslides\n",
      "'Introduction to Machine Learning with Python.pdf'\n",
      " \u001b[01;34mJoinTest\u001b[0m/\n",
      " KakaoTalk_20210305_122717510.jpg\n",
      " \u001b[01;34mMeasureButton\u001b[0m/\n",
      " \u001b[01;34mmodern-blurred-background-with-pink-blue-gradient\u001b[0m/\n",
      "'Pandas Cookbook.pdf'\n",
      "'sbpptitlepage181025 (1).pptx'\n",
      " sbpptitlepage181025.gslides\n",
      " sbpptitlepage181025.pptx\n",
      " \u001b[01;34muiuxdesign\u001b[0m/\n",
      "\u001b[01;34m'uiuxdesign (1)'\u001b[0m/\n"
     ]
    }
   ],
   "source": [
    "ls"
   ]
  },
  {
   "cell_type": "code",
   "execution_count": null,
   "metadata": {
    "colab": {
     "base_uri": "https://localhost:8080/"
    },
    "id": "ufMdmXOEJEdJ",
    "outputId": "4cdcf624-007a-47a9-d7ae-069e5db326c2"
   },
   "outputs": [
    {
     "name": "stdout",
     "output_type": "stream",
     "text": [
      "/content/mydrive/MyDrive/brainimages-20220321T013748Z-001\n"
     ]
    }
   ],
   "source": [
    "cd brainimages-20220321T013748Z-001"
   ]
  },
  {
   "cell_type": "code",
   "execution_count": null,
   "metadata": {
    "colab": {
     "base_uri": "https://localhost:8080/"
    },
    "id": "PO-cJ7RTjOR1",
    "outputId": "ee2be204-7202-4e0d-83d9-a3c92888a4ad"
   },
   "outputs": [
    {
     "name": "stdout",
     "output_type": "stream",
     "text": [
      "\u001b[0m\u001b[01;34mbrainimages\u001b[0m/\n"
     ]
    }
   ],
   "source": [
    "ls"
   ]
  },
  {
   "cell_type": "code",
   "execution_count": null,
   "metadata": {
    "colab": {
     "base_uri": "https://localhost:8080/"
    },
    "id": "ptxrBsTOjzrZ",
    "outputId": "f11b312a-86a4-4d3f-da31-0362a9e47e1a"
   },
   "outputs": [
    {
     "name": "stdout",
     "output_type": "stream",
     "text": [
      "/content/mydrive/MyDrive/brainimages-20220321T013748Z-001/brainimages\n"
     ]
    }
   ],
   "source": [
    "cd brainimages"
   ]
  },
  {
   "cell_type": "code",
   "execution_count": null,
   "metadata": {
    "colab": {
     "base_uri": "https://localhost:8080/"
    },
    "id": "hqirqA1cjzuF",
    "outputId": "e021b45c-1564-4a1b-d706-f9807a205a9b"
   },
   "outputs": [
    {
     "name": "stdout",
     "output_type": "stream",
     "text": [
      "\u001b[0m\u001b[01;34mtest\u001b[0m/  \u001b[01;34mtrain\u001b[0m/\n"
     ]
    }
   ],
   "source": [
    "ls"
   ]
  },
  {
   "cell_type": "code",
   "execution_count": null,
   "metadata": {
    "id": "LYnB6anojzwn"
   },
   "outputs": [],
   "source": []
  },
  {
   "cell_type": "code",
   "execution_count": null,
   "metadata": {
    "colab": {
     "base_uri": "https://localhost:8080/",
     "height": 35
    },
    "id": "E_229NI0JEfh",
    "outputId": "3a01cfd1-b8a8-444c-e2f9-4e71ab910eba"
   },
   "outputs": [
    {
     "data": {
      "application/vnd.google.colaboratory.intrinsic+json": {
       "type": "string"
      },
      "text/plain": [
       "'/content'"
      ]
     },
     "execution_count": 5,
     "metadata": {},
     "output_type": "execute_result"
    }
   ],
   "source": [
    "pwd"
   ]
  },
  {
   "cell_type": "code",
   "execution_count": null,
   "metadata": {
    "id": "40OcnzGzJEiB"
   },
   "outputs": [],
   "source": [
    "import tensorflow as tf\n",
    "import os\n",
    "from tensorflow.keras.models import Sequential\n",
    "from tensorflow.keras.layers import Dense, Conv2D, MaxPooling2D, Flatten, Activation, Dropout\n",
    "from tensorflow.keras.preprocessing.image import ImageDataGenerator\n",
    "from tensorflow.keras import optimizers, initializers, regularizers, metrics\n",
    "\n",
    "import pandas as pd\n",
    "import numpy as np\n",
    "import matplotlib.pyplot as plt\n",
    "import seaborn as sns"
   ]
  },
  {
   "cell_type": "code",
   "execution_count": null,
   "metadata": {
    "id": "ZQUhe7KJJEkg"
   },
   "outputs": [],
   "source": [
    "train_datagen = ImageDataGenerator(rescale=1./255,\n",
    "                                   horizontal_flip =True,\n",
    "                                   width_shift_range=0.1,\n",
    "                                   height_shift_range = 0.1,\n",
    "                                   rotation_range =5,\n",
    "                                  #  sheer_range=0.7,\n",
    "                                   zoom_range=[0.9, 2],\n",
    "                                   vertical_flip = True,\n",
    "                                   fill_mode='nearest')\n",
    "# 데이터를 가져올때 이미지를 다양한 형식의 이미지로 바꿔서 가져올수있음..\n",
    "# 원본이미지를 다양하게 변형시켜서 가져오면 다양한 이미지를 학습시키는 효과가있고 \n"
   ]
  },
  {
   "cell_type": "code",
   "execution_count": null,
   "metadata": {
    "colab": {
     "base_uri": "https://localhost:8080/"
    },
    "id": "kpF8rOB_JEnR",
    "outputId": "7d1c2a8a-6be4-484a-848b-7e6fa3aaac02"
   },
   "outputs": [
    {
     "name": "stdout",
     "output_type": "stream",
     "text": [
      "Found 160 images belonging to 2 classes.\n"
     ]
    }
   ],
   "source": [
    "train_generator= train_datagen.flow_from_directory('train',\n",
    "                                  target_size = (150,150),\n",
    "                                  batch_size=5,\n",
    "                                  class_mode='binary')\n",
    "# 트레인제너레이터를 설정하면 학습시킬때 학습할때 배치단위로 폴더에서 변형된 이미지를 불러오게됨.\n"
   ]
  },
  {
   "cell_type": "code",
   "execution_count": null,
   "metadata": {
    "id": "Guyuz6uDJEqA"
   },
   "outputs": [],
   "source": [
    "test_datagen = ImageDataGenerator(rescale=1./255)\n",
    "#테스트 데이터는 normalize만 해줌.. "
   ]
  },
  {
   "cell_type": "code",
   "execution_count": null,
   "metadata": {
    "id": "FQabEMzWdmfE"
   },
   "outputs": [],
   "source": []
  },
  {
   "cell_type": "code",
   "execution_count": null,
   "metadata": {
    "id": "3Srn4bsJdmjm"
   },
   "outputs": [],
   "source": []
  },
  {
   "cell_type": "code",
   "execution_count": null,
   "metadata": {
    "colab": {
     "base_uri": "https://localhost:8080/"
    },
    "id": "tJpjZMLcJEsy",
    "outputId": "3e96dc7d-afde-46a1-c6f4-14b6d5a720cc"
   },
   "outputs": [
    {
     "name": "stdout",
     "output_type": "stream",
     "text": [
      "Found 120 images belonging to 2 classes.\n"
     ]
    }
   ],
   "source": [
    "test_generator = test_datagen.flow_from_directory(\n",
    "    './test',\n",
    "    target_size=(150,150),\n",
    "    batch_size=5,\n",
    "    class_mode='binary'\n",
    ")\n",
    "# 테스트 폴더에서 가져옴.."
   ]
  },
  {
   "cell_type": "code",
   "execution_count": null,
   "metadata": {
    "id": "5-YOd_NYJEvg"
   },
   "outputs": [],
   "source": [
    "model = Sequential() # 하나의 입력 텐서와 하나의 출력 텐서가 있는 일반 레이어 스택에 적합  (데이터의 배열)\n",
    "model.add(Conv2D(32, (3,3), input_shape=(150,150,3)))\n",
    "# 컨볼루션 레이어 - 필터로 특징을 뽑아줌\n",
    "# Conv2D(컨볼루션필터의 수 (컨볼루션 커널의 행,열),샘플수를 제외한 입력형태를 정의(행,열,채널수))\n",
    "model.add(Activation('relu'))\n",
    "# 활성함수종류 \n",
    "model.add(MaxPooling2D(pool_size=(2,2)))\n",
    "# 풀링은 사이즈를 줄여주는것 \n",
    "model.add(Conv2D(32, (3,3)))\n",
    "model.add(Activation('relu'))\n",
    "model.add(MaxPooling2D(pool_size=(2,2)))\n",
    "\n",
    "model.add(Conv2D(64, (3,3))) #필터 64개 사용\n",
    "model.add(Activation('relu'))\n",
    "model.add(MaxPooling2D(pool_size=(2,2)))\n",
    "\n",
    "model.add(Flatten())\n",
    " \n",
    "model.add(Dense(64))\n",
    "model.add(Activation('relu'))\n",
    "model.add(Dropout(0.5)) #한번학습할때마다 랜덤하게 노드 50퍼를 꺼버림 \n",
    "model.add(Dense(2)) #normal,abnormal\n",
    "model.add(Activation('softmax'))\n",
    "model.summary()"
   ]
  },
  {
   "cell_type": "code",
   "execution_count": null,
   "metadata": {
    "id": "EPiC2kyHa7ZL"
   },
   "outputs": [],
   "source": [
    "# y(label) : binary\n",
    "# abnormal, normal : 0, 1\n",
    "\n",
    "# y(label) : one_hot\n",
    "# normal : [1, 0]\n",
    "# abnormal : [0, 1]\n",
    "\n",
    "# y(label) : 0, 1, 2, 3 ... => 'sparse_categorical_crossentropy'"
   ]
  },
  {
   "cell_type": "code",
   "execution_count": null,
   "metadata": {
    "id": "Kkzx1zOtJEyI"
   },
   "outputs": [],
   "source": [
    "adam = optimizers.Adam(learning_rate=0.0002)\n",
    "model.compile(loss='sparse_categorical_crossentropy', optimizer=adam, metrics=['accuracy'])"
   ]
  },
  {
   "cell_type": "code",
   "execution_count": null,
   "metadata": {
    "id": "cRHP-7Gor2mS"
   },
   "outputs": [],
   "source": []
  },
  {
   "cell_type": "code",
   "execution_count": null,
   "metadata": {
    "id": "Bcku11qZJE05"
   },
   "outputs": [],
   "source": [
    "# fit_generator => fit\n",
    "\n",
    "hist = model.fit(\n",
    "    train_generator,\n",
    "    # steps_per_epochs=100,\n",
    "    epochs=50,\n",
    "    validation_data = test_generator, #데이터를 갖고와서 validation데이터를 테스트할건데 \n",
    "    validation_steps=20 # 한번 가져올때마다 이미지를 20개씩 생성(원본데이터로 몇개의 변형된 이미지를 생성할지)\n",
    ")"
   ]
  },
  {
   "cell_type": "code",
   "execution_count": null,
   "metadata": {
    "id": "OBvLUBAdJE3h"
   },
   "outputs": [],
   "source": []
  },
  {
   "cell_type": "code",
   "execution_count": null,
   "metadata": {
    "colab": {
     "base_uri": "https://localhost:8080/",
     "height": 265
    },
    "id": "PA0y_YPtX-Pj",
    "outputId": "bcc2e3ea-cab4-4622-a220-474449283ed1"
   },
   "outputs": [
    {
     "data": {
      "image/png": "[encoded data removed]",
      "text/plain": [
       "<Figure size 432x288 with 1 Axes>"
      ]
     },
     "metadata": {
      "needs_background": "light"
     },
     "output_type": "display_data"
    }
   ],
   "source": [
    "acc = hist.history['accuracy']\n",
    "val_acc = hist.history['val_accuracy']\n",
    "loss = hist.history['loss']\n",
    "val_loss = hist.history['val_loss']\n",
    "\n",
    "x_len = np.arange(len(loss))\n",
    "plt.plot(x_len, acc, marker='.', c='red', label='Train_Acc')\n",
    "plt.plot(x_len, val_acc, marker='.', c='lightcoral', label='Testset_Acc')\n",
    "plt.plot(x_len, loss, marker='.', c='cornflowerblue', label='Train_Loss')\n",
    "plt.plot(x_len, val_loss, marker='.', c='blue', label='Test_Loss')\n",
    "\n",
    "plt.legend()\n",
    "plt.grid()\n",
    "plt.show()"
   ]
  },
  {
   "cell_type": "code",
   "execution_count": null,
   "metadata": {
    "id": "oyxzRWZ4X-SS"
   },
   "outputs": [],
   "source": []
  },
  {
   "cell_type": "code",
   "execution_count": null,
   "metadata": {
    "id": "IqdhquLoX-VS"
   },
   "outputs": [],
   "source": [
    "from tensorflow.keras.applications import VGG16"
   ]
  },
  {
   "cell_type": "code",
   "execution_count": null,
   "metadata": {
    "id": "D6a_MGFJX-X6"
   },
   "outputs": [],
   "source": [
    "transfer_model = VGG16(weights='imagenet', include_top=False, input_shape=(150,150,3))\n",
    "# dense위로 특징추출부분, 밑으로 예측부분 \n",
    "# includetop 예측부분포함하냐안하냐 예측부분포함x\n",
    "\n",
    "transfer_model.trainable=False\n",
    "# 위에서 이미 학습했으니 학습을 하지않겠다.\n",
    "transfer_model.summary()"
   ]
  },
  {
   "cell_type": "code",
   "execution_count": null,
   "metadata": {
    "id": "datf901XX-aZ"
   },
   "outputs": [],
   "source": [
    "finetune_model = Sequential()\n",
    "finetune_model.add(transfer_model)\n",
    "finetune_model.add(Flatten())\n",
    "finetune_model.add(Dense(64, activation='relu'))\n",
    "finetune_model.add(Dense(32, activation='relu'))\n",
    "finetune_model.add(Dense(2, activation='softmax'))\n",
    "finetune_model.summary()"
   ]
  },
  {
   "cell_type": "code",
   "execution_count": null,
   "metadata": {
    "id": "0u54rYoxX-dC"
   },
   "outputs": [],
   "source": [
    "finetune_model.compile(loss='sparse_categorical_crossentropy', optimizer=adam, metrics=['accuracy'])"
   ]
  },
  {
   "cell_type": "code",
   "execution_count": null,
   "metadata": {
    "colab": {
     "base_uri": "https://localhost:8080/"
    },
    "id": "lB8gUNF0X-gK",
    "outputId": "d5273c69-0001-45c0-c20c-2b3f980e54a1"
   },
   "outputs": [
    {
     "name": "stdout",
     "output_type": "stream",
     "text": [
      "Epoch 1/50\n",
      "32/32 [==============================] - 37s 1s/step - loss: 0.7491 - accuracy: 0.5688 - val_loss: 0.5818 - val_accuracy: 0.7500\n",
      "Epoch 2/50\n",
      "32/32 [==============================] - 36s 1s/step - loss: 0.6160 - accuracy: 0.6625 - val_loss: 0.5461 - val_accuracy: 0.8000\n",
      "Epoch 3/50\n",
      "32/32 [==============================] - 36s 1s/step - loss: 0.5065 - accuracy: 0.8125 - val_loss: 0.5901 - val_accuracy: 0.5500\n",
      "Epoch 4/50\n",
      "32/32 [==============================] - 36s 1s/step - loss: 0.4365 - accuracy: 0.8500 - val_loss: 0.4179 - val_accuracy: 0.8000\n",
      "Epoch 5/50\n",
      "32/32 [==============================] - 36s 1s/step - loss: 0.3815 - accuracy: 0.8250 - val_loss: 0.3853 - val_accuracy: 0.7500\n",
      "Epoch 6/50\n",
      "32/32 [==============================] - 36s 1s/step - loss: 0.3320 - accuracy: 0.9125 - val_loss: 0.2849 - val_accuracy: 0.8500\n",
      "Epoch 7/50\n",
      "32/32 [==============================] - 36s 1s/step - loss: 0.3379 - accuracy: 0.8750 - val_loss: 0.2362 - val_accuracy: 1.0000\n",
      "Epoch 8/50\n",
      "32/32 [==============================] - 36s 1s/step - loss: 0.2746 - accuracy: 0.9062 - val_loss: 0.3627 - val_accuracy: 0.9000\n",
      "Epoch 9/50\n",
      "32/32 [==============================] - 36s 1s/step - loss: 0.2703 - accuracy: 0.9062 - val_loss: 0.2810 - val_accuracy: 0.8500\n",
      "Epoch 10/50\n",
      "32/32 [==============================] - 36s 1s/step - loss: 0.2667 - accuracy: 0.8938 - val_loss: 0.3135 - val_accuracy: 0.8000\n",
      "Epoch 11/50\n",
      "32/32 [==============================] - 36s 1s/step - loss: 0.2212 - accuracy: 0.9250 - val_loss: 0.2843 - val_accuracy: 0.9500\n",
      "Epoch 12/50\n",
      "32/32 [==============================] - 36s 1s/step - loss: 0.2108 - accuracy: 0.9062 - val_loss: 0.1925 - val_accuracy: 0.9000\n",
      "Epoch 13/50\n",
      "32/32 [==============================] - ETA: 0s - loss: 0.1727 - accuracy: 0.9625"
     ]
    }
   ],
   "source": [
    "hist = finetune_model.fit(\n",
    "    train_generator,\n",
    "    epochs = 50,\n",
    "    validation_data=test_generator,\n",
    "    validation_steps=4\n",
    ")"
   ]
  },
  {
   "cell_type": "code",
   "execution_count": null,
   "metadata": {
    "id": "C2BS0UwbX-ii"
   },
   "outputs": [],
   "source": []
  }
 ],
 "metadata": {
  "colab": {
   "collapsed_sections": [],
   "name": "0_20220321brain_images.ipynb",
   "provenance": []
  },
  "kernelspec": {
   "display_name": "Python 3 (ipykernel)",
   "language": "python",
   "name": "python3"
  },
  "language_info": {
   "codemirror_mode": {
    "name": "ipython",
    "version": 3
   },
   "file_extension": ".py",
   "mimetype": "text/x-python",
   "name": "python",
   "nbconvert_exporter": "python",
   "pygments_lexer": "ipython3",
   "version": "3.9.7"
  }
 },
 "nbformat": 4,
 "nbformat_minor": 1
}
