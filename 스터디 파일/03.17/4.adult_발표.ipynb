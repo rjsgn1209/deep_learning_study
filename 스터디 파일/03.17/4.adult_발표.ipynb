{
 "cells": [
  {
   "cell_type": "code",
   "execution_count": 164,
   "id": "758281fd",
   "metadata": {
    "ExecuteTime": {
     "end_time": "2022-03-17T08:10:22.718644Z",
     "start_time": "2022-03-17T08:10:22.713657Z"
    }
   },
   "outputs": [],
   "source": [
    "import pandas as pd\n",
    "import numpy as np\n",
    "import matplotlib.pyplot as plt\n",
    "import seaborn as sns"
   ]
  },
  {
   "cell_type": "code",
   "execution_count": 165,
   "id": "e3f96d26",
   "metadata": {
    "ExecuteTime": {
     "end_time": "2022-03-17T08:10:23.048733Z",
     "start_time": "2022-03-17T08:10:22.983960Z"
    }
   },
   "outputs": [
    {
     "data": {
      "text/html": [
       "<div>\n",
       "<style scoped>\n",
       "    .dataframe tbody tr th:only-of-type {\n",
       "        vertical-align: middle;\n",
       "    }\n",
       "\n",
       "    .dataframe tbody tr th {\n",
       "        vertical-align: top;\n",
       "    }\n",
       "\n",
       "    .dataframe thead th {\n",
       "        text-align: right;\n",
       "    }\n",
       "</style>\n",
       "<table border=\"1\" class=\"dataframe\">\n",
       "  <thead>\n",
       "    <tr style=\"text-align: right;\">\n",
       "      <th></th>\n",
       "      <th>age</th>\n",
       "      <th>workclass</th>\n",
       "      <th>fnlwgt</th>\n",
       "      <th>education</th>\n",
       "      <th>education_num</th>\n",
       "      <th>marital_status</th>\n",
       "      <th>occupation</th>\n",
       "      <th>relationship</th>\n",
       "      <th>race</th>\n",
       "      <th>sex</th>\n",
       "      <th>capital-gain</th>\n",
       "      <th>capital-loss</th>\n",
       "      <th>hours-per-week</th>\n",
       "      <th>native-country</th>\n",
       "      <th>50k</th>\n",
       "    </tr>\n",
       "  </thead>\n",
       "  <tbody>\n",
       "    <tr>\n",
       "      <th>0</th>\n",
       "      <td>39</td>\n",
       "      <td>State-gov</td>\n",
       "      <td>77516</td>\n",
       "      <td>Bachelors</td>\n",
       "      <td>13</td>\n",
       "      <td>Never-married</td>\n",
       "      <td>Adm-clerical</td>\n",
       "      <td>Not-in-family</td>\n",
       "      <td>White</td>\n",
       "      <td>Male</td>\n",
       "      <td>2174</td>\n",
       "      <td>0</td>\n",
       "      <td>40</td>\n",
       "      <td>United-States</td>\n",
       "      <td>&lt;=50K</td>\n",
       "    </tr>\n",
       "    <tr>\n",
       "      <th>1</th>\n",
       "      <td>50</td>\n",
       "      <td>Self-emp-not-inc</td>\n",
       "      <td>83311</td>\n",
       "      <td>Bachelors</td>\n",
       "      <td>13</td>\n",
       "      <td>Married-civ-spouse</td>\n",
       "      <td>Exec-managerial</td>\n",
       "      <td>Husband</td>\n",
       "      <td>White</td>\n",
       "      <td>Male</td>\n",
       "      <td>0</td>\n",
       "      <td>0</td>\n",
       "      <td>13</td>\n",
       "      <td>United-States</td>\n",
       "      <td>&lt;=50K</td>\n",
       "    </tr>\n",
       "    <tr>\n",
       "      <th>2</th>\n",
       "      <td>38</td>\n",
       "      <td>Private</td>\n",
       "      <td>215646</td>\n",
       "      <td>HS-grad</td>\n",
       "      <td>9</td>\n",
       "      <td>Divorced</td>\n",
       "      <td>Handlers-cleaners</td>\n",
       "      <td>Not-in-family</td>\n",
       "      <td>White</td>\n",
       "      <td>Male</td>\n",
       "      <td>0</td>\n",
       "      <td>0</td>\n",
       "      <td>40</td>\n",
       "      <td>United-States</td>\n",
       "      <td>&lt;=50K</td>\n",
       "    </tr>\n",
       "    <tr>\n",
       "      <th>3</th>\n",
       "      <td>53</td>\n",
       "      <td>Private</td>\n",
       "      <td>234721</td>\n",
       "      <td>11th</td>\n",
       "      <td>7</td>\n",
       "      <td>Married-civ-spouse</td>\n",
       "      <td>Handlers-cleaners</td>\n",
       "      <td>Husband</td>\n",
       "      <td>Black</td>\n",
       "      <td>Male</td>\n",
       "      <td>0</td>\n",
       "      <td>0</td>\n",
       "      <td>40</td>\n",
       "      <td>United-States</td>\n",
       "      <td>&lt;=50K</td>\n",
       "    </tr>\n",
       "    <tr>\n",
       "      <th>4</th>\n",
       "      <td>28</td>\n",
       "      <td>Private</td>\n",
       "      <td>338409</td>\n",
       "      <td>Bachelors</td>\n",
       "      <td>13</td>\n",
       "      <td>Married-civ-spouse</td>\n",
       "      <td>Prof-specialty</td>\n",
       "      <td>Wife</td>\n",
       "      <td>Black</td>\n",
       "      <td>Female</td>\n",
       "      <td>0</td>\n",
       "      <td>0</td>\n",
       "      <td>40</td>\n",
       "      <td>Cuba</td>\n",
       "      <td>&lt;=50K</td>\n",
       "    </tr>\n",
       "    <tr>\n",
       "      <th>...</th>\n",
       "      <td>...</td>\n",
       "      <td>...</td>\n",
       "      <td>...</td>\n",
       "      <td>...</td>\n",
       "      <td>...</td>\n",
       "      <td>...</td>\n",
       "      <td>...</td>\n",
       "      <td>...</td>\n",
       "      <td>...</td>\n",
       "      <td>...</td>\n",
       "      <td>...</td>\n",
       "      <td>...</td>\n",
       "      <td>...</td>\n",
       "      <td>...</td>\n",
       "      <td>...</td>\n",
       "    </tr>\n",
       "    <tr>\n",
       "      <th>32556</th>\n",
       "      <td>27</td>\n",
       "      <td>Private</td>\n",
       "      <td>257302</td>\n",
       "      <td>Assoc-acdm</td>\n",
       "      <td>12</td>\n",
       "      <td>Married-civ-spouse</td>\n",
       "      <td>Tech-support</td>\n",
       "      <td>Wife</td>\n",
       "      <td>White</td>\n",
       "      <td>Female</td>\n",
       "      <td>0</td>\n",
       "      <td>0</td>\n",
       "      <td>38</td>\n",
       "      <td>United-States</td>\n",
       "      <td>&lt;=50K</td>\n",
       "    </tr>\n",
       "    <tr>\n",
       "      <th>32557</th>\n",
       "      <td>40</td>\n",
       "      <td>Private</td>\n",
       "      <td>154374</td>\n",
       "      <td>HS-grad</td>\n",
       "      <td>9</td>\n",
       "      <td>Married-civ-spouse</td>\n",
       "      <td>Machine-op-inspct</td>\n",
       "      <td>Husband</td>\n",
       "      <td>White</td>\n",
       "      <td>Male</td>\n",
       "      <td>0</td>\n",
       "      <td>0</td>\n",
       "      <td>40</td>\n",
       "      <td>United-States</td>\n",
       "      <td>&gt;50K</td>\n",
       "    </tr>\n",
       "    <tr>\n",
       "      <th>32558</th>\n",
       "      <td>58</td>\n",
       "      <td>Private</td>\n",
       "      <td>151910</td>\n",
       "      <td>HS-grad</td>\n",
       "      <td>9</td>\n",
       "      <td>Widowed</td>\n",
       "      <td>Adm-clerical</td>\n",
       "      <td>Unmarried</td>\n",
       "      <td>White</td>\n",
       "      <td>Female</td>\n",
       "      <td>0</td>\n",
       "      <td>0</td>\n",
       "      <td>40</td>\n",
       "      <td>United-States</td>\n",
       "      <td>&lt;=50K</td>\n",
       "    </tr>\n",
       "    <tr>\n",
       "      <th>32559</th>\n",
       "      <td>22</td>\n",
       "      <td>Private</td>\n",
       "      <td>201490</td>\n",
       "      <td>HS-grad</td>\n",
       "      <td>9</td>\n",
       "      <td>Never-married</td>\n",
       "      <td>Adm-clerical</td>\n",
       "      <td>Own-child</td>\n",
       "      <td>White</td>\n",
       "      <td>Male</td>\n",
       "      <td>0</td>\n",
       "      <td>0</td>\n",
       "      <td>20</td>\n",
       "      <td>United-States</td>\n",
       "      <td>&lt;=50K</td>\n",
       "    </tr>\n",
       "    <tr>\n",
       "      <th>32560</th>\n",
       "      <td>52</td>\n",
       "      <td>Self-emp-inc</td>\n",
       "      <td>287927</td>\n",
       "      <td>HS-grad</td>\n",
       "      <td>9</td>\n",
       "      <td>Married-civ-spouse</td>\n",
       "      <td>Exec-managerial</td>\n",
       "      <td>Wife</td>\n",
       "      <td>White</td>\n",
       "      <td>Female</td>\n",
       "      <td>15024</td>\n",
       "      <td>0</td>\n",
       "      <td>40</td>\n",
       "      <td>United-States</td>\n",
       "      <td>&gt;50K</td>\n",
       "    </tr>\n",
       "  </tbody>\n",
       "</table>\n",
       "<p>32561 rows × 15 columns</p>\n",
       "</div>"
      ],
      "text/plain": [
       "       age          workclass  fnlwgt    education  education_num  \\\n",
       "0       39          State-gov   77516    Bachelors             13   \n",
       "1       50   Self-emp-not-inc   83311    Bachelors             13   \n",
       "2       38            Private  215646      HS-grad              9   \n",
       "3       53            Private  234721         11th              7   \n",
       "4       28            Private  338409    Bachelors             13   \n",
       "...    ...                ...     ...          ...            ...   \n",
       "32556   27            Private  257302   Assoc-acdm             12   \n",
       "32557   40            Private  154374      HS-grad              9   \n",
       "32558   58            Private  151910      HS-grad              9   \n",
       "32559   22            Private  201490      HS-grad              9   \n",
       "32560   52       Self-emp-inc  287927      HS-grad              9   \n",
       "\n",
       "            marital_status          occupation    relationship    race  \\\n",
       "0            Never-married        Adm-clerical   Not-in-family   White   \n",
       "1       Married-civ-spouse     Exec-managerial         Husband   White   \n",
       "2                 Divorced   Handlers-cleaners   Not-in-family   White   \n",
       "3       Married-civ-spouse   Handlers-cleaners         Husband   Black   \n",
       "4       Married-civ-spouse      Prof-specialty            Wife   Black   \n",
       "...                    ...                 ...             ...     ...   \n",
       "32556   Married-civ-spouse        Tech-support            Wife   White   \n",
       "32557   Married-civ-spouse   Machine-op-inspct         Husband   White   \n",
       "32558              Widowed        Adm-clerical       Unmarried   White   \n",
       "32559        Never-married        Adm-clerical       Own-child   White   \n",
       "32560   Married-civ-spouse     Exec-managerial            Wife   White   \n",
       "\n",
       "           sex  capital-gain  capital-loss  hours-per-week  native-country  \\\n",
       "0         Male          2174             0              40   United-States   \n",
       "1         Male             0             0              13   United-States   \n",
       "2         Male             0             0              40   United-States   \n",
       "3         Male             0             0              40   United-States   \n",
       "4       Female             0             0              40            Cuba   \n",
       "...        ...           ...           ...             ...             ...   \n",
       "32556   Female             0             0              38   United-States   \n",
       "32557     Male             0             0              40   United-States   \n",
       "32558   Female             0             0              40   United-States   \n",
       "32559     Male             0             0              20   United-States   \n",
       "32560   Female         15024             0              40   United-States   \n",
       "\n",
       "          50k  \n",
       "0       <=50K  \n",
       "1       <=50K  \n",
       "2       <=50K  \n",
       "3       <=50K  \n",
       "4       <=50K  \n",
       "...       ...  \n",
       "32556   <=50K  \n",
       "32557    >50K  \n",
       "32558   <=50K  \n",
       "32559   <=50K  \n",
       "32560    >50K  \n",
       "\n",
       "[32561 rows x 15 columns]"
      ]
     },
     "execution_count": 165,
     "metadata": {},
     "output_type": "execute_result"
    }
   ],
   "source": [
    "df = pd.read_csv('./data/adult.txt',header= None,names = ['age', 'workclass','fnlwgt', 'education', 'education_num', 'marital_status', 'occupation', 'relationship', 'race'\\\n",
    ", 'sex', 'capital-gain', 'capital-loss', 'hours-per-week', 'native-country', '50k'] )\n",
    "df"
   ]
  },
  {
   "cell_type": "code",
   "execution_count": 166,
   "id": "fa3b373d",
   "metadata": {
    "ExecuteTime": {
     "end_time": "2022-03-17T08:10:23.192041Z",
     "start_time": "2022-03-17T08:10:23.175056Z"
    }
   },
   "outputs": [
    {
     "data": {
      "text/plain": [
       " <=50K    24720\n",
       " >50K      7841\n",
       "Name: 50k, dtype: int64"
      ]
     },
     "execution_count": 166,
     "metadata": {},
     "output_type": "execute_result"
    }
   ],
   "source": [
    "df['50k'].value_counts()"
   ]
  },
  {
   "cell_type": "markdown",
   "id": "eba1dd6c",
   "metadata": {},
   "source": [
    "# 문제"
   ]
  },
  {
   "cell_type": "markdown",
   "id": "0e9a6a15",
   "metadata": {},
   "source": [
    "## deep learning model을 생성하고 학습하고 평가하시오"
   ]
  },
  {
   "cell_type": "code",
   "execution_count": 167,
   "id": "115ced1c",
   "metadata": {
    "ExecuteTime": {
     "end_time": "2022-03-17T08:10:24.177931Z",
     "start_time": "2022-03-17T08:10:24.152270Z"
    }
   },
   "outputs": [
    {
     "data": {
      "text/plain": [
       "array([[39, ' State-gov', 77516, ..., 40, ' United-States', ' <=50K'],\n",
       "       [50, ' Self-emp-not-inc', 83311, ..., 13, ' United-States',\n",
       "        ' <=50K'],\n",
       "       [38, ' Private', 215646, ..., 40, ' United-States', ' <=50K'],\n",
       "       ...,\n",
       "       [58, ' Private', 151910, ..., 40, ' United-States', ' <=50K'],\n",
       "       [22, ' Private', 201490, ..., 20, ' United-States', ' <=50K'],\n",
       "       [52, ' Self-emp-inc', 287927, ..., 40, ' United-States', ' >50K']],\n",
       "      dtype=object)"
      ]
     },
     "execution_count": 167,
     "metadata": {},
     "output_type": "execute_result"
    }
   ],
   "source": [
    "df.values"
   ]
  },
  {
   "cell_type": "code",
   "execution_count": 168,
   "id": "637fb08b",
   "metadata": {
    "ExecuteTime": {
     "end_time": "2022-03-17T08:10:24.412312Z",
     "start_time": "2022-03-17T08:10:24.391336Z"
    }
   },
   "outputs": [
    {
     "data": {
      "text/plain": [
       "array([' <=50K', ' <=50K', ' <=50K', ..., ' <=50K', ' <=50K', ' >50K'],\n",
       "      dtype=object)"
      ]
     },
     "execution_count": 168,
     "metadata": {},
     "output_type": "execute_result"
    }
   ],
   "source": [
    "y= df.values[:,14]\n",
    "y"
   ]
  },
  {
   "cell_type": "code",
   "execution_count": 169,
   "id": "e664e7f3",
   "metadata": {
    "ExecuteTime": {
     "end_time": "2022-03-17T08:10:24.916687Z",
     "start_time": "2022-03-17T08:10:24.887598Z"
    }
   },
   "outputs": [
    {
     "data": {
      "text/plain": [
       "array([' <=50K', ' >50K'], dtype=object)"
      ]
     },
     "execution_count": 169,
     "metadata": {},
     "output_type": "execute_result"
    }
   ],
   "source": [
    "np.unique(y)"
   ]
  },
  {
   "cell_type": "code",
   "execution_count": 170,
   "id": "9a380958",
   "metadata": {
    "ExecuteTime": {
     "end_time": "2022-03-17T08:10:25.293821Z",
     "start_time": "2022-03-17T08:10:25.270883Z"
    }
   },
   "outputs": [
    {
     "data": {
      "text/plain": [
       "array([0, 0, 0, ..., 0, 0, 1])"
      ]
     },
     "execution_count": 170,
     "metadata": {},
     "output_type": "execute_result"
    }
   ],
   "source": [
    "# y는 문자열이므로 label encoding \n",
    "from sklearn.preprocessing import LabelEncoder\n",
    "enc = LabelEncoder()\n",
    "y_enc = enc.fit_transform(y)\n",
    "y_enc"
   ]
  },
  {
   "cell_type": "code",
   "execution_count": 171,
   "id": "e2bc11ae",
   "metadata": {
    "ExecuteTime": {
     "end_time": "2022-03-17T08:10:25.934630Z",
     "start_time": "2022-03-17T08:10:25.927649Z"
    }
   },
   "outputs": [
    {
     "data": {
      "text/plain": [
       "array([0, 1])"
      ]
     },
     "execution_count": 171,
     "metadata": {},
     "output_type": "execute_result"
    }
   ],
   "source": [
    "np.unique(y_enc)"
   ]
  },
  {
   "cell_type": "code",
   "execution_count": 172,
   "id": "26ffb07a",
   "metadata": {
    "ExecuteTime": {
     "end_time": "2022-03-17T08:10:26.856567Z",
     "start_time": "2022-03-17T08:10:26.839612Z"
    }
   },
   "outputs": [],
   "source": [
    "# from tensorflow.keras.utils import to_categorical\n",
    "# x_c = tf.keras.utils.to_categorical(x)\n",
    "# x_c 안되네"
   ]
  },
  {
   "cell_type": "code",
   "execution_count": 173,
   "id": "6aefa789",
   "metadata": {
    "ExecuteTime": {
     "end_time": "2022-03-17T08:10:28.678408Z",
     "start_time": "2022-03-17T08:10:28.648077Z"
    }
   },
   "outputs": [
    {
     "data": {
      "text/html": [
       "<div>\n",
       "<style scoped>\n",
       "    .dataframe tbody tr th:only-of-type {\n",
       "        vertical-align: middle;\n",
       "    }\n",
       "\n",
       "    .dataframe tbody tr th {\n",
       "        vertical-align: top;\n",
       "    }\n",
       "\n",
       "    .dataframe thead th {\n",
       "        text-align: right;\n",
       "    }\n",
       "</style>\n",
       "<table border=\"1\" class=\"dataframe\">\n",
       "  <thead>\n",
       "    <tr style=\"text-align: right;\">\n",
       "      <th></th>\n",
       "      <th>age</th>\n",
       "      <th>workclass</th>\n",
       "      <th>fnlwgt</th>\n",
       "      <th>education</th>\n",
       "      <th>education_num</th>\n",
       "      <th>marital_status</th>\n",
       "      <th>occupation</th>\n",
       "      <th>relationship</th>\n",
       "      <th>race</th>\n",
       "      <th>sex</th>\n",
       "      <th>capital-gain</th>\n",
       "      <th>capital-loss</th>\n",
       "      <th>hours-per-week</th>\n",
       "      <th>native-country</th>\n",
       "    </tr>\n",
       "  </thead>\n",
       "  <tbody>\n",
       "    <tr>\n",
       "      <th>0</th>\n",
       "      <td>39</td>\n",
       "      <td>State-gov</td>\n",
       "      <td>77516</td>\n",
       "      <td>Bachelors</td>\n",
       "      <td>13</td>\n",
       "      <td>Never-married</td>\n",
       "      <td>Adm-clerical</td>\n",
       "      <td>Not-in-family</td>\n",
       "      <td>White</td>\n",
       "      <td>Male</td>\n",
       "      <td>2174</td>\n",
       "      <td>0</td>\n",
       "      <td>40</td>\n",
       "      <td>United-States</td>\n",
       "    </tr>\n",
       "    <tr>\n",
       "      <th>1</th>\n",
       "      <td>50</td>\n",
       "      <td>Self-emp-not-inc</td>\n",
       "      <td>83311</td>\n",
       "      <td>Bachelors</td>\n",
       "      <td>13</td>\n",
       "      <td>Married-civ-spouse</td>\n",
       "      <td>Exec-managerial</td>\n",
       "      <td>Husband</td>\n",
       "      <td>White</td>\n",
       "      <td>Male</td>\n",
       "      <td>0</td>\n",
       "      <td>0</td>\n",
       "      <td>13</td>\n",
       "      <td>United-States</td>\n",
       "    </tr>\n",
       "    <tr>\n",
       "      <th>2</th>\n",
       "      <td>38</td>\n",
       "      <td>Private</td>\n",
       "      <td>215646</td>\n",
       "      <td>HS-grad</td>\n",
       "      <td>9</td>\n",
       "      <td>Divorced</td>\n",
       "      <td>Handlers-cleaners</td>\n",
       "      <td>Not-in-family</td>\n",
       "      <td>White</td>\n",
       "      <td>Male</td>\n",
       "      <td>0</td>\n",
       "      <td>0</td>\n",
       "      <td>40</td>\n",
       "      <td>United-States</td>\n",
       "    </tr>\n",
       "    <tr>\n",
       "      <th>3</th>\n",
       "      <td>53</td>\n",
       "      <td>Private</td>\n",
       "      <td>234721</td>\n",
       "      <td>11th</td>\n",
       "      <td>7</td>\n",
       "      <td>Married-civ-spouse</td>\n",
       "      <td>Handlers-cleaners</td>\n",
       "      <td>Husband</td>\n",
       "      <td>Black</td>\n",
       "      <td>Male</td>\n",
       "      <td>0</td>\n",
       "      <td>0</td>\n",
       "      <td>40</td>\n",
       "      <td>United-States</td>\n",
       "    </tr>\n",
       "    <tr>\n",
       "      <th>4</th>\n",
       "      <td>28</td>\n",
       "      <td>Private</td>\n",
       "      <td>338409</td>\n",
       "      <td>Bachelors</td>\n",
       "      <td>13</td>\n",
       "      <td>Married-civ-spouse</td>\n",
       "      <td>Prof-specialty</td>\n",
       "      <td>Wife</td>\n",
       "      <td>Black</td>\n",
       "      <td>Female</td>\n",
       "      <td>0</td>\n",
       "      <td>0</td>\n",
       "      <td>40</td>\n",
       "      <td>Cuba</td>\n",
       "    </tr>\n",
       "    <tr>\n",
       "      <th>...</th>\n",
       "      <td>...</td>\n",
       "      <td>...</td>\n",
       "      <td>...</td>\n",
       "      <td>...</td>\n",
       "      <td>...</td>\n",
       "      <td>...</td>\n",
       "      <td>...</td>\n",
       "      <td>...</td>\n",
       "      <td>...</td>\n",
       "      <td>...</td>\n",
       "      <td>...</td>\n",
       "      <td>...</td>\n",
       "      <td>...</td>\n",
       "      <td>...</td>\n",
       "    </tr>\n",
       "    <tr>\n",
       "      <th>32556</th>\n",
       "      <td>27</td>\n",
       "      <td>Private</td>\n",
       "      <td>257302</td>\n",
       "      <td>Assoc-acdm</td>\n",
       "      <td>12</td>\n",
       "      <td>Married-civ-spouse</td>\n",
       "      <td>Tech-support</td>\n",
       "      <td>Wife</td>\n",
       "      <td>White</td>\n",
       "      <td>Female</td>\n",
       "      <td>0</td>\n",
       "      <td>0</td>\n",
       "      <td>38</td>\n",
       "      <td>United-States</td>\n",
       "    </tr>\n",
       "    <tr>\n",
       "      <th>32557</th>\n",
       "      <td>40</td>\n",
       "      <td>Private</td>\n",
       "      <td>154374</td>\n",
       "      <td>HS-grad</td>\n",
       "      <td>9</td>\n",
       "      <td>Married-civ-spouse</td>\n",
       "      <td>Machine-op-inspct</td>\n",
       "      <td>Husband</td>\n",
       "      <td>White</td>\n",
       "      <td>Male</td>\n",
       "      <td>0</td>\n",
       "      <td>0</td>\n",
       "      <td>40</td>\n",
       "      <td>United-States</td>\n",
       "    </tr>\n",
       "    <tr>\n",
       "      <th>32558</th>\n",
       "      <td>58</td>\n",
       "      <td>Private</td>\n",
       "      <td>151910</td>\n",
       "      <td>HS-grad</td>\n",
       "      <td>9</td>\n",
       "      <td>Widowed</td>\n",
       "      <td>Adm-clerical</td>\n",
       "      <td>Unmarried</td>\n",
       "      <td>White</td>\n",
       "      <td>Female</td>\n",
       "      <td>0</td>\n",
       "      <td>0</td>\n",
       "      <td>40</td>\n",
       "      <td>United-States</td>\n",
       "    </tr>\n",
       "    <tr>\n",
       "      <th>32559</th>\n",
       "      <td>22</td>\n",
       "      <td>Private</td>\n",
       "      <td>201490</td>\n",
       "      <td>HS-grad</td>\n",
       "      <td>9</td>\n",
       "      <td>Never-married</td>\n",
       "      <td>Adm-clerical</td>\n",
       "      <td>Own-child</td>\n",
       "      <td>White</td>\n",
       "      <td>Male</td>\n",
       "      <td>0</td>\n",
       "      <td>0</td>\n",
       "      <td>20</td>\n",
       "      <td>United-States</td>\n",
       "    </tr>\n",
       "    <tr>\n",
       "      <th>32560</th>\n",
       "      <td>52</td>\n",
       "      <td>Self-emp-inc</td>\n",
       "      <td>287927</td>\n",
       "      <td>HS-grad</td>\n",
       "      <td>9</td>\n",
       "      <td>Married-civ-spouse</td>\n",
       "      <td>Exec-managerial</td>\n",
       "      <td>Wife</td>\n",
       "      <td>White</td>\n",
       "      <td>Female</td>\n",
       "      <td>15024</td>\n",
       "      <td>0</td>\n",
       "      <td>40</td>\n",
       "      <td>United-States</td>\n",
       "    </tr>\n",
       "  </tbody>\n",
       "</table>\n",
       "<p>32561 rows × 14 columns</p>\n",
       "</div>"
      ],
      "text/plain": [
       "       age          workclass  fnlwgt    education  education_num  \\\n",
       "0       39          State-gov   77516    Bachelors             13   \n",
       "1       50   Self-emp-not-inc   83311    Bachelors             13   \n",
       "2       38            Private  215646      HS-grad              9   \n",
       "3       53            Private  234721         11th              7   \n",
       "4       28            Private  338409    Bachelors             13   \n",
       "...    ...                ...     ...          ...            ...   \n",
       "32556   27            Private  257302   Assoc-acdm             12   \n",
       "32557   40            Private  154374      HS-grad              9   \n",
       "32558   58            Private  151910      HS-grad              9   \n",
       "32559   22            Private  201490      HS-grad              9   \n",
       "32560   52       Self-emp-inc  287927      HS-grad              9   \n",
       "\n",
       "            marital_status          occupation    relationship    race  \\\n",
       "0            Never-married        Adm-clerical   Not-in-family   White   \n",
       "1       Married-civ-spouse     Exec-managerial         Husband   White   \n",
       "2                 Divorced   Handlers-cleaners   Not-in-family   White   \n",
       "3       Married-civ-spouse   Handlers-cleaners         Husband   Black   \n",
       "4       Married-civ-spouse      Prof-specialty            Wife   Black   \n",
       "...                    ...                 ...             ...     ...   \n",
       "32556   Married-civ-spouse        Tech-support            Wife   White   \n",
       "32557   Married-civ-spouse   Machine-op-inspct         Husband   White   \n",
       "32558              Widowed        Adm-clerical       Unmarried   White   \n",
       "32559        Never-married        Adm-clerical       Own-child   White   \n",
       "32560   Married-civ-spouse     Exec-managerial            Wife   White   \n",
       "\n",
       "           sex  capital-gain  capital-loss  hours-per-week  native-country  \n",
       "0         Male          2174             0              40   United-States  \n",
       "1         Male             0             0              13   United-States  \n",
       "2         Male             0             0              40   United-States  \n",
       "3         Male             0             0              40   United-States  \n",
       "4       Female             0             0              40            Cuba  \n",
       "...        ...           ...           ...             ...             ...  \n",
       "32556   Female             0             0              38   United-States  \n",
       "32557     Male             0             0              40   United-States  \n",
       "32558   Female             0             0              40   United-States  \n",
       "32559     Male             0             0              20   United-States  \n",
       "32560   Female         15024             0              40   United-States  \n",
       "\n",
       "[32561 rows x 14 columns]"
      ]
     },
     "execution_count": 173,
     "metadata": {},
     "output_type": "execute_result"
    }
   ],
   "source": [
    "# x에 문자열 포함된 거 바꿔주기\n",
    "df_d = df.drop(columns = ['50k'])\n",
    "x = df_d\n",
    "x"
   ]
  },
  {
   "cell_type": "code",
   "execution_count": 174,
   "id": "26c03b9a",
   "metadata": {
    "ExecuteTime": {
     "end_time": "2022-03-17T08:10:29.463365Z",
     "start_time": "2022-03-17T08:10:29.399536Z"
    }
   },
   "outputs": [
    {
     "data": {
      "text/html": [
       "<div>\n",
       "<style scoped>\n",
       "    .dataframe tbody tr th:only-of-type {\n",
       "        vertical-align: middle;\n",
       "    }\n",
       "\n",
       "    .dataframe tbody tr th {\n",
       "        vertical-align: top;\n",
       "    }\n",
       "\n",
       "    .dataframe thead th {\n",
       "        text-align: right;\n",
       "    }\n",
       "</style>\n",
       "<table border=\"1\" class=\"dataframe\">\n",
       "  <thead>\n",
       "    <tr style=\"text-align: right;\">\n",
       "      <th></th>\n",
       "      <th>age</th>\n",
       "      <th>fnlwgt</th>\n",
       "      <th>education_num</th>\n",
       "      <th>capital-gain</th>\n",
       "      <th>capital-loss</th>\n",
       "      <th>hours-per-week</th>\n",
       "      <th>workclass_ ?</th>\n",
       "      <th>workclass_ Federal-gov</th>\n",
       "      <th>workclass_ Local-gov</th>\n",
       "      <th>workclass_ Never-worked</th>\n",
       "      <th>...</th>\n",
       "      <th>native-country_ Portugal</th>\n",
       "      <th>native-country_ Puerto-Rico</th>\n",
       "      <th>native-country_ Scotland</th>\n",
       "      <th>native-country_ South</th>\n",
       "      <th>native-country_ Taiwan</th>\n",
       "      <th>native-country_ Thailand</th>\n",
       "      <th>native-country_ Trinadad&amp;Tobago</th>\n",
       "      <th>native-country_ United-States</th>\n",
       "      <th>native-country_ Vietnam</th>\n",
       "      <th>native-country_ Yugoslavia</th>\n",
       "    </tr>\n",
       "  </thead>\n",
       "  <tbody>\n",
       "    <tr>\n",
       "      <th>0</th>\n",
       "      <td>39</td>\n",
       "      <td>77516</td>\n",
       "      <td>13</td>\n",
       "      <td>2174</td>\n",
       "      <td>0</td>\n",
       "      <td>40</td>\n",
       "      <td>0</td>\n",
       "      <td>0</td>\n",
       "      <td>0</td>\n",
       "      <td>0</td>\n",
       "      <td>...</td>\n",
       "      <td>0</td>\n",
       "      <td>0</td>\n",
       "      <td>0</td>\n",
       "      <td>0</td>\n",
       "      <td>0</td>\n",
       "      <td>0</td>\n",
       "      <td>0</td>\n",
       "      <td>1</td>\n",
       "      <td>0</td>\n",
       "      <td>0</td>\n",
       "    </tr>\n",
       "    <tr>\n",
       "      <th>1</th>\n",
       "      <td>50</td>\n",
       "      <td>83311</td>\n",
       "      <td>13</td>\n",
       "      <td>0</td>\n",
       "      <td>0</td>\n",
       "      <td>13</td>\n",
       "      <td>0</td>\n",
       "      <td>0</td>\n",
       "      <td>0</td>\n",
       "      <td>0</td>\n",
       "      <td>...</td>\n",
       "      <td>0</td>\n",
       "      <td>0</td>\n",
       "      <td>0</td>\n",
       "      <td>0</td>\n",
       "      <td>0</td>\n",
       "      <td>0</td>\n",
       "      <td>0</td>\n",
       "      <td>1</td>\n",
       "      <td>0</td>\n",
       "      <td>0</td>\n",
       "    </tr>\n",
       "    <tr>\n",
       "      <th>2</th>\n",
       "      <td>38</td>\n",
       "      <td>215646</td>\n",
       "      <td>9</td>\n",
       "      <td>0</td>\n",
       "      <td>0</td>\n",
       "      <td>40</td>\n",
       "      <td>0</td>\n",
       "      <td>0</td>\n",
       "      <td>0</td>\n",
       "      <td>0</td>\n",
       "      <td>...</td>\n",
       "      <td>0</td>\n",
       "      <td>0</td>\n",
       "      <td>0</td>\n",
       "      <td>0</td>\n",
       "      <td>0</td>\n",
       "      <td>0</td>\n",
       "      <td>0</td>\n",
       "      <td>1</td>\n",
       "      <td>0</td>\n",
       "      <td>0</td>\n",
       "    </tr>\n",
       "    <tr>\n",
       "      <th>3</th>\n",
       "      <td>53</td>\n",
       "      <td>234721</td>\n",
       "      <td>7</td>\n",
       "      <td>0</td>\n",
       "      <td>0</td>\n",
       "      <td>40</td>\n",
       "      <td>0</td>\n",
       "      <td>0</td>\n",
       "      <td>0</td>\n",
       "      <td>0</td>\n",
       "      <td>...</td>\n",
       "      <td>0</td>\n",
       "      <td>0</td>\n",
       "      <td>0</td>\n",
       "      <td>0</td>\n",
       "      <td>0</td>\n",
       "      <td>0</td>\n",
       "      <td>0</td>\n",
       "      <td>1</td>\n",
       "      <td>0</td>\n",
       "      <td>0</td>\n",
       "    </tr>\n",
       "    <tr>\n",
       "      <th>4</th>\n",
       "      <td>28</td>\n",
       "      <td>338409</td>\n",
       "      <td>13</td>\n",
       "      <td>0</td>\n",
       "      <td>0</td>\n",
       "      <td>40</td>\n",
       "      <td>0</td>\n",
       "      <td>0</td>\n",
       "      <td>0</td>\n",
       "      <td>0</td>\n",
       "      <td>...</td>\n",
       "      <td>0</td>\n",
       "      <td>0</td>\n",
       "      <td>0</td>\n",
       "      <td>0</td>\n",
       "      <td>0</td>\n",
       "      <td>0</td>\n",
       "      <td>0</td>\n",
       "      <td>0</td>\n",
       "      <td>0</td>\n",
       "      <td>0</td>\n",
       "    </tr>\n",
       "    <tr>\n",
       "      <th>...</th>\n",
       "      <td>...</td>\n",
       "      <td>...</td>\n",
       "      <td>...</td>\n",
       "      <td>...</td>\n",
       "      <td>...</td>\n",
       "      <td>...</td>\n",
       "      <td>...</td>\n",
       "      <td>...</td>\n",
       "      <td>...</td>\n",
       "      <td>...</td>\n",
       "      <td>...</td>\n",
       "      <td>...</td>\n",
       "      <td>...</td>\n",
       "      <td>...</td>\n",
       "      <td>...</td>\n",
       "      <td>...</td>\n",
       "      <td>...</td>\n",
       "      <td>...</td>\n",
       "      <td>...</td>\n",
       "      <td>...</td>\n",
       "      <td>...</td>\n",
       "    </tr>\n",
       "    <tr>\n",
       "      <th>32556</th>\n",
       "      <td>27</td>\n",
       "      <td>257302</td>\n",
       "      <td>12</td>\n",
       "      <td>0</td>\n",
       "      <td>0</td>\n",
       "      <td>38</td>\n",
       "      <td>0</td>\n",
       "      <td>0</td>\n",
       "      <td>0</td>\n",
       "      <td>0</td>\n",
       "      <td>...</td>\n",
       "      <td>0</td>\n",
       "      <td>0</td>\n",
       "      <td>0</td>\n",
       "      <td>0</td>\n",
       "      <td>0</td>\n",
       "      <td>0</td>\n",
       "      <td>0</td>\n",
       "      <td>1</td>\n",
       "      <td>0</td>\n",
       "      <td>0</td>\n",
       "    </tr>\n",
       "    <tr>\n",
       "      <th>32557</th>\n",
       "      <td>40</td>\n",
       "      <td>154374</td>\n",
       "      <td>9</td>\n",
       "      <td>0</td>\n",
       "      <td>0</td>\n",
       "      <td>40</td>\n",
       "      <td>0</td>\n",
       "      <td>0</td>\n",
       "      <td>0</td>\n",
       "      <td>0</td>\n",
       "      <td>...</td>\n",
       "      <td>0</td>\n",
       "      <td>0</td>\n",
       "      <td>0</td>\n",
       "      <td>0</td>\n",
       "      <td>0</td>\n",
       "      <td>0</td>\n",
       "      <td>0</td>\n",
       "      <td>1</td>\n",
       "      <td>0</td>\n",
       "      <td>0</td>\n",
       "    </tr>\n",
       "    <tr>\n",
       "      <th>32558</th>\n",
       "      <td>58</td>\n",
       "      <td>151910</td>\n",
       "      <td>9</td>\n",
       "      <td>0</td>\n",
       "      <td>0</td>\n",
       "      <td>40</td>\n",
       "      <td>0</td>\n",
       "      <td>0</td>\n",
       "      <td>0</td>\n",
       "      <td>0</td>\n",
       "      <td>...</td>\n",
       "      <td>0</td>\n",
       "      <td>0</td>\n",
       "      <td>0</td>\n",
       "      <td>0</td>\n",
       "      <td>0</td>\n",
       "      <td>0</td>\n",
       "      <td>0</td>\n",
       "      <td>1</td>\n",
       "      <td>0</td>\n",
       "      <td>0</td>\n",
       "    </tr>\n",
       "    <tr>\n",
       "      <th>32559</th>\n",
       "      <td>22</td>\n",
       "      <td>201490</td>\n",
       "      <td>9</td>\n",
       "      <td>0</td>\n",
       "      <td>0</td>\n",
       "      <td>20</td>\n",
       "      <td>0</td>\n",
       "      <td>0</td>\n",
       "      <td>0</td>\n",
       "      <td>0</td>\n",
       "      <td>...</td>\n",
       "      <td>0</td>\n",
       "      <td>0</td>\n",
       "      <td>0</td>\n",
       "      <td>0</td>\n",
       "      <td>0</td>\n",
       "      <td>0</td>\n",
       "      <td>0</td>\n",
       "      <td>1</td>\n",
       "      <td>0</td>\n",
       "      <td>0</td>\n",
       "    </tr>\n",
       "    <tr>\n",
       "      <th>32560</th>\n",
       "      <td>52</td>\n",
       "      <td>287927</td>\n",
       "      <td>9</td>\n",
       "      <td>15024</td>\n",
       "      <td>0</td>\n",
       "      <td>40</td>\n",
       "      <td>0</td>\n",
       "      <td>0</td>\n",
       "      <td>0</td>\n",
       "      <td>0</td>\n",
       "      <td>...</td>\n",
       "      <td>0</td>\n",
       "      <td>0</td>\n",
       "      <td>0</td>\n",
       "      <td>0</td>\n",
       "      <td>0</td>\n",
       "      <td>0</td>\n",
       "      <td>0</td>\n",
       "      <td>1</td>\n",
       "      <td>0</td>\n",
       "      <td>0</td>\n",
       "    </tr>\n",
       "  </tbody>\n",
       "</table>\n",
       "<p>32561 rows × 108 columns</p>\n",
       "</div>"
      ],
      "text/plain": [
       "       age  fnlwgt  education_num  capital-gain  capital-loss  hours-per-week  \\\n",
       "0       39   77516             13          2174             0              40   \n",
       "1       50   83311             13             0             0              13   \n",
       "2       38  215646              9             0             0              40   \n",
       "3       53  234721              7             0             0              40   \n",
       "4       28  338409             13             0             0              40   \n",
       "...    ...     ...            ...           ...           ...             ...   \n",
       "32556   27  257302             12             0             0              38   \n",
       "32557   40  154374              9             0             0              40   \n",
       "32558   58  151910              9             0             0              40   \n",
       "32559   22  201490              9             0             0              20   \n",
       "32560   52  287927              9         15024             0              40   \n",
       "\n",
       "       workclass_ ?  workclass_ Federal-gov  workclass_ Local-gov  \\\n",
       "0                 0                       0                     0   \n",
       "1                 0                       0                     0   \n",
       "2                 0                       0                     0   \n",
       "3                 0                       0                     0   \n",
       "4                 0                       0                     0   \n",
       "...             ...                     ...                   ...   \n",
       "32556             0                       0                     0   \n",
       "32557             0                       0                     0   \n",
       "32558             0                       0                     0   \n",
       "32559             0                       0                     0   \n",
       "32560             0                       0                     0   \n",
       "\n",
       "       workclass_ Never-worked  ...  native-country_ Portugal  \\\n",
       "0                            0  ...                         0   \n",
       "1                            0  ...                         0   \n",
       "2                            0  ...                         0   \n",
       "3                            0  ...                         0   \n",
       "4                            0  ...                         0   \n",
       "...                        ...  ...                       ...   \n",
       "32556                        0  ...                         0   \n",
       "32557                        0  ...                         0   \n",
       "32558                        0  ...                         0   \n",
       "32559                        0  ...                         0   \n",
       "32560                        0  ...                         0   \n",
       "\n",
       "       native-country_ Puerto-Rico  native-country_ Scotland  \\\n",
       "0                                0                         0   \n",
       "1                                0                         0   \n",
       "2                                0                         0   \n",
       "3                                0                         0   \n",
       "4                                0                         0   \n",
       "...                            ...                       ...   \n",
       "32556                            0                         0   \n",
       "32557                            0                         0   \n",
       "32558                            0                         0   \n",
       "32559                            0                         0   \n",
       "32560                            0                         0   \n",
       "\n",
       "       native-country_ South  native-country_ Taiwan  \\\n",
       "0                          0                       0   \n",
       "1                          0                       0   \n",
       "2                          0                       0   \n",
       "3                          0                       0   \n",
       "4                          0                       0   \n",
       "...                      ...                     ...   \n",
       "32556                      0                       0   \n",
       "32557                      0                       0   \n",
       "32558                      0                       0   \n",
       "32559                      0                       0   \n",
       "32560                      0                       0   \n",
       "\n",
       "       native-country_ Thailand  native-country_ Trinadad&Tobago  \\\n",
       "0                             0                                0   \n",
       "1                             0                                0   \n",
       "2                             0                                0   \n",
       "3                             0                                0   \n",
       "4                             0                                0   \n",
       "...                         ...                              ...   \n",
       "32556                         0                                0   \n",
       "32557                         0                                0   \n",
       "32558                         0                                0   \n",
       "32559                         0                                0   \n",
       "32560                         0                                0   \n",
       "\n",
       "       native-country_ United-States  native-country_ Vietnam  \\\n",
       "0                                  1                        0   \n",
       "1                                  1                        0   \n",
       "2                                  1                        0   \n",
       "3                                  1                        0   \n",
       "4                                  0                        0   \n",
       "...                              ...                      ...   \n",
       "32556                              1                        0   \n",
       "32557                              1                        0   \n",
       "32558                              1                        0   \n",
       "32559                              1                        0   \n",
       "32560                              1                        0   \n",
       "\n",
       "       native-country_ Yugoslavia  \n",
       "0                               0  \n",
       "1                               0  \n",
       "2                               0  \n",
       "3                               0  \n",
       "4                               0  \n",
       "...                           ...  \n",
       "32556                           0  \n",
       "32557                           0  \n",
       "32558                           0  \n",
       "32559                           0  \n",
       "32560                           0  \n",
       "\n",
       "[32561 rows x 108 columns]"
      ]
     },
     "execution_count": 174,
     "metadata": {},
     "output_type": "execute_result"
    }
   ],
   "source": [
    "x = pd.get_dummies(x)\n",
    "x"
   ]
  },
  {
   "cell_type": "code",
   "execution_count": 175,
   "id": "014a569a",
   "metadata": {
    "ExecuteTime": {
     "end_time": "2022-03-17T08:10:29.915573Z",
     "start_time": "2022-03-17T08:10:29.895626Z"
    }
   },
   "outputs": [
    {
     "data": {
      "text/plain": [
       "array([[    39,  77516,     13, ...,      1,      0,      0],\n",
       "       [    50,  83311,     13, ...,      1,      0,      0],\n",
       "       [    38, 215646,      9, ...,      1,      0,      0],\n",
       "       ...,\n",
       "       [    58, 151910,      9, ...,      1,      0,      0],\n",
       "       [    22, 201490,      9, ...,      1,      0,      0],\n",
       "       [    52, 287927,      9, ...,      1,      0,      0]], dtype=int64)"
      ]
     },
     "execution_count": 175,
     "metadata": {},
     "output_type": "execute_result"
    }
   ],
   "source": [
    "x_1 = x.values\n",
    "x_1"
   ]
  },
  {
   "cell_type": "code",
   "execution_count": null,
   "id": "5b807739",
   "metadata": {},
   "outputs": [],
   "source": []
  },
  {
   "cell_type": "code",
   "execution_count": 176,
   "id": "9796726d",
   "metadata": {
    "ExecuteTime": {
     "end_time": "2022-03-17T08:10:31.797533Z",
     "start_time": "2022-03-17T08:10:31.751428Z"
    }
   },
   "outputs": [],
   "source": [
    "from sklearn.model_selection import train_test_split\n",
    "\n",
    "x_train,x_test, y_train,y_test = train_test_split(x_1,y_enc,random_state=111)"
   ]
  },
  {
   "cell_type": "code",
   "execution_count": 177,
   "id": "471fcad8",
   "metadata": {
    "ExecuteTime": {
     "end_time": "2022-03-17T08:10:32.440849Z",
     "start_time": "2022-03-17T08:10:32.421872Z"
    }
   },
   "outputs": [
    {
     "data": {
      "text/plain": [
       "(24420, 108)"
      ]
     },
     "execution_count": 177,
     "metadata": {},
     "output_type": "execute_result"
    }
   ],
   "source": [
    "x_train.shape"
   ]
  },
  {
   "cell_type": "code",
   "execution_count": 178,
   "id": "448cfea3",
   "metadata": {
    "ExecuteTime": {
     "end_time": "2022-03-17T08:10:40.446195Z",
     "start_time": "2022-03-17T08:10:40.374660Z"
    }
   },
   "outputs": [],
   "source": [
    "from sklearn.preprocessing import StandardScaler\n",
    "scaler = StandardScaler()\n",
    "scaler.fit(x_train)\n",
    "x_train_sc = scaler.transform(x_train)\n",
    "x_test_sc = scaler.transform(x_test)"
   ]
  },
  {
   "cell_type": "code",
   "execution_count": 179,
   "id": "6139f200",
   "metadata": {
    "ExecuteTime": {
     "end_time": "2022-03-17T08:10:42.471667Z",
     "start_time": "2022-03-17T08:10:42.455709Z"
    }
   },
   "outputs": [],
   "source": [
    "from tensorflow.keras.models import Sequential\n",
    "from tensorflow.keras.layers import Dense\n",
    "from tensorflow.keras.layers import Dropout\n",
    "import tensorflow as tf"
   ]
  },
  {
   "cell_type": "code",
   "execution_count": 160,
   "id": "ebe9e7f7",
   "metadata": {
    "ExecuteTime": {
     "end_time": "2022-03-17T07:24:13.293564Z",
     "start_time": "2022-03-17T07:24:13.234694Z"
    }
   },
   "outputs": [
    {
     "name": "stdout",
     "output_type": "stream",
     "text": [
      "Model: \"sequential_14\"\n",
      "_________________________________________________________________\n",
      " Layer (type)                Output Shape              Param #   \n",
      "=================================================================\n",
      " dense_61 (Dense)            (None, 256)               27904     \n",
      "                                                                 \n",
      " dense_62 (Dense)            (None, 128)               32896     \n",
      "                                                                 \n",
      " dense_63 (Dense)            (None, 64)                8256      \n",
      "                                                                 \n",
      " dense_64 (Dense)            (None, 32)                2080      \n",
      "                                                                 \n",
      " dense_65 (Dense)            (None, 1)                 33        \n",
      "                                                                 \n",
      "=================================================================\n",
      "Total params: 71,169\n",
      "Trainable params: 71,169\n",
      "Non-trainable params: 0\n",
      "_________________________________________________________________\n"
     ]
    }
   ],
   "source": [
    "with tf.device('/GPU:0'):\n",
    "    model = Sequential()\n",
    "    model.add(Dense(256,input_dim=108,activation= 'relu'))\n",
    "\n",
    "    model.add(Dense(128, activation='relu'))\n",
    "\n",
    "    model.add(Dense(64, activation='relu'))\n",
    "\n",
    "    model.add(Dense(32, activation='relu'))\n",
    "\n",
    "    model.add(Dense(1, activation='sigmoid'))\n",
    "    model.compile(loss='binary_crossentropy', metrics=['accuracy'], optimizer='adam')\n",
    "    model.summary()\n",
    "    "
   ]
  },
  {
   "cell_type": "code",
   "execution_count": 180,
   "id": "4fb4e4ee",
   "metadata": {
    "ExecuteTime": {
     "end_time": "2022-03-17T08:15:16.161590Z",
     "start_time": "2022-03-17T08:11:01.047848Z"
    },
    "scrolled": true
   },
   "outputs": [
    {
     "name": "stdout",
     "output_type": "stream",
     "text": [
      "Epoch 1/50\n",
      "977/977 [==============================] - 5s 5ms/step - loss: 0.1209 - accuracy: 0.9438 - val_loss: 0.8679 - val_accuracy: 0.8266\n",
      "Epoch 2/50\n",
      "977/977 [==============================] - 5s 5ms/step - loss: 0.1228 - accuracy: 0.9447 - val_loss: 0.8649 - val_accuracy: 0.8217\n",
      "Epoch 3/50\n",
      "977/977 [==============================] - 5s 5ms/step - loss: 0.1166 - accuracy: 0.9459 - val_loss: 0.8891 - val_accuracy: 0.8292\n",
      "Epoch 4/50\n",
      "977/977 [==============================] - 5s 5ms/step - loss: 0.1140 - accuracy: 0.9466 - val_loss: 1.0530 - val_accuracy: 0.8323\n",
      "Epoch 5/50\n",
      "977/977 [==============================] - 5s 5ms/step - loss: 0.1163 - accuracy: 0.9452 - val_loss: 0.8659 - val_accuracy: 0.8229\n",
      "Epoch 6/50\n",
      "977/977 [==============================] - 5s 5ms/step - loss: 0.1117 - accuracy: 0.9479 - val_loss: 0.9751 - val_accuracy: 0.8294\n",
      "Epoch 7/50\n",
      "977/977 [==============================] - 5s 5ms/step - loss: 0.1131 - accuracy: 0.9478 - val_loss: 1.1476 - val_accuracy: 0.8245\n",
      "Epoch 8/50\n",
      "977/977 [==============================] - 5s 5ms/step - loss: 0.1312 - accuracy: 0.9443 - val_loss: 0.9056 - val_accuracy: 0.8337\n",
      "Epoch 9/50\n",
      "977/977 [==============================] - 5s 5ms/step - loss: 0.1102 - accuracy: 0.9487 - val_loss: 0.9583 - val_accuracy: 0.8260\n",
      "Epoch 10/50\n",
      "977/977 [==============================] - 5s 5ms/step - loss: 0.1055 - accuracy: 0.9505 - val_loss: 1.0114 - val_accuracy: 0.8264\n",
      "Epoch 11/50\n",
      "977/977 [==============================] - 5s 5ms/step - loss: 0.1055 - accuracy: 0.9510 - val_loss: 1.1049 - val_accuracy: 0.8299\n",
      "Epoch 12/50\n",
      "977/977 [==============================] - 5s 5ms/step - loss: 0.1083 - accuracy: 0.9489 - val_loss: 0.9993 - val_accuracy: 0.8274\n",
      "Epoch 13/50\n",
      "977/977 [==============================] - 5s 5ms/step - loss: 0.1100 - accuracy: 0.9503 - val_loss: 0.9530 - val_accuracy: 0.8256\n",
      "Epoch 14/50\n",
      "977/977 [==============================] - 5s 5ms/step - loss: 0.1076 - accuracy: 0.9506 - val_loss: 1.1464 - val_accuracy: 0.8264\n",
      "Epoch 15/50\n",
      "977/977 [==============================] - 5s 5ms/step - loss: 0.1113 - accuracy: 0.9507 - val_loss: 0.9609 - val_accuracy: 0.8184\n",
      "Epoch 16/50\n",
      "977/977 [==============================] - 5s 5ms/step - loss: 0.1032 - accuracy: 0.9533 - val_loss: 0.9756 - val_accuracy: 0.8286\n",
      "Epoch 17/50\n",
      "977/977 [==============================] - 5s 5ms/step - loss: 0.1018 - accuracy: 0.9512 - val_loss: 1.1218 - val_accuracy: 0.8176\n",
      "Epoch 18/50\n",
      "977/977 [==============================] - 5s 5ms/step - loss: 0.1030 - accuracy: 0.9533 - val_loss: 1.1185 - val_accuracy: 0.8251\n",
      "Epoch 19/50\n",
      "977/977 [==============================] - 5s 5ms/step - loss: 0.1033 - accuracy: 0.9523 - val_loss: 1.0142 - val_accuracy: 0.8258\n",
      "Epoch 20/50\n",
      "977/977 [==============================] - 5s 5ms/step - loss: 0.1009 - accuracy: 0.9524 - val_loss: 1.1370 - val_accuracy: 0.8245\n",
      "Epoch 21/50\n",
      "977/977 [==============================] - 5s 5ms/step - loss: 0.0981 - accuracy: 0.9531 - val_loss: 1.1134 - val_accuracy: 0.8313\n",
      "Epoch 22/50\n",
      "977/977 [==============================] - 5s 5ms/step - loss: 0.0950 - accuracy: 0.9554 - val_loss: 1.2376 - val_accuracy: 0.8225\n",
      "Epoch 23/50\n",
      "977/977 [==============================] - 5s 5ms/step - loss: 0.1002 - accuracy: 0.9538 - val_loss: 1.1878 - val_accuracy: 0.8270\n",
      "Epoch 24/50\n",
      "977/977 [==============================] - 5s 5ms/step - loss: 0.1067 - accuracy: 0.9520 - val_loss: 0.9886 - val_accuracy: 0.8264\n",
      "Epoch 25/50\n",
      "977/977 [==============================] - 5s 5ms/step - loss: 0.0890 - accuracy: 0.9573 - val_loss: 1.2663 - val_accuracy: 0.8231\n",
      "Epoch 26/50\n",
      "977/977 [==============================] - 5s 5ms/step - loss: 0.0947 - accuracy: 0.9573 - val_loss: 1.1967 - val_accuracy: 0.8274\n",
      "Epoch 27/50\n",
      "977/977 [==============================] - 5s 5ms/step - loss: 0.0956 - accuracy: 0.9559 - val_loss: 1.2148 - val_accuracy: 0.8239\n",
      "Epoch 28/50\n",
      "977/977 [==============================] - 5s 5ms/step - loss: 0.0991 - accuracy: 0.9553 - val_loss: 1.0210 - val_accuracy: 0.8256\n",
      "Epoch 29/50\n",
      "977/977 [==============================] - 5s 5ms/step - loss: 0.0942 - accuracy: 0.9566 - val_loss: 1.1715 - val_accuracy: 0.8219\n",
      "Epoch 30/50\n",
      "977/977 [==============================] - 5s 5ms/step - loss: 0.0894 - accuracy: 0.9593 - val_loss: 1.1469 - val_accuracy: 0.8284\n",
      "Epoch 31/50\n",
      "977/977 [==============================] - 5s 5ms/step - loss: 0.0916 - accuracy: 0.9572 - val_loss: 1.2489 - val_accuracy: 0.8227\n",
      "Epoch 32/50\n",
      "977/977 [==============================] - 5s 5ms/step - loss: 0.0888 - accuracy: 0.9583 - val_loss: 1.3112 - val_accuracy: 0.8272\n",
      "Epoch 33/50\n",
      "977/977 [==============================] - 5s 5ms/step - loss: 0.0928 - accuracy: 0.9584 - val_loss: 1.2612 - val_accuracy: 0.8213\n",
      "Epoch 34/50\n",
      "977/977 [==============================] - 5s 5ms/step - loss: 0.0903 - accuracy: 0.9571 - val_loss: 1.2364 - val_accuracy: 0.8237\n",
      "Epoch 35/50\n",
      "977/977 [==============================] - 5s 5ms/step - loss: 0.0928 - accuracy: 0.9566 - val_loss: 1.2373 - val_accuracy: 0.8251\n",
      "Epoch 36/50\n",
      "977/977 [==============================] - 5s 5ms/step - loss: 0.0908 - accuracy: 0.9586 - val_loss: 1.3111 - val_accuracy: 0.8260\n",
      "Epoch 37/50\n",
      "977/977 [==============================] - 5s 5ms/step - loss: 0.0880 - accuracy: 0.9594 - val_loss: 1.3543 - val_accuracy: 0.8190\n",
      "Epoch 38/50\n",
      "977/977 [==============================] - 5s 5ms/step - loss: 0.0799 - accuracy: 0.9618 - val_loss: 1.4778 - val_accuracy: 0.8286\n",
      "Epoch 39/50\n",
      "977/977 [==============================] - 5s 5ms/step - loss: 0.0874 - accuracy: 0.9582 - val_loss: 1.3437 - val_accuracy: 0.8245\n",
      "Epoch 40/50\n",
      "977/977 [==============================] - 5s 5ms/step - loss: 0.0893 - accuracy: 0.9601 - val_loss: 1.2660 - val_accuracy: 0.8219\n",
      "Epoch 41/50\n",
      "977/977 [==============================] - 5s 5ms/step - loss: 0.0848 - accuracy: 0.9606 - val_loss: 1.5355 - val_accuracy: 0.8247\n",
      "Epoch 42/50\n",
      "977/977 [==============================] - 5s 5ms/step - loss: 0.0869 - accuracy: 0.9601 - val_loss: 1.3086 - val_accuracy: 0.8215\n",
      "Epoch 43/50\n",
      "977/977 [==============================] - 5s 5ms/step - loss: 0.0870 - accuracy: 0.9603 - val_loss: 1.3577 - val_accuracy: 0.8253\n",
      "Epoch 44/50\n",
      "977/977 [==============================] - 5s 5ms/step - loss: 0.0817 - accuracy: 0.9607 - val_loss: 1.4979 - val_accuracy: 0.8241\n",
      "Epoch 45/50\n",
      "977/977 [==============================] - 5s 5ms/step - loss: 0.0858 - accuracy: 0.9607 - val_loss: 1.4038 - val_accuracy: 0.8258\n",
      "Epoch 46/50\n",
      "977/977 [==============================] - 5s 5ms/step - loss: 0.0864 - accuracy: 0.9609 - val_loss: 1.3369 - val_accuracy: 0.8317\n",
      "Epoch 47/50\n",
      "977/977 [==============================] - 5s 5ms/step - loss: 0.0819 - accuracy: 0.9612 - val_loss: 1.4505 - val_accuracy: 0.8235\n",
      "Epoch 48/50\n",
      "977/977 [==============================] - 5s 5ms/step - loss: 0.0841 - accuracy: 0.9610 - val_loss: 1.3495 - val_accuracy: 0.8256\n",
      "Epoch 49/50\n",
      "977/977 [==============================] - 5s 5ms/step - loss: 0.0819 - accuracy: 0.9610 - val_loss: 1.3689 - val_accuracy: 0.8217\n",
      "Epoch 50/50\n",
      "977/977 [==============================] - 5s 5ms/step - loss: 0.0821 - accuracy: 0.9620 - val_loss: 1.4440 - val_accuracy: 0.8266\n"
     ]
    }
   ],
   "source": [
    "# 훈련\n",
    "hist = model.fit(x_train_sc, y_train, validation_split=0.2 , epochs=50, batch_size= 20)"
   ]
  },
  {
   "cell_type": "code",
   "execution_count": 181,
   "id": "86a3f767",
   "metadata": {
    "ExecuteTime": {
     "end_time": "2022-03-17T08:15:17.073279Z",
     "start_time": "2022-03-17T08:15:16.225302Z"
    }
   },
   "outputs": [
    {
     "name": "stdout",
     "output_type": "stream",
     "text": [
      "255/255 [==============================] - 1s 3ms/step - loss: 1.6945 - accuracy: 0.8299\n"
     ]
    },
    {
     "data": {
      "text/plain": [
       "[1.6944849491119385, 0.8298735022544861]"
      ]
     },
     "execution_count": 181,
     "metadata": {},
     "output_type": "execute_result"
    }
   ],
   "source": [
    "model.evaluate(x_test_sc,y_test) # accuracy 0.829 학습안됨"
   ]
  },
  {
   "cell_type": "code",
   "execution_count": 182,
   "id": "ccffcc37",
   "metadata": {
    "ExecuteTime": {
     "end_time": "2022-03-17T08:15:17.246049Z",
     "start_time": "2022-03-17T08:15:17.152756Z"
    }
   },
   "outputs": [
    {
     "data": {
      "text/plain": [
       "[<matplotlib.lines.Line2D at 0x23ba8198970>]"
      ]
     },
     "execution_count": 182,
     "metadata": {},
     "output_type": "execute_result"
    },
    {
     "data": {
      "image/png": "[encoded data removed]",
      "text/plain": [
       "<Figure size 432x288 with 1 Axes>"
      ]
     },
     "metadata": {
      "needs_background": "light"
     },
     "output_type": "display_data"
    }
   ],
   "source": [
    "plt.plot(hist.history['loss'])\n",
    "plt.plot(hist.history['val_loss'])"
   ]
  },
  {
   "cell_type": "markdown",
   "id": "f228944f",
   "metadata": {
    "ExecuteTime": {
     "end_time": "2022-03-17T08:16:30.910477Z",
     "start_time": "2022-03-17T08:16:30.906485Z"
    }
   },
   "source": [
    "## optimizer parameter바꿔보기: adam -> adagrad"
   ]
  },
  {
   "cell_type": "code",
   "execution_count": 188,
   "id": "0bb571f5",
   "metadata": {
    "ExecuteTime": {
     "end_time": "2022-03-17T08:38:26.702379Z",
     "start_time": "2022-03-17T08:38:26.664836Z"
    }
   },
   "outputs": [],
   "source": [
    "from sklearn.model_selection import train_test_split\n",
    "\n",
    "x_train,x_test, y_train,y_test = train_test_split(x_1,y_enc,random_state=111)"
   ]
  },
  {
   "cell_type": "code",
   "execution_count": 189,
   "id": "b5b4e384",
   "metadata": {
    "ExecuteTime": {
     "end_time": "2022-03-17T08:38:27.724443Z",
     "start_time": "2022-03-17T08:38:27.673580Z"
    }
   },
   "outputs": [
    {
     "name": "stdout",
     "output_type": "stream",
     "text": [
      "Model: \"sequential_16\"\n",
      "_________________________________________________________________\n",
      " Layer (type)                Output Shape              Param #   \n",
      "=================================================================\n",
      " dense_71 (Dense)            (None, 256)               27904     \n",
      "                                                                 \n",
      " dense_72 (Dense)            (None, 128)               32896     \n",
      "                                                                 \n",
      " dense_73 (Dense)            (None, 64)                8256      \n",
      "                                                                 \n",
      " dense_74 (Dense)            (None, 32)                2080      \n",
      "                                                                 \n",
      " dense_75 (Dense)            (None, 1)                 33        \n",
      "                                                                 \n",
      "=================================================================\n",
      "Total params: 71,169\n",
      "Trainable params: 71,169\n",
      "Non-trainable params: 0\n",
      "_________________________________________________________________\n"
     ]
    }
   ],
   "source": [
    "with tf.device('/GPU:0'):\n",
    "    model = Sequential()\n",
    "    model.add(Dense(256,input_dim=108,activation= 'relu'))\n",
    "\n",
    "    model.add(Dense(128, activation='relu'))\n",
    "\n",
    "    model.add(Dense(64, activation='relu'))\n",
    "\n",
    "    model.add(Dense(32, activation='relu'))\n",
    "\n",
    "    model.add(Dense(1, activation='sigmoid'))\n",
    "    model.compile(loss='binary_crossentropy', metrics=['accuracy'], optimizer='adagrad')\n",
    "    model.summary()"
   ]
  },
  {
   "cell_type": "code",
   "execution_count": 190,
   "id": "a5db589c",
   "metadata": {
    "ExecuteTime": {
     "end_time": "2022-03-17T08:42:04.329619Z",
     "start_time": "2022-03-17T08:38:28.489585Z"
    },
    "scrolled": true
   },
   "outputs": [
    {
     "name": "stdout",
     "output_type": "stream",
     "text": [
      "Epoch 1/50\n",
      "977/977 [==============================] - 5s 5ms/step - loss: 0.4996 - accuracy: 0.7667 - val_loss: 0.3975 - val_accuracy: 0.8200\n",
      "Epoch 2/50\n",
      "977/977 [==============================] - 4s 4ms/step - loss: 0.3807 - accuracy: 0.8298 - val_loss: 0.3510 - val_accuracy: 0.8421\n",
      "Epoch 3/50\n",
      "977/977 [==============================] - 4s 4ms/step - loss: 0.3538 - accuracy: 0.8383 - val_loss: 0.3372 - val_accuracy: 0.8493\n",
      "Epoch 4/50\n",
      "977/977 [==============================] - 4s 4ms/step - loss: 0.3433 - accuracy: 0.8415 - val_loss: 0.3310 - val_accuracy: 0.8493\n",
      "Epoch 5/50\n",
      "977/977 [==============================] - 4s 4ms/step - loss: 0.3370 - accuracy: 0.8432 - val_loss: 0.3272 - val_accuracy: 0.8544\n",
      "Epoch 6/50\n",
      "977/977 [==============================] - 4s 4ms/step - loss: 0.3329 - accuracy: 0.8443 - val_loss: 0.3250 - val_accuracy: 0.8507\n",
      "Epoch 7/50\n",
      "977/977 [==============================] - 4s 4ms/step - loss: 0.3295 - accuracy: 0.8463 - val_loss: 0.3229 - val_accuracy: 0.8503\n",
      "Epoch 8/50\n",
      "977/977 [==============================] - 4s 4ms/step - loss: 0.3267 - accuracy: 0.8473 - val_loss: 0.3215 - val_accuracy: 0.8536\n",
      "Epoch 9/50\n",
      "977/977 [==============================] - 4s 4ms/step - loss: 0.3243 - accuracy: 0.8485 - val_loss: 0.3204 - val_accuracy: 0.8501\n",
      "Epoch 10/50\n",
      "977/977 [==============================] - 4s 5ms/step - loss: 0.3222 - accuracy: 0.8498 - val_loss: 0.3193 - val_accuracy: 0.8554\n",
      "Epoch 11/50\n",
      "977/977 [==============================] - 4s 4ms/step - loss: 0.3203 - accuracy: 0.8510 - val_loss: 0.3183 - val_accuracy: 0.8538\n",
      "Epoch 12/50\n",
      "977/977 [==============================] - 4s 4ms/step - loss: 0.3184 - accuracy: 0.8517 - val_loss: 0.3175 - val_accuracy: 0.8544\n",
      "Epoch 13/50\n",
      "977/977 [==============================] - 4s 4ms/step - loss: 0.3168 - accuracy: 0.8525 - val_loss: 0.3167 - val_accuracy: 0.8548\n",
      "Epoch 14/50\n",
      "977/977 [==============================] - 4s 4ms/step - loss: 0.3152 - accuracy: 0.8532 - val_loss: 0.3161 - val_accuracy: 0.8524\n",
      "Epoch 15/50\n",
      "977/977 [==============================] - 4s 4ms/step - loss: 0.3139 - accuracy: 0.8546 - val_loss: 0.3156 - val_accuracy: 0.8534\n",
      "Epoch 16/50\n",
      "977/977 [==============================] - 4s 4ms/step - loss: 0.3126 - accuracy: 0.8558 - val_loss: 0.3149 - val_accuracy: 0.8534\n",
      "Epoch 17/50\n",
      "977/977 [==============================] - 4s 4ms/step - loss: 0.3113 - accuracy: 0.8560 - val_loss: 0.3144 - val_accuracy: 0.8536\n",
      "Epoch 18/50\n",
      "977/977 [==============================] - 4s 4ms/step - loss: 0.3101 - accuracy: 0.8570 - val_loss: 0.3139 - val_accuracy: 0.8536\n",
      "Epoch 19/50\n",
      "977/977 [==============================] - 4s 4ms/step - loss: 0.3090 - accuracy: 0.8573 - val_loss: 0.3135 - val_accuracy: 0.8538\n",
      "Epoch 20/50\n",
      "977/977 [==============================] - 4s 4ms/step - loss: 0.3079 - accuracy: 0.8576 - val_loss: 0.3130 - val_accuracy: 0.8546\n",
      "Epoch 21/50\n",
      "977/977 [==============================] - 4s 4ms/step - loss: 0.3068 - accuracy: 0.8572 - val_loss: 0.3127 - val_accuracy: 0.8540\n",
      "Epoch 22/50\n",
      "977/977 [==============================] - 4s 4ms/step - loss: 0.3058 - accuracy: 0.8579 - val_loss: 0.3123 - val_accuracy: 0.8536\n",
      "Epoch 23/50\n",
      "977/977 [==============================] - 4s 4ms/step - loss: 0.3049 - accuracy: 0.8594 - val_loss: 0.3118 - val_accuracy: 0.8546\n",
      "Epoch 24/50\n",
      "977/977 [==============================] - 5s 5ms/step - loss: 0.3040 - accuracy: 0.8594 - val_loss: 0.3117 - val_accuracy: 0.8557\n",
      "Epoch 25/50\n",
      "977/977 [==============================] - 5s 5ms/step - loss: 0.3031 - accuracy: 0.8595 - val_loss: 0.3113 - val_accuracy: 0.8548\n",
      "Epoch 26/50\n",
      "977/977 [==============================] - 5s 5ms/step - loss: 0.3022 - accuracy: 0.8603 - val_loss: 0.3111 - val_accuracy: 0.8548\n",
      "Epoch 27/50\n",
      "977/977 [==============================] - 4s 4ms/step - loss: 0.3014 - accuracy: 0.8602 - val_loss: 0.3108 - val_accuracy: 0.8546\n",
      "Epoch 28/50\n",
      "977/977 [==============================] - 4s 4ms/step - loss: 0.3005 - accuracy: 0.8605 - val_loss: 0.3110 - val_accuracy: 0.8567\n",
      "Epoch 29/50\n",
      "977/977 [==============================] - 5s 5ms/step - loss: 0.2999 - accuracy: 0.8609 - val_loss: 0.3103 - val_accuracy: 0.8550\n",
      "Epoch 30/50\n",
      "977/977 [==============================] - 5s 5ms/step - loss: 0.2991 - accuracy: 0.8617 - val_loss: 0.3100 - val_accuracy: 0.8561\n",
      "Epoch 31/50\n",
      "977/977 [==============================] - 5s 5ms/step - loss: 0.2984 - accuracy: 0.8611 - val_loss: 0.3099 - val_accuracy: 0.8554\n",
      "Epoch 32/50\n",
      "977/977 [==============================] - 4s 4ms/step - loss: 0.2976 - accuracy: 0.8617 - val_loss: 0.3099 - val_accuracy: 0.8554\n",
      "Epoch 33/50\n",
      "977/977 [==============================] - 4s 4ms/step - loss: 0.2969 - accuracy: 0.8629 - val_loss: 0.3095 - val_accuracy: 0.8563\n",
      "Epoch 34/50\n",
      "977/977 [==============================] - 4s 4ms/step - loss: 0.2964 - accuracy: 0.8630 - val_loss: 0.3093 - val_accuracy: 0.8565\n",
      "Epoch 35/50\n",
      "977/977 [==============================] - 4s 4ms/step - loss: 0.2957 - accuracy: 0.8629 - val_loss: 0.3093 - val_accuracy: 0.8561\n",
      "Epoch 36/50\n",
      "977/977 [==============================] - 4s 4ms/step - loss: 0.2950 - accuracy: 0.8629 - val_loss: 0.3092 - val_accuracy: 0.8546\n",
      "Epoch 37/50\n",
      "977/977 [==============================] - 4s 4ms/step - loss: 0.2944 - accuracy: 0.8639 - val_loss: 0.3092 - val_accuracy: 0.8552\n",
      "Epoch 38/50\n",
      "977/977 [==============================] - 4s 4ms/step - loss: 0.2938 - accuracy: 0.8634 - val_loss: 0.3087 - val_accuracy: 0.8557\n",
      "Epoch 39/50\n",
      "977/977 [==============================] - 4s 4ms/step - loss: 0.2933 - accuracy: 0.8644 - val_loss: 0.3086 - val_accuracy: 0.8554\n",
      "Epoch 40/50\n",
      "977/977 [==============================] - 4s 4ms/step - loss: 0.2927 - accuracy: 0.8644 - val_loss: 0.3086 - val_accuracy: 0.8550\n",
      "Epoch 41/50\n",
      "977/977 [==============================] - 4s 4ms/step - loss: 0.2922 - accuracy: 0.8645 - val_loss: 0.3085 - val_accuracy: 0.8546\n",
      "Epoch 42/50\n",
      "977/977 [==============================] - 4s 4ms/step - loss: 0.2916 - accuracy: 0.8647 - val_loss: 0.3083 - val_accuracy: 0.8550\n",
      "Epoch 43/50\n",
      "977/977 [==============================] - 4s 4ms/step - loss: 0.2911 - accuracy: 0.8656 - val_loss: 0.3084 - val_accuracy: 0.8550\n",
      "Epoch 44/50\n",
      "977/977 [==============================] - 4s 4ms/step - loss: 0.2905 - accuracy: 0.8655 - val_loss: 0.3081 - val_accuracy: 0.8544\n",
      "Epoch 45/50\n",
      "977/977 [==============================] - 4s 4ms/step - loss: 0.2900 - accuracy: 0.8661 - val_loss: 0.3084 - val_accuracy: 0.8544\n",
      "Epoch 46/50\n",
      "977/977 [==============================] - 4s 4ms/step - loss: 0.2895 - accuracy: 0.8661 - val_loss: 0.3080 - val_accuracy: 0.8546\n",
      "Epoch 47/50\n",
      "977/977 [==============================] - 4s 4ms/step - loss: 0.2890 - accuracy: 0.8658 - val_loss: 0.3080 - val_accuracy: 0.8554\n",
      "Epoch 48/50\n",
      "977/977 [==============================] - 4s 4ms/step - loss: 0.2886 - accuracy: 0.8660 - val_loss: 0.3080 - val_accuracy: 0.8548\n",
      "Epoch 49/50\n",
      "977/977 [==============================] - 5s 5ms/step - loss: 0.2881 - accuracy: 0.8665 - val_loss: 0.3080 - val_accuracy: 0.8544\n",
      "Epoch 50/50\n",
      "977/977 [==============================] - 5s 5ms/step - loss: 0.2876 - accuracy: 0.8667 - val_loss: 0.3080 - val_accuracy: 0.8544\n"
     ]
    }
   ],
   "source": [
    "hist = model.fit(x_train_sc, y_train,validation_split=0.2, epochs=50, batch_size =20)"
   ]
  },
  {
   "cell_type": "code",
   "execution_count": 191,
   "id": "1f793c12",
   "metadata": {
    "ExecuteTime": {
     "end_time": "2022-03-17T08:42:05.160863Z",
     "start_time": "2022-03-17T08:42:04.398449Z"
    }
   },
   "outputs": [
    {
     "name": "stdout",
     "output_type": "stream",
     "text": [
      "255/255 [==============================] - 1s 3ms/step - loss: 0.3275 - accuracy: 0.8511\n"
     ]
    },
    {
     "data": {
      "text/plain": [
       "[0.3274618685245514, 0.8511239290237427]"
      ]
     },
     "execution_count": 191,
     "metadata": {},
     "output_type": "execute_result"
    }
   ],
   "source": [
    "model.evaluate(x_test_sc,y_test)"
   ]
  },
  {
   "cell_type": "code",
   "execution_count": 192,
   "id": "df38499d",
   "metadata": {
    "ExecuteTime": {
     "end_time": "2022-03-17T08:42:05.318810Z",
     "start_time": "2022-03-17T08:42:05.224617Z"
    }
   },
   "outputs": [
    {
     "data": {
      "text/plain": [
       "[<matplotlib.lines.Line2D at 0x23aa7071c10>]"
      ]
     },
     "execution_count": 192,
     "metadata": {},
     "output_type": "execute_result"
    },
    {
     "data": {
      "image/png": "[encoded data removed]",
      "text/plain": [
       "<Figure size 432x288 with 1 Axes>"
      ]
     },
     "metadata": {
      "needs_background": "light"
     },
     "output_type": "display_data"
    }
   ],
   "source": [
    "plt.plot(hist.history['loss'])\n",
    "plt.plot(hist.history['val_loss'])"
   ]
  },
  {
   "cell_type": "markdown",
   "id": "8bf92d03",
   "metadata": {},
   "source": [
    "![](https://img1.daumcdn.net/thumb/R1280x0/?scode=mtistory2&fname=https%3A%2F%2Fblog.kakaocdn.net%2Fdn%2FwB6fB%2Fbtq9Y4Zo3cR%2F2N4VZHZWFH2QkEfkQdhhmk%2Fimg.png)"
   ]
  },
  {
   "cell_type": "code",
   "execution_count": null,
   "id": "e137ff62",
   "metadata": {},
   "outputs": [],
   "source": []
  },
  {
   "cell_type": "markdown",
   "id": "9999a248",
   "metadata": {},
   "source": [
    "## machine learning과 비교해보시오"
   ]
  },
  {
   "cell_type": "code",
   "execution_count": 193,
   "id": "f07f4a4c",
   "metadata": {
    "ExecuteTime": {
     "end_time": "2022-03-17T08:42:26.096265Z",
     "start_time": "2022-03-17T08:42:26.090281Z"
    }
   },
   "outputs": [
    {
     "data": {
      "text/plain": [
       "(32561, 15)"
      ]
     },
     "execution_count": 193,
     "metadata": {},
     "output_type": "execute_result"
    }
   ],
   "source": [
    "df.shape"
   ]
  },
  {
   "cell_type": "code",
   "execution_count": 194,
   "id": "5193e60c",
   "metadata": {
    "ExecuteTime": {
     "end_time": "2022-03-17T08:42:27.543630Z",
     "start_time": "2022-03-17T08:42:27.529667Z"
    }
   },
   "outputs": [],
   "source": [
    "# y = df['50k'].apply(lambda x : 1 if x == ' >50K' else 0)\n",
    "# x= df.iloc[:,:14]"
   ]
  },
  {
   "cell_type": "code",
   "execution_count": 195,
   "id": "d447987d",
   "metadata": {
    "ExecuteTime": {
     "end_time": "2022-03-17T08:42:28.154854Z",
     "start_time": "2022-03-17T08:42:28.137932Z"
    }
   },
   "outputs": [],
   "source": [
    "x = pd.get_dummies(x)"
   ]
  },
  {
   "cell_type": "code",
   "execution_count": 196,
   "id": "98d4129e",
   "metadata": {
    "ExecuteTime": {
     "end_time": "2022-03-17T08:42:28.701937Z",
     "start_time": "2022-03-17T08:42:28.665370Z"
    }
   },
   "outputs": [],
   "source": [
    "from sklearn.model_selection import train_test_split\n",
    "x_train, x_test, y_train, y_test = train_test_split(x,y,test_size=0.2, random_state =111)"
   ]
  },
  {
   "cell_type": "code",
   "execution_count": 197,
   "id": "17ee089b",
   "metadata": {
    "ExecuteTime": {
     "end_time": "2022-03-17T08:42:32.473396Z",
     "start_time": "2022-03-17T08:42:29.288906Z"
    }
   },
   "outputs": [
    {
     "data": {
      "text/plain": [
       "0.8550591125441425"
      ]
     },
     "execution_count": 197,
     "metadata": {},
     "output_type": "execute_result"
    }
   ],
   "source": [
    "from sklearn.ensemble import RandomForestClassifier\n",
    "rfc = RandomForestClassifier()\n",
    "rfc.fit(x_train, y_train)\n",
    "rfc.score(x_test, y_test)"
   ]
  },
  {
   "cell_type": "code",
   "execution_count": null,
   "id": "79adf3c5",
   "metadata": {},
   "outputs": [],
   "source": []
  },
  {
   "cell_type": "code",
   "execution_count": null,
   "id": "5c8a931b",
   "metadata": {},
   "outputs": [],
   "source": []
  },
  {
   "cell_type": "code",
   "execution_count": null,
   "id": "8c217acc",
   "metadata": {},
   "outputs": [],
   "source": []
  },
  {
   "cell_type": "code",
   "execution_count": null,
   "id": "67e65c47",
   "metadata": {},
   "outputs": [],
   "source": []
  },
  {
   "cell_type": "code",
   "execution_count": null,
   "id": "84446e29",
   "metadata": {},
   "outputs": [],
   "source": []
  },
  {
   "cell_type": "code",
   "execution_count": null,
   "id": "e5ba2d29",
   "metadata": {},
   "outputs": [],
   "source": []
  }
 ],
 "metadata": {
  "kernelspec": {
   "display_name": "Python 3 (ipykernel)",
   "language": "python",
   "name": "python3"
  },
  "language_info": {
   "codemirror_mode": {
    "name": "ipython",
    "version": 3
   },
   "file_extension": ".py",
   "mimetype": "text/x-python",
   "name": "python",
   "nbconvert_exporter": "python",
   "pygments_lexer": "ipython3",
   "version": "3.9.7"
  },
  "toc": {
   "base_numbering": 1,
   "nav_menu": {},
   "number_sections": true,
   "sideBar": true,
   "skip_h1_title": false,
   "title_cell": "Table of Contents",
   "title_sidebar": "Contents",
   "toc_cell": false,
   "toc_position": {},
   "toc_section_display": true,
   "toc_window_display": false
  },
  "varInspector": {
   "cols": {
    "lenName": 16,
    "lenType": 16,
    "lenVar": 40
   },
   "kernels_config": {
    "python": {
     "delete_cmd_postfix": "",
     "delete_cmd_prefix": "del ",
     "library": "var_list.py",
     "varRefreshCmd": "print(var_dic_list())"
    },
    "r": {
     "delete_cmd_postfix": ") ",
     "delete_cmd_prefix": "rm(",
     "library": "var_list.r",
     "varRefreshCmd": "cat(var_dic_list()) "
    }
   },
   "types_to_exclude": [
    "module",
    "function",
    "builtin_function_or_method",
    "instance",
    "_Feature"
   ],
   "window_display": false
  }
 },
 "nbformat": 4,
 "nbformat_minor": 5
}
