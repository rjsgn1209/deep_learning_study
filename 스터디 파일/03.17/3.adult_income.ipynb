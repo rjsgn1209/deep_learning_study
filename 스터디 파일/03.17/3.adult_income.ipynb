{
 "cells": [
  {
   "cell_type": "code",
   "execution_count": 5,
   "id": "f4162f87",
   "metadata": {
    "ExecuteTime": {
     "end_time": "2022-03-17T07:51:00.524527Z",
     "start_time": "2022-03-17T07:51:00.516548Z"
    }
   },
   "outputs": [],
   "source": [
    "import pandas as pd\n",
    "import numpy as np\n",
    "import matplotlib.pyplot as plt\n",
    "import seaborn as sns"
   ]
  },
  {
   "cell_type": "code",
   "execution_count": 6,
   "id": "018c0041",
   "metadata": {
    "ExecuteTime": {
     "end_time": "2022-03-17T07:51:00.697066Z",
     "start_time": "2022-03-17T07:51:00.692081Z"
    }
   },
   "outputs": [],
   "source": [
    "from tensorflow.keras.layers import *\n",
    "from tensorflow.keras.models import *"
   ]
  },
  {
   "cell_type": "code",
   "execution_count": 7,
   "id": "791b9bf5",
   "metadata": {
    "ExecuteTime": {
     "end_time": "2022-03-17T07:51:00.868636Z",
     "start_time": "2022-03-17T07:51:00.851653Z"
    }
   },
   "outputs": [],
   "source": [
    "import tensorflow as tf"
   ]
  },
  {
   "cell_type": "code",
   "execution_count": 8,
   "id": "ded2fe10",
   "metadata": {
    "ExecuteTime": {
     "end_time": "2022-03-17T07:51:01.089018Z",
     "start_time": "2022-03-17T07:51:01.028181Z"
    }
   },
   "outputs": [
    {
     "data": {
      "text/html": [
       "<div>\n",
       "<style scoped>\n",
       "    .dataframe tbody tr th:only-of-type {\n",
       "        vertical-align: middle;\n",
       "    }\n",
       "\n",
       "    .dataframe tbody tr th {\n",
       "        vertical-align: top;\n",
       "    }\n",
       "\n",
       "    .dataframe thead th {\n",
       "        text-align: right;\n",
       "    }\n",
       "</style>\n",
       "<table border=\"1\" class=\"dataframe\">\n",
       "  <thead>\n",
       "    <tr style=\"text-align: right;\">\n",
       "      <th></th>\n",
       "      <th>age</th>\n",
       "      <th>workclass</th>\n",
       "      <th>fnlwgt</th>\n",
       "      <th>education</th>\n",
       "      <th>education_num</th>\n",
       "      <th>marital_status</th>\n",
       "      <th>occupation</th>\n",
       "      <th>relationship</th>\n",
       "      <th>race</th>\n",
       "      <th>sex</th>\n",
       "      <th>capital-gain</th>\n",
       "      <th>capital-loss</th>\n",
       "      <th>hours-per-week</th>\n",
       "      <th>native-country</th>\n",
       "      <th>50k</th>\n",
       "    </tr>\n",
       "  </thead>\n",
       "  <tbody>\n",
       "    <tr>\n",
       "      <th>0</th>\n",
       "      <td>39</td>\n",
       "      <td>State-gov</td>\n",
       "      <td>77516</td>\n",
       "      <td>Bachelors</td>\n",
       "      <td>13</td>\n",
       "      <td>Never-married</td>\n",
       "      <td>Adm-clerical</td>\n",
       "      <td>Not-in-family</td>\n",
       "      <td>White</td>\n",
       "      <td>Male</td>\n",
       "      <td>2174</td>\n",
       "      <td>0</td>\n",
       "      <td>40</td>\n",
       "      <td>United-States</td>\n",
       "      <td>&lt;=50K</td>\n",
       "    </tr>\n",
       "    <tr>\n",
       "      <th>1</th>\n",
       "      <td>50</td>\n",
       "      <td>Self-emp-not-inc</td>\n",
       "      <td>83311</td>\n",
       "      <td>Bachelors</td>\n",
       "      <td>13</td>\n",
       "      <td>Married-civ-spouse</td>\n",
       "      <td>Exec-managerial</td>\n",
       "      <td>Husband</td>\n",
       "      <td>White</td>\n",
       "      <td>Male</td>\n",
       "      <td>0</td>\n",
       "      <td>0</td>\n",
       "      <td>13</td>\n",
       "      <td>United-States</td>\n",
       "      <td>&lt;=50K</td>\n",
       "    </tr>\n",
       "    <tr>\n",
       "      <th>2</th>\n",
       "      <td>38</td>\n",
       "      <td>Private</td>\n",
       "      <td>215646</td>\n",
       "      <td>HS-grad</td>\n",
       "      <td>9</td>\n",
       "      <td>Divorced</td>\n",
       "      <td>Handlers-cleaners</td>\n",
       "      <td>Not-in-family</td>\n",
       "      <td>White</td>\n",
       "      <td>Male</td>\n",
       "      <td>0</td>\n",
       "      <td>0</td>\n",
       "      <td>40</td>\n",
       "      <td>United-States</td>\n",
       "      <td>&lt;=50K</td>\n",
       "    </tr>\n",
       "    <tr>\n",
       "      <th>3</th>\n",
       "      <td>53</td>\n",
       "      <td>Private</td>\n",
       "      <td>234721</td>\n",
       "      <td>11th</td>\n",
       "      <td>7</td>\n",
       "      <td>Married-civ-spouse</td>\n",
       "      <td>Handlers-cleaners</td>\n",
       "      <td>Husband</td>\n",
       "      <td>Black</td>\n",
       "      <td>Male</td>\n",
       "      <td>0</td>\n",
       "      <td>0</td>\n",
       "      <td>40</td>\n",
       "      <td>United-States</td>\n",
       "      <td>&lt;=50K</td>\n",
       "    </tr>\n",
       "    <tr>\n",
       "      <th>4</th>\n",
       "      <td>28</td>\n",
       "      <td>Private</td>\n",
       "      <td>338409</td>\n",
       "      <td>Bachelors</td>\n",
       "      <td>13</td>\n",
       "      <td>Married-civ-spouse</td>\n",
       "      <td>Prof-specialty</td>\n",
       "      <td>Wife</td>\n",
       "      <td>Black</td>\n",
       "      <td>Female</td>\n",
       "      <td>0</td>\n",
       "      <td>0</td>\n",
       "      <td>40</td>\n",
       "      <td>Cuba</td>\n",
       "      <td>&lt;=50K</td>\n",
       "    </tr>\n",
       "  </tbody>\n",
       "</table>\n",
       "</div>"
      ],
      "text/plain": [
       "   age          workclass  fnlwgt   education  education_num  \\\n",
       "0   39          State-gov   77516   Bachelors             13   \n",
       "1   50   Self-emp-not-inc   83311   Bachelors             13   \n",
       "2   38            Private  215646     HS-grad              9   \n",
       "3   53            Private  234721        11th              7   \n",
       "4   28            Private  338409   Bachelors             13   \n",
       "\n",
       "        marital_status          occupation    relationship    race      sex  \\\n",
       "0        Never-married        Adm-clerical   Not-in-family   White     Male   \n",
       "1   Married-civ-spouse     Exec-managerial         Husband   White     Male   \n",
       "2             Divorced   Handlers-cleaners   Not-in-family   White     Male   \n",
       "3   Married-civ-spouse   Handlers-cleaners         Husband   Black     Male   \n",
       "4   Married-civ-spouse      Prof-specialty            Wife   Black   Female   \n",
       "\n",
       "   capital-gain  capital-loss  hours-per-week  native-country     50k  \n",
       "0          2174             0              40   United-States   <=50K  \n",
       "1             0             0              13   United-States   <=50K  \n",
       "2             0             0              40   United-States   <=50K  \n",
       "3             0             0              40   United-States   <=50K  \n",
       "4             0             0              40            Cuba   <=50K  "
      ]
     },
     "execution_count": 8,
     "metadata": {},
     "output_type": "execute_result"
    }
   ],
   "source": [
    "df = pd.read_csv('../data/adult.txt', header=None, names = ['age', 'workclass','fnlwgt', 'education', 'education_num', 'marital_status', 'occupation', 'relationship', 'race'\\\n",
    ", 'sex', 'capital-gain', 'capital-loss', 'hours-per-week', 'native-country', '50k'])\n",
    "df.head()"
   ]
  },
  {
   "cell_type": "code",
   "execution_count": 9,
   "id": "8bc540a9",
   "metadata": {
    "ExecuteTime": {
     "end_time": "2022-03-17T07:51:01.228645Z",
     "start_time": "2022-03-17T07:51:01.203712Z"
    },
    "scrolled": true
   },
   "outputs": [
    {
     "name": "stdout",
     "output_type": "stream",
     "text": [
      "<class 'pandas.core.frame.DataFrame'>\n",
      "RangeIndex: 32561 entries, 0 to 32560\n",
      "Data columns (total 15 columns):\n",
      " #   Column          Non-Null Count  Dtype \n",
      "---  ------          --------------  ----- \n",
      " 0   age             32561 non-null  int64 \n",
      " 1   workclass       32561 non-null  object\n",
      " 2   fnlwgt          32561 non-null  int64 \n",
      " 3   education       32561 non-null  object\n",
      " 4   education_num   32561 non-null  int64 \n",
      " 5   marital_status  32561 non-null  object\n",
      " 6   occupation      32561 non-null  object\n",
      " 7   relationship    32561 non-null  object\n",
      " 8   race            32561 non-null  object\n",
      " 9   sex             32561 non-null  object\n",
      " 10  capital-gain    32561 non-null  int64 \n",
      " 11  capital-loss    32561 non-null  int64 \n",
      " 12  hours-per-week  32561 non-null  int64 \n",
      " 13  native-country  32561 non-null  object\n",
      " 14  50k             32561 non-null  object\n",
      "dtypes: int64(6), object(9)\n",
      "memory usage: 3.7+ MB\n"
     ]
    }
   ],
   "source": [
    "df.info()"
   ]
  },
  {
   "cell_type": "code",
   "execution_count": null,
   "id": "ca77921e",
   "metadata": {
    "ExecuteTime": {
     "end_time": "2022-03-17T07:52:00.567708Z",
     "start_time": "2022-03-17T07:52:00.531819Z"
    }
   },
   "outputs": [],
   "source": []
  },
  {
   "cell_type": "code",
   "execution_count": 14,
   "id": "9b9fc9f1",
   "metadata": {
    "ExecuteTime": {
     "end_time": "2022-03-17T07:52:21.071070Z",
     "start_time": "2022-03-17T07:52:21.060092Z"
    }
   },
   "outputs": [
    {
     "data": {
      "text/plain": [
       " <=50K    24720\n",
       " >50K      7841\n",
       "Name: 50k, dtype: int64"
      ]
     },
     "execution_count": 14,
     "metadata": {},
     "output_type": "execute_result"
    }
   ],
   "source": [
    "df['50k'].value_counts()"
   ]
  },
  {
   "cell_type": "code",
   "execution_count": null,
   "id": "ccef65fe",
   "metadata": {},
   "outputs": [],
   "source": []
  },
  {
   "cell_type": "markdown",
   "id": "8428487f",
   "metadata": {
    "code_folding": []
   },
   "source": [
    "# deep learning model을 생성하고 학습 후 평가하시오.."
   ]
  },
  {
   "cell_type": "code",
   "execution_count": null,
   "id": "fe3df23b",
   "metadata": {},
   "outputs": [],
   "source": []
  },
  {
   "cell_type": "code",
   "execution_count": 38,
   "id": "760e94fc",
   "metadata": {
    "ExecuteTime": {
     "end_time": "2022-03-17T08:05:04.481655Z",
     "start_time": "2022-03-17T08:05:04.454937Z"
    }
   },
   "outputs": [],
   "source": [
    "# 타겟값 설정\n",
    "\n",
    "y = df['50k'].apply(lambda x: 1 if x == ' >50K' else 0)\n",
    "x = df.loc[:, :'native-country']"
   ]
  },
  {
   "cell_type": "code",
   "execution_count": 39,
   "id": "2b97bc1c",
   "metadata": {
    "ExecuteTime": {
     "end_time": "2022-03-17T08:05:04.780073Z",
     "start_time": "2022-03-17T08:05:04.760125Z"
    }
   },
   "outputs": [
    {
     "data": {
      "text/html": [
       "<div>\n",
       "<style scoped>\n",
       "    .dataframe tbody tr th:only-of-type {\n",
       "        vertical-align: middle;\n",
       "    }\n",
       "\n",
       "    .dataframe tbody tr th {\n",
       "        vertical-align: top;\n",
       "    }\n",
       "\n",
       "    .dataframe thead th {\n",
       "        text-align: right;\n",
       "    }\n",
       "</style>\n",
       "<table border=\"1\" class=\"dataframe\">\n",
       "  <thead>\n",
       "    <tr style=\"text-align: right;\">\n",
       "      <th></th>\n",
       "      <th>age</th>\n",
       "      <th>workclass</th>\n",
       "      <th>fnlwgt</th>\n",
       "      <th>education</th>\n",
       "      <th>education_num</th>\n",
       "      <th>marital_status</th>\n",
       "      <th>occupation</th>\n",
       "      <th>relationship</th>\n",
       "      <th>race</th>\n",
       "      <th>sex</th>\n",
       "      <th>capital-gain</th>\n",
       "      <th>capital-loss</th>\n",
       "      <th>hours-per-week</th>\n",
       "      <th>native-country</th>\n",
       "    </tr>\n",
       "  </thead>\n",
       "  <tbody>\n",
       "    <tr>\n",
       "      <th>0</th>\n",
       "      <td>39</td>\n",
       "      <td>State-gov</td>\n",
       "      <td>77516</td>\n",
       "      <td>Bachelors</td>\n",
       "      <td>13</td>\n",
       "      <td>Never-married</td>\n",
       "      <td>Adm-clerical</td>\n",
       "      <td>Not-in-family</td>\n",
       "      <td>White</td>\n",
       "      <td>Male</td>\n",
       "      <td>2174</td>\n",
       "      <td>0</td>\n",
       "      <td>40</td>\n",
       "      <td>United-States</td>\n",
       "    </tr>\n",
       "    <tr>\n",
       "      <th>1</th>\n",
       "      <td>50</td>\n",
       "      <td>Self-emp-not-inc</td>\n",
       "      <td>83311</td>\n",
       "      <td>Bachelors</td>\n",
       "      <td>13</td>\n",
       "      <td>Married-civ-spouse</td>\n",
       "      <td>Exec-managerial</td>\n",
       "      <td>Husband</td>\n",
       "      <td>White</td>\n",
       "      <td>Male</td>\n",
       "      <td>0</td>\n",
       "      <td>0</td>\n",
       "      <td>13</td>\n",
       "      <td>United-States</td>\n",
       "    </tr>\n",
       "    <tr>\n",
       "      <th>2</th>\n",
       "      <td>38</td>\n",
       "      <td>Private</td>\n",
       "      <td>215646</td>\n",
       "      <td>HS-grad</td>\n",
       "      <td>9</td>\n",
       "      <td>Divorced</td>\n",
       "      <td>Handlers-cleaners</td>\n",
       "      <td>Not-in-family</td>\n",
       "      <td>White</td>\n",
       "      <td>Male</td>\n",
       "      <td>0</td>\n",
       "      <td>0</td>\n",
       "      <td>40</td>\n",
       "      <td>United-States</td>\n",
       "    </tr>\n",
       "    <tr>\n",
       "      <th>3</th>\n",
       "      <td>53</td>\n",
       "      <td>Private</td>\n",
       "      <td>234721</td>\n",
       "      <td>11th</td>\n",
       "      <td>7</td>\n",
       "      <td>Married-civ-spouse</td>\n",
       "      <td>Handlers-cleaners</td>\n",
       "      <td>Husband</td>\n",
       "      <td>Black</td>\n",
       "      <td>Male</td>\n",
       "      <td>0</td>\n",
       "      <td>0</td>\n",
       "      <td>40</td>\n",
       "      <td>United-States</td>\n",
       "    </tr>\n",
       "    <tr>\n",
       "      <th>4</th>\n",
       "      <td>28</td>\n",
       "      <td>Private</td>\n",
       "      <td>338409</td>\n",
       "      <td>Bachelors</td>\n",
       "      <td>13</td>\n",
       "      <td>Married-civ-spouse</td>\n",
       "      <td>Prof-specialty</td>\n",
       "      <td>Wife</td>\n",
       "      <td>Black</td>\n",
       "      <td>Female</td>\n",
       "      <td>0</td>\n",
       "      <td>0</td>\n",
       "      <td>40</td>\n",
       "      <td>Cuba</td>\n",
       "    </tr>\n",
       "    <tr>\n",
       "      <th>...</th>\n",
       "      <td>...</td>\n",
       "      <td>...</td>\n",
       "      <td>...</td>\n",
       "      <td>...</td>\n",
       "      <td>...</td>\n",
       "      <td>...</td>\n",
       "      <td>...</td>\n",
       "      <td>...</td>\n",
       "      <td>...</td>\n",
       "      <td>...</td>\n",
       "      <td>...</td>\n",
       "      <td>...</td>\n",
       "      <td>...</td>\n",
       "      <td>...</td>\n",
       "    </tr>\n",
       "    <tr>\n",
       "      <th>32556</th>\n",
       "      <td>27</td>\n",
       "      <td>Private</td>\n",
       "      <td>257302</td>\n",
       "      <td>Assoc-acdm</td>\n",
       "      <td>12</td>\n",
       "      <td>Married-civ-spouse</td>\n",
       "      <td>Tech-support</td>\n",
       "      <td>Wife</td>\n",
       "      <td>White</td>\n",
       "      <td>Female</td>\n",
       "      <td>0</td>\n",
       "      <td>0</td>\n",
       "      <td>38</td>\n",
       "      <td>United-States</td>\n",
       "    </tr>\n",
       "    <tr>\n",
       "      <th>32557</th>\n",
       "      <td>40</td>\n",
       "      <td>Private</td>\n",
       "      <td>154374</td>\n",
       "      <td>HS-grad</td>\n",
       "      <td>9</td>\n",
       "      <td>Married-civ-spouse</td>\n",
       "      <td>Machine-op-inspct</td>\n",
       "      <td>Husband</td>\n",
       "      <td>White</td>\n",
       "      <td>Male</td>\n",
       "      <td>0</td>\n",
       "      <td>0</td>\n",
       "      <td>40</td>\n",
       "      <td>United-States</td>\n",
       "    </tr>\n",
       "    <tr>\n",
       "      <th>32558</th>\n",
       "      <td>58</td>\n",
       "      <td>Private</td>\n",
       "      <td>151910</td>\n",
       "      <td>HS-grad</td>\n",
       "      <td>9</td>\n",
       "      <td>Widowed</td>\n",
       "      <td>Adm-clerical</td>\n",
       "      <td>Unmarried</td>\n",
       "      <td>White</td>\n",
       "      <td>Female</td>\n",
       "      <td>0</td>\n",
       "      <td>0</td>\n",
       "      <td>40</td>\n",
       "      <td>United-States</td>\n",
       "    </tr>\n",
       "    <tr>\n",
       "      <th>32559</th>\n",
       "      <td>22</td>\n",
       "      <td>Private</td>\n",
       "      <td>201490</td>\n",
       "      <td>HS-grad</td>\n",
       "      <td>9</td>\n",
       "      <td>Never-married</td>\n",
       "      <td>Adm-clerical</td>\n",
       "      <td>Own-child</td>\n",
       "      <td>White</td>\n",
       "      <td>Male</td>\n",
       "      <td>0</td>\n",
       "      <td>0</td>\n",
       "      <td>20</td>\n",
       "      <td>United-States</td>\n",
       "    </tr>\n",
       "    <tr>\n",
       "      <th>32560</th>\n",
       "      <td>52</td>\n",
       "      <td>Self-emp-inc</td>\n",
       "      <td>287927</td>\n",
       "      <td>HS-grad</td>\n",
       "      <td>9</td>\n",
       "      <td>Married-civ-spouse</td>\n",
       "      <td>Exec-managerial</td>\n",
       "      <td>Wife</td>\n",
       "      <td>White</td>\n",
       "      <td>Female</td>\n",
       "      <td>15024</td>\n",
       "      <td>0</td>\n",
       "      <td>40</td>\n",
       "      <td>United-States</td>\n",
       "    </tr>\n",
       "  </tbody>\n",
       "</table>\n",
       "<p>32561 rows × 14 columns</p>\n",
       "</div>"
      ],
      "text/plain": [
       "       age          workclass  fnlwgt    education  education_num  \\\n",
       "0       39          State-gov   77516    Bachelors             13   \n",
       "1       50   Self-emp-not-inc   83311    Bachelors             13   \n",
       "2       38            Private  215646      HS-grad              9   \n",
       "3       53            Private  234721         11th              7   \n",
       "4       28            Private  338409    Bachelors             13   \n",
       "...    ...                ...     ...          ...            ...   \n",
       "32556   27            Private  257302   Assoc-acdm             12   \n",
       "32557   40            Private  154374      HS-grad              9   \n",
       "32558   58            Private  151910      HS-grad              9   \n",
       "32559   22            Private  201490      HS-grad              9   \n",
       "32560   52       Self-emp-inc  287927      HS-grad              9   \n",
       "\n",
       "            marital_status          occupation    relationship    race  \\\n",
       "0            Never-married        Adm-clerical   Not-in-family   White   \n",
       "1       Married-civ-spouse     Exec-managerial         Husband   White   \n",
       "2                 Divorced   Handlers-cleaners   Not-in-family   White   \n",
       "3       Married-civ-spouse   Handlers-cleaners         Husband   Black   \n",
       "4       Married-civ-spouse      Prof-specialty            Wife   Black   \n",
       "...                    ...                 ...             ...     ...   \n",
       "32556   Married-civ-spouse        Tech-support            Wife   White   \n",
       "32557   Married-civ-spouse   Machine-op-inspct         Husband   White   \n",
       "32558              Widowed        Adm-clerical       Unmarried   White   \n",
       "32559        Never-married        Adm-clerical       Own-child   White   \n",
       "32560   Married-civ-spouse     Exec-managerial            Wife   White   \n",
       "\n",
       "           sex  capital-gain  capital-loss  hours-per-week  native-country  \n",
       "0         Male          2174             0              40   United-States  \n",
       "1         Male             0             0              13   United-States  \n",
       "2         Male             0             0              40   United-States  \n",
       "3         Male             0             0              40   United-States  \n",
       "4       Female             0             0              40            Cuba  \n",
       "...        ...           ...           ...             ...             ...  \n",
       "32556   Female             0             0              38   United-States  \n",
       "32557     Male             0             0              40   United-States  \n",
       "32558   Female             0             0              40   United-States  \n",
       "32559     Male             0             0              20   United-States  \n",
       "32560   Female         15024             0              40   United-States  \n",
       "\n",
       "[32561 rows x 14 columns]"
      ]
     },
     "execution_count": 39,
     "metadata": {},
     "output_type": "execute_result"
    }
   ],
   "source": [
    "x"
   ]
  },
  {
   "cell_type": "code",
   "execution_count": 40,
   "id": "4df0214f",
   "metadata": {
    "ExecuteTime": {
     "end_time": "2022-03-17T08:05:08.983352Z",
     "start_time": "2022-03-17T08:05:08.966431Z"
    }
   },
   "outputs": [
    {
     "data": {
      "text/plain": [
       "(32561, 14)"
      ]
     },
     "execution_count": 40,
     "metadata": {},
     "output_type": "execute_result"
    }
   ],
   "source": [
    "x.shape # 14개 column"
   ]
  },
  {
   "cell_type": "code",
   "execution_count": 42,
   "id": "b88520da",
   "metadata": {
    "ExecuteTime": {
     "end_time": "2022-03-17T08:05:13.915130Z",
     "start_time": "2022-03-17T08:05:13.879226Z"
    }
   },
   "outputs": [
    {
     "data": {
      "text/html": [
       "<div>\n",
       "<style scoped>\n",
       "    .dataframe tbody tr th:only-of-type {\n",
       "        vertical-align: middle;\n",
       "    }\n",
       "\n",
       "    .dataframe tbody tr th {\n",
       "        vertical-align: top;\n",
       "    }\n",
       "\n",
       "    .dataframe thead th {\n",
       "        text-align: right;\n",
       "    }\n",
       "</style>\n",
       "<table border=\"1\" class=\"dataframe\">\n",
       "  <thead>\n",
       "    <tr style=\"text-align: right;\">\n",
       "      <th></th>\n",
       "      <th>age</th>\n",
       "      <th>fnlwgt</th>\n",
       "      <th>education_num</th>\n",
       "      <th>capital-gain</th>\n",
       "      <th>capital-loss</th>\n",
       "      <th>hours-per-week</th>\n",
       "      <th>workclass_ ?</th>\n",
       "      <th>workclass_ Federal-gov</th>\n",
       "      <th>workclass_ Local-gov</th>\n",
       "      <th>workclass_ Never-worked</th>\n",
       "      <th>...</th>\n",
       "      <th>native-country_ Portugal</th>\n",
       "      <th>native-country_ Puerto-Rico</th>\n",
       "      <th>native-country_ Scotland</th>\n",
       "      <th>native-country_ South</th>\n",
       "      <th>native-country_ Taiwan</th>\n",
       "      <th>native-country_ Thailand</th>\n",
       "      <th>native-country_ Trinadad&amp;Tobago</th>\n",
       "      <th>native-country_ United-States</th>\n",
       "      <th>native-country_ Vietnam</th>\n",
       "      <th>native-country_ Yugoslavia</th>\n",
       "    </tr>\n",
       "  </thead>\n",
       "  <tbody>\n",
       "    <tr>\n",
       "      <th>0</th>\n",
       "      <td>39</td>\n",
       "      <td>77516</td>\n",
       "      <td>13</td>\n",
       "      <td>2174</td>\n",
       "      <td>0</td>\n",
       "      <td>40</td>\n",
       "      <td>0</td>\n",
       "      <td>0</td>\n",
       "      <td>0</td>\n",
       "      <td>0</td>\n",
       "      <td>...</td>\n",
       "      <td>0</td>\n",
       "      <td>0</td>\n",
       "      <td>0</td>\n",
       "      <td>0</td>\n",
       "      <td>0</td>\n",
       "      <td>0</td>\n",
       "      <td>0</td>\n",
       "      <td>1</td>\n",
       "      <td>0</td>\n",
       "      <td>0</td>\n",
       "    </tr>\n",
       "    <tr>\n",
       "      <th>1</th>\n",
       "      <td>50</td>\n",
       "      <td>83311</td>\n",
       "      <td>13</td>\n",
       "      <td>0</td>\n",
       "      <td>0</td>\n",
       "      <td>13</td>\n",
       "      <td>0</td>\n",
       "      <td>0</td>\n",
       "      <td>0</td>\n",
       "      <td>0</td>\n",
       "      <td>...</td>\n",
       "      <td>0</td>\n",
       "      <td>0</td>\n",
       "      <td>0</td>\n",
       "      <td>0</td>\n",
       "      <td>0</td>\n",
       "      <td>0</td>\n",
       "      <td>0</td>\n",
       "      <td>1</td>\n",
       "      <td>0</td>\n",
       "      <td>0</td>\n",
       "    </tr>\n",
       "    <tr>\n",
       "      <th>2</th>\n",
       "      <td>38</td>\n",
       "      <td>215646</td>\n",
       "      <td>9</td>\n",
       "      <td>0</td>\n",
       "      <td>0</td>\n",
       "      <td>40</td>\n",
       "      <td>0</td>\n",
       "      <td>0</td>\n",
       "      <td>0</td>\n",
       "      <td>0</td>\n",
       "      <td>...</td>\n",
       "      <td>0</td>\n",
       "      <td>0</td>\n",
       "      <td>0</td>\n",
       "      <td>0</td>\n",
       "      <td>0</td>\n",
       "      <td>0</td>\n",
       "      <td>0</td>\n",
       "      <td>1</td>\n",
       "      <td>0</td>\n",
       "      <td>0</td>\n",
       "    </tr>\n",
       "    <tr>\n",
       "      <th>3</th>\n",
       "      <td>53</td>\n",
       "      <td>234721</td>\n",
       "      <td>7</td>\n",
       "      <td>0</td>\n",
       "      <td>0</td>\n",
       "      <td>40</td>\n",
       "      <td>0</td>\n",
       "      <td>0</td>\n",
       "      <td>0</td>\n",
       "      <td>0</td>\n",
       "      <td>...</td>\n",
       "      <td>0</td>\n",
       "      <td>0</td>\n",
       "      <td>0</td>\n",
       "      <td>0</td>\n",
       "      <td>0</td>\n",
       "      <td>0</td>\n",
       "      <td>0</td>\n",
       "      <td>1</td>\n",
       "      <td>0</td>\n",
       "      <td>0</td>\n",
       "    </tr>\n",
       "    <tr>\n",
       "      <th>4</th>\n",
       "      <td>28</td>\n",
       "      <td>338409</td>\n",
       "      <td>13</td>\n",
       "      <td>0</td>\n",
       "      <td>0</td>\n",
       "      <td>40</td>\n",
       "      <td>0</td>\n",
       "      <td>0</td>\n",
       "      <td>0</td>\n",
       "      <td>0</td>\n",
       "      <td>...</td>\n",
       "      <td>0</td>\n",
       "      <td>0</td>\n",
       "      <td>0</td>\n",
       "      <td>0</td>\n",
       "      <td>0</td>\n",
       "      <td>0</td>\n",
       "      <td>0</td>\n",
       "      <td>0</td>\n",
       "      <td>0</td>\n",
       "      <td>0</td>\n",
       "    </tr>\n",
       "    <tr>\n",
       "      <th>...</th>\n",
       "      <td>...</td>\n",
       "      <td>...</td>\n",
       "      <td>...</td>\n",
       "      <td>...</td>\n",
       "      <td>...</td>\n",
       "      <td>...</td>\n",
       "      <td>...</td>\n",
       "      <td>...</td>\n",
       "      <td>...</td>\n",
       "      <td>...</td>\n",
       "      <td>...</td>\n",
       "      <td>...</td>\n",
       "      <td>...</td>\n",
       "      <td>...</td>\n",
       "      <td>...</td>\n",
       "      <td>...</td>\n",
       "      <td>...</td>\n",
       "      <td>...</td>\n",
       "      <td>...</td>\n",
       "      <td>...</td>\n",
       "      <td>...</td>\n",
       "    </tr>\n",
       "    <tr>\n",
       "      <th>32556</th>\n",
       "      <td>27</td>\n",
       "      <td>257302</td>\n",
       "      <td>12</td>\n",
       "      <td>0</td>\n",
       "      <td>0</td>\n",
       "      <td>38</td>\n",
       "      <td>0</td>\n",
       "      <td>0</td>\n",
       "      <td>0</td>\n",
       "      <td>0</td>\n",
       "      <td>...</td>\n",
       "      <td>0</td>\n",
       "      <td>0</td>\n",
       "      <td>0</td>\n",
       "      <td>0</td>\n",
       "      <td>0</td>\n",
       "      <td>0</td>\n",
       "      <td>0</td>\n",
       "      <td>1</td>\n",
       "      <td>0</td>\n",
       "      <td>0</td>\n",
       "    </tr>\n",
       "    <tr>\n",
       "      <th>32557</th>\n",
       "      <td>40</td>\n",
       "      <td>154374</td>\n",
       "      <td>9</td>\n",
       "      <td>0</td>\n",
       "      <td>0</td>\n",
       "      <td>40</td>\n",
       "      <td>0</td>\n",
       "      <td>0</td>\n",
       "      <td>0</td>\n",
       "      <td>0</td>\n",
       "      <td>...</td>\n",
       "      <td>0</td>\n",
       "      <td>0</td>\n",
       "      <td>0</td>\n",
       "      <td>0</td>\n",
       "      <td>0</td>\n",
       "      <td>0</td>\n",
       "      <td>0</td>\n",
       "      <td>1</td>\n",
       "      <td>0</td>\n",
       "      <td>0</td>\n",
       "    </tr>\n",
       "    <tr>\n",
       "      <th>32558</th>\n",
       "      <td>58</td>\n",
       "      <td>151910</td>\n",
       "      <td>9</td>\n",
       "      <td>0</td>\n",
       "      <td>0</td>\n",
       "      <td>40</td>\n",
       "      <td>0</td>\n",
       "      <td>0</td>\n",
       "      <td>0</td>\n",
       "      <td>0</td>\n",
       "      <td>...</td>\n",
       "      <td>0</td>\n",
       "      <td>0</td>\n",
       "      <td>0</td>\n",
       "      <td>0</td>\n",
       "      <td>0</td>\n",
       "      <td>0</td>\n",
       "      <td>0</td>\n",
       "      <td>1</td>\n",
       "      <td>0</td>\n",
       "      <td>0</td>\n",
       "    </tr>\n",
       "    <tr>\n",
       "      <th>32559</th>\n",
       "      <td>22</td>\n",
       "      <td>201490</td>\n",
       "      <td>9</td>\n",
       "      <td>0</td>\n",
       "      <td>0</td>\n",
       "      <td>20</td>\n",
       "      <td>0</td>\n",
       "      <td>0</td>\n",
       "      <td>0</td>\n",
       "      <td>0</td>\n",
       "      <td>...</td>\n",
       "      <td>0</td>\n",
       "      <td>0</td>\n",
       "      <td>0</td>\n",
       "      <td>0</td>\n",
       "      <td>0</td>\n",
       "      <td>0</td>\n",
       "      <td>0</td>\n",
       "      <td>1</td>\n",
       "      <td>0</td>\n",
       "      <td>0</td>\n",
       "    </tr>\n",
       "    <tr>\n",
       "      <th>32560</th>\n",
       "      <td>52</td>\n",
       "      <td>287927</td>\n",
       "      <td>9</td>\n",
       "      <td>15024</td>\n",
       "      <td>0</td>\n",
       "      <td>40</td>\n",
       "      <td>0</td>\n",
       "      <td>0</td>\n",
       "      <td>0</td>\n",
       "      <td>0</td>\n",
       "      <td>...</td>\n",
       "      <td>0</td>\n",
       "      <td>0</td>\n",
       "      <td>0</td>\n",
       "      <td>0</td>\n",
       "      <td>0</td>\n",
       "      <td>0</td>\n",
       "      <td>0</td>\n",
       "      <td>1</td>\n",
       "      <td>0</td>\n",
       "      <td>0</td>\n",
       "    </tr>\n",
       "  </tbody>\n",
       "</table>\n",
       "<p>32561 rows × 108 columns</p>\n",
       "</div>"
      ],
      "text/plain": [
       "       age  fnlwgt  education_num  capital-gain  capital-loss  hours-per-week  \\\n",
       "0       39   77516             13          2174             0              40   \n",
       "1       50   83311             13             0             0              13   \n",
       "2       38  215646              9             0             0              40   \n",
       "3       53  234721              7             0             0              40   \n",
       "4       28  338409             13             0             0              40   \n",
       "...    ...     ...            ...           ...           ...             ...   \n",
       "32556   27  257302             12             0             0              38   \n",
       "32557   40  154374              9             0             0              40   \n",
       "32558   58  151910              9             0             0              40   \n",
       "32559   22  201490              9             0             0              20   \n",
       "32560   52  287927              9         15024             0              40   \n",
       "\n",
       "       workclass_ ?  workclass_ Federal-gov  workclass_ Local-gov  \\\n",
       "0                 0                       0                     0   \n",
       "1                 0                       0                     0   \n",
       "2                 0                       0                     0   \n",
       "3                 0                       0                     0   \n",
       "4                 0                       0                     0   \n",
       "...             ...                     ...                   ...   \n",
       "32556             0                       0                     0   \n",
       "32557             0                       0                     0   \n",
       "32558             0                       0                     0   \n",
       "32559             0                       0                     0   \n",
       "32560             0                       0                     0   \n",
       "\n",
       "       workclass_ Never-worked  ...  native-country_ Portugal  \\\n",
       "0                            0  ...                         0   \n",
       "1                            0  ...                         0   \n",
       "2                            0  ...                         0   \n",
       "3                            0  ...                         0   \n",
       "4                            0  ...                         0   \n",
       "...                        ...  ...                       ...   \n",
       "32556                        0  ...                         0   \n",
       "32557                        0  ...                         0   \n",
       "32558                        0  ...                         0   \n",
       "32559                        0  ...                         0   \n",
       "32560                        0  ...                         0   \n",
       "\n",
       "       native-country_ Puerto-Rico  native-country_ Scotland  \\\n",
       "0                                0                         0   \n",
       "1                                0                         0   \n",
       "2                                0                         0   \n",
       "3                                0                         0   \n",
       "4                                0                         0   \n",
       "...                            ...                       ...   \n",
       "32556                            0                         0   \n",
       "32557                            0                         0   \n",
       "32558                            0                         0   \n",
       "32559                            0                         0   \n",
       "32560                            0                         0   \n",
       "\n",
       "       native-country_ South  native-country_ Taiwan  \\\n",
       "0                          0                       0   \n",
       "1                          0                       0   \n",
       "2                          0                       0   \n",
       "3                          0                       0   \n",
       "4                          0                       0   \n",
       "...                      ...                     ...   \n",
       "32556                      0                       0   \n",
       "32557                      0                       0   \n",
       "32558                      0                       0   \n",
       "32559                      0                       0   \n",
       "32560                      0                       0   \n",
       "\n",
       "       native-country_ Thailand  native-country_ Trinadad&Tobago  \\\n",
       "0                             0                                0   \n",
       "1                             0                                0   \n",
       "2                             0                                0   \n",
       "3                             0                                0   \n",
       "4                             0                                0   \n",
       "...                         ...                              ...   \n",
       "32556                         0                                0   \n",
       "32557                         0                                0   \n",
       "32558                         0                                0   \n",
       "32559                         0                                0   \n",
       "32560                         0                                0   \n",
       "\n",
       "       native-country_ United-States  native-country_ Vietnam  \\\n",
       "0                                  1                        0   \n",
       "1                                  1                        0   \n",
       "2                                  1                        0   \n",
       "3                                  1                        0   \n",
       "4                                  0                        0   \n",
       "...                              ...                      ...   \n",
       "32556                              1                        0   \n",
       "32557                              1                        0   \n",
       "32558                              1                        0   \n",
       "32559                              1                        0   \n",
       "32560                              1                        0   \n",
       "\n",
       "       native-country_ Yugoslavia  \n",
       "0                               0  \n",
       "1                               0  \n",
       "2                               0  \n",
       "3                               0  \n",
       "4                               0  \n",
       "...                           ...  \n",
       "32556                           0  \n",
       "32557                           0  \n",
       "32558                           0  \n",
       "32559                           0  \n",
       "32560                           0  \n",
       "\n",
       "[32561 rows x 108 columns]"
      ]
     },
     "execution_count": 42,
     "metadata": {},
     "output_type": "execute_result"
    }
   ],
   "source": [
    "# 문자열을 one-hot벡터로 변경\n",
    "\n",
    "x = pd.get_dummies(x)\n",
    "x"
   ]
  },
  {
   "cell_type": "code",
   "execution_count": 22,
   "id": "b21411a9",
   "metadata": {
    "ExecuteTime": {
     "end_time": "2022-03-17T07:53:43.024218Z",
     "start_time": "2022-03-17T07:53:43.012250Z"
    }
   },
   "outputs": [
    {
     "data": {
      "text/plain": [
       "array([[1., 0.],\n",
       "       [1., 0.],\n",
       "       [1., 0.],\n",
       "       ...,\n",
       "       [1., 0.],\n",
       "       [1., 0.],\n",
       "       [0., 1.]], dtype=float32)"
      ]
     },
     "execution_count": 22,
     "metadata": {},
     "output_type": "execute_result"
    }
   ],
   "source": [
    "# binary 지만 다른 카테고리도 가능\n",
    "y_oh = tf.keras.utils.to_categorical(y)\n",
    "y_oh"
   ]
  },
  {
   "cell_type": "code",
   "execution_count": null,
   "id": "94f3d0a5",
   "metadata": {},
   "outputs": [],
   "source": []
  },
  {
   "cell_type": "code",
   "execution_count": 23,
   "id": "9aab9a6b",
   "metadata": {
    "ExecuteTime": {
     "end_time": "2022-03-17T07:53:43.810145Z",
     "start_time": "2022-03-17T07:53:43.684454Z"
    }
   },
   "outputs": [],
   "source": [
    "from sklearn.model_selection import train_test_split\n",
    "x_train, x_test, y_train, y_test = train_test_split(x,y_oh, test_size=0.3, random_state=111)"
   ]
  },
  {
   "cell_type": "code",
   "execution_count": 24,
   "id": "9429c0a9",
   "metadata": {
    "ExecuteTime": {
     "end_time": "2022-03-17T07:53:44.519251Z",
     "start_time": "2022-03-17T07:53:44.436444Z"
    }
   },
   "outputs": [],
   "source": [
    "# scaler 사용\n",
    "from sklearn.preprocessing import StandardScaler\n",
    "\n",
    "scaler = StandardScaler()\n",
    "\n",
    "scaler.fit(x_train)\n",
    "\n",
    "x_train_sc = scaler.transform(x_train)\n",
    "x_test_sc = scaler.transform(x_test)"
   ]
  },
  {
   "cell_type": "code",
   "execution_count": null,
   "id": "31bbe062",
   "metadata": {},
   "outputs": [],
   "source": []
  },
  {
   "cell_type": "code",
   "execution_count": 25,
   "id": "c9672280",
   "metadata": {
    "ExecuteTime": {
     "end_time": "2022-03-17T07:53:45.883604Z",
     "start_time": "2022-03-17T07:53:45.876596Z"
    }
   },
   "outputs": [
    {
     "data": {
      "text/plain": [
       "(22792, 108)"
      ]
     },
     "execution_count": 25,
     "metadata": {},
     "output_type": "execute_result"
    }
   ],
   "source": [
    "x_train.shape"
   ]
  },
  {
   "cell_type": "code",
   "execution_count": 27,
   "id": "97f88dd6",
   "metadata": {
    "ExecuteTime": {
     "end_time": "2022-03-17T07:54:00.123523Z",
     "start_time": "2022-03-17T07:54:00.068669Z"
    }
   },
   "outputs": [
    {
     "name": "stdout",
     "output_type": "stream",
     "text": [
      "Model: \"sequential_1\"\n",
      "_________________________________________________________________\n",
      " Layer (type)                Output Shape              Param #   \n",
      "=================================================================\n",
      " dense_5 (Dense)             (None, 256)               27904     \n",
      "                                                                 \n",
      " dropout_4 (Dropout)         (None, 256)               0         \n",
      "                                                                 \n",
      " dense_6 (Dense)             (None, 128)               32896     \n",
      "                                                                 \n",
      " dropout_5 (Dropout)         (None, 128)               0         \n",
      "                                                                 \n",
      " dense_7 (Dense)             (None, 56)                7224      \n",
      "                                                                 \n",
      " dropout_6 (Dropout)         (None, 56)                0         \n",
      "                                                                 \n",
      " dense_8 (Dense)             (None, 28)                1596      \n",
      "                                                                 \n",
      " dropout_7 (Dropout)         (None, 28)                0         \n",
      "                                                                 \n",
      " dense_9 (Dense)             (None, 2)                 58        \n",
      "                                                                 \n",
      "=================================================================\n",
      "Total params: 69,678\n",
      "Trainable params: 69,678\n",
      "Non-trainable params: 0\n",
      "_________________________________________________________________\n"
     ]
    }
   ],
   "source": [
    "model = Sequential()\n",
    "model.add(Dense(256, activation='relu', input_dim=108))\n",
    "model.add(Dropout(0.3))\n",
    "model.add(Dense(128, activation='relu'))\n",
    "model.add(Dropout(0.3))\n",
    "model.add(Dense(56, activation='relu'))\n",
    "model.add(Dropout(0.3))\n",
    "model.add(Dense(28, activation='relu'))\n",
    "model.add(Dropout(0.3))\n",
    "model.add(Dense(2, activation='softmax'))  # multi_classification\n",
    "model.summary()"
   ]
  },
  {
   "cell_type": "code",
   "execution_count": 28,
   "id": "864ace90",
   "metadata": {
    "ExecuteTime": {
     "end_time": "2022-03-17T07:54:00.834741Z",
     "start_time": "2022-03-17T07:54:00.820763Z"
    }
   },
   "outputs": [],
   "source": [
    "model.compile(loss='binary_crossentropy', metrics=['accuracy'], optimizer='adam')"
   ]
  },
  {
   "cell_type": "code",
   "execution_count": 29,
   "id": "28bc8911",
   "metadata": {
    "ExecuteTime": {
     "end_time": "2022-03-17T08:01:40.111100Z",
     "start_time": "2022-03-17T07:54:04.659505Z"
    }
   },
   "outputs": [
    {
     "name": "stdout",
     "output_type": "stream",
     "text": [
      "Epoch 1/100\n",
      "912/912 [==============================] - 6s 5ms/step - loss: 0.3901 - accuracy: 0.8207 - val_loss: 0.3197 - val_accuracy: 0.8484\n",
      "Epoch 2/100\n",
      "912/912 [==============================] - 4s 5ms/step - loss: 0.3425 - accuracy: 0.8446 - val_loss: 0.3129 - val_accuracy: 0.8550\n",
      "Epoch 3/100\n",
      "912/912 [==============================] - 4s 5ms/step - loss: 0.3312 - accuracy: 0.8498 - val_loss: 0.3096 - val_accuracy: 0.8541\n",
      "Epoch 4/100\n",
      "912/912 [==============================] - 4s 5ms/step - loss: 0.3283 - accuracy: 0.8503 - val_loss: 0.3105 - val_accuracy: 0.8585\n",
      "Epoch 5/100\n",
      "912/912 [==============================] - 5s 5ms/step - loss: 0.3162 - accuracy: 0.8545 - val_loss: 0.3058 - val_accuracy: 0.8557\n",
      "Epoch 6/100\n",
      "912/912 [==============================] - 4s 5ms/step - loss: 0.3163 - accuracy: 0.8557 - val_loss: 0.3032 - val_accuracy: 0.8585\n",
      "Epoch 7/100\n",
      "912/912 [==============================] - 5s 5ms/step - loss: 0.3136 - accuracy: 0.8583 - val_loss: 0.3013 - val_accuracy: 0.8585\n",
      "Epoch 8/100\n",
      "912/912 [==============================] - 5s 5ms/step - loss: 0.3098 - accuracy: 0.8582 - val_loss: 0.3066 - val_accuracy: 0.8546\n",
      "Epoch 9/100\n",
      "912/912 [==============================] - 5s 5ms/step - loss: 0.3049 - accuracy: 0.8573 - val_loss: 0.3082 - val_accuracy: 0.8533\n",
      "Epoch 10/100\n",
      "912/912 [==============================] - 4s 5ms/step - loss: 0.3044 - accuracy: 0.8594 - val_loss: 0.3019 - val_accuracy: 0.8601\n",
      "Epoch 11/100\n",
      "912/912 [==============================] - 4s 5ms/step - loss: 0.3000 - accuracy: 0.8635 - val_loss: 0.3042 - val_accuracy: 0.8572\n",
      "Epoch 12/100\n",
      "912/912 [==============================] - 4s 5ms/step - loss: 0.2980 - accuracy: 0.8618 - val_loss: 0.3040 - val_accuracy: 0.8616\n",
      "Epoch 13/100\n",
      "912/912 [==============================] - 4s 5ms/step - loss: 0.2964 - accuracy: 0.8624 - val_loss: 0.3083 - val_accuracy: 0.8581\n",
      "Epoch 14/100\n",
      "912/912 [==============================] - 4s 5ms/step - loss: 0.2931 - accuracy: 0.8649 - val_loss: 0.3160 - val_accuracy: 0.8623\n",
      "Epoch 15/100\n",
      "912/912 [==============================] - 4s 5ms/step - loss: 0.2890 - accuracy: 0.8678 - val_loss: 0.3069 - val_accuracy: 0.8563\n",
      "Epoch 16/100\n",
      "912/912 [==============================] - 4s 5ms/step - loss: 0.2923 - accuracy: 0.8654 - val_loss: 0.3110 - val_accuracy: 0.8568\n",
      "Epoch 17/100\n",
      "912/912 [==============================] - 4s 5ms/step - loss: 0.2876 - accuracy: 0.8668 - val_loss: 0.3082 - val_accuracy: 0.8568\n",
      "Epoch 18/100\n",
      "912/912 [==============================] - 4s 5ms/step - loss: 0.2834 - accuracy: 0.8697 - val_loss: 0.3152 - val_accuracy: 0.8563\n",
      "Epoch 19/100\n",
      "912/912 [==============================] - 4s 5ms/step - loss: 0.2841 - accuracy: 0.8683 - val_loss: 0.3096 - val_accuracy: 0.8561\n",
      "Epoch 20/100\n",
      "912/912 [==============================] - 5s 5ms/step - loss: 0.2800 - accuracy: 0.8706 - val_loss: 0.3101 - val_accuracy: 0.8579\n",
      "Epoch 21/100\n",
      "912/912 [==============================] - 5s 5ms/step - loss: 0.2787 - accuracy: 0.8673 - val_loss: 0.3202 - val_accuracy: 0.8550\n",
      "Epoch 22/100\n",
      "912/912 [==============================] - 5s 5ms/step - loss: 0.2763 - accuracy: 0.8717 - val_loss: 0.3189 - val_accuracy: 0.8594\n",
      "Epoch 23/100\n",
      "912/912 [==============================] - 5s 5ms/step - loss: 0.2752 - accuracy: 0.8719 - val_loss: 0.3224 - val_accuracy: 0.8530\n",
      "Epoch 24/100\n",
      "912/912 [==============================] - 4s 5ms/step - loss: 0.2750 - accuracy: 0.8713 - val_loss: 0.3224 - val_accuracy: 0.8530\n",
      "Epoch 25/100\n",
      "912/912 [==============================] - 5s 5ms/step - loss: 0.2713 - accuracy: 0.8722 - val_loss: 0.3299 - val_accuracy: 0.8557\n",
      "Epoch 26/100\n",
      "912/912 [==============================] - 5s 5ms/step - loss: 0.2711 - accuracy: 0.8728 - val_loss: 0.3440 - val_accuracy: 0.8548\n",
      "Epoch 27/100\n",
      "912/912 [==============================] - 5s 5ms/step - loss: 0.2658 - accuracy: 0.8770 - val_loss: 0.3455 - val_accuracy: 0.8555\n",
      "Epoch 28/100\n",
      "912/912 [==============================] - 5s 5ms/step - loss: 0.2685 - accuracy: 0.8763 - val_loss: 0.3463 - val_accuracy: 0.8544\n",
      "Epoch 29/100\n",
      "912/912 [==============================] - 5s 5ms/step - loss: 0.2678 - accuracy: 0.8747 - val_loss: 0.3475 - val_accuracy: 0.8519\n",
      "Epoch 30/100\n",
      "912/912 [==============================] - 5s 5ms/step - loss: 0.2630 - accuracy: 0.8770 - val_loss: 0.3366 - val_accuracy: 0.8487\n",
      "Epoch 31/100\n",
      "912/912 [==============================] - 5s 5ms/step - loss: 0.2619 - accuracy: 0.8756 - val_loss: 0.3436 - val_accuracy: 0.8500\n",
      "Epoch 32/100\n",
      "912/912 [==============================] - 4s 5ms/step - loss: 0.2611 - accuracy: 0.8802 - val_loss: 0.3393 - val_accuracy: 0.8511\n",
      "Epoch 33/100\n",
      "912/912 [==============================] - 4s 5ms/step - loss: 0.2601 - accuracy: 0.8787 - val_loss: 0.3549 - val_accuracy: 0.8530\n",
      "Epoch 34/100\n",
      "912/912 [==============================] - 4s 5ms/step - loss: 0.2589 - accuracy: 0.8807 - val_loss: 0.3801 - val_accuracy: 0.8524\n",
      "Epoch 35/100\n",
      "912/912 [==============================] - 4s 5ms/step - loss: 0.2565 - accuracy: 0.8798 - val_loss: 0.3591 - val_accuracy: 0.8495\n",
      "Epoch 36/100\n",
      "912/912 [==============================] - 4s 5ms/step - loss: 0.2556 - accuracy: 0.8798 - val_loss: 0.3519 - val_accuracy: 0.8539\n",
      "Epoch 37/100\n",
      "912/912 [==============================] - 4s 5ms/step - loss: 0.2564 - accuracy: 0.8764 - val_loss: 0.3642 - val_accuracy: 0.8528\n",
      "Epoch 38/100\n",
      "912/912 [==============================] - 4s 4ms/step - loss: 0.2552 - accuracy: 0.8799 - val_loss: 0.3719 - val_accuracy: 0.8524\n",
      "Epoch 39/100\n",
      "912/912 [==============================] - 4s 5ms/step - loss: 0.2473 - accuracy: 0.8832 - val_loss: 0.3431 - val_accuracy: 0.8524\n",
      "Epoch 40/100\n",
      "912/912 [==============================] - 4s 5ms/step - loss: 0.2519 - accuracy: 0.8798 - val_loss: 0.3856 - val_accuracy: 0.8537\n",
      "Epoch 41/100\n",
      "912/912 [==============================] - 4s 5ms/step - loss: 0.2513 - accuracy: 0.8815 - val_loss: 0.3871 - val_accuracy: 0.8511\n",
      "Epoch 42/100\n",
      "912/912 [==============================] - 4s 4ms/step - loss: 0.2471 - accuracy: 0.8834 - val_loss: 0.4015 - val_accuracy: 0.8537\n",
      "Epoch 43/100\n",
      "912/912 [==============================] - 4s 5ms/step - loss: 0.2478 - accuracy: 0.8833 - val_loss: 0.3770 - val_accuracy: 0.8478\n",
      "Epoch 44/100\n",
      "912/912 [==============================] - 4s 5ms/step - loss: 0.2465 - accuracy: 0.8836 - val_loss: 0.3551 - val_accuracy: 0.8535\n",
      "Epoch 45/100\n",
      "912/912 [==============================] - 5s 5ms/step - loss: 0.2434 - accuracy: 0.8841 - val_loss: 0.3787 - val_accuracy: 0.8497\n",
      "Epoch 46/100\n",
      "912/912 [==============================] - 5s 5ms/step - loss: 0.2423 - accuracy: 0.8860 - val_loss: 0.4162 - val_accuracy: 0.8506\n",
      "Epoch 47/100\n",
      "912/912 [==============================] - 5s 5ms/step - loss: 0.2439 - accuracy: 0.8857 - val_loss: 0.3804 - val_accuracy: 0.8544\n",
      "Epoch 48/100\n",
      "912/912 [==============================] - 5s 5ms/step - loss: 0.2408 - accuracy: 0.8863 - val_loss: 0.3701 - val_accuracy: 0.8495\n",
      "Epoch 49/100\n",
      "912/912 [==============================] - 5s 5ms/step - loss: 0.2415 - accuracy: 0.8863 - val_loss: 0.3765 - val_accuracy: 0.8491\n",
      "Epoch 50/100\n",
      "912/912 [==============================] - 5s 5ms/step - loss: 0.2378 - accuracy: 0.8898 - val_loss: 0.3801 - val_accuracy: 0.8506\n",
      "Epoch 51/100\n",
      "912/912 [==============================] - 5s 5ms/step - loss: 0.2385 - accuracy: 0.8880 - val_loss: 0.3954 - val_accuracy: 0.8504\n",
      "Epoch 52/100\n",
      "912/912 [==============================] - 5s 5ms/step - loss: 0.2346 - accuracy: 0.8886 - val_loss: 0.3921 - val_accuracy: 0.8511\n",
      "Epoch 53/100\n",
      "912/912 [==============================] - 5s 5ms/step - loss: 0.2385 - accuracy: 0.8880 - val_loss: 0.4050 - val_accuracy: 0.8482\n",
      "Epoch 54/100\n",
      "912/912 [==============================] - 5s 5ms/step - loss: 0.2392 - accuracy: 0.8894 - val_loss: 0.4013 - val_accuracy: 0.8497\n",
      "Epoch 55/100\n",
      "912/912 [==============================] - 5s 5ms/step - loss: 0.2351 - accuracy: 0.8870 - val_loss: 0.4114 - val_accuracy: 0.8517\n",
      "Epoch 56/100\n",
      "912/912 [==============================] - 5s 5ms/step - loss: 0.2327 - accuracy: 0.8893 - val_loss: 0.3879 - val_accuracy: 0.8491\n",
      "Epoch 57/100\n",
      "912/912 [==============================] - 5s 5ms/step - loss: 0.2335 - accuracy: 0.8892 - val_loss: 0.4033 - val_accuracy: 0.8451\n"
     ]
    },
    {
     "name": "stdout",
     "output_type": "stream",
     "text": [
      "Epoch 58/100\n",
      "912/912 [==============================] - 5s 5ms/step - loss: 0.2332 - accuracy: 0.8898 - val_loss: 0.4630 - val_accuracy: 0.8478\n",
      "Epoch 59/100\n",
      "912/912 [==============================] - 5s 5ms/step - loss: 0.2325 - accuracy: 0.8922 - val_loss: 0.4185 - val_accuracy: 0.8480\n",
      "Epoch 60/100\n",
      "912/912 [==============================] - 5s 5ms/step - loss: 0.2302 - accuracy: 0.8896 - val_loss: 0.4514 - val_accuracy: 0.8476\n",
      "Epoch 61/100\n",
      "912/912 [==============================] - 5s 5ms/step - loss: 0.2312 - accuracy: 0.8904 - val_loss: 0.4131 - val_accuracy: 0.8480\n",
      "Epoch 62/100\n",
      "912/912 [==============================] - 5s 5ms/step - loss: 0.2309 - accuracy: 0.8893 - val_loss: 0.3856 - val_accuracy: 0.8506\n",
      "Epoch 63/100\n",
      "912/912 [==============================] - 5s 5ms/step - loss: 0.2325 - accuracy: 0.8928 - val_loss: 0.3853 - val_accuracy: 0.8495\n",
      "Epoch 64/100\n",
      "912/912 [==============================] - 5s 5ms/step - loss: 0.2278 - accuracy: 0.8924 - val_loss: 0.4085 - val_accuracy: 0.8508\n",
      "Epoch 65/100\n",
      "912/912 [==============================] - 5s 5ms/step - loss: 0.2288 - accuracy: 0.8931 - val_loss: 0.4170 - val_accuracy: 0.8484\n",
      "Epoch 66/100\n",
      "912/912 [==============================] - 5s 5ms/step - loss: 0.2266 - accuracy: 0.8948 - val_loss: 0.4301 - val_accuracy: 0.8465\n",
      "Epoch 67/100\n",
      "912/912 [==============================] - 5s 5ms/step - loss: 0.2299 - accuracy: 0.8916 - val_loss: 0.4133 - val_accuracy: 0.8530\n",
      "Epoch 68/100\n",
      "912/912 [==============================] - 5s 5ms/step - loss: 0.2257 - accuracy: 0.8937 - val_loss: 0.4561 - val_accuracy: 0.8497\n",
      "Epoch 69/100\n",
      "912/912 [==============================] - 5s 5ms/step - loss: 0.2234 - accuracy: 0.8950 - val_loss: 0.4179 - val_accuracy: 0.8467\n",
      "Epoch 70/100\n",
      "912/912 [==============================] - 5s 5ms/step - loss: 0.2265 - accuracy: 0.8944 - val_loss: 0.4069 - val_accuracy: 0.8403\n",
      "Epoch 71/100\n",
      "912/912 [==============================] - 5s 5ms/step - loss: 0.2224 - accuracy: 0.8943 - val_loss: 0.4647 - val_accuracy: 0.8487\n",
      "Epoch 72/100\n",
      "912/912 [==============================] - 4s 5ms/step - loss: 0.2211 - accuracy: 0.8965 - val_loss: 0.4859 - val_accuracy: 0.8451\n",
      "Epoch 73/100\n",
      "912/912 [==============================] - 4s 5ms/step - loss: 0.2194 - accuracy: 0.8966 - val_loss: 0.5077 - val_accuracy: 0.8522\n",
      "Epoch 74/100\n",
      "912/912 [==============================] - 5s 5ms/step - loss: 0.2227 - accuracy: 0.8945 - val_loss: 0.4173 - val_accuracy: 0.8443\n",
      "Epoch 75/100\n",
      "912/912 [==============================] - 5s 5ms/step - loss: 0.2247 - accuracy: 0.8952 - val_loss: 0.4064 - val_accuracy: 0.8458\n",
      "Epoch 76/100\n",
      "912/912 [==============================] - 4s 5ms/step - loss: 0.2152 - accuracy: 0.8972 - val_loss: 0.4358 - val_accuracy: 0.8469\n",
      "Epoch 77/100\n",
      "912/912 [==============================] - 5s 5ms/step - loss: 0.2235 - accuracy: 0.8961 - val_loss: 0.4326 - val_accuracy: 0.8491\n",
      "Epoch 78/100\n",
      "912/912 [==============================] - 5s 5ms/step - loss: 0.2207 - accuracy: 0.8942 - val_loss: 0.4585 - val_accuracy: 0.8489\n",
      "Epoch 79/100\n",
      "912/912 [==============================] - 5s 5ms/step - loss: 0.2163 - accuracy: 0.8986 - val_loss: 0.4721 - val_accuracy: 0.8482\n",
      "Epoch 80/100\n",
      "912/912 [==============================] - 5s 5ms/step - loss: 0.2198 - accuracy: 0.8945 - val_loss: 0.4028 - val_accuracy: 0.8491\n",
      "Epoch 81/100\n",
      "912/912 [==============================] - 5s 5ms/step - loss: 0.2158 - accuracy: 0.8990 - val_loss: 0.4556 - val_accuracy: 0.8427\n",
      "Epoch 82/100\n",
      "912/912 [==============================] - 4s 5ms/step - loss: 0.2177 - accuracy: 0.8991 - val_loss: 0.4479 - val_accuracy: 0.8489\n",
      "Epoch 83/100\n",
      "912/912 [==============================] - 5s 5ms/step - loss: 0.2124 - accuracy: 0.8993 - val_loss: 0.5171 - val_accuracy: 0.8449\n",
      "Epoch 84/100\n",
      "912/912 [==============================] - 5s 5ms/step - loss: 0.2181 - accuracy: 0.8990 - val_loss: 0.5483 - val_accuracy: 0.8487\n",
      "Epoch 85/100\n",
      "912/912 [==============================] - 4s 5ms/step - loss: 0.2112 - accuracy: 0.9011 - val_loss: 0.4933 - val_accuracy: 0.8438\n",
      "Epoch 86/100\n",
      "912/912 [==============================] - 5s 5ms/step - loss: 0.2149 - accuracy: 0.8977 - val_loss: 0.4942 - val_accuracy: 0.8429\n",
      "Epoch 87/100\n",
      "912/912 [==============================] - 4s 5ms/step - loss: 0.2144 - accuracy: 0.8988 - val_loss: 0.5148 - val_accuracy: 0.8390\n",
      "Epoch 88/100\n",
      "912/912 [==============================] - 5s 5ms/step - loss: 0.2172 - accuracy: 0.9030 - val_loss: 0.4707 - val_accuracy: 0.8445\n",
      "Epoch 89/100\n",
      "912/912 [==============================] - 5s 5ms/step - loss: 0.2094 - accuracy: 0.8991 - val_loss: 0.5388 - val_accuracy: 0.8434\n",
      "Epoch 90/100\n",
      "912/912 [==============================] - 5s 5ms/step - loss: 0.2106 - accuracy: 0.9007 - val_loss: 0.4744 - val_accuracy: 0.8469\n",
      "Epoch 91/100\n",
      "912/912 [==============================] - 5s 5ms/step - loss: 0.2129 - accuracy: 0.9002 - val_loss: 0.4781 - val_accuracy: 0.8436\n",
      "Epoch 92/100\n",
      "912/912 [==============================] - 4s 5ms/step - loss: 0.2097 - accuracy: 0.9026 - val_loss: 0.4766 - val_accuracy: 0.8432\n",
      "Epoch 93/100\n",
      "912/912 [==============================] - 5s 5ms/step - loss: 0.2106 - accuracy: 0.9034 - val_loss: 0.5299 - val_accuracy: 0.8434\n",
      "Epoch 94/100\n",
      "912/912 [==============================] - 5s 5ms/step - loss: 0.2128 - accuracy: 0.9011 - val_loss: 0.4886 - val_accuracy: 0.8438\n",
      "Epoch 95/100\n",
      "912/912 [==============================] - 5s 5ms/step - loss: 0.2073 - accuracy: 0.8998 - val_loss: 0.5390 - val_accuracy: 0.8460\n",
      "Epoch 96/100\n",
      "912/912 [==============================] - 5s 5ms/step - loss: 0.2079 - accuracy: 0.9014 - val_loss: 0.5435 - val_accuracy: 0.8454\n",
      "Epoch 97/100\n",
      "912/912 [==============================] - 5s 5ms/step - loss: 0.2135 - accuracy: 0.9025 - val_loss: 0.4947 - val_accuracy: 0.8445\n",
      "Epoch 98/100\n",
      "912/912 [==============================] - 4s 5ms/step - loss: 0.2071 - accuracy: 0.9020 - val_loss: 0.5293 - val_accuracy: 0.8451\n",
      "Epoch 99/100\n",
      "912/912 [==============================] - 4s 5ms/step - loss: 0.2111 - accuracy: 0.9021 - val_loss: 0.5398 - val_accuracy: 0.8484\n",
      "Epoch 100/100\n",
      "912/912 [==============================] - 5s 5ms/step - loss: 0.2080 - accuracy: 0.9036 - val_loss: 0.4980 - val_accuracy: 0.8476\n"
     ]
    }
   ],
   "source": [
    "hist = model.fit(x_train_sc, y_train, validation_split=0.2, epochs=100, batch_size=20)"
   ]
  },
  {
   "cell_type": "code",
   "execution_count": null,
   "id": "d0e75e92",
   "metadata": {},
   "outputs": [],
   "source": []
  },
  {
   "cell_type": "code",
   "execution_count": 33,
   "id": "faada725",
   "metadata": {
    "ExecuteTime": {
     "end_time": "2022-03-17T08:01:50.309873Z",
     "start_time": "2022-03-17T08:01:49.349412Z"
    }
   },
   "outputs": [
    {
     "name": "stdout",
     "output_type": "stream",
     "text": [
      "306/306 [==============================] - 1s 3ms/step - loss: 0.5783 - accuracy: 0.8416\n"
     ]
    },
    {
     "data": {
      "text/plain": [
       "[0.5782514810562134, 0.841641902923584]"
      ]
     },
     "execution_count": 33,
     "metadata": {},
     "output_type": "execute_result"
    }
   ],
   "source": [
    "model.evaluate(x_test_sc, y_test)"
   ]
  },
  {
   "cell_type": "code",
   "execution_count": null,
   "id": "b9fc749f",
   "metadata": {},
   "outputs": [],
   "source": []
  },
  {
   "cell_type": "code",
   "execution_count": 34,
   "id": "a2d8a693",
   "metadata": {
    "ExecuteTime": {
     "end_time": "2022-03-17T08:01:53.542237Z",
     "start_time": "2022-03-17T08:01:53.429509Z"
    }
   },
   "outputs": [
    {
     "data": {
      "text/plain": [
       "[<matplotlib.lines.Line2D at 0x17f08885ac0>]"
      ]
     },
     "execution_count": 34,
     "metadata": {},
     "output_type": "execute_result"
    },
    {
     "data": {
      "image/png": "[encoded data removed]",
      "text/plain": [
       "<Figure size 432x288 with 1 Axes>"
      ]
     },
     "metadata": {
      "needs_background": "light"
     },
     "output_type": "display_data"
    }
   ],
   "source": [
    "plt.plot(hist.history['loss'], c='r')\n",
    "plt.plot(hist.history['val_loss'], c='b')"
   ]
  },
  {
   "cell_type": "code",
   "execution_count": 35,
   "id": "7d6c0160",
   "metadata": {
    "ExecuteTime": {
     "end_time": "2022-03-17T08:01:53.780571Z",
     "start_time": "2022-03-17T08:01:53.700784Z"
    }
   },
   "outputs": [
    {
     "data": {
      "text/plain": [
       "[<matplotlib.lines.Line2D at 0x17f168e93d0>]"
      ]
     },
     "execution_count": 35,
     "metadata": {},
     "output_type": "execute_result"
    },
    {
     "data": {
      "image/png": "[encoded data removed]",
      "text/plain": [
       "<Figure size 432x288 with 1 Axes>"
      ]
     },
     "metadata": {
      "needs_background": "light"
     },
     "output_type": "display_data"
    }
   ],
   "source": [
    "plt.plot(hist.history['accuracy'], c='r')\n",
    "plt.plot(hist.history['val_accuracy'], c='b')"
   ]
  },
  {
   "cell_type": "code",
   "execution_count": null,
   "id": "49bcd9fb",
   "metadata": {},
   "outputs": [],
   "source": []
  },
  {
   "cell_type": "code",
   "execution_count": null,
   "id": "a934f5c9",
   "metadata": {},
   "outputs": [],
   "source": []
  },
  {
   "cell_type": "code",
   "execution_count": null,
   "id": "b2ef6947",
   "metadata": {},
   "outputs": [],
   "source": []
  },
  {
   "cell_type": "code",
   "execution_count": null,
   "id": "06ab1dd6",
   "metadata": {},
   "outputs": [],
   "source": []
  },
  {
   "cell_type": "code",
   "execution_count": null,
   "id": "9ae0bdcf",
   "metadata": {},
   "outputs": [],
   "source": []
  },
  {
   "cell_type": "code",
   "execution_count": null,
   "id": "b629e093",
   "metadata": {},
   "outputs": [],
   "source": []
  },
  {
   "cell_type": "markdown",
   "id": "3fc91160",
   "metadata": {
    "code_folding": []
   },
   "source": [
    "# machine learning 모델과 비교.."
   ]
  },
  {
   "cell_type": "code",
   "execution_count": 36,
   "id": "9cdf9112",
   "metadata": {
    "ExecuteTime": {
     "end_time": "2022-03-17T08:02:08.752588Z",
     "start_time": "2022-03-17T08:02:05.829372Z"
    }
   },
   "outputs": [
    {
     "data": {
      "text/plain": [
       "0.8481932644078206"
      ]
     },
     "execution_count": 36,
     "metadata": {},
     "output_type": "execute_result"
    }
   ],
   "source": [
    "from sklearn.ensemble import RandomForestClassifier\n",
    "rfc = RandomForestClassifier()\n",
    "rfc.fit(x_train, y_train)\n",
    "rfc.score(x_test, y_test)"
   ]
  },
  {
   "cell_type": "code",
   "execution_count": null,
   "id": "5c20b830",
   "metadata": {},
   "outputs": [],
   "source": []
  },
  {
   "cell_type": "code",
   "execution_count": null,
   "id": "5f02bc7e",
   "metadata": {},
   "outputs": [],
   "source": []
  },
  {
   "cell_type": "code",
   "execution_count": null,
   "id": "8a2e37b5",
   "metadata": {},
   "outputs": [],
   "source": []
  }
 ],
 "metadata": {
  "kernelspec": {
   "display_name": "Python 3 (ipykernel)",
   "language": "python",
   "name": "python3"
  },
  "language_info": {
   "codemirror_mode": {
    "name": "ipython",
    "version": 3
   },
   "file_extension": ".py",
   "mimetype": "text/x-python",
   "name": "python",
   "nbconvert_exporter": "python",
   "pygments_lexer": "ipython3",
   "version": "3.9.7"
  },
  "toc": {
   "base_numbering": 1,
   "nav_menu": {},
   "number_sections": true,
   "sideBar": true,
   "skip_h1_title": false,
   "title_cell": "Table of Contents",
   "title_sidebar": "Contents",
   "toc_cell": false,
   "toc_position": {},
   "toc_section_display": true,
   "toc_window_display": false
  },
  "varInspector": {
   "cols": {
    "lenName": 16,
    "lenType": 16,
    "lenVar": 40
   },
   "kernels_config": {
    "python": {
     "delete_cmd_postfix": "",
     "delete_cmd_prefix": "del ",
     "library": "var_list.py",
     "varRefreshCmd": "print(var_dic_list())"
    },
    "r": {
     "delete_cmd_postfix": ") ",
     "delete_cmd_prefix": "rm(",
     "library": "var_list.r",
     "varRefreshCmd": "cat(var_dic_list()) "
    }
   },
   "types_to_exclude": [
    "module",
    "function",
    "builtin_function_or_method",
    "instance",
    "_Feature"
   ],
   "window_display": false
  }
 },
 "nbformat": 4,
 "nbformat_minor": 5
}
