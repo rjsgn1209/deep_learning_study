{
 "cells": [
  {
   "cell_type": "code",
   "execution_count": 5,
   "id": "ff138b7a",
   "metadata": {
    "ExecuteTime": {
     "end_time": "2022-03-17T08:11:42.134271Z",
     "start_time": "2022-03-17T08:11:41.158878Z"
    }
   },
   "outputs": [],
   "source": [
    "import pandas as pd\n",
    "import numpy as np\n",
    "import matplotlib.pyplot as plt\n",
    "import seaborn as sns"
   ]
  },
  {
   "cell_type": "code",
   "execution_count": 6,
   "id": "1b109bb0",
   "metadata": {
    "ExecuteTime": {
     "end_time": "2022-03-17T08:11:44.578099Z",
     "start_time": "2022-03-17T08:11:42.167184Z"
    }
   },
   "outputs": [],
   "source": [
    "from tensorflow.keras.layers import *\n",
    "from tensorflow.keras.models import *\n",
    "import tensorflow as tf"
   ]
  },
  {
   "cell_type": "code",
   "execution_count": 7,
   "id": "8e4e69bf",
   "metadata": {},
   "outputs": [],
   "source": [
    "# !pip install tensorflow"
   ]
  },
  {
   "cell_type": "code",
   "execution_count": null,
   "id": "9e7647d8",
   "metadata": {
    "ExecuteTime": {
     "end_time": "2022-03-17T08:11:56.525536Z",
     "start_time": "2022-03-17T08:11:56.470684Z"
    }
   },
   "outputs": [],
   "source": [
    "df = pd.read_excel('../data/Concrete_Data.xls')\n",
    "df.head()"
   ]
  },
  {
   "cell_type": "code",
   "execution_count": null,
   "id": "b31ab157",
   "metadata": {
    "ExecuteTime": {
     "end_time": "2022-03-17T08:11:57.637556Z",
     "start_time": "2022-03-17T08:11:57.622612Z"
    }
   },
   "outputs": [],
   "source": [
    "df.columns = ['cement','furnace','ash','water','superplasticizer','coarse','fine','age','strength']"
   ]
  },
  {
   "cell_type": "code",
   "execution_count": null,
   "id": "36e3784d",
   "metadata": {
    "ExecuteTime": {
     "end_time": "2022-03-17T08:11:58.139290Z",
     "start_time": "2022-03-17T08:11:58.118346Z"
    }
   },
   "outputs": [],
   "source": [
    "df.info()"
   ]
  },
  {
   "cell_type": "code",
   "execution_count": 7,
   "id": "38c00f57",
   "metadata": {
    "ExecuteTime": {
     "end_time": "2022-03-17T08:11:58.797353Z",
     "start_time": "2022-03-17T08:11:58.773417Z"
    }
   },
   "outputs": [
    {
     "data": {
      "text/html": [
       "<div>\n",
       "<style scoped>\n",
       "    .dataframe tbody tr th:only-of-type {\n",
       "        vertical-align: middle;\n",
       "    }\n",
       "\n",
       "    .dataframe tbody tr th {\n",
       "        vertical-align: top;\n",
       "    }\n",
       "\n",
       "    .dataframe thead th {\n",
       "        text-align: right;\n",
       "    }\n",
       "</style>\n",
       "<table border=\"1\" class=\"dataframe\">\n",
       "  <thead>\n",
       "    <tr style=\"text-align: right;\">\n",
       "      <th></th>\n",
       "      <th>cement</th>\n",
       "      <th>furnace</th>\n",
       "      <th>ash</th>\n",
       "      <th>water</th>\n",
       "      <th>superplasticizer</th>\n",
       "      <th>coarse</th>\n",
       "      <th>fine</th>\n",
       "      <th>age</th>\n",
       "      <th>strength</th>\n",
       "    </tr>\n",
       "  </thead>\n",
       "  <tbody>\n",
       "    <tr>\n",
       "      <th>0</th>\n",
       "      <td>540.0</td>\n",
       "      <td>0.0</td>\n",
       "      <td>0.0</td>\n",
       "      <td>162.0</td>\n",
       "      <td>2.5</td>\n",
       "      <td>1040.0</td>\n",
       "      <td>676.0</td>\n",
       "      <td>28</td>\n",
       "      <td>79.986111</td>\n",
       "    </tr>\n",
       "    <tr>\n",
       "      <th>1</th>\n",
       "      <td>540.0</td>\n",
       "      <td>0.0</td>\n",
       "      <td>0.0</td>\n",
       "      <td>162.0</td>\n",
       "      <td>2.5</td>\n",
       "      <td>1055.0</td>\n",
       "      <td>676.0</td>\n",
       "      <td>28</td>\n",
       "      <td>61.887366</td>\n",
       "    </tr>\n",
       "    <tr>\n",
       "      <th>2</th>\n",
       "      <td>332.5</td>\n",
       "      <td>142.5</td>\n",
       "      <td>0.0</td>\n",
       "      <td>228.0</td>\n",
       "      <td>0.0</td>\n",
       "      <td>932.0</td>\n",
       "      <td>594.0</td>\n",
       "      <td>270</td>\n",
       "      <td>40.269535</td>\n",
       "    </tr>\n",
       "    <tr>\n",
       "      <th>3</th>\n",
       "      <td>332.5</td>\n",
       "      <td>142.5</td>\n",
       "      <td>0.0</td>\n",
       "      <td>228.0</td>\n",
       "      <td>0.0</td>\n",
       "      <td>932.0</td>\n",
       "      <td>594.0</td>\n",
       "      <td>365</td>\n",
       "      <td>41.052780</td>\n",
       "    </tr>\n",
       "    <tr>\n",
       "      <th>4</th>\n",
       "      <td>198.6</td>\n",
       "      <td>132.4</td>\n",
       "      <td>0.0</td>\n",
       "      <td>192.0</td>\n",
       "      <td>0.0</td>\n",
       "      <td>978.4</td>\n",
       "      <td>825.5</td>\n",
       "      <td>360</td>\n",
       "      <td>44.296075</td>\n",
       "    </tr>\n",
       "  </tbody>\n",
       "</table>\n",
       "</div>"
      ],
      "text/plain": [
       "   cement  furnace  ash  water  superplasticizer  coarse   fine  age  \\\n",
       "0   540.0      0.0  0.0  162.0               2.5  1040.0  676.0   28   \n",
       "1   540.0      0.0  0.0  162.0               2.5  1055.0  676.0   28   \n",
       "2   332.5    142.5  0.0  228.0               0.0   932.0  594.0  270   \n",
       "3   332.5    142.5  0.0  228.0               0.0   932.0  594.0  365   \n",
       "4   198.6    132.4  0.0  192.0               0.0   978.4  825.5  360   \n",
       "\n",
       "    strength  \n",
       "0  79.986111  \n",
       "1  61.887366  \n",
       "2  40.269535  \n",
       "3  41.052780  \n",
       "4  44.296075  "
      ]
     },
     "execution_count": 7,
     "metadata": {},
     "output_type": "execute_result"
    }
   ],
   "source": [
    "df.head()"
   ]
  },
  {
   "cell_type": "code",
   "execution_count": null,
   "id": "4720dbb3",
   "metadata": {},
   "outputs": [],
   "source": []
  },
  {
   "cell_type": "code",
   "execution_count": 8,
   "id": "d138600e",
   "metadata": {
    "ExecuteTime": {
     "end_time": "2022-03-17T08:12:19.312133Z",
     "start_time": "2022-03-17T08:12:19.301163Z"
    }
   },
   "outputs": [],
   "source": [
    "# strength를 예측하는 neural network model을 만들고 평가하시오.."
   ]
  },
  {
   "cell_type": "code",
   "execution_count": null,
   "id": "1d6bd229",
   "metadata": {},
   "outputs": [],
   "source": []
  },
  {
   "cell_type": "code",
   "execution_count": 10,
   "id": "0099a0b3",
   "metadata": {
    "ExecuteTime": {
     "end_time": "2022-03-17T08:13:10.811617Z",
     "start_time": "2022-03-17T08:13:10.805633Z"
    }
   },
   "outputs": [],
   "source": [
    "y = df.strength\n",
    "x = df.loc[:, :'age']"
   ]
  },
  {
   "cell_type": "code",
   "execution_count": 11,
   "id": "697e8028",
   "metadata": {
    "ExecuteTime": {
     "end_time": "2022-03-17T08:13:11.247904Z",
     "start_time": "2022-03-17T08:13:11.239926Z"
    }
   },
   "outputs": [
    {
     "data": {
      "text/plain": [
       "0       79.986111\n",
       "1       61.887366\n",
       "2       40.269535\n",
       "3       41.052780\n",
       "4       44.296075\n",
       "          ...    \n",
       "1025    44.284354\n",
       "1026    31.178794\n",
       "1027    23.696601\n",
       "1028    32.768036\n",
       "1029    32.401235\n",
       "Name: strength, Length: 1030, dtype: float64"
      ]
     },
     "execution_count": 11,
     "metadata": {},
     "output_type": "execute_result"
    }
   ],
   "source": [
    "y  # regression"
   ]
  },
  {
   "cell_type": "code",
   "execution_count": null,
   "id": "642ffd6f",
   "metadata": {},
   "outputs": [],
   "source": []
  },
  {
   "cell_type": "code",
   "execution_count": 12,
   "id": "d3119b20",
   "metadata": {
    "ExecuteTime": {
     "end_time": "2022-03-17T08:13:18.602429Z",
     "start_time": "2022-03-17T08:13:18.502695Z"
    }
   },
   "outputs": [],
   "source": [
    "from sklearn.model_selection import train_test_split\n",
    "x_train, x_test, y_train, y_test = train_test_split(x,y, test_size=0.2, random_state=111)"
   ]
  },
  {
   "cell_type": "code",
   "execution_count": null,
   "id": "57e35559",
   "metadata": {},
   "outputs": [],
   "source": []
  },
  {
   "cell_type": "code",
   "execution_count": 13,
   "id": "80fac1cf",
   "metadata": {
    "ExecuteTime": {
     "end_time": "2022-03-17T08:15:18.693381Z",
     "start_time": "2022-03-17T08:15:18.679447Z"
    }
   },
   "outputs": [],
   "source": [
    "from sklearn.preprocessing import MinMaxScaler\n",
    "\n",
    "scaler = MinMaxScaler()\n",
    "\n",
    "scaler.fit(x_train)\n",
    "x_train_sc = scaler.transform(x_train)\n",
    "x_test_sc = scaler.transform(x_test)"
   ]
  },
  {
   "cell_type": "code",
   "execution_count": 14,
   "id": "ad75c125",
   "metadata": {
    "ExecuteTime": {
     "end_time": "2022-03-17T08:15:19.133068Z",
     "start_time": "2022-03-17T08:15:19.127084Z"
    }
   },
   "outputs": [
    {
     "data": {
      "text/plain": [
       "(824, 8)"
      ]
     },
     "execution_count": 14,
     "metadata": {},
     "output_type": "execute_result"
    }
   ],
   "source": [
    "x_train.shape"
   ]
  },
  {
   "cell_type": "code",
   "execution_count": 14,
   "id": "fdbed459",
   "metadata": {
    "collapsed": true
   },
   "outputs": [
    {
     "name": "stdout",
     "output_type": "stream",
     "text": [
      "Model: \"sequential\"\n",
      "_________________________________________________________________\n",
      " Layer (type)                Output Shape              Param #   \n",
      "=================================================================\n",
      " dense (Dense)               (None, 256)               2304      \n",
      "                                                                 \n",
      " dense_1 (Dense)             (None, 128)               32896     \n",
      "                                                                 \n",
      " dense_2 (Dense)             (None, 56)                7224      \n",
      "                                                                 \n",
      " dense_3 (Dense)             (None, 28)                1596      \n",
      "                                                                 \n",
      " dense_4 (Dense)             (None, 1)                 29        \n",
      "                                                                 \n",
      "=================================================================\n",
      "Total params: 44,049\n",
      "Trainable params: 44,049\n",
      "Non-trainable params: 0\n",
      "_________________________________________________________________\n"
     ]
    }
   ],
   "source": [
    "# 회귀분석의 경우 마지막 activation 을 사용하지 않는다\n",
    "\n",
    "model = Sequential()\n",
    "model.add(Dense(256, input_dim=8, activation='relu'))\n",
    "model.add(Dense(128, activation='relu'))\n",
    "model.add(Dense(56, activation='relu'))\n",
    "model.add(Dense(28, activation='relu'))\n",
    "model.add(Dense(1))\n",
    "model.summary()"
   ]
  },
  {
   "cell_type": "code",
   "execution_count": 16,
   "id": "3fd96bf9",
   "metadata": {},
   "outputs": [],
   "source": [
    "model.compile(loss='mean_squared_error', optimizer='adam')"
   ]
  },
  {
   "cell_type": "code",
   "execution_count": 17,
   "id": "3e66ae7e",
   "metadata": {
    "scrolled": true
   },
   "outputs": [
    {
     "name": "stdout",
     "output_type": "stream",
     "text": [
      "Epoch 1/100\n",
      "66/66 [==============================] - 0s 3ms/step - loss: 863.8524 - val_loss: 253.5287\n",
      "Epoch 2/100\n",
      "66/66 [==============================] - 0s 1ms/step - loss: 204.3968 - val_loss: 178.2988\n",
      "Epoch 3/100\n",
      "66/66 [==============================] - 0s 2ms/step - loss: 145.9846 - val_loss: 140.6652\n",
      "Epoch 4/100\n",
      "66/66 [==============================] - 0s 1ms/step - loss: 126.2157 - val_loss: 133.4973\n",
      "Epoch 5/100\n",
      "66/66 [==============================] - 0s 1ms/step - loss: 117.3546 - val_loss: 125.8332\n",
      "Epoch 6/100\n",
      "66/66 [==============================] - 0s 1ms/step - loss: 116.6077 - val_loss: 124.9199\n",
      "Epoch 7/100\n",
      "66/66 [==============================] - 0s 1ms/step - loss: 108.9657 - val_loss: 111.5492\n",
      "Epoch 8/100\n",
      "66/66 [==============================] - 0s 1ms/step - loss: 100.6447 - val_loss: 110.5959\n",
      "Epoch 9/100\n",
      "66/66 [==============================] - 0s 1ms/step - loss: 92.6357 - val_loss: 95.2640\n",
      "Epoch 10/100\n",
      "66/66 [==============================] - 0s 1ms/step - loss: 86.3447 - val_loss: 88.2061\n",
      "Epoch 11/100\n",
      "66/66 [==============================] - 0s 1ms/step - loss: 77.1072 - val_loss: 87.6115\n",
      "Epoch 12/100\n",
      "66/66 [==============================] - 0s 1ms/step - loss: 69.8681 - val_loss: 75.9527\n",
      "Epoch 13/100\n",
      "66/66 [==============================] - 0s 1ms/step - loss: 65.7164 - val_loss: 69.2419\n",
      "Epoch 14/100\n",
      "66/66 [==============================] - 0s 1ms/step - loss: 63.0649 - val_loss: 63.7330\n",
      "Epoch 15/100\n",
      "66/66 [==============================] - 0s 1ms/step - loss: 57.2305 - val_loss: 62.4517\n",
      "Epoch 16/100\n",
      "66/66 [==============================] - 0s 1ms/step - loss: 56.6774 - val_loss: 58.9463\n",
      "Epoch 17/100\n",
      "66/66 [==============================] - 0s 1ms/step - loss: 52.8902 - val_loss: 54.6599\n",
      "Epoch 18/100\n",
      "66/66 [==============================] - 0s 2ms/step - loss: 50.0483 - val_loss: 52.1739\n",
      "Epoch 19/100\n",
      "66/66 [==============================] - 0s 1ms/step - loss: 45.8436 - val_loss: 54.1810\n",
      "Epoch 20/100\n",
      "66/66 [==============================] - 0s 1ms/step - loss: 48.7018 - val_loss: 60.1593\n",
      "Epoch 21/100\n",
      "66/66 [==============================] - 0s 1ms/step - loss: 45.2344 - val_loss: 45.4661\n",
      "Epoch 22/100\n",
      "66/66 [==============================] - 0s 1ms/step - loss: 44.9407 - val_loss: 50.7822\n",
      "Epoch 23/100\n",
      "66/66 [==============================] - 0s 1ms/step - loss: 42.6913 - val_loss: 42.2270\n",
      "Epoch 24/100\n",
      "66/66 [==============================] - 0s 1ms/step - loss: 43.4352 - val_loss: 42.0882\n",
      "Epoch 25/100\n",
      "66/66 [==============================] - 0s 1ms/step - loss: 42.8409 - val_loss: 46.1499\n",
      "Epoch 26/100\n",
      "66/66 [==============================] - 0s 1ms/step - loss: 42.7029 - val_loss: 41.2565\n",
      "Epoch 27/100\n",
      "66/66 [==============================] - 0s 1ms/step - loss: 40.9813 - val_loss: 39.0895\n",
      "Epoch 28/100\n",
      "66/66 [==============================] - 0s 1ms/step - loss: 37.5777 - val_loss: 37.2759\n",
      "Epoch 29/100\n",
      "66/66 [==============================] - 0s 1ms/step - loss: 39.4489 - val_loss: 37.8708\n",
      "Epoch 30/100\n",
      "66/66 [==============================] - 0s 1ms/step - loss: 39.5973 - val_loss: 40.2170\n",
      "Epoch 31/100\n",
      "66/66 [==============================] - 0s 1ms/step - loss: 36.3776 - val_loss: 35.5613\n",
      "Epoch 32/100\n",
      "66/66 [==============================] - 0s 1ms/step - loss: 36.2942 - val_loss: 36.2404\n",
      "Epoch 33/100\n",
      "66/66 [==============================] - 0s 1ms/step - loss: 35.9046 - val_loss: 33.0716\n",
      "Epoch 34/100\n",
      "66/66 [==============================] - 0s 1ms/step - loss: 38.5112 - val_loss: 36.4193\n",
      "Epoch 35/100\n",
      "66/66 [==============================] - 0s 1ms/step - loss: 44.7111 - val_loss: 35.4618\n",
      "Epoch 36/100\n",
      "66/66 [==============================] - 0s 1ms/step - loss: 40.3638 - val_loss: 33.0946\n",
      "Epoch 37/100\n",
      "66/66 [==============================] - 0s 1ms/step - loss: 35.8065 - val_loss: 33.3058\n",
      "Epoch 38/100\n",
      "66/66 [==============================] - 0s 1ms/step - loss: 34.1487 - val_loss: 33.3899\n",
      "Epoch 39/100\n",
      "66/66 [==============================] - 0s 1ms/step - loss: 33.9670 - val_loss: 35.0284\n",
      "Epoch 40/100\n",
      "66/66 [==============================] - 0s 1ms/step - loss: 33.7326 - val_loss: 35.8733\n",
      "Epoch 41/100\n",
      "66/66 [==============================] - 0s 1ms/step - loss: 35.9596 - val_loss: 31.5148\n",
      "Epoch 42/100\n",
      "66/66 [==============================] - 0s 1ms/step - loss: 32.3948 - val_loss: 30.8912\n",
      "Epoch 43/100\n",
      "66/66 [==============================] - 0s 1ms/step - loss: 32.3694 - val_loss: 31.4137\n",
      "Epoch 44/100\n",
      "66/66 [==============================] - 0s 1ms/step - loss: 31.0836 - val_loss: 32.2693\n",
      "Epoch 45/100\n",
      "66/66 [==============================] - 0s 1ms/step - loss: 31.8382 - val_loss: 29.1718\n",
      "Epoch 46/100\n",
      "66/66 [==============================] - 0s 1ms/step - loss: 34.0218 - val_loss: 29.5010\n",
      "Epoch 47/100\n",
      "66/66 [==============================] - 0s 1ms/step - loss: 32.1277 - val_loss: 33.8596\n",
      "Epoch 48/100\n",
      "66/66 [==============================] - 0s 1ms/step - loss: 30.6031 - val_loss: 31.9619\n",
      "Epoch 49/100\n",
      "66/66 [==============================] - 0s 1ms/step - loss: 33.9742 - val_loss: 33.2220\n",
      "Epoch 50/100\n",
      "66/66 [==============================] - 0s 1ms/step - loss: 33.1069 - val_loss: 31.1363\n",
      "Epoch 51/100\n",
      "66/66 [==============================] - 0s 1ms/step - loss: 32.8707 - val_loss: 28.1913\n",
      "Epoch 52/100\n",
      "66/66 [==============================] - 0s 1ms/step - loss: 29.1343 - val_loss: 33.7811\n",
      "Epoch 53/100\n",
      "66/66 [==============================] - 0s 1ms/step - loss: 32.1534 - val_loss: 28.3851\n",
      "Epoch 54/100\n",
      "66/66 [==============================] - 0s 1ms/step - loss: 29.0159 - val_loss: 31.5364\n",
      "Epoch 55/100\n",
      "66/66 [==============================] - 0s 1ms/step - loss: 29.5793 - val_loss: 28.2253\n",
      "Epoch 56/100\n",
      "66/66 [==============================] - 0s 1ms/step - loss: 30.4586 - val_loss: 32.6443\n",
      "Epoch 57/100\n",
      "66/66 [==============================] - 0s 1ms/step - loss: 29.3391 - val_loss: 26.6040\n",
      "Epoch 58/100\n",
      "66/66 [==============================] - 0s 1ms/step - loss: 28.7258 - val_loss: 38.4231\n",
      "Epoch 59/100\n",
      "66/66 [==============================] - 0s 1ms/step - loss: 30.8126 - val_loss: 30.6403\n",
      "Epoch 60/100\n",
      "66/66 [==============================] - 0s 1ms/step - loss: 29.3109 - val_loss: 27.1383\n",
      "Epoch 61/100\n",
      "66/66 [==============================] - 0s 1ms/step - loss: 28.2650 - val_loss: 27.3669\n",
      "Epoch 62/100\n",
      "66/66 [==============================] - 0s 1ms/step - loss: 27.1452 - val_loss: 29.4155\n",
      "Epoch 63/100\n",
      "66/66 [==============================] - 0s 1ms/step - loss: 28.4015 - val_loss: 26.6283\n",
      "Epoch 64/100\n",
      "66/66 [==============================] - 0s 1ms/step - loss: 26.3604 - val_loss: 25.1489\n",
      "Epoch 65/100\n",
      "66/66 [==============================] - 0s 1ms/step - loss: 26.7334 - val_loss: 27.8768\n",
      "Epoch 66/100\n",
      "66/66 [==============================] - 0s 1ms/step - loss: 25.6632 - val_loss: 27.0037\n",
      "Epoch 67/100\n",
      "66/66 [==============================] - 0s 1ms/step - loss: 27.9597 - val_loss: 33.3250\n",
      "Epoch 68/100\n",
      "66/66 [==============================] - 0s 1ms/step - loss: 25.2843 - val_loss: 27.8843\n",
      "Epoch 69/100\n",
      "66/66 [==============================] - 0s 1ms/step - loss: 25.2747 - val_loss: 25.9905\n",
      "Epoch 70/100\n",
      "66/66 [==============================] - 0s 1ms/step - loss: 25.5165 - val_loss: 33.7087\n",
      "Epoch 71/100\n",
      "66/66 [==============================] - 0s 1ms/step - loss: 24.1302 - val_loss: 24.6336\n",
      "Epoch 72/100\n",
      "66/66 [==============================] - 0s 1ms/step - loss: 24.3786 - val_loss: 27.2481\n",
      "Epoch 73/100\n",
      "66/66 [==============================] - 0s 1ms/step - loss: 24.2112 - val_loss: 25.9465\n",
      "Epoch 74/100\n",
      "66/66 [==============================] - 0s 1ms/step - loss: 23.5201 - val_loss: 25.4118\n",
      "Epoch 75/100\n",
      "66/66 [==============================] - 0s 1ms/step - loss: 24.4009 - val_loss: 25.1696\n",
      "Epoch 76/100\n",
      "66/66 [==============================] - 0s 1ms/step - loss: 25.6821 - val_loss: 23.9779\n",
      "Epoch 77/100\n",
      "66/66 [==============================] - 0s 2ms/step - loss: 24.4320 - val_loss: 24.2703\n",
      "Epoch 78/100\n",
      "66/66 [==============================] - 0s 1ms/step - loss: 23.1994 - val_loss: 25.7530\n",
      "Epoch 79/100\n",
      "66/66 [==============================] - 0s 1ms/step - loss: 21.3851 - val_loss: 30.5481\n",
      "Epoch 80/100\n",
      "66/66 [==============================] - 0s 1ms/step - loss: 23.2986 - val_loss: 23.3804\n",
      "Epoch 81/100\n",
      "66/66 [==============================] - 0s 1ms/step - loss: 22.8602 - val_loss: 24.2502\n",
      "Epoch 82/100\n",
      "66/66 [==============================] - 0s 1ms/step - loss: 23.8959 - val_loss: 22.3153\n",
      "Epoch 83/100\n",
      "66/66 [==============================] - 0s 1ms/step - loss: 24.1877 - val_loss: 23.0466\n",
      "Epoch 84/100\n",
      "66/66 [==============================] - 0s 1ms/step - loss: 22.7385 - val_loss: 23.8789\n",
      "Epoch 85/100\n",
      "66/66 [==============================] - 0s 1ms/step - loss: 21.7386 - val_loss: 23.4674\n",
      "Epoch 86/100\n",
      "66/66 [==============================] - 0s 1ms/step - loss: 22.8226 - val_loss: 22.0640\n",
      "Epoch 87/100\n",
      "66/66 [==============================] - 0s 1ms/step - loss: 21.4064 - val_loss: 23.3618\n",
      "Epoch 88/100\n",
      "66/66 [==============================] - 0s 1ms/step - loss: 21.8638 - val_loss: 23.0547\n",
      "Epoch 89/100\n",
      "66/66 [==============================] - 0s 1ms/step - loss: 19.9992 - val_loss: 24.2248\n",
      "Epoch 90/100\n",
      "66/66 [==============================] - 0s 1ms/step - loss: 19.7748 - val_loss: 34.1037\n",
      "Epoch 91/100\n",
      "66/66 [==============================] - 0s 1ms/step - loss: 23.2838 - val_loss: 30.7516\n",
      "Epoch 92/100\n",
      "66/66 [==============================] - 0s 1ms/step - loss: 21.6518 - val_loss: 22.4616\n",
      "Epoch 93/100\n",
      "66/66 [==============================] - 0s 1ms/step - loss: 21.6962 - val_loss: 21.1011\n",
      "Epoch 94/100\n",
      "66/66 [==============================] - 0s 1ms/step - loss: 20.2561 - val_loss: 23.1630\n",
      "Epoch 95/100\n",
      "66/66 [==============================] - 0s 1ms/step - loss: 20.1636 - val_loss: 26.0417\n",
      "Epoch 96/100\n",
      "66/66 [==============================] - 0s 1ms/step - loss: 21.5790 - val_loss: 31.2093\n",
      "Epoch 97/100\n",
      "66/66 [==============================] - 0s 1ms/step - loss: 20.9352 - val_loss: 27.5033\n",
      "Epoch 98/100\n",
      "66/66 [==============================] - 0s 1ms/step - loss: 20.1222 - val_loss: 22.0241\n",
      "Epoch 99/100\n",
      "66/66 [==============================] - 0s 1ms/step - loss: 21.7818 - val_loss: 24.2856\n",
      "Epoch 100/100\n",
      "66/66 [==============================] - 0s 2ms/step - loss: 19.1662 - val_loss: 22.2836\n"
     ]
    }
   ],
   "source": [
    "hist = model.fit(x_train_sc, y_train, epochs=100, batch_size=10, validation_split=0.2)"
   ]
  },
  {
   "cell_type": "code",
   "execution_count": null,
   "id": "298b3a78",
   "metadata": {},
   "outputs": [],
   "source": []
  },
  {
   "cell_type": "code",
   "execution_count": 24,
   "id": "da4f2c20",
   "metadata": {},
   "outputs": [
    {
     "data": {
      "text/plain": [
       "[<matplotlib.lines.Line2D at 0x2706f3e1be0>]"
      ]
     },
     "execution_count": 24,
     "metadata": {},
     "output_type": "execute_result"
    },
    {
     "data": {
      "image/png": "[encoded data removed]",
      "text/plain": [
       "<Figure size 432x288 with 1 Axes>"
      ]
     },
     "metadata": {
      "needs_background": "light"
     },
     "output_type": "display_data"
    }
   ],
   "source": [
    "plt.plot(hist.history['loss'])\n",
    "plt.plot(hist.history['val_loss'])"
   ]
  },
  {
   "cell_type": "code",
   "execution_count": null,
   "id": "85066cd7",
   "metadata": {},
   "outputs": [],
   "source": []
  },
  {
   "cell_type": "code",
   "execution_count": 18,
   "id": "4a96e30c",
   "metadata": {},
   "outputs": [
    {
     "name": "stdout",
     "output_type": "stream",
     "text": [
      "7/7 [==============================] - 0s 1ms/step - loss: 1977869312.0000\n"
     ]
    },
    {
     "data": {
      "text/plain": [
       "1977869312.0"
      ]
     },
     "execution_count": 18,
     "metadata": {},
     "output_type": "execute_result"
    }
   ],
   "source": [
    "model.evaluate(x_test, y_test)"
   ]
  },
  {
   "cell_type": "code",
   "execution_count": null,
   "id": "6616eeee",
   "metadata": {},
   "outputs": [],
   "source": []
  },
  {
   "cell_type": "code",
   "execution_count": 26,
   "id": "f6497df0",
   "metadata": {},
   "outputs": [],
   "source": [
    "preds = model.predict(x_test_sc)"
   ]
  },
  {
   "cell_type": "code",
   "execution_count": 27,
   "id": "0205b7ff",
   "metadata": {
    "scrolled": true
   },
   "outputs": [
    {
     "data": {
      "text/plain": [
       "[45.368923,\n",
       " 29.70999,\n",
       " 31.84686,\n",
       " 33.701836,\n",
       " 61.375706,\n",
       " 33.869713,\n",
       " 19.271906,\n",
       " 14.431589,\n",
       " 23.122871,\n",
       " 19.345968,\n",
       " 37.855362,\n",
       " 32.760098,\n",
       " 37.845757,\n",
       " 53.81366,\n",
       " 41.115845,\n",
       " 59.511375,\n",
       " 31.540426,\n",
       " 25.475939,\n",
       " 34.919136,\n",
       " 20.281279,\n",
       " 19.805513,\n",
       " 29.130491,\n",
       " 24.232594,\n",
       " 24.131506,\n",
       " 43.57869,\n",
       " 38.129646,\n",
       " 20.957235,\n",
       " 19.961845,\n",
       " 62.2474,\n",
       " 46.54567,\n",
       " 64.51732,\n",
       " 36.436935,\n",
       " 46.357742,\n",
       " 35.602036,\n",
       " 28.451513,\n",
       " 42.601955,\n",
       " 37.038097,\n",
       " 37.96987,\n",
       " 42.54087,\n",
       " 30.35013,\n",
       " 78.41295,\n",
       " 43.80167,\n",
       " 26.789455,\n",
       " 34.310493,\n",
       " 42.548042,\n",
       " 30.215372,\n",
       " 41.126312,\n",
       " 14.034615,\n",
       " 32.149864,\n",
       " 23.570326,\n",
       " 43.05079,\n",
       " 62.535057,\n",
       " 34.832466,\n",
       " 36.932266,\n",
       " 43.655083,\n",
       " 47.540222,\n",
       " 46.57078,\n",
       " 40.16523,\n",
       " 32.665092,\n",
       " 30.303907,\n",
       " 37.793972,\n",
       " 12.796452,\n",
       " 51.086784,\n",
       " 31.077673,\n",
       " 76.41998,\n",
       " 26.076525,\n",
       " 16.583643,\n",
       " 49.870773,\n",
       " 55.517883,\n",
       " 76.31974,\n",
       " 41.937717,\n",
       " 45.99546,\n",
       " 42.86609,\n",
       " 37.411324,\n",
       " 44.911186,\n",
       " 25.06669,\n",
       " 12.865903,\n",
       " 63.262688,\n",
       " 59.2107,\n",
       " 56.156826,\n",
       " 54.111507,\n",
       " 38.521385,\n",
       " 35.20486,\n",
       " 43.45697,\n",
       " 41.49909,\n",
       " 74.21853,\n",
       " 5.784622,\n",
       " 22.490927,\n",
       " 49.29733,\n",
       " 36.96221,\n",
       " 25.020693,\n",
       " 17.793676,\n",
       " 23.15072,\n",
       " 50.235035,\n",
       " 7.0405498,\n",
       " 28.104767,\n",
       " 60.934822,\n",
       " 24.222261,\n",
       " 35.22718,\n",
       " 32.024788,\n",
       " 36.883896,\n",
       " 37.945663,\n",
       " 22.936369,\n",
       " 8.309097,\n",
       " 16.7964,\n",
       " 13.620266,\n",
       " 20.088436,\n",
       " 54.755188,\n",
       " 30.421593,\n",
       " 30.599161,\n",
       " 38.921604,\n",
       " 42.2892,\n",
       " 22.706335,\n",
       " 44.32276,\n",
       " 27.026411,\n",
       " 19.358648,\n",
       " 52.240368,\n",
       " 54.425396,\n",
       " 15.086339,\n",
       " 8.461037,\n",
       " 74.21853,\n",
       " 27.93961,\n",
       " 18.656061,\n",
       " 35.46042,\n",
       " 64.26077,\n",
       " 28.203274,\n",
       " 22.5283,\n",
       " 66.816376,\n",
       " 43.321926,\n",
       " 34.523285,\n",
       " 43.435112,\n",
       " 26.16228,\n",
       " 22.816496,\n",
       " 48.98912,\n",
       " 39.140915,\n",
       " 70.82097,\n",
       " 15.731771,\n",
       " 10.004705,\n",
       " 45.142723,\n",
       " 47.156403,\n",
       " 26.041666,\n",
       " 41.419224,\n",
       " 21.515108,\n",
       " 58.201057,\n",
       " 28.93469,\n",
       " 35.163868,\n",
       " 47.197365,\n",
       " 41.30638,\n",
       " 59.49891,\n",
       " 19.716253,\n",
       " 37.78317,\n",
       " 26.69575,\n",
       " 54.5057,\n",
       " 41.59693,\n",
       " 34.511738,\n",
       " 22.973402,\n",
       " 9.438608,\n",
       " 27.41013,\n",
       " 25.893251,\n",
       " 30.447481,\n",
       " 40.916615,\n",
       " 71.201675,\n",
       " 66.503555,\n",
       " 25.268316,\n",
       " 27.063534,\n",
       " 28.883596,\n",
       " 52.184624,\n",
       " 35.8452,\n",
       " 32.06022,\n",
       " 40.185005,\n",
       " 14.105488,\n",
       " 27.277931,\n",
       " 24.955896,\n",
       " 50.34646,\n",
       " 8.209303,\n",
       " 17.652578,\n",
       " 44.70304,\n",
       " 41.333206,\n",
       " 39.763084,\n",
       " 66.05668,\n",
       " 18.690687,\n",
       " 13.715476,\n",
       " 47.1445,\n",
       " 24.378143,\n",
       " 45.212715,\n",
       " 40.95725,\n",
       " 36.63566,\n",
       " 24.129108,\n",
       " 56.095993,\n",
       " 46.138855,\n",
       " 14.82826,\n",
       " 53.90435,\n",
       " 53.27279,\n",
       " 73.29619,\n",
       " 15.171923,\n",
       " 28.63064,\n",
       " 39.2185,\n",
       " 44.155304,\n",
       " 77.42864,\n",
       " 3.6717358,\n",
       " 51.00345,\n",
       " 7.469794,\n",
       " 38.16006,\n",
       " 48.67729,\n",
       " 64.93767,\n",
       " 63.390217]"
      ]
     },
     "execution_count": 27,
     "metadata": {},
     "output_type": "execute_result"
    }
   ],
   "source": [
    "preds = [v[0] for v in preds]\n",
    "preds"
   ]
  },
  {
   "cell_type": "code",
   "execution_count": null,
   "id": "797f0535",
   "metadata": {},
   "outputs": [],
   "source": []
  },
  {
   "cell_type": "code",
   "execution_count": 28,
   "id": "587f86b2",
   "metadata": {},
   "outputs": [
    {
     "data": {
      "text/plain": [
       "0.8791392568935923"
      ]
     },
     "execution_count": 28,
     "metadata": {},
     "output_type": "execute_result"
    }
   ],
   "source": [
    "from sklearn.metrics import r2_score\n",
    "r2_score(y_test, preds)"
   ]
  },
  {
   "cell_type": "code",
   "execution_count": null,
   "id": "c20c676e",
   "metadata": {},
   "outputs": [],
   "source": []
  },
  {
   "cell_type": "code",
   "execution_count": 29,
   "id": "2e7edf87",
   "metadata": {
    "collapsed": true
   },
   "outputs": [
    {
     "name": "stdout",
     "output_type": "stream",
     "text": [
      "(47.739318239999996, 45.368923)\n",
      "(30.44726016, 29.70999)\n",
      "(42.29245784, 31.84686)\n",
      "(32.922478999999996, 33.701836)\n",
      "(65.909079268, 61.375706)\n",
      "(26.22766704, 33.869713)\n",
      "(20.96696516, 19.271906)\n",
      "(10.53519328, 14.431589)\n",
      "(23.221551679999997, 23.122871)\n",
      "(13.395533715270679, 19.345968)\n",
      "(33.05347944, 37.855362)\n",
      "(42.79577532, 32.760098)\n",
      "(36.44570136, 37.845757)\n",
      "(52.82075636, 53.81366)\n",
      "(37.34202016, 41.115845)\n",
      "(62.935369279999996, 59.511375)\n",
      "(33.72916592, 31.540426)\n",
      "(29.7508894, 25.475939)\n",
      "(24.40055564, 34.919136)\n",
      "(24.44881896, 20.281279)\n",
      "(20.08443588, 19.805513)\n",
      "(32.039949719999996, 29.130491)\n",
      "(18.287661424, 24.232594)\n",
      "(34.23937816, 24.131506)\n",
      "(49.20100736, 43.57869)\n",
      "(50.60064364, 38.129646)\n",
      "(21.917063088, 20.957235)\n",
      "(15.091250688, 19.961845)\n",
      "(64.30053176, 62.2474)\n",
      "(41.934619796, 46.54567)\n",
      "(68.29949256, 64.51732)\n",
      "(39.056057496, 36.436935)\n",
      "(44.38846488, 46.357742)\n",
      "(33.398217439999996, 35.602036)\n",
      "(30.2335226, 28.451513)\n",
      "(34.73580088, 42.601955)\n",
      "(33.5430074, 37.038097)\n",
      "(39.45181672, 37.96987)\n",
      "(48.846616696, 42.54087)\n",
      "(32.763899519999995, 30.35013)\n",
      "(79.29663476, 78.41295)\n",
      "(43.01296026, 43.80167)\n",
      "(24.579819399999998, 26.789455)\n",
      "(44.86420332, 34.310493)\n",
      "(33.019005639999996, 42.548042)\n",
      "(23.835874796, 30.215372)\n",
      "(43.377003588, 41.126312)\n",
      "(21.29101888, 14.034615)\n",
      "(32.72253096, 32.149864)\n",
      "(22.435549039999998, 23.570326)\n",
      "(40.563252031999994, 43.05079)\n",
      "(44.51946532, 62.535057)\n",
      "(34.48758952, 34.832466)\n",
      "(32.401235144, 36.932266)\n",
      "(55.89581932, 43.655083)\n",
      "(45.2985732, 47.540222)\n",
      "(33.116911232, 46.57078)\n",
      "(33.082437432, 40.16523)\n",
      "(37.363393916, 32.665092)\n",
      "(31.44700036, 30.303907)\n",
      "(33.192064116000005, 37.793972)\n",
      "(12.83804312, 12.796452)\n",
      "(57.21823428799999, 51.086784)\n",
      "(36.349864196, 31.077673)\n",
      "(57.226507999999995, 76.41998)\n",
      "(21.946021079999998, 26.076525)\n",
      "(17.95395504, 16.583643)\n",
      "(53.72396992, 49.870773)\n",
      "(45.3675208, 55.517883)\n",
      "(61.887365759999994, 76.31974)\n",
      "(22.489328168, 41.937717)\n",
      "(51.331488199999995, 45.99546)\n",
      "(44.207822168, 42.86609)\n",
      "(41.40992856, 37.411324)\n",
      "(48.15300384, 44.911186)\n",
      "(24.483292759999998, 25.06669)\n",
      "(11.57630204, 12.865903)\n",
      "(67.30664712, 63.262688)\n",
      "(58.60546, 59.2107)\n",
      "(55.55108132, 56.156826)\n",
      "(61.232363559999996, 54.111507)\n",
      "(37.42475728, 38.521385)\n",
      "(44.61185510399999, 35.20486)\n",
      "(42.620648416, 43.45697)\n",
      "(33.419591196, 41.49909)\n",
      "(77.29715436, 74.21853)\n",
      "(8.06342182, 5.784622)\n",
      "(24.437787344, 22.490927)\n",
      "(52.5035974, 49.29733)\n",
      "(33.399596392, 36.96221)\n",
      "(25.17966352, 25.020693)\n",
      "(16.27852836, 17.793676)\n",
      "(16.503987012, 23.15072)\n",
      "(51.0556978, 50.235035)\n",
      "(6.883728383999999, 7.0405498)\n",
      "(26.94472208, 28.104767)\n",
      "(60.19814956, 60.934822)\n",
      "(26.200088, 24.222261)\n",
      "(30.219733079999997, 35.22718)\n",
      "(26.96540636, 32.024788)\n",
      "(38.11423328, 36.883896)\n",
      "(36.93522932, 37.945663)\n",
      "(23.73865868, 22.936369)\n",
      "(10.730314988, 8.309097)\n",
      "(6.26733684, 16.7964)\n",
      "(7.3980774799999995, 13.620266)\n",
      "(22.31833812, 20.088436)\n",
      "(53.38612668, 54.755188)\n",
      "(31.2677366, 30.421593)\n",
      "(29.41304616, 30.599161)\n",
      "(32.8535314, 38.921604)\n",
      "(42.54756396, 42.2892)\n",
      "(21.02212324, 22.706335)\n",
      "(49.185149411999994, 44.32276)\n",
      "(29.72331036, 27.026411)\n",
      "(22.13907436, 19.358648)\n",
      "(53.95839176, 52.240368)\n",
      "(57.02655996, 54.425396)\n",
      "(9.735401119999999, 15.086339)\n",
      "(4.9035533120000006, 8.461037)\n",
      "(77.29715436, 74.21853)\n",
      "(27.62730332, 27.93961)\n",
      "(14.699628319999999, 18.656061)\n",
      "(33.762260768, 35.46042)\n",
      "(66.89985628, 64.26077)\n",
      "(31.420110796000003, 28.203274)\n",
      "(23.5111316, 22.5283)\n",
      "(69.65776027999999, 66.816376)\n",
      "(52.908319811999995, 43.321926)\n",
      "(23.8903434, 34.523285)\n",
      "(40.934879596, 43.435112)\n",
      "(24.8900836, 26.16228)\n",
      "(21.066249704, 22.816496)\n",
      "(50.94882902, 48.98912)\n",
      "(35.86585204399999, 39.140915)\n",
      "(74.16693332, 70.82097)\n",
      "(17.236210524, 15.731771)\n",
      "(12.052040479999999, 10.004705)\n",
      "(42.030456959999995, 45.142723)\n",
      "(55.82687172, 47.156403)\n",
      "(32.90179472, 26.041666)\n",
      "(38.804398756000005, 41.419224)\n",
      "(30.38520732, 21.515108)\n",
      "(54.896079119999996, 58.201057)\n",
      "(33.003837168, 28.93469)\n",
      "(37.171030112, 35.163868)\n",
      "(48.401215199999996, 47.197365)\n",
      "(37.25928304, 41.30638)\n",
      "(61.06688932, 59.49891)\n",
      "(25.726417988, 19.716253)\n",
      "(34.90127512, 37.78317)\n",
      "(31.026419999999998, 26.69575)\n",
      "(56.3991368, 54.5057)\n",
      "(46.20178676, 41.59693)\n",
      "(39.58281716, 34.511738)\n",
      "(26.922658848, 22.973402)\n",
      "(11.414275179999999, 9.438608)\n",
      "(11.46598588, 27.41013)\n",
      "(12.63809508, 25.893251)\n",
      "(27.681082448, 30.447481)\n",
      "(30.079769451999997, 40.916615)\n",
      "(67.79617508, 71.201675)\n",
      "(65.19685056, 66.503555)\n",
      "(33.08795324, 25.268316)\n",
      "(14.54104884, 27.063534)\n",
      "(23.696600644, 28.883596)\n",
      "(56.061293559999996, 52.184624)\n",
      "(35.2322236, 35.8452)\n",
      "(34.569637164, 32.06022)\n",
      "(46.24315532, 40.185005)\n",
      "(12.788400847999998, 14.105488)\n",
      "(28.79941252, 27.277931)\n",
      "(27.742445811999996, 24.955896)\n",
      "(51.95891136, 50.34646)\n",
      "(6.467284879999999, 8.209303)\n",
      "(21.26343984, 17.652578)\n",
      "(53.90323368, 44.70304)\n",
      "(39.6621069, 41.333206)\n",
      "(42.42345828, 39.763084)\n",
      "(58.522722879999996, 66.05668)\n",
      "(17.43684804, 18.690687)\n",
      "(14.2032056, 13.715476)\n",
      "(39.435269296, 47.1445)\n",
      "(22.53207568, 24.378143)\n",
      "(47.029847436000004, 45.212715)\n",
      "(52.20022796, 40.95725)\n",
      "(43.388724679999996, 36.63566)\n",
      "(24.49708228, 24.129108)\n",
      "(81.75116932, 56.095993)\n",
      "(42.32693164, 46.138855)\n",
      "(15.520104759999999, 14.82826)\n",
      "(56.83350668, 53.90435)\n",
      "(53.69225402399999, 53.27279)\n",
      "(74.19451236, 73.29619)\n",
      "(14.306626999999999, 15.171923)\n",
      "(27.234302, 28.63064)\n",
      "(43.69898888, 39.2185)\n",
      "(55.50971276, 44.155304)\n",
      "(64.90037588, 77.42864)\n",
      "(4.565020596, 3.6717358)\n",
      "(58.99846132, 51.00345)\n",
      "(7.723510152, 7.469794)\n",
      "(40.85834776, 38.16006)\n",
      "(37.6798634, 48.67729)\n",
      "(74.69782984, 64.93767)\n",
      "(61.797733879999996, 63.390217)\n"
     ]
    }
   ],
   "source": [
    "for i in zip(y_test, preds):\n",
    "    print(i)"
   ]
  },
  {
   "cell_type": "code",
   "execution_count": null,
   "id": "5ec29378",
   "metadata": {},
   "outputs": [],
   "source": []
  }
 ],
 "metadata": {
  "kernelspec": {
   "display_name": "Python 3 (ipykernel)",
   "language": "python",
   "name": "python3"
  },
  "language_info": {
   "codemirror_mode": {
    "name": "ipython",
    "version": 3
   },
   "file_extension": ".py",
   "mimetype": "text/x-python",
   "name": "python",
   "nbconvert_exporter": "python",
   "pygments_lexer": "ipython3",
   "version": "3.9.7"
  },
  "toc": {
   "base_numbering": 1,
   "nav_menu": {},
   "number_sections": true,
   "sideBar": true,
   "skip_h1_title": false,
   "title_cell": "Table of Contents",
   "title_sidebar": "Contents",
   "toc_cell": false,
   "toc_position": {},
   "toc_section_display": true,
   "toc_window_display": false
  },
  "varInspector": {
   "cols": {
    "lenName": 16,
    "lenType": 16,
    "lenVar": 40
   },
   "kernels_config": {
    "python": {
     "delete_cmd_postfix": "",
     "delete_cmd_prefix": "del ",
     "library": "var_list.py",
     "varRefreshCmd": "print(var_dic_list())"
    },
    "r": {
     "delete_cmd_postfix": ") ",
     "delete_cmd_prefix": "rm(",
     "library": "var_list.r",
     "varRefreshCmd": "cat(var_dic_list()) "
    }
   },
   "types_to_exclude": [
    "module",
    "function",
    "builtin_function_or_method",
    "instance",
    "_Feature"
   ],
   "window_display": false
  }
 },
 "nbformat": 4,
 "nbformat_minor": 5
}
