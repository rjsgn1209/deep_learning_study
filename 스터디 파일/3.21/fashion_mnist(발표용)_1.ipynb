{
 "cells": [
  {
   "cell_type": "code",
   "execution_count": null,
   "id": "nzkxtaEy95m7",
   "metadata": {
    "id": "nzkxtaEy95m7"
   },
   "outputs": [],
   "source": [
    "# keras - 레이어를 층층이 쌓아서 모델을 생성"
   ]
  },
  {
   "cell_type": "code",
   "execution_count": 1,
   "id": "438cecbf",
   "metadata": {
    "executionInfo": {
     "elapsed": 274,
     "status": "ok",
     "timestamp": 1647789530839,
     "user": {
      "displayName": "박건후",
      "photoUrl": "https://lh3.googleusercontent.com/a-/AOh14GhaYtZyjr6hcOW1YyRrTjn2cFNOnuoxbGXifFqT=s64",
      "userId": "00163064144750334353"
     },
     "user_tz": -540
    },
    "id": "438cecbf"
   },
   "outputs": [],
   "source": [
    "import pandas as pd\n",
    "import numpy as np\n",
    "import matplotlib.pyplot as plt\n",
    "import numpy as np"
   ]
  },
  {
   "cell_type": "code",
   "execution_count": 2,
   "id": "badadd74",
   "metadata": {
    "executionInfo": {
     "elapsed": 3635,
     "status": "ok",
     "timestamp": 1647789534471,
     "user": {
      "displayName": "박건후",
      "photoUrl": "https://lh3.googleusercontent.com/a-/AOh14GhaYtZyjr6hcOW1YyRrTjn2cFNOnuoxbGXifFqT=s64",
      "userId": "00163064144750334353"
     },
     "user_tz": -540
    },
    "id": "badadd74"
   },
   "outputs": [],
   "source": [
    "from tensorflow.keras.layers import Dense\n",
    "from tensorflow.keras.models import Sequential\n",
    "import tensorflow as tf\n",
    "from tensorflow import keras"
   ]
  },
  {
   "cell_type": "code",
   "execution_count": 3,
   "id": "5dd51a65",
   "metadata": {
    "colab": {
     "base_uri": "https://localhost:8080/"
    },
    "executionInfo": {
     "elapsed": 1859,
     "status": "ok",
     "timestamp": 1647789536325,
     "user": {
      "displayName": "박건후",
      "photoUrl": "https://lh3.googleusercontent.com/a-/AOh14GhaYtZyjr6hcOW1YyRrTjn2cFNOnuoxbGXifFqT=s64",
      "userId": "00163064144750334353"
     },
     "user_tz": -540
    },
    "id": "5dd51a65",
    "outputId": "8c99f4d5-c51e-46af-90ac-8f1af32caef5"
   },
   "outputs": [
    {
     "name": "stdout",
     "output_type": "stream",
     "text": [
      "Downloading data from https://storage.googleapis.com/tensorflow/tf-keras-datasets/train-labels-idx1-ubyte.gz\n",
      "32768/29515 [=================================] - 0s 0us/step\n",
      "40960/29515 [=========================================] - 0s 0us/step\n",
      "Downloading data from https://storage.googleapis.com/tensorflow/tf-keras-datasets/train-images-idx3-ubyte.gz\n",
      "26427392/26421880 [==============================] - 0s 0us/step\n",
      "26435584/26421880 [==============================] - 0s 0us/step\n",
      "Downloading data from https://storage.googleapis.com/tensorflow/tf-keras-datasets/t10k-labels-idx1-ubyte.gz\n",
      "16384/5148 [===============================================================================================] - 0s 0us/step\n",
      "Downloading data from https://storage.googleapis.com/tensorflow/tf-keras-datasets/t10k-images-idx3-ubyte.gz\n",
      "4423680/4422102 [==============================] - 0s 0us/step\n",
      "4431872/4422102 [==============================] - 0s 0us/step\n"
     ]
    }
   ],
   "source": [
    "#  fashion_mnist - 운동화, 셔츠, 샌들과 같은 작은 이미지들의 모음\n",
    "(train_input, train_target), (test_input, test_target) = keras.datasets.fashion_mnist.load_data()"
   ]
  },
  {
   "cell_type": "code",
   "execution_count": 4,
   "id": "3388b0f9",
   "metadata": {
    "colab": {
     "base_uri": "https://localhost:8080/"
    },
    "executionInfo": {
     "elapsed": 6,
     "status": "ok",
     "timestamp": 1647789536325,
     "user": {
      "displayName": "박건후",
      "photoUrl": "https://lh3.googleusercontent.com/a-/AOh14GhaYtZyjr6hcOW1YyRrTjn2cFNOnuoxbGXifFqT=s64",
      "userId": "00163064144750334353"
     },
     "user_tz": -540
    },
    "id": "3388b0f9",
    "outputId": "def60a6d-7738-48bc-bb7f-f82f1220e95f"
   },
   "outputs": [
    {
     "name": "stdout",
     "output_type": "stream",
     "text": [
      "(60000, 28, 28) (60000,)\n"
     ]
    }
   ],
   "source": [
    "print(train_input.shape, train_target.shape)"
   ]
  },
  {
   "cell_type": "code",
   "execution_count": 5,
   "id": "f30308b9",
   "metadata": {
    "colab": {
     "base_uri": "https://localhost:8080/"
    },
    "executionInfo": {
     "elapsed": 5,
     "status": "ok",
     "timestamp": 1647789536325,
     "user": {
      "displayName": "박건후",
      "photoUrl": "https://lh3.googleusercontent.com/a-/AOh14GhaYtZyjr6hcOW1YyRrTjn2cFNOnuoxbGXifFqT=s64",
      "userId": "00163064144750334353"
     },
     "user_tz": -540
    },
    "id": "f30308b9",
    "outputId": "d3d11e2e-1fa8-45d7-9253-5c4203fcce70"
   },
   "outputs": [
    {
     "name": "stdout",
     "output_type": "stream",
     "text": [
      "(10000, 28, 28) (10000,)\n"
     ]
    }
   ],
   "source": [
    "print(test_input.shape, test_target.shape)"
   ]
  },
  {
   "cell_type": "code",
   "execution_count": 5,
   "id": "775aa763",
   "metadata": {
    "executionInfo": {
     "elapsed": 4,
     "status": "ok",
     "timestamp": 1647789536326,
     "user": {
      "displayName": "박건후",
      "photoUrl": "https://lh3.googleusercontent.com/a-/AOh14GhaYtZyjr6hcOW1YyRrTjn2cFNOnuoxbGXifFqT=s64",
      "userId": "00163064144750334353"
     },
     "user_tz": -540
    },
    "id": "775aa763"
   },
   "outputs": [],
   "source": []
  },
  {
   "cell_type": "code",
   "execution_count": 6,
   "id": "fc9f3c94",
   "metadata": {
    "colab": {
     "base_uri": "https://localhost:8080/",
     "height": 78
    },
    "executionInfo": {
     "elapsed": 1108,
     "status": "ok",
     "timestamp": 1647789537431,
     "user": {
      "displayName": "박건후",
      "photoUrl": "https://lh3.googleusercontent.com/a-/AOh14GhaYtZyjr6hcOW1YyRrTjn2cFNOnuoxbGXifFqT=s64",
      "userId": "00163064144750334353"
     },
     "user_tz": -540
    },
    "id": "fc9f3c94",
    "outputId": "4ae615ce-1bfa-4d5a-8b13-860f08020f52"
   },
   "outputs": [
    {
     "data": {
      "image/png": "[encoded data removed]",
      "text/plain": [
       "<Figure size 720x720 with 10 Axes>"
      ]
     },
     "metadata": {
      "needs_background": "light"
     },
     "output_type": "display_data"
    }
   ],
   "source": [
    "fig, axs = plt.subplots(1,10, figsize=(10,10))\n",
    "for i in range(10):\n",
    "    axs[i].imshow(train_input[i], cmap='gray_r')\n",
    "    axs[i].axis('off')\n",
    "plt.show()"
   ]
  },
  {
   "cell_type": "code",
   "execution_count": 7,
   "id": "31f6a19d",
   "metadata": {
    "colab": {
     "base_uri": "https://localhost:8080/"
    },
    "executionInfo": {
     "elapsed": 16,
     "status": "ok",
     "timestamp": 1647789537431,
     "user": {
      "displayName": "박건후",
      "photoUrl": "https://lh3.googleusercontent.com/a-/AOh14GhaYtZyjr6hcOW1YyRrTjn2cFNOnuoxbGXifFqT=s64",
      "userId": "00163064144750334353"
     },
     "user_tz": -540
    },
    "id": "31f6a19d",
    "outputId": "0b46f907-8d48-49b1-88ac-4e0e9a351358"
   },
   "outputs": [
    {
     "data": {
      "text/plain": [
       "array([9, 0, 0, 3, 0, 2, 7, 2, 5, 5], dtype=uint8)"
      ]
     },
     "execution_count": 7,
     "metadata": {},
     "output_type": "execute_result"
    }
   ],
   "source": [
    "train_target[:10]"
   ]
  },
  {
   "cell_type": "code",
   "execution_count": 8,
   "id": "83ae34bf",
   "metadata": {
    "colab": {
     "base_uri": "https://localhost:8080/"
    },
    "executionInfo": {
     "elapsed": 13,
     "status": "ok",
     "timestamp": 1647789537431,
     "user": {
      "displayName": "박건후",
      "photoUrl": "https://lh3.googleusercontent.com/a-/AOh14GhaYtZyjr6hcOW1YyRrTjn2cFNOnuoxbGXifFqT=s64",
      "userId": "00163064144750334353"
     },
     "user_tz": -540
    },
    "id": "83ae34bf",
    "outputId": "59692336-054a-4829-f273-42f83da3d539"
   },
   "outputs": [
    {
     "data": {
      "text/plain": [
       "9    6000\n",
       "0    6000\n",
       "3    6000\n",
       "2    6000\n",
       "7    6000\n",
       "5    6000\n",
       "1    6000\n",
       "6    6000\n",
       "4    6000\n",
       "8    6000\n",
       "dtype: int64"
      ]
     },
     "execution_count": 8,
     "metadata": {},
     "output_type": "execute_result"
    }
   ],
   "source": [
    "pd.Series(train_target).value_counts()"
   ]
  },
  {
   "cell_type": "code",
   "execution_count": 8,
   "id": "fcb88b2a",
   "metadata": {
    "executionInfo": {
     "elapsed": 11,
     "status": "ok",
     "timestamp": 1647789537432,
     "user": {
      "displayName": "박건후",
      "photoUrl": "https://lh3.googleusercontent.com/a-/AOh14GhaYtZyjr6hcOW1YyRrTjn2cFNOnuoxbGXifFqT=s64",
      "userId": "00163064144750334353"
     },
     "user_tz": -540
    },
    "id": "fcb88b2a"
   },
   "outputs": [],
   "source": []
  },
  {
   "cell_type": "code",
   "execution_count": 9,
   "id": "eaf16431",
   "metadata": {
    "colab": {
     "base_uri": "https://localhost:8080/"
    },
    "executionInfo": {
     "elapsed": 10,
     "status": "ok",
     "timestamp": 1647789537432,
     "user": {
      "displayName": "박건후",
      "photoUrl": "https://lh3.googleusercontent.com/a-/AOh14GhaYtZyjr6hcOW1YyRrTjn2cFNOnuoxbGXifFqT=s64",
      "userId": "00163064144750334353"
     },
     "user_tz": -540
    },
    "id": "eaf16431",
    "outputId": "3a207501-5b30-4f24-d9a0-219635a290b9"
   },
   "outputs": [
    {
     "data": {
      "text/plain": [
       "(28, 28)"
      ]
     },
     "execution_count": 9,
     "metadata": {},
     "output_type": "execute_result"
    }
   ],
   "source": [
    "train_input[0].shape"
   ]
  },
  {
   "cell_type": "code",
   "execution_count": 10,
   "id": "f7d2432c",
   "metadata": {
    "colab": {
     "base_uri": "https://localhost:8080/",
     "height": 283
    },
    "executionInfo": {
     "elapsed": 424,
     "status": "ok",
     "timestamp": 1647789537848,
     "user": {
      "displayName": "박건후",
      "photoUrl": "https://lh3.googleusercontent.com/a-/AOh14GhaYtZyjr6hcOW1YyRrTjn2cFNOnuoxbGXifFqT=s64",
      "userId": "00163064144750334353"
     },
     "user_tz": -540
    },
    "id": "f7d2432c",
    "outputId": "56fea0f3-4c60-4ca4-8a4e-561b05cf5104"
   },
   "outputs": [
    {
     "data": {
      "text/plain": [
       "<matplotlib.image.AxesImage at 0x7f5a355222d0>"
      ]
     },
     "execution_count": 10,
     "metadata": {},
     "output_type": "execute_result"
    },
    {
     "data": {
      "image/png": "[encoded data removed]",
      "text/plain": [
       "<Figure size 432x288 with 1 Axes>"
      ]
     },
     "metadata": {
      "needs_background": "light"
     },
     "output_type": "display_data"
    }
   ],
   "source": [
    "plt.imshow(train_input[0], cmap='gray_r')"
   ]
  },
  {
   "cell_type": "code",
   "execution_count": 11,
   "id": "781c1dda",
   "metadata": {
    "colab": {
     "base_uri": "https://localhost:8080/"
    },
    "executionInfo": {
     "elapsed": 16,
     "status": "ok",
     "timestamp": 1647789537848,
     "user": {
      "displayName": "박건후",
      "photoUrl": "https://lh3.googleusercontent.com/a-/AOh14GhaYtZyjr6hcOW1YyRrTjn2cFNOnuoxbGXifFqT=s64",
      "userId": "00163064144750334353"
     },
     "user_tz": -540
    },
    "id": "781c1dda",
    "outputId": "f8ce59f0-9009-4fc7-896a-41a9970c1aa9"
   },
   "outputs": [
    {
     "data": {
      "text/plain": [
       "(60000, 28, 28)"
      ]
     },
     "execution_count": 11,
     "metadata": {},
     "output_type": "execute_result"
    }
   ],
   "source": [
    "train_input.shape"
   ]
  },
  {
   "cell_type": "code",
   "execution_count": 12,
   "id": "5b742486",
   "metadata": {
    "colab": {
     "base_uri": "https://localhost:8080/"
    },
    "executionInfo": {
     "elapsed": 13,
     "status": "ok",
     "timestamp": 1647789537849,
     "user": {
      "displayName": "박건후",
      "photoUrl": "https://lh3.googleusercontent.com/a-/AOh14GhaYtZyjr6hcOW1YyRrTjn2cFNOnuoxbGXifFqT=s64",
      "userId": "00163064144750334353"
     },
     "user_tz": -540
    },
    "id": "5b742486",
    "outputId": "9ab86fc2-6878-44b1-e2aa-d0e357005edf"
   },
   "outputs": [
    {
     "data": {
      "text/plain": [
       "(28, 28)"
      ]
     },
     "execution_count": 12,
     "metadata": {},
     "output_type": "execute_result"
    }
   ],
   "source": [
    "train_input[0].shape"
   ]
  },
  {
   "cell_type": "code",
   "execution_count": 13,
   "id": "86537503",
   "metadata": {
    "executionInfo": {
     "elapsed": 11,
     "status": "ok",
     "timestamp": 1647789537849,
     "user": {
      "displayName": "박건후",
      "photoUrl": "https://lh3.googleusercontent.com/a-/AOh14GhaYtZyjr6hcOW1YyRrTjn2cFNOnuoxbGXifFqT=s64",
      "userId": "00163064144750334353"
     },
     "user_tz": -540
    },
    "id": "86537503"
   },
   "outputs": [],
   "source": [
    "# Dense 레이어에 입력하기위해 정렬\n",
    "x_train = train_input.reshape(60000, 28*28)\n",
    "x_test = test_input.reshape(10000, 28*28)\n",
    "y_train = train_target\n",
    "y_test = test_target"
   ]
  },
  {
   "cell_type": "code",
   "execution_count": 14,
   "id": "5e954062",
   "metadata": {
    "colab": {
     "base_uri": "https://localhost:8080/"
    },
    "executionInfo": {
     "elapsed": 11,
     "status": "ok",
     "timestamp": 1647789537849,
     "user": {
      "displayName": "박건후",
      "photoUrl": "https://lh3.googleusercontent.com/a-/AOh14GhaYtZyjr6hcOW1YyRrTjn2cFNOnuoxbGXifFqT=s64",
      "userId": "00163064144750334353"
     },
     "user_tz": -540
    },
    "id": "5e954062",
    "outputId": "fd730228-e74c-421c-880f-831a54feca4b"
   },
   "outputs": [
    {
     "data": {
      "text/plain": [
       "(784,)"
      ]
     },
     "execution_count": 14,
     "metadata": {},
     "output_type": "execute_result"
    }
   ],
   "source": [
    "x_train[0].shape"
   ]
  },
  {
   "cell_type": "code",
   "execution_count": 15,
   "id": "3cab0d1e",
   "metadata": {
    "executionInfo": {
     "elapsed": 10,
     "status": "ok",
     "timestamp": 1647789537849,
     "user": {
      "displayName": "박건후",
      "photoUrl": "https://lh3.googleusercontent.com/a-/AOh14GhaYtZyjr6hcOW1YyRrTjn2cFNOnuoxbGXifFqT=s64",
      "userId": "00163064144750334353"
     },
     "user_tz": -540
    },
    "id": "3cab0d1e"
   },
   "outputs": [],
   "source": [
    "# Multi class classification 을 위해 원핫 인코딩\n",
    "y_train_oh = tf.keras.utils.to_categorical(y_train)\n",
    "y_test_oh = tf.keras.utils.to_categorical(y_test)"
   ]
  },
  {
   "cell_type": "code",
   "execution_count": 16,
   "id": "5187f3df",
   "metadata": {
    "colab": {
     "base_uri": "https://localhost:8080/"
    },
    "executionInfo": {
     "elapsed": 10,
     "status": "ok",
     "timestamp": 1647789537850,
     "user": {
      "displayName": "박건후",
      "photoUrl": "https://lh3.googleusercontent.com/a-/AOh14GhaYtZyjr6hcOW1YyRrTjn2cFNOnuoxbGXifFqT=s64",
      "userId": "00163064144750334353"
     },
     "user_tz": -540
    },
    "id": "5187f3df",
    "outputId": "49bbe6d1-edec-4b69-f1df-19e2cbb8a285"
   },
   "outputs": [
    {
     "data": {
      "text/plain": [
       "array([9, 0, 0, ..., 3, 0, 5], dtype=uint8)"
      ]
     },
     "execution_count": 16,
     "metadata": {},
     "output_type": "execute_result"
    }
   ],
   "source": [
    "y_train"
   ]
  },
  {
   "cell_type": "code",
   "execution_count": 17,
   "id": "a9aa715f",
   "metadata": {
    "colab": {
     "base_uri": "https://localhost:8080/"
    },
    "executionInfo": {
     "elapsed": 9,
     "status": "ok",
     "timestamp": 1647789537850,
     "user": {
      "displayName": "박건후",
      "photoUrl": "https://lh3.googleusercontent.com/a-/AOh14GhaYtZyjr6hcOW1YyRrTjn2cFNOnuoxbGXifFqT=s64",
      "userId": "00163064144750334353"
     },
     "user_tz": -540
    },
    "id": "a9aa715f",
    "outputId": "d6751990-9f49-4a86-fda6-e32ec4506095"
   },
   "outputs": [
    {
     "data": {
      "text/plain": [
       "array([[0., 0., 0., ..., 0., 0., 1.],\n",
       "       [1., 0., 0., ..., 0., 0., 0.],\n",
       "       [1., 0., 0., ..., 0., 0., 0.],\n",
       "       ...,\n",
       "       [0., 0., 0., ..., 0., 0., 0.],\n",
       "       [1., 0., 0., ..., 0., 0., 0.],\n",
       "       [0., 0., 0., ..., 0., 0., 0.]], dtype=float32)"
      ]
     },
     "execution_count": 17,
     "metadata": {},
     "output_type": "execute_result"
    }
   ],
   "source": [
    "y_train_oh"
   ]
  },
  {
   "cell_type": "code",
   "execution_count": 17,
   "id": "83de38dc",
   "metadata": {
    "executionInfo": {
     "elapsed": 270,
     "status": "ok",
     "timestamp": 1647789538112,
     "user": {
      "displayName": "박건후",
      "photoUrl": "https://lh3.googleusercontent.com/a-/AOh14GhaYtZyjr6hcOW1YyRrTjn2cFNOnuoxbGXifFqT=s64",
      "userId": "00163064144750334353"
     },
     "user_tz": -540
    },
    "id": "83de38dc"
   },
   "outputs": [],
   "source": []
  },
  {
   "cell_type": "code",
   "execution_count": 18,
   "id": "69343377",
   "metadata": {
    "executionInfo": {
     "elapsed": 4,
     "status": "ok",
     "timestamp": 1647789538112,
     "user": {
      "displayName": "박건후",
      "photoUrl": "https://lh3.googleusercontent.com/a-/AOh14GhaYtZyjr6hcOW1YyRrTjn2cFNOnuoxbGXifFqT=s64",
      "userId": "00163064144750334353"
     },
     "user_tz": -540
    },
    "id": "69343377"
   },
   "outputs": [],
   "source": [
    "# logisticRegression"
   ]
  },
  {
   "cell_type": "code",
   "execution_count": 19,
   "id": "58b99c43",
   "metadata": {
    "colab": {
     "base_uri": "https://localhost:8080/"
    },
    "collapsed": true,
    "executionInfo": {
     "elapsed": 62271,
     "status": "ok",
     "timestamp": 1647789600380,
     "user": {
      "displayName": "박건후",
      "photoUrl": "https://lh3.googleusercontent.com/a-/AOh14GhaYtZyjr6hcOW1YyRrTjn2cFNOnuoxbGXifFqT=s64",
      "userId": "00163064144750334353"
     },
     "user_tz": -540
    },
    "id": "58b99c43",
    "outputId": "f6bb1e8d-1bc2-4b6f-a3a0-091e9b92c59a"
   },
   "outputs": [
    {
     "name": "stderr",
     "output_type": "stream",
     "text": [
      "/usr/local/lib/python3.7/dist-packages/sklearn/linear_model/_logistic.py:818: ConvergenceWarning: lbfgs failed to converge (status=1):\n",
      "STOP: TOTAL NO. of ITERATIONS REACHED LIMIT.\n",
      "\n",
      "Increase the number of iterations (max_iter) or scale the data as shown in:\n",
      "    https://scikit-learn.org/stable/modules/preprocessing.html\n",
      "Please also refer to the documentation for alternative solver options:\n",
      "    https://scikit-learn.org/stable/modules/linear_model.html#logistic-regression\n",
      "  extra_warning_msg=_LOGISTIC_SOLVER_CONVERGENCE_MSG,\n"
     ]
    },
    {
     "data": {
      "text/plain": [
       "0.8412"
      ]
     },
     "execution_count": 19,
     "metadata": {},
     "output_type": "execute_result"
    }
   ],
   "source": [
    "from sklearn.linear_model import LogisticRegression\n",
    "log = LogisticRegression()\n",
    "log.fit(x_train, y_train)\n",
    "log.score(x_test, y_test)"
   ]
  },
  {
   "cell_type": "code",
   "execution_count": 19,
   "id": "16796248",
   "metadata": {
    "executionInfo": {
     "elapsed": 3,
     "status": "ok",
     "timestamp": 1647789600381,
     "user": {
      "displayName": "박건후",
      "photoUrl": "https://lh3.googleusercontent.com/a-/AOh14GhaYtZyjr6hcOW1YyRrTjn2cFNOnuoxbGXifFqT=s64",
      "userId": "00163064144750334353"
     },
     "user_tz": -540
    },
    "id": "16796248"
   },
   "outputs": [],
   "source": []
  },
  {
   "cell_type": "code",
   "execution_count": 20,
   "id": "65be9c81",
   "metadata": {
    "executionInfo": {
     "elapsed": 2,
     "status": "ok",
     "timestamp": 1647789600381,
     "user": {
      "displayName": "박건후",
      "photoUrl": "https://lh3.googleusercontent.com/a-/AOh14GhaYtZyjr6hcOW1YyRrTjn2cFNOnuoxbGXifFqT=s64",
      "userId": "00163064144750334353"
     },
     "user_tz": -540
    },
    "id": "65be9c81"
   },
   "outputs": [],
   "source": [
    "# deep learning"
   ]
  },
  {
   "cell_type": "code",
   "execution_count": 21,
   "id": "736701f9",
   "metadata": {
    "colab": {
     "base_uri": "https://localhost:8080/"
    },
    "collapsed": true,
    "executionInfo": {
     "elapsed": 2915,
     "status": "ok",
     "timestamp": 1647789603678,
     "user": {
      "displayName": "박건후",
      "photoUrl": "https://lh3.googleusercontent.com/a-/AOh14GhaYtZyjr6hcOW1YyRrTjn2cFNOnuoxbGXifFqT=s64",
      "userId": "00163064144750334353"
     },
     "user_tz": -540
    },
    "id": "736701f9",
    "outputId": "f4831e73-4202-4347-b1b7-53f316c1570a"
   },
   "outputs": [
    {
     "name": "stdout",
     "output_type": "stream",
     "text": [
      "Model: \"sequential\"\n",
      "_________________________________________________________________\n",
      " Layer (type)                Output Shape              Param #   \n",
      "=================================================================\n",
      " dense (Dense)               (None, 128)               100480    \n",
      "                                                                 \n",
      " dense_1 (Dense)             (None, 56)                7224      \n",
      "                                                                 \n",
      " dense_2 (Dense)             (None, 10)                570       \n",
      "                                                                 \n",
      "=================================================================\n",
      "Total params: 108,274\n",
      "Trainable params: 108,274\n",
      "Non-trainable params: 0\n",
      "_________________________________________________________________\n"
     ]
    }
   ],
   "source": [
    "model = Sequential()\n",
    "model.add(Dense(128, input_dim=28*28, activation='relu'))  # 은닉층 - relu\n",
    "model.add(Dense(56, activation='relu'))\n",
    "model.add(Dense(10, activation='softmax')) # softmax - multi classification\n",
    "model.summary()"
   ]
  },
  {
   "cell_type": "code",
   "execution_count": 22,
   "id": "ab29c5f7",
   "metadata": {
    "executionInfo": {
     "elapsed": 8,
     "status": "ok",
     "timestamp": 1647789603679,
     "user": {
      "displayName": "박건후",
      "photoUrl": "https://lh3.googleusercontent.com/a-/AOh14GhaYtZyjr6hcOW1YyRrTjn2cFNOnuoxbGXifFqT=s64",
      "userId": "00163064144750334353"
     },
     "user_tz": -540
    },
    "id": "ab29c5f7"
   },
   "outputs": [],
   "source": [
    "model.compile(loss='categorical_crossentropy', metrics=['accuracy'], optimizer='adam')"
   ]
  },
  {
   "cell_type": "code",
   "execution_count": 23,
   "id": "7240b46a",
   "metadata": {
    "colab": {
     "base_uri": "https://localhost:8080/"
    },
    "executionInfo": {
     "elapsed": 8,
     "status": "ok",
     "timestamp": 1647789603679,
     "user": {
      "displayName": "박건후",
      "photoUrl": "https://lh3.googleusercontent.com/a-/AOh14GhaYtZyjr6hcOW1YyRrTjn2cFNOnuoxbGXifFqT=s64",
      "userId": "00163064144750334353"
     },
     "user_tz": -540
    },
    "id": "7240b46a",
    "outputId": "3e838dea-66dd-4e3d-cd3c-fefbf0469398"
   },
   "outputs": [
    {
     "data": {
      "text/plain": [
       "(60000, 784)"
      ]
     },
     "execution_count": 23,
     "metadata": {},
     "output_type": "execute_result"
    }
   ],
   "source": [
    "x_train.shape"
   ]
  },
  {
   "cell_type": "code",
   "execution_count": 24,
   "id": "2aa72356",
   "metadata": {
    "colab": {
     "base_uri": "https://localhost:8080/"
    },
    "executionInfo": {
     "elapsed": 310,
     "status": "ok",
     "timestamp": 1647789603985,
     "user": {
      "displayName": "박건후",
      "photoUrl": "https://lh3.googleusercontent.com/a-/AOh14GhaYtZyjr6hcOW1YyRrTjn2cFNOnuoxbGXifFqT=s64",
      "userId": "00163064144750334353"
     },
     "user_tz": -540
    },
    "id": "2aa72356",
    "outputId": "95b9f2e4-5dc4-4030-ed91-8dd7ebb5969d"
   },
   "outputs": [
    {
     "data": {
      "text/plain": [
       "(60000, 10)"
      ]
     },
     "execution_count": 24,
     "metadata": {},
     "output_type": "execute_result"
    }
   ],
   "source": [
    "y_train_oh.shape"
   ]
  },
  {
   "cell_type": "code",
   "execution_count": 56,
   "id": "RmfKiYOjAtSx",
   "metadata": {
    "colab": {
     "base_uri": "https://localhost:8080/"
    },
    "executionInfo": {
     "elapsed": 265,
     "status": "ok",
     "timestamp": 1647791262683,
     "user": {
      "displayName": "박건후",
      "photoUrl": "https://lh3.googleusercontent.com/a-/AOh14GhaYtZyjr6hcOW1YyRrTjn2cFNOnuoxbGXifFqT=s64",
      "userId": "00163064144750334353"
     },
     "user_tz": -540
    },
    "id": "RmfKiYOjAtSx",
    "outputId": "fc974171-57a4-4752-d5c4-ab2bd2e77290"
   },
   "outputs": [
    {
     "data": {
      "text/plain": [
       "array([[0, 0, 0, ..., 0, 0, 0],\n",
       "       [0, 0, 0, ..., 0, 0, 0],\n",
       "       [0, 0, 0, ..., 0, 0, 0],\n",
       "       ...,\n",
       "       [0, 0, 0, ..., 0, 0, 0],\n",
       "       [0, 0, 0, ..., 0, 0, 0],\n",
       "       [0, 0, 0, ..., 0, 0, 0]], dtype=uint8)"
      ]
     },
     "execution_count": 56,
     "metadata": {},
     "output_type": "execute_result"
    }
   ],
   "source": [
    "x_train"
   ]
  },
  {
   "cell_type": "code",
   "execution_count": 25,
   "id": "d8cfa1ac",
   "metadata": {
    "colab": {
     "base_uri": "https://localhost:8080/"
    },
    "collapsed": true,
    "executionInfo": {
     "elapsed": 471069,
     "status": "ok",
     "timestamp": 1647790075051,
     "user": {
      "displayName": "박건후",
      "photoUrl": "https://lh3.googleusercontent.com/a-/AOh14GhaYtZyjr6hcOW1YyRrTjn2cFNOnuoxbGXifFqT=s64",
      "userId": "00163064144750334353"
     },
     "user_tz": -540
    },
    "id": "d8cfa1ac",
    "outputId": "f15868c0-5707-4bd8-d845-ad874b41b8ce"
   },
   "outputs": [
    {
     "name": "stdout",
     "output_type": "stream",
     "text": [
      "Epoch 1/50\n",
      "2400/2400 [==============================] - 12s 4ms/step - loss: 1.6785 - accuracy: 0.7350 - val_loss: 0.5711 - val_accuracy: 0.8049\n",
      "Epoch 2/50\n",
      "2400/2400 [==============================] - 9s 4ms/step - loss: 0.5484 - accuracy: 0.8098 - val_loss: 0.5125 - val_accuracy: 0.8193\n",
      "Epoch 3/50\n",
      "2400/2400 [==============================] - 9s 4ms/step - loss: 0.4791 - accuracy: 0.8307 - val_loss: 0.4569 - val_accuracy: 0.8430\n",
      "Epoch 4/50\n",
      "2400/2400 [==============================] - 9s 4ms/step - loss: 0.4608 - accuracy: 0.8371 - val_loss: 0.4988 - val_accuracy: 0.8255\n",
      "Epoch 5/50\n",
      "2400/2400 [==============================] - 10s 4ms/step - loss: 0.4329 - accuracy: 0.8479 - val_loss: 0.4325 - val_accuracy: 0.8467\n",
      "Epoch 6/50\n",
      "2400/2400 [==============================] - 10s 4ms/step - loss: 0.4167 - accuracy: 0.8530 - val_loss: 0.4385 - val_accuracy: 0.8557\n",
      "Epoch 7/50\n",
      "2400/2400 [==============================] - 9s 4ms/step - loss: 0.4092 - accuracy: 0.8565 - val_loss: 0.4563 - val_accuracy: 0.8499\n",
      "Epoch 8/50\n",
      "2400/2400 [==============================] - 9s 4ms/step - loss: 0.3909 - accuracy: 0.8611 - val_loss: 0.4532 - val_accuracy: 0.8445\n",
      "Epoch 9/50\n",
      "2400/2400 [==============================] - 9s 4ms/step - loss: 0.3775 - accuracy: 0.8658 - val_loss: 0.4183 - val_accuracy: 0.8605\n",
      "Epoch 10/50\n",
      "2400/2400 [==============================] - 9s 4ms/step - loss: 0.3718 - accuracy: 0.8673 - val_loss: 0.4287 - val_accuracy: 0.8494\n",
      "Epoch 11/50\n",
      "2400/2400 [==============================] - 9s 4ms/step - loss: 0.3674 - accuracy: 0.8702 - val_loss: 0.4058 - val_accuracy: 0.8648\n",
      "Epoch 12/50\n",
      "2400/2400 [==============================] - 9s 4ms/step - loss: 0.3568 - accuracy: 0.8751 - val_loss: 0.4380 - val_accuracy: 0.8614\n",
      "Epoch 13/50\n",
      "2400/2400 [==============================] - 9s 4ms/step - loss: 0.3538 - accuracy: 0.8751 - val_loss: 0.4204 - val_accuracy: 0.8694\n",
      "Epoch 14/50\n",
      "2400/2400 [==============================] - 11s 5ms/step - loss: 0.3499 - accuracy: 0.8770 - val_loss: 0.4106 - val_accuracy: 0.8699\n",
      "Epoch 15/50\n",
      "2400/2400 [==============================] - 9s 4ms/step - loss: 0.3379 - accuracy: 0.8816 - val_loss: 0.4232 - val_accuracy: 0.8604\n",
      "Epoch 16/50\n",
      "2400/2400 [==============================] - 9s 4ms/step - loss: 0.3429 - accuracy: 0.8818 - val_loss: 0.3909 - val_accuracy: 0.8711\n",
      "Epoch 17/50\n",
      "2400/2400 [==============================] - 9s 4ms/step - loss: 0.3396 - accuracy: 0.8822 - val_loss: 0.4010 - val_accuracy: 0.8678\n",
      "Epoch 18/50\n",
      "2400/2400 [==============================] - 9s 4ms/step - loss: 0.3319 - accuracy: 0.8823 - val_loss: 0.4204 - val_accuracy: 0.8669\n",
      "Epoch 19/50\n",
      "2400/2400 [==============================] - 9s 4ms/step - loss: 0.3344 - accuracy: 0.8827 - val_loss: 0.4392 - val_accuracy: 0.8698\n",
      "Epoch 20/50\n",
      "2400/2400 [==============================] - 9s 4ms/step - loss: 0.3307 - accuracy: 0.8863 - val_loss: 0.4306 - val_accuracy: 0.8676\n",
      "Epoch 21/50\n",
      "2400/2400 [==============================] - 12s 5ms/step - loss: 0.3330 - accuracy: 0.8851 - val_loss: 0.4253 - val_accuracy: 0.8682\n",
      "Epoch 22/50\n",
      "2400/2400 [==============================] - 12s 5ms/step - loss: 0.3184 - accuracy: 0.8863 - val_loss: 0.4002 - val_accuracy: 0.8747\n",
      "Epoch 23/50\n",
      "2400/2400 [==============================] - 10s 4ms/step - loss: 0.3244 - accuracy: 0.8862 - val_loss: 0.4367 - val_accuracy: 0.8671\n",
      "Epoch 24/50\n",
      "2400/2400 [==============================] - 10s 4ms/step - loss: 0.3146 - accuracy: 0.8885 - val_loss: 0.4357 - val_accuracy: 0.8587\n",
      "Epoch 25/50\n",
      "2400/2400 [==============================] - 9s 4ms/step - loss: 0.3168 - accuracy: 0.8875 - val_loss: 0.4714 - val_accuracy: 0.8662\n",
      "Epoch 26/50\n",
      "2400/2400 [==============================] - 9s 4ms/step - loss: 0.3133 - accuracy: 0.8903 - val_loss: 0.4715 - val_accuracy: 0.8703\n",
      "Epoch 27/50\n",
      "2400/2400 [==============================] - 9s 4ms/step - loss: 0.3157 - accuracy: 0.8890 - val_loss: 0.4705 - val_accuracy: 0.8638\n",
      "Epoch 28/50\n",
      "2400/2400 [==============================] - 9s 4ms/step - loss: 0.3112 - accuracy: 0.8910 - val_loss: 0.4769 - val_accuracy: 0.8663\n",
      "Epoch 29/50\n",
      "2400/2400 [==============================] - 9s 4ms/step - loss: 0.3070 - accuracy: 0.8916 - val_loss: 0.5151 - val_accuracy: 0.8601\n",
      "Epoch 30/50\n",
      "2400/2400 [==============================] - 9s 4ms/step - loss: 0.3128 - accuracy: 0.8901 - val_loss: 0.4603 - val_accuracy: 0.8658\n",
      "Epoch 31/50\n",
      "2400/2400 [==============================] - 9s 4ms/step - loss: 0.3004 - accuracy: 0.8940 - val_loss: 0.4436 - val_accuracy: 0.8693\n",
      "Epoch 32/50\n",
      "2400/2400 [==============================] - 9s 4ms/step - loss: 0.3013 - accuracy: 0.8940 - val_loss: 0.5178 - val_accuracy: 0.8622\n",
      "Epoch 33/50\n",
      "2400/2400 [==============================] - 9s 4ms/step - loss: 0.3096 - accuracy: 0.8904 - val_loss: 0.4354 - val_accuracy: 0.8670\n",
      "Epoch 34/50\n",
      "2400/2400 [==============================] - 9s 4ms/step - loss: 0.2993 - accuracy: 0.8935 - val_loss: 0.4391 - val_accuracy: 0.8698\n",
      "Epoch 35/50\n",
      "2400/2400 [==============================] - 9s 4ms/step - loss: 0.2957 - accuracy: 0.8947 - val_loss: 0.4566 - val_accuracy: 0.8702\n",
      "Epoch 36/50\n",
      "2400/2400 [==============================] - 9s 4ms/step - loss: 0.2927 - accuracy: 0.8976 - val_loss: 0.4961 - val_accuracy: 0.8650\n",
      "Epoch 37/50\n",
      "2400/2400 [==============================] - 10s 4ms/step - loss: 0.2878 - accuracy: 0.8985 - val_loss: 0.4719 - val_accuracy: 0.8711\n",
      "Epoch 38/50\n",
      "2400/2400 [==============================] - 9s 4ms/step - loss: 0.2949 - accuracy: 0.8973 - val_loss: 0.5491 - val_accuracy: 0.8367\n",
      "Epoch 39/50\n",
      "2400/2400 [==============================] - 10s 4ms/step - loss: 0.2985 - accuracy: 0.8955 - val_loss: 0.4902 - val_accuracy: 0.8638\n",
      "Epoch 40/50\n",
      "2400/2400 [==============================] - 9s 4ms/step - loss: 0.2942 - accuracy: 0.8958 - val_loss: 0.5113 - val_accuracy: 0.8699\n",
      "Epoch 41/50\n",
      "2400/2400 [==============================] - 9s 4ms/step - loss: 0.2898 - accuracy: 0.8986 - val_loss: 0.4992 - val_accuracy: 0.8644\n",
      "Epoch 42/50\n",
      "2400/2400 [==============================] - 9s 4ms/step - loss: 0.2874 - accuracy: 0.8989 - val_loss: 0.4744 - val_accuracy: 0.8747\n",
      "Epoch 43/50\n",
      "2400/2400 [==============================] - 9s 4ms/step - loss: 0.2848 - accuracy: 0.8979 - val_loss: 0.4551 - val_accuracy: 0.8688\n",
      "Epoch 44/50\n",
      "2400/2400 [==============================] - 9s 4ms/step - loss: 0.2885 - accuracy: 0.8965 - val_loss: 0.4841 - val_accuracy: 0.8730\n",
      "Epoch 45/50\n",
      "2400/2400 [==============================] - 9s 4ms/step - loss: 0.2808 - accuracy: 0.9005 - val_loss: 0.5148 - val_accuracy: 0.8625\n",
      "Epoch 46/50\n",
      "2400/2400 [==============================] - 9s 4ms/step - loss: 0.2876 - accuracy: 0.8977 - val_loss: 0.4520 - val_accuracy: 0.8714\n",
      "Epoch 47/50\n",
      "2400/2400 [==============================] - 9s 4ms/step - loss: 0.2836 - accuracy: 0.8998 - val_loss: 0.4796 - val_accuracy: 0.8682\n",
      "Epoch 48/50\n",
      "2400/2400 [==============================] - 9s 4ms/step - loss: 0.2823 - accuracy: 0.9003 - val_loss: 0.4730 - val_accuracy: 0.8673\n",
      "Epoch 49/50\n",
      "2400/2400 [==============================] - 9s 4ms/step - loss: 0.2859 - accuracy: 0.9002 - val_loss: 0.5156 - val_accuracy: 0.8643\n",
      "Epoch 50/50\n",
      "2400/2400 [==============================] - 9s 4ms/step - loss: 0.2956 - accuracy: 0.8961 - val_loss: 0.4753 - val_accuracy: 0.8669\n"
     ]
    }
   ],
   "source": [
    "hist = model.fit(x_train.astype(float), y_train_oh, validation_split=0.2, epochs=50, batch_size=20)"
   ]
  },
  {
   "cell_type": "code",
   "execution_count": 26,
   "id": "26951c6d",
   "metadata": {
    "colab": {
     "base_uri": "https://localhost:8080/"
    },
    "executionInfo": {
     "elapsed": 1414,
     "status": "ok",
     "timestamp": 1647790076446,
     "user": {
      "displayName": "박건후",
      "photoUrl": "https://lh3.googleusercontent.com/a-/AOh14GhaYtZyjr6hcOW1YyRrTjn2cFNOnuoxbGXifFqT=s64",
      "userId": "00163064144750334353"
     },
     "user_tz": -540
    },
    "id": "26951c6d",
    "outputId": "a8a7dc76-d7e1-4aa1-d544-2c48399d7f1c"
   },
   "outputs": [
    {
     "name": "stdout",
     "output_type": "stream",
     "text": [
      "313/313 [==============================] - 1s 4ms/step - loss: 0.4788 - accuracy: 0.8644\n"
     ]
    },
    {
     "data": {
      "text/plain": [
       "[0.4788486361503601, 0.8644000291824341]"
      ]
     },
     "execution_count": 26,
     "metadata": {},
     "output_type": "execute_result"
    }
   ],
   "source": [
    "model.evaluate(x_test, y_test_oh)"
   ]
  },
  {
   "cell_type": "code",
   "execution_count": 26,
   "id": "d43da442",
   "metadata": {
    "executionInfo": {
     "elapsed": 3,
     "status": "ok",
     "timestamp": 1647790076446,
     "user": {
      "displayName": "박건후",
      "photoUrl": "https://lh3.googleusercontent.com/a-/AOh14GhaYtZyjr6hcOW1YyRrTjn2cFNOnuoxbGXifFqT=s64",
      "userId": "00163064144750334353"
     },
     "user_tz": -540
    },
    "id": "d43da442"
   },
   "outputs": [],
   "source": []
  },
  {
   "cell_type": "code",
   "execution_count": 27,
   "id": "486ec19c",
   "metadata": {
    "colab": {
     "base_uri": "https://localhost:8080/",
     "height": 283
    },
    "executionInfo": {
     "elapsed": 439,
     "status": "ok",
     "timestamp": 1647790076882,
     "user": {
      "displayName": "박건후",
      "photoUrl": "https://lh3.googleusercontent.com/a-/AOh14GhaYtZyjr6hcOW1YyRrTjn2cFNOnuoxbGXifFqT=s64",
      "userId": "00163064144750334353"
     },
     "user_tz": -540
    },
    "id": "486ec19c",
    "outputId": "ac9aaf4e-6086-4552-a829-59af4fbc0685"
   },
   "outputs": [
    {
     "data": {
      "text/plain": [
       "[<matplotlib.lines.Line2D at 0x7f59b8bf3410>]"
      ]
     },
     "execution_count": 27,
     "metadata": {},
     "output_type": "execute_result"
    },
    {
     "data": {
      "image/png": "[encoded data removed]",
      "text/plain": [
       "<Figure size 432x288 with 1 Axes>"
      ]
     },
     "metadata": {
      "needs_background": "light"
     },
     "output_type": "display_data"
    }
   ],
   "source": [
    "plt.plot(hist.history['accuracy'])\n",
    "plt.plot(hist.history['val_accuracy'])"
   ]
  },
  {
   "cell_type": "code",
   "execution_count": 27,
   "id": "eLRHtK1JBEU2",
   "metadata": {
    "executionInfo": {
     "elapsed": 5,
     "status": "ok",
     "timestamp": 1647790076882,
     "user": {
      "displayName": "박건후",
      "photoUrl": "https://lh3.googleusercontent.com/a-/AOh14GhaYtZyjr6hcOW1YyRrTjn2cFNOnuoxbGXifFqT=s64",
      "userId": "00163064144750334353"
     },
     "user_tz": -540
    },
    "id": "eLRHtK1JBEU2"
   },
   "outputs": [],
   "source": []
  },
  {
   "cell_type": "code",
   "execution_count": null,
   "id": "w_tF4TJxOjtI",
   "metadata": {
    "id": "w_tF4TJxOjtI"
   },
   "outputs": [],
   "source": [
    "# https://davinci-ai.tistory.com/29"
   ]
  },
  {
   "cell_type": "code",
   "execution_count": 27,
   "id": "buHHE3sUDgls",
   "metadata": {
    "executionInfo": {
     "elapsed": 5,
     "status": "ok",
     "timestamp": 1647790076883,
     "user": {
      "displayName": "박건후",
      "photoUrl": "https://lh3.googleusercontent.com/a-/AOh14GhaYtZyjr6hcOW1YyRrTjn2cFNOnuoxbGXifFqT=s64",
      "userId": "00163064144750334353"
     },
     "user_tz": -540
    },
    "id": "buHHE3sUDgls"
   },
   "outputs": [],
   "source": [
    "# CNN - 합성곱 신경망(Convolutional Neural Network) \n",
    "## 주로 이미지를 사용한 딥러닝 네트워크 방식에서 사용됩니다"
   ]
  },
  {
   "cell_type": "markdown",
   "id": "WRr3J3A1OmGg",
   "metadata": {
    "id": "WRr3J3A1OmGg"
   },
   "source": [
    "<img src='https://img1.daumcdn.net/thumb/R1280x0/?scode=mtistory2&fname=https%3A%2F%2Fblog.kakaocdn.net%2Fdn%2FckMfvx%2FbtqCNGi5uBJ%2F1SWyWAUWX9zdQ7Ij4U3fQk%2Fimg.png'>"
   ]
  },
  {
   "cell_type": "code",
   "execution_count": 28,
   "id": "cL3gK6ZtBEfE",
   "metadata": {
    "executionInfo": {
     "elapsed": 5,
     "status": "ok",
     "timestamp": 1647790076883,
     "user": {
      "displayName": "박건후",
      "photoUrl": "https://lh3.googleusercontent.com/a-/AOh14GhaYtZyjr6hcOW1YyRrTjn2cFNOnuoxbGXifFqT=s64",
      "userId": "00163064144750334353"
     },
     "user_tz": -540
    },
    "id": "cL3gK6ZtBEfE"
   },
   "outputs": [],
   "source": [
    "# 컨볼루션 레이어(Convolution Layer) 합성곱 래아어\n",
    "## 합성곱은 특정 크기를 가진 필터(Filter, Kernel)를 일정 간격(Stride)으로 이동하면서 입력 데이터에 연산을 적용합니다."
   ]
  },
  {
   "cell_type": "markdown",
   "id": "FTAtnx8jHkPh",
   "metadata": {
    "id": "FTAtnx8jHkPh"
   },
   "source": [
    "<img src='https://miro.medium.com/max/1400/1*Fw-ehcNBR9byHtho-Rxbtw.gif' height=400 display:inline>\n",
    "<img src='https://img1.daumcdn.net/thumb/R1280x0/?scode=mtistory2&fname=https%3A%2F%2Fblog.kakaocdn.net%2Fdn%2FsSowL%2FbtqCLeODqbH%2F0VNYdYkafga04UZhgxliv0%2Fimg.png' height=300>"
   ]
  },
  {
   "cell_type": "code",
   "execution_count": null,
   "id": "GiqwOzsZSAHL",
   "metadata": {
    "id": "GiqwOzsZSAHL"
   },
   "outputs": [],
   "source": [
    "# 필터\n",
    "## 어떠한 필터(Filter)를 사용하느냐에 따라 찾을 수 있는 이미지의 특징이 달라집니다.\n",
    "## 학습을 통해서 점차 특징을 잘 찾는 필터가 생성되도록 합니다."
   ]
  },
  {
   "cell_type": "markdown",
   "id": "0nVHJPDaSmt1",
   "metadata": {
    "id": "0nVHJPDaSmt1"
   },
   "source": [
    "<img src='https://img1.daumcdn.net/thumb/R1280x0/?scode=mtistory2&fname=https%3A%2F%2Fblog.kakaocdn.net%2Fdn%2FbMXMXe%2FbtqCeuEfwDQ%2FkrWOp0cFiNYKnln6kqPLS0%2Fimg.png'>\n"
   ]
  },
  {
   "cell_type": "code",
   "execution_count": 60,
   "id": "S_YCdKYTPIJY",
   "metadata": {
    "executionInfo": {
     "elapsed": 260,
     "status": "ok",
     "timestamp": 1647795762714,
     "user": {
      "displayName": "박건후",
      "photoUrl": "https://lh3.googleusercontent.com/a-/AOh14GhaYtZyjr6hcOW1YyRrTjn2cFNOnuoxbGXifFqT=s64",
      "userId": "00163064144750334353"
     },
     "user_tz": -540
    },
    "id": "S_YCdKYTPIJY"
   },
   "outputs": [],
   "source": [
    "# 풀링(Pooling) - 은 합성곱에 의해 얻어진 Feature map으로부터 값을 샘플링해서 정보를 압축하는 과정을 의미합니다."
   ]
  },
  {
   "cell_type": "markdown",
   "id": "nDixUvRgO7qx",
   "metadata": {
    "id": "nDixUvRgO7qx"
   },
   "source": [
    "<img src='https://codetorial.net/tensorflow/_images/convolutional_neural_network_03.png' height=400>"
   ]
  },
  {
   "cell_type": "code",
   "execution_count": 29,
   "id": "gAt7vgvN_OTd",
   "metadata": {
    "executionInfo": {
     "elapsed": 5,
     "status": "ok",
     "timestamp": 1647790076883,
     "user": {
      "displayName": "박건후",
      "photoUrl": "https://lh3.googleusercontent.com/a-/AOh14GhaYtZyjr6hcOW1YyRrTjn2cFNOnuoxbGXifFqT=s64",
      "userId": "00163064144750334353"
     },
     "user_tz": -540
    },
    "id": "gAt7vgvN_OTd"
   },
   "outputs": [],
   "source": [
    "from tensorflow.keras.layers import Conv2D, Flatten, MaxPooling2D, Dropout"
   ]
  },
  {
   "cell_type": "code",
   "execution_count": 30,
   "id": "lgr0EDSH_Ohj",
   "metadata": {
    "executionInfo": {
     "elapsed": 4,
     "status": "ok",
     "timestamp": 1647790076883,
     "user": {
      "displayName": "박건후",
      "photoUrl": "https://lh3.googleusercontent.com/a-/AOh14GhaYtZyjr6hcOW1YyRrTjn2cFNOnuoxbGXifFqT=s64",
      "userId": "00163064144750334353"
     },
     "user_tz": -540
    },
    "id": "lgr0EDSH_Ohj"
   },
   "outputs": [],
   "source": [
    "# 샘플수, 행, 열, 채널 수 - 4D 텐서\n",
    "x_train_cov = train_input.reshape(60000, 28, 28, 1)\n",
    "x_test_cov = test_input.reshape(10000, 28, 28,1)"
   ]
  },
  {
   "cell_type": "code",
   "execution_count": 58,
   "id": "UsCMYQ8P_Op8",
   "metadata": {
    "colab": {
     "base_uri": "https://localhost:8080/"
    },
    "executionInfo": {
     "elapsed": 12,
     "status": "ok",
     "timestamp": 1647791707686,
     "user": {
      "displayName": "박건후",
      "photoUrl": "https://lh3.googleusercontent.com/a-/AOh14GhaYtZyjr6hcOW1YyRrTjn2cFNOnuoxbGXifFqT=s64",
      "userId": "00163064144750334353"
     },
     "user_tz": -540
    },
    "id": "UsCMYQ8P_Op8",
    "outputId": "d0e48078-e0c8-42cb-a3ab-88eec68c7cc2"
   },
   "outputs": [
    {
     "name": "stdout",
     "output_type": "stream",
     "text": [
      "Model: \"sequential_2\"\n",
      "_________________________________________________________________\n",
      " Layer (type)                Output Shape              Param #   \n",
      "=================================================================\n",
      " conv2d_2 (Conv2D)           (None, 28, 28, 32)        320       \n",
      "                                                                 \n",
      " max_pooling2d_2 (MaxPooling  (None, 14, 14, 32)       0         \n",
      " 2D)                                                             \n",
      "                                                                 \n",
      " conv2d_3 (Conv2D)           (None, 14, 14, 64)        18496     \n",
      "                                                                 \n",
      " max_pooling2d_3 (MaxPooling  (None, 7, 7, 64)         0         \n",
      " 2D)                                                             \n",
      "                                                                 \n",
      " flatten_1 (Flatten)         (None, 3136)              0         \n",
      "                                                                 \n",
      " dense_5 (Dense)             (None, 100)               313700    \n",
      "                                                                 \n",
      " dropout_1 (Dropout)         (None, 100)               0         \n",
      "                                                                 \n",
      " dense_6 (Dense)             (None, 10)                1010      \n",
      "                                                                 \n",
      "=================================================================\n",
      "Total params: 333,526\n",
      "Trainable params: 333,526\n",
      "Non-trainable params: 0\n",
      "_________________________________________________________________\n"
     ]
    }
   ],
   "source": [
    "model = Sequential()\n",
    "model.add(Conv2D(32, kernel_size=(3,3), activation='relu', input_shape=(28,28,1), padding='same'))\n",
    "model.add(MaxPooling2D(2))\n",
    "model.add(Conv2D(64, kernel_size=(3,3), activation='relu', padding='same'))\n",
    "model.add(MaxPooling2D(2))\n",
    "model.add(Flatten()) # 분류를 위해 입력 데이터를 1차원으로 변환\n",
    "model.add(Dense(100, activation='relu'))\n",
    "model.add(Dropout(0.3))\n",
    "model.add(Dense(10, activation='softmax'))\n",
    "model.summary()"
   ]
  },
  {
   "cell_type": "markdown",
   "id": "sksFvmpIUznh",
   "metadata": {
    "id": "sksFvmpIUznh"
   },
   "source": [
    "<img src='https://img1.daumcdn.net/thumb/R1280x0/?scode=mtistory2&fname=https%3A%2F%2Fblog.kakaocdn.net%2Fdn%2FdAL0w4%2FbtqCd1WEYoi%2FypDer6gvLoSCJnPM9QdDsk%2Fimg.png' height=300>"
   ]
  },
  {
   "cell_type": "code",
   "execution_count": 32,
   "id": "YqjTI_73_OxM",
   "metadata": {
    "executionInfo": {
     "elapsed": 5,
     "status": "ok",
     "timestamp": 1647790077380,
     "user": {
      "displayName": "박건후",
      "photoUrl": "https://lh3.googleusercontent.com/a-/AOh14GhaYtZyjr6hcOW1YyRrTjn2cFNOnuoxbGXifFqT=s64",
      "userId": "00163064144750334353"
     },
     "user_tz": -540
    },
    "id": "YqjTI_73_OxM"
   },
   "outputs": [],
   "source": [
    "model.compile(loss='categorical_crossentropy', metrics=['accuracy'], optimizer='adam')"
   ]
  },
  {
   "cell_type": "code",
   "execution_count": 33,
   "id": "ZAoC_DBf_O3c",
   "metadata": {
    "colab": {
     "base_uri": "https://localhost:8080/"
    },
    "executionInfo": {
     "elapsed": 322457,
     "status": "ok",
     "timestamp": 1647790399833,
     "user": {
      "displayName": "박건후",
      "photoUrl": "https://lh3.googleusercontent.com/a-/AOh14GhaYtZyjr6hcOW1YyRrTjn2cFNOnuoxbGXifFqT=s64",
      "userId": "00163064144750334353"
     },
     "user_tz": -540
    },
    "id": "ZAoC_DBf_O3c",
    "outputId": "a47ab6c3-cd7e-41fa-cfc0-326c678dfcea"
   },
   "outputs": [
    {
     "name": "stdout",
     "output_type": "stream",
     "text": [
      "Epoch 1/10\n",
      "4800/4800 [==============================] - 37s 6ms/step - loss: 0.5922 - accuracy: 0.8189 - val_loss: 0.3484 - val_accuracy: 0.8711\n",
      "Epoch 2/10\n",
      "4800/4800 [==============================] - 27s 6ms/step - loss: 0.3729 - accuracy: 0.8660 - val_loss: 0.3318 - val_accuracy: 0.8783\n",
      "Epoch 3/10\n",
      "4800/4800 [==============================] - 29s 6ms/step - loss: 0.3316 - accuracy: 0.8792 - val_loss: 0.3158 - val_accuracy: 0.8811\n",
      "Epoch 4/10\n",
      "4800/4800 [==============================] - 26s 6ms/step - loss: 0.3082 - accuracy: 0.8878 - val_loss: 0.2945 - val_accuracy: 0.8903\n",
      "Epoch 5/10\n",
      "4800/4800 [==============================] - 26s 6ms/step - loss: 0.2969 - accuracy: 0.8948 - val_loss: 0.3489 - val_accuracy: 0.8752\n",
      "Epoch 6/10\n",
      "4800/4800 [==============================] - 26s 6ms/step - loss: 0.2841 - accuracy: 0.8970 - val_loss: 0.3195 - val_accuracy: 0.8921\n",
      "Epoch 7/10\n",
      "4800/4800 [==============================] - 26s 5ms/step - loss: 0.2762 - accuracy: 0.8997 - val_loss: 0.3189 - val_accuracy: 0.8799\n",
      "Epoch 8/10\n",
      "4800/4800 [==============================] - 29s 6ms/step - loss: 0.2674 - accuracy: 0.9038 - val_loss: 0.3194 - val_accuracy: 0.8893\n",
      "Epoch 9/10\n",
      "4800/4800 [==============================] - 26s 6ms/step - loss: 0.2668 - accuracy: 0.9049 - val_loss: 0.3025 - val_accuracy: 0.8963\n",
      "Epoch 10/10\n",
      "4800/4800 [==============================] - 29s 6ms/step - loss: 0.2575 - accuracy: 0.9075 - val_loss: 0.3195 - val_accuracy: 0.8971\n"
     ]
    }
   ],
   "source": [
    "hist = model.fit(x_train_cov, y_train_oh, epochs=10, batch_size=10, validation_split=0.2)"
   ]
  },
  {
   "cell_type": "code",
   "execution_count": 34,
   "id": "KC_CH_4I_O78",
   "metadata": {
    "colab": {
     "base_uri": "https://localhost:8080/"
    },
    "executionInfo": {
     "elapsed": 2746,
     "status": "ok",
     "timestamp": 1647790402565,
     "user": {
      "displayName": "박건후",
      "photoUrl": "https://lh3.googleusercontent.com/a-/AOh14GhaYtZyjr6hcOW1YyRrTjn2cFNOnuoxbGXifFqT=s64",
      "userId": "00163064144750334353"
     },
     "user_tz": -540
    },
    "id": "KC_CH_4I_O78",
    "outputId": "21a3f211-2678-47cf-94b6-4fe6e49892f6"
   },
   "outputs": [
    {
     "name": "stdout",
     "output_type": "stream",
     "text": [
      "313/313 [==============================] - 2s 5ms/step - loss: 0.3659 - accuracy: 0.8898\n"
     ]
    },
    {
     "data": {
      "text/plain": [
       "[0.36594054102897644, 0.8898000121116638]"
      ]
     },
     "execution_count": 34,
     "metadata": {},
     "output_type": "execute_result"
    }
   ],
   "source": [
    "model.evaluate(x_test_cov, y_test_oh)"
   ]
  },
  {
   "cell_type": "code",
   "execution_count": 35,
   "id": "x3qEWreG_O_M",
   "metadata": {
    "colab": {
     "base_uri": "https://localhost:8080/",
     "height": 283
    },
    "executionInfo": {
     "elapsed": 22,
     "status": "ok",
     "timestamp": 1647790402566,
     "user": {
      "displayName": "박건후",
      "photoUrl": "https://lh3.googleusercontent.com/a-/AOh14GhaYtZyjr6hcOW1YyRrTjn2cFNOnuoxbGXifFqT=s64",
      "userId": "00163064144750334353"
     },
     "user_tz": -540
    },
    "id": "x3qEWreG_O_M",
    "outputId": "7e49073d-7469-468b-caf6-b66b15224d17"
   },
   "outputs": [
    {
     "data": {
      "text/plain": [
       "[<matplotlib.lines.Line2D at 0x7f59b8990190>]"
      ]
     },
     "execution_count": 35,
     "metadata": {},
     "output_type": "execute_result"
    },
    {
     "data": {
      "image/png": "[encoded data removed]",
      "text/plain": [
       "<Figure size 432x288 with 1 Axes>"
      ]
     },
     "metadata": {
      "needs_background": "light"
     },
     "output_type": "display_data"
    }
   ],
   "source": [
    "plt.plot(hist.history['accuracy'])\n",
    "plt.plot(hist.history['val_accuracy'])"
   ]
  },
  {
   "cell_type": "code",
   "execution_count": 35,
   "id": "487c62b8",
   "metadata": {
    "executionInfo": {
     "elapsed": 13,
     "status": "ok",
     "timestamp": 1647790402566,
     "user": {
      "displayName": "박건후",
      "photoUrl": "https://lh3.googleusercontent.com/a-/AOh14GhaYtZyjr6hcOW1YyRrTjn2cFNOnuoxbGXifFqT=s64",
      "userId": "00163064144750334353"
     },
     "user_tz": -540
    },
    "id": "487c62b8"
   },
   "outputs": [],
   "source": []
  },
  {
   "cell_type": "code",
   "execution_count": 36,
   "id": "0956ba26",
   "metadata": {
    "colab": {
     "base_uri": "https://localhost:8080/"
    },
    "executionInfo": {
     "elapsed": 742,
     "status": "ok",
     "timestamp": 1647790403296,
     "user": {
      "displayName": "박건후",
      "photoUrl": "https://lh3.googleusercontent.com/a-/AOh14GhaYtZyjr6hcOW1YyRrTjn2cFNOnuoxbGXifFqT=s64",
      "userId": "00163064144750334353"
     },
     "user_tz": -540
    },
    "id": "0956ba26",
    "outputId": "01b69ee1-22a4-451a-c520-2bd567f203c1"
   },
   "outputs": [
    {
     "name": "stdout",
     "output_type": "stream",
     "text": [
      "Model: \"sequential_1\"\n",
      "_________________________________________________________________\n",
      " Layer (type)                Output Shape              Param #   \n",
      "=================================================================\n",
      " conv2d (Conv2D)             (None, 28, 28, 32)        320       \n",
      "                                                                 \n",
      " max_pooling2d (MaxPooling2D  (None, 14, 14, 32)       0         \n",
      " )                                                               \n",
      "                                                                 \n",
      " conv2d_1 (Conv2D)           (None, 14, 14, 64)        18496     \n",
      "                                                                 \n",
      " max_pooling2d_1 (MaxPooling  (None, 7, 7, 64)         0         \n",
      " 2D)                                                             \n",
      "                                                                 \n",
      " flatten (Flatten)           (None, 3136)              0         \n",
      "                                                                 \n",
      " dense_3 (Dense)             (None, 100)               313700    \n",
      "                                                                 \n",
      " dropout (Dropout)           (None, 100)               0         \n",
      "                                                                 \n",
      " dense_4 (Dense)             (None, 10)                1010      \n",
      "                                                                 \n",
      "=================================================================\n",
      "Total params: 333,526\n",
      "Trainable params: 333,526\n",
      "Non-trainable params: 0\n",
      "_________________________________________________________________\n"
     ]
    }
   ],
   "source": [
    "model.summary()"
   ]
  },
  {
   "cell_type": "code",
   "execution_count": 37,
   "id": "FEWzEZ-5Fd8l",
   "metadata": {
    "executionInfo": {
     "elapsed": 13,
     "status": "ok",
     "timestamp": 1647790403296,
     "user": {
      "displayName": "박건후",
      "photoUrl": "https://lh3.googleusercontent.com/a-/AOh14GhaYtZyjr6hcOW1YyRrTjn2cFNOnuoxbGXifFqT=s64",
      "userId": "00163064144750334353"
     },
     "user_tz": -540
    },
    "id": "FEWzEZ-5Fd8l"
   },
   "outputs": [],
   "source": [
    "from tensorflow.keras import utils"
   ]
  },
  {
   "cell_type": "code",
   "execution_count": 38,
   "id": "ecc78358",
   "metadata": {
    "colab": {
     "base_uri": "https://localhost:8080/",
     "height": 976
    },
    "executionInfo": {
     "elapsed": 13,
     "status": "ok",
     "timestamp": 1647790403297,
     "user": {
      "displayName": "박건후",
      "photoUrl": "https://lh3.googleusercontent.com/a-/AOh14GhaYtZyjr6hcOW1YyRrTjn2cFNOnuoxbGXifFqT=s64",
      "userId": "00163064144750334353"
     },
     "user_tz": -540
    },
    "id": "ecc78358",
    "outputId": "f311eb05-63a4-4468-f2d6-2eefd0146edf"
   },
   "outputs": [
    {
     "data": {
      "image/png": "[encoded data removed]",
      "text/plain": [
       "<IPython.core.display.Image object>"
      ]
     },
     "execution_count": 38,
     "metadata": {},
     "output_type": "execute_result"
    }
   ],
   "source": [
    "# 모델 구성 시각화\n",
    "utils.plot_model(model, show_shapes = True)"
   ]
  },
  {
   "cell_type": "code",
   "execution_count": 38,
   "id": "12e9f678",
   "metadata": {
    "executionInfo": {
     "elapsed": 11,
     "status": "ok",
     "timestamp": 1647790403297,
     "user": {
      "displayName": "박건후",
      "photoUrl": "https://lh3.googleusercontent.com/a-/AOh14GhaYtZyjr6hcOW1YyRrTjn2cFNOnuoxbGXifFqT=s64",
      "userId": "00163064144750334353"
     },
     "user_tz": -540
    },
    "id": "12e9f678"
   },
   "outputs": [],
   "source": []
  },
  {
   "cell_type": "code",
   "execution_count": 39,
   "id": "lEyArN2HJY3V",
   "metadata": {
    "executionInfo": {
     "elapsed": 12,
     "status": "ok",
     "timestamp": 1647790403298,
     "user": {
      "displayName": "박건후",
      "photoUrl": "https://lh3.googleusercontent.com/a-/AOh14GhaYtZyjr6hcOW1YyRrTjn2cFNOnuoxbGXifFqT=s64",
      "userId": "00163064144750334353"
     },
     "user_tz": -540
    },
    "id": "lEyArN2HJY3V"
   },
   "outputs": [],
   "source": [
    "# filter print"
   ]
  },
  {
   "cell_type": "code",
   "execution_count": 40,
   "id": "9918cbee",
   "metadata": {
    "colab": {
     "base_uri": "https://localhost:8080/"
    },
    "executionInfo": {
     "elapsed": 12,
     "status": "ok",
     "timestamp": 1647790403298,
     "user": {
      "displayName": "박건후",
      "photoUrl": "https://lh3.googleusercontent.com/a-/AOh14GhaYtZyjr6hcOW1YyRrTjn2cFNOnuoxbGXifFqT=s64",
      "userId": "00163064144750334353"
     },
     "user_tz": -540
    },
    "id": "9918cbee",
    "outputId": "a19a02e9-39d5-40f2-e25f-359f12f50d6c"
   },
   "outputs": [
    {
     "data": {
      "text/plain": [
       "[<keras.layers.convolutional.Conv2D at 0x7f59b41d59d0>,\n",
       " <keras.layers.pooling.MaxPooling2D at 0x7f59b41d5e50>,\n",
       " <keras.layers.convolutional.Conv2D at 0x7f59b42400d0>,\n",
       " <keras.layers.pooling.MaxPooling2D at 0x7f59b5246710>,\n",
       " <keras.layers.core.flatten.Flatten at 0x7f59b41ddbd0>,\n",
       " <keras.layers.core.dense.Dense at 0x7f5a3676c950>,\n",
       " <keras.layers.core.dropout.Dropout at 0x7f5a36734f50>,\n",
       " <keras.layers.core.dense.Dense at 0x7f59b8bf80d0>]"
      ]
     },
     "execution_count": 40,
     "metadata": {},
     "output_type": "execute_result"
    }
   ],
   "source": [
    "model.layers"
   ]
  },
  {
   "cell_type": "code",
   "execution_count": 41,
   "id": "937c6d58",
   "metadata": {
    "colab": {
     "base_uri": "https://localhost:8080/"
    },
    "executionInfo": {
     "elapsed": 17,
     "status": "ok",
     "timestamp": 1647790403799,
     "user": {
      "displayName": "박건후",
      "photoUrl": "https://lh3.googleusercontent.com/a-/AOh14GhaYtZyjr6hcOW1YyRrTjn2cFNOnuoxbGXifFqT=s64",
      "userId": "00163064144750334353"
     },
     "user_tz": -540
    },
    "id": "937c6d58",
    "outputId": "337b495b-940d-496b-80e6-309f1cd6842a"
   },
   "outputs": [
    {
     "data": {
      "text/plain": [
       "<keras.layers.convolutional.Conv2D at 0x7f59b41d59d0>"
      ]
     },
     "execution_count": 41,
     "metadata": {},
     "output_type": "execute_result"
    }
   ],
   "source": [
    "model.layers[0]"
   ]
  },
  {
   "cell_type": "code",
   "execution_count": 64,
   "id": "dbbdd6cb",
   "metadata": {
    "colab": {
     "base_uri": "https://localhost:8080/"
    },
    "executionInfo": {
     "elapsed": 244,
     "status": "ok",
     "timestamp": 1647796809232,
     "user": {
      "displayName": "박건후",
      "photoUrl": "https://lh3.googleusercontent.com/a-/AOh14GhaYtZyjr6hcOW1YyRrTjn2cFNOnuoxbGXifFqT=s64",
      "userId": "00163064144750334353"
     },
     "user_tz": -540
    },
    "id": "dbbdd6cb",
    "outputId": "84bb0e7b-c893-418c-d883-409d3a89d98d"
   },
   "outputs": [
    {
     "data": {
      "text/plain": [
       "<tf.Variable 'conv2d_2/kernel:0' shape=(3, 3, 1, 32) dtype=float32, numpy=\n",
       "array([[[[ 0.03922924,  0.12753077,  0.12323327,  0.11679487,\n",
       "          -0.12158874, -0.10812014, -0.04058325,  0.00437705,\n",
       "          -0.11033367,  0.12548612, -0.03660569, -0.12402635,\n",
       "           0.11162649,  0.05927899, -0.04814073,  0.06156592,\n",
       "           0.12256806,  0.11193328, -0.05494399,  0.06680812,\n",
       "          -0.01366565,  0.13416182,  0.0274051 ,  0.01782176,\n",
       "          -0.08295235, -0.13569708, -0.05661226, -0.08944143,\n",
       "          -0.11143772,  0.04398787, -0.05139646,  0.11619361]],\n",
       "\n",
       "        [[-0.09030496,  0.02504708,  0.13142873, -0.12320808,\n",
       "           0.13459377,  0.07986084,  0.09978734, -0.04093953,\n",
       "          -0.12205089,  0.12743847, -0.01814044, -0.05236378,\n",
       "          -0.1312079 ,  0.04339427, -0.12448505,  0.01275499,\n",
       "          -0.10531448,  0.02699943, -0.11949975, -0.11508345,\n",
       "           0.05946009,  0.01073073,  0.07757911, -0.06757146,\n",
       "          -0.06635186,  0.08423299, -0.04625243, -0.12109337,\n",
       "          -0.13879852,  0.13159145,  0.04968651,  0.04277846]],\n",
       "\n",
       "        [[ 0.10498807, -0.07666713,  0.07470705, -0.05187583,\n",
       "           0.11176859,  0.02081703, -0.12610592, -0.06475109,\n",
       "          -0.01882066,  0.13489114,  0.04240558, -0.02848049,\n",
       "          -0.02175889, -0.04795615,  0.01619431, -0.02801917,\n",
       "          -0.02218293, -0.11089812, -0.08892649,  0.10020559,\n",
       "          -0.12153427,  0.04928118,  0.06987831,  0.04901139,\n",
       "          -0.04177015, -0.13666806, -0.08685723, -0.01947567,\n",
       "           0.05466256, -0.0311874 ,  0.00636102,  0.00701614]]],\n",
       "\n",
       "\n",
       "       [[[-0.10127138, -0.08484703, -0.12094132, -0.07963268,\n",
       "           0.10374996,  0.02842951, -0.04241583,  0.1011073 ,\n",
       "          -0.13159312, -0.06799885,  0.07011667,  0.1233068 ,\n",
       "          -0.0861399 , -0.04835422, -0.0614446 , -0.03338676,\n",
       "           0.02343588,  0.01183394, -0.1347968 , -0.10225506,\n",
       "           0.01965351, -0.11389126,  0.12025551,  0.13182549,\n",
       "          -0.02405646,  0.09211417, -0.08362031,  0.04625392,\n",
       "           0.12684654, -0.07399996, -0.13986912,  0.1294996 ]],\n",
       "\n",
       "        [[ 0.04262038,  0.09114923, -0.1004512 , -0.09571253,\n",
       "           0.08076034,  0.07820514, -0.11148787,  0.04989359,\n",
       "          -0.04277569, -0.09366441, -0.09159271, -0.12047462,\n",
       "          -0.06194193,  0.04631858, -0.06396595, -0.03982261,\n",
       "          -0.04640678, -0.06764957,  0.09565739, -0.11507403,\n",
       "           0.05546036, -0.0740574 , -0.05607257,  0.10824259,\n",
       "          -0.00591335,  0.00226066, -0.03707821,  0.09060991,\n",
       "          -0.138367  ,  0.12440066,  0.03851476, -0.01214536]],\n",
       "\n",
       "        [[-0.12003347, -0.10733864,  0.0527942 ,  0.05777799,\n",
       "           0.13979952,  0.00820467, -0.08996774,  0.07009695,\n",
       "          -0.01749492,  0.02216442, -0.05184723, -0.01510064,\n",
       "           0.13250236,  0.031691  , -0.03697346, -0.04630607,\n",
       "          -0.08561502, -0.01524161,  0.02801904,  0.08242869,\n",
       "          -0.08743226,  0.09611318,  0.03034563,  0.11429553,\n",
       "          -0.0128389 , -0.10621164, -0.06769847, -0.06205901,\n",
       "          -0.12933253, -0.02867167, -0.11990267,  0.05509716]]],\n",
       "\n",
       "\n",
       "       [[[-0.00064166, -0.00067142, -0.05847996,  0.0103333 ,\n",
       "          -0.10687749,  0.12424128, -0.03802004,  0.01210229,\n",
       "          -0.04421289,  0.1398416 , -0.12353397,  0.05624174,\n",
       "           0.1074992 , -0.08213814, -0.05435452, -0.03226811,\n",
       "           0.13577811, -0.11153622,  0.00388722,  0.12361474,\n",
       "           0.04822294,  0.1212341 ,  0.06692709,  0.0584475 ,\n",
       "          -0.06900696, -0.13275136, -0.06575486,  0.00809921,\n",
       "          -0.10659958,  0.08542396, -0.02799755, -0.13354507]],\n",
       "\n",
       "        [[-0.00048794, -0.11879757, -0.08670812, -0.02023088,\n",
       "          -0.03143105,  0.07989506,  0.12257804, -0.11544513,\n",
       "          -0.1355919 ,  0.01471798,  0.03308442,  0.04313402,\n",
       "          -0.11342283,  0.08275682, -0.01213394, -0.11377889,\n",
       "          -0.07194845,  0.02488117,  0.02681248,  0.06028341,\n",
       "           0.03804132, -0.01337865, -0.02001058,  0.01386403,\n",
       "           0.10915582,  0.07926111, -0.07400572,  0.05478905,\n",
       "          -0.08511081, -0.13344422,  0.02659889, -0.03302291]],\n",
       "\n",
       "        [[ 0.1274298 , -0.11183182,  0.08738567,  0.02848937,\n",
       "           0.06749773, -0.05787707,  0.10182892, -0.09023708,\n",
       "           0.08440104, -0.06851377, -0.12736934,  0.05043077,\n",
       "          -0.09302378,  0.10296513, -0.10169154,  0.05168639,\n",
       "           0.01624851, -0.10570398, -0.03817931,  0.09504648,\n",
       "           0.10111512, -0.14068381,  0.0652391 , -0.04353012,\n",
       "          -0.0138436 ,  0.02830823,  0.04406741,  0.0894981 ,\n",
       "          -0.00193632, -0.03648118, -0.00790304,  0.02329305]]]],\n",
       "      dtype=float32)>"
      ]
     },
     "execution_count": 64,
     "metadata": {},
     "output_type": "execute_result"
    }
   ],
   "source": [
    "# 필터 가중치\n",
    "model.layers[0].weights[0]"
   ]
  },
  {
   "cell_type": "code",
   "execution_count": 43,
   "id": "OKcv12MMF_9i",
   "metadata": {
    "executionInfo": {
     "elapsed": 11,
     "status": "ok",
     "timestamp": 1647790403800,
     "user": {
      "displayName": "박건후",
      "photoUrl": "https://lh3.googleusercontent.com/a-/AOh14GhaYtZyjr6hcOW1YyRrTjn2cFNOnuoxbGXifFqT=s64",
      "userId": "00163064144750334353"
     },
     "user_tz": -540
    },
    "id": "OKcv12MMF_9i"
   },
   "outputs": [],
   "source": [
    "conv1 = model.layers[0]\n",
    "conv1_weights = conv1.weights[0].numpy()"
   ]
  },
  {
   "cell_type": "code",
   "execution_count": 44,
   "id": "3kAI7C7WHiP9",
   "metadata": {
    "colab": {
     "base_uri": "https://localhost:8080/"
    },
    "executionInfo": {
     "elapsed": 10,
     "status": "ok",
     "timestamp": 1647790403800,
     "user": {
      "displayName": "박건후",
      "photoUrl": "https://lh3.googleusercontent.com/a-/AOh14GhaYtZyjr6hcOW1YyRrTjn2cFNOnuoxbGXifFqT=s64",
      "userId": "00163064144750334353"
     },
     "user_tz": -540
    },
    "id": "3kAI7C7WHiP9",
    "outputId": "0ec5d183-9d15-42c5-ed23-790a46ef6f04"
   },
   "outputs": [
    {
     "data": {
      "text/plain": [
       "(3, 3, 1, 32)"
      ]
     },
     "execution_count": 44,
     "metadata": {},
     "output_type": "execute_result"
    }
   ],
   "source": [
    "conv1_weights.shape"
   ]
  },
  {
   "cell_type": "code",
   "execution_count": 45,
   "id": "IJ-GKDNYGRRZ",
   "metadata": {
    "colab": {
     "base_uri": "https://localhost:8080/",
     "height": 134
    },
    "executionInfo": {
     "elapsed": 454,
     "status": "ok",
     "timestamp": 1647790404248,
     "user": {
      "displayName": "박건후",
      "photoUrl": "https://lh3.googleusercontent.com/a-/AOh14GhaYtZyjr6hcOW1YyRrTjn2cFNOnuoxbGXifFqT=s64",
      "userId": "00163064144750334353"
     },
     "user_tz": -540
    },
    "id": "IJ-GKDNYGRRZ",
    "outputId": "04473299-b985-4902-9d5a-b899e8445b8e"
   },
   "outputs": [
    {
     "data": {
      "image/png": "[encoded data removed]",
      "text/plain": [
       "<Figure size 1080x144 with 32 Axes>"
      ]
     },
     "metadata": {
      "needs_background": "light"
     },
     "output_type": "display_data"
    }
   ],
   "source": [
    "# 필터별 가중치 시각화\n",
    "fig, axs = plt.subplots(2, 16, figsize=(15,2))\n",
    "\n",
    "for i in range(2):\n",
    "  for j in range(16):\n",
    "    axs[i, j].imshow(conv1_weights[:, :, 0, i*16+j], vmin=-0.5, vmax=0.5)\n",
    "    axs[i, j].axis('off')\n",
    "\n",
    "plt.show()"
   ]
  },
  {
   "cell_type": "code",
   "execution_count": 45,
   "id": "u66AZQ-xHPen",
   "metadata": {
    "executionInfo": {
     "elapsed": 7,
     "status": "ok",
     "timestamp": 1647790404248,
     "user": {
      "displayName": "박건후",
      "photoUrl": "https://lh3.googleusercontent.com/a-/AOh14GhaYtZyjr6hcOW1YyRrTjn2cFNOnuoxbGXifFqT=s64",
      "userId": "00163064144750334353"
     },
     "user_tz": -540
    },
    "id": "u66AZQ-xHPen"
   },
   "outputs": [],
   "source": []
  },
  {
   "cell_type": "code",
   "execution_count": 46,
   "id": "bEhhVpBLJRwc",
   "metadata": {
    "executionInfo": {
     "elapsed": 7,
     "status": "ok",
     "timestamp": 1647790404249,
     "user": {
      "displayName": "박건후",
      "photoUrl": "https://lh3.googleusercontent.com/a-/AOh14GhaYtZyjr6hcOW1YyRrTjn2cFNOnuoxbGXifFqT=s64",
      "userId": "00163064144750334353"
     },
     "user_tz": -540
    },
    "id": "bEhhVpBLJRwc"
   },
   "outputs": [],
   "source": [
    "# layer output print"
   ]
  },
  {
   "cell_type": "code",
   "execution_count": 47,
   "id": "Z3nbhIAcJRzi",
   "metadata": {
    "colab": {
     "base_uri": "https://localhost:8080/"
    },
    "executionInfo": {
     "elapsed": 381,
     "status": "ok",
     "timestamp": 1647790404623,
     "user": {
      "displayName": "박건후",
      "photoUrl": "https://lh3.googleusercontent.com/a-/AOh14GhaYtZyjr6hcOW1YyRrTjn2cFNOnuoxbGXifFqT=s64",
      "userId": "00163064144750334353"
     },
     "user_tz": -540
    },
    "id": "Z3nbhIAcJRzi",
    "outputId": "964ad420-63ea-41f6-cb6d-ca9cb1a3c1cc"
   },
   "outputs": [
    {
     "data": {
      "text/plain": [
       "<KerasTensor: shape=(None, 28, 28, 1) dtype=float32 (created by layer 'conv2d_input')>"
      ]
     },
     "execution_count": 47,
     "metadata": {},
     "output_type": "execute_result"
    }
   ],
   "source": [
    "model.input"
   ]
  },
  {
   "cell_type": "code",
   "execution_count": 48,
   "id": "llA4V27ZJR2D",
   "metadata": {
    "colab": {
     "base_uri": "https://localhost:8080/"
    },
    "executionInfo": {
     "elapsed": 14,
     "status": "ok",
     "timestamp": 1647790404624,
     "user": {
      "displayName": "박건후",
      "photoUrl": "https://lh3.googleusercontent.com/a-/AOh14GhaYtZyjr6hcOW1YyRrTjn2cFNOnuoxbGXifFqT=s64",
      "userId": "00163064144750334353"
     },
     "user_tz": -540
    },
    "id": "llA4V27ZJR2D",
    "outputId": "140a3433-bd4e-4d5c-ba77-06a29b0aac75"
   },
   "outputs": [
    {
     "data": {
      "text/plain": [
       "<KerasTensor: shape=(None, 28, 28, 32) dtype=float32 (created by layer 'conv2d')>"
      ]
     },
     "execution_count": 48,
     "metadata": {},
     "output_type": "execute_result"
    }
   ],
   "source": [
    "model.layers[0].output"
   ]
  },
  {
   "cell_type": "code",
   "execution_count": 49,
   "id": "izqMWEB8JR4b",
   "metadata": {
    "executionInfo": {
     "elapsed": 12,
     "status": "ok",
     "timestamp": 1647790404624,
     "user": {
      "displayName": "박건후",
      "photoUrl": "https://lh3.googleusercontent.com/a-/AOh14GhaYtZyjr6hcOW1YyRrTjn2cFNOnuoxbGXifFqT=s64",
      "userId": "00163064144750334353"
     },
     "user_tz": -540
    },
    "id": "izqMWEB8JR4b"
   },
   "outputs": [],
   "source": [
    "from tensorflow.keras.models import Model"
   ]
  },
  {
   "cell_type": "code",
   "execution_count": 50,
   "id": "0FEpgOyeJ446",
   "metadata": {
    "executionInfo": {
     "elapsed": 12,
     "status": "ok",
     "timestamp": 1647790404624,
     "user": {
      "displayName": "박건후",
      "photoUrl": "https://lh3.googleusercontent.com/a-/AOh14GhaYtZyjr6hcOW1YyRrTjn2cFNOnuoxbGXifFqT=s64",
      "userId": "00163064144750334353"
     },
     "user_tz": -540
    },
    "id": "0FEpgOyeJ446"
   },
   "outputs": [],
   "source": [
    "# 입력값과 출력값을 넣어 모델생성\n",
    "conv_acti = Model(model.input, model.layers[0].output)"
   ]
  },
  {
   "cell_type": "code",
   "execution_count": 51,
   "id": "MhDLGLwzKAHJ",
   "metadata": {
    "colab": {
     "base_uri": "https://localhost:8080/",
     "height": 265
    },
    "executionInfo": {
     "elapsed": 12,
     "status": "ok",
     "timestamp": 1647790404625,
     "user": {
      "displayName": "박건후",
      "photoUrl": "https://lh3.googleusercontent.com/a-/AOh14GhaYtZyjr6hcOW1YyRrTjn2cFNOnuoxbGXifFqT=s64",
      "userId": "00163064144750334353"
     },
     "user_tz": -540
    },
    "id": "MhDLGLwzKAHJ",
    "outputId": "d4c05e67-9eef-4583-84ea-9ed85bb8e3e6"
   },
   "outputs": [
    {
     "data": {
      "image/png": "[encoded data removed]",
      "text/plain": [
       "<Figure size 432x288 with 1 Axes>"
      ]
     },
     "metadata": {
      "needs_background": "light"
     },
     "output_type": "display_data"
    }
   ],
   "source": [
    "plt.imshow(train_input[0], cmap='gray_r')\n",
    "plt.show()"
   ]
  },
  {
   "cell_type": "code",
   "execution_count": 52,
   "id": "dP_5GlteKUfp",
   "metadata": {
    "executionInfo": {
     "elapsed": 235,
     "status": "ok",
     "timestamp": 1647790404849,
     "user": {
      "displayName": "박건후",
      "photoUrl": "https://lh3.googleusercontent.com/a-/AOh14GhaYtZyjr6hcOW1YyRrTjn2cFNOnuoxbGXifFqT=s64",
      "userId": "00163064144750334353"
     },
     "user_tz": -540
    },
    "id": "dP_5GlteKUfp"
   },
   "outputs": [],
   "source": [
    "inputs = train_input[0].reshape(-1, 28, 28,1)\n",
    "feature_maps = conv_acti.predict(inputs)"
   ]
  },
  {
   "cell_type": "code",
   "execution_count": 53,
   "id": "s1xdkbffKmLB",
   "metadata": {
    "colab": {
     "base_uri": "https://localhost:8080/",
     "height": 460
    },
    "executionInfo": {
     "elapsed": 1190,
     "status": "ok",
     "timestamp": 1647790406037,
     "user": {
      "displayName": "박건후",
      "photoUrl": "https://lh3.googleusercontent.com/a-/AOh14GhaYtZyjr6hcOW1YyRrTjn2cFNOnuoxbGXifFqT=s64",
      "userId": "00163064144750334353"
     },
     "user_tz": -540
    },
    "id": "s1xdkbffKmLB",
    "outputId": "b2658078-f187-4bc8-c7dd-b9f7d9b9374c"
   },
   "outputs": [
    {
     "data": {
      "image/png": "[encoded data removed]",
      "text/plain": [
       "<Figure size 1080x576 with 32 Axes>"
      ]
     },
     "metadata": {
      "needs_background": "light"
     },
     "output_type": "display_data"
    }
   ],
   "source": [
    "# 피쳐 시각화\n",
    "fig, axs = plt.subplots(4,8, figsize=(15,8))\n",
    "\n",
    "for i in range(4):\n",
    "  for j in range(8):\n",
    "    axs[i,j].imshow(feature_maps[0,:,:, i*8+j])\n",
    "    axs[i,j].axis('off')\n",
    "    \n",
    "plt.show()"
   ]
  },
  {
   "cell_type": "code",
   "execution_count": 53,
   "id": "QWLfumVMK9Wg",
   "metadata": {
    "executionInfo": {
     "elapsed": 8,
     "status": "ok",
     "timestamp": 1647790406038,
     "user": {
      "displayName": "박건후",
      "photoUrl": "https://lh3.googleusercontent.com/a-/AOh14GhaYtZyjr6hcOW1YyRrTjn2cFNOnuoxbGXifFqT=s64",
      "userId": "00163064144750334353"
     },
     "user_tz": -540
    },
    "id": "QWLfumVMK9Wg"
   },
   "outputs": [],
   "source": []
  }
 ],
 "metadata": {
  "accelerator": "GPU",
  "colab": {
   "collapsed_sections": [],
   "name": "fashion_mnist(발표용).ipynb",
   "provenance": []
  },
  "kernelspec": {
   "display_name": "Python 3 (ipykernel)",
   "language": "python",
   "name": "python3"
  },
  "language_info": {
   "codemirror_mode": {
    "name": "ipython",
    "version": 3
   },
   "file_extension": ".py",
   "mimetype": "text/x-python",
   "name": "python",
   "nbconvert_exporter": "python",
   "pygments_lexer": "ipython3",
   "version": "3.9.7"
  }
 },
 "nbformat": 4,
 "nbformat_minor": 5
}
