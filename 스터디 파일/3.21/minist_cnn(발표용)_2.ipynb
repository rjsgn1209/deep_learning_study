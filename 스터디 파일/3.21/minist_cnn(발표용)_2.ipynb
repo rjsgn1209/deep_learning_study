{
 "cells": [
  {
   "cell_type": "code",
   "execution_count": null,
   "id": "89bf99b3",
   "metadata": {
    "id": "89bf99b3"
   },
   "outputs": [],
   "source": [
    "import pandas as pd\n",
    "import numpy as np\n",
    "import matplotlib.pyplot as plt\n",
    "import seaborn as sns"
   ]
  },
  {
   "cell_type": "code",
   "execution_count": null,
   "id": "1c377f8b",
   "metadata": {
    "id": "1c377f8b"
   },
   "outputs": [],
   "source": [
    "from tensorflow.keras.datasets import mnist\n",
    "from tensorflow.keras import utils\n",
    "import tensorflow as tf"
   ]
  },
  {
   "cell_type": "code",
   "execution_count": null,
   "id": "800ccd18",
   "metadata": {
    "id": "800ccd18"
   },
   "outputs": [],
   "source": [
    "from tensorflow.keras.models import Sequential\n",
    "from tensorflow.keras.layers import Dense"
   ]
  },
  {
   "cell_type": "code",
   "execution_count": null,
   "id": "FhMsZw_AGfJp",
   "metadata": {
    "id": "FhMsZw_AGfJp"
   },
   "outputs": [],
   "source": [
    "# Mnist 이미지 데이터 학습 모델만들기 "
   ]
  },
  {
   "cell_type": "code",
   "execution_count": null,
   "id": "18b0e5a2",
   "metadata": {
    "colab": {
     "base_uri": "https://localhost:8080/"
    },
    "executionInfo": {
     "elapsed": 1095,
     "status": "ok",
     "timestamp": 1647590567698,
     "user": {
      "displayName": "박건후",
      "photoUrl": "https://lh3.googleusercontent.com/a-/AOh14GhaYtZyjr6hcOW1YyRrTjn2cFNOnuoxbGXifFqT=s64",
      "userId": "00163064144750334353"
     },
     "user_tz": -540
    },
    "id": "18b0e5a2",
    "outputId": "77cde793-24e1-4281-ff6e-15c88c65fce0"
   },
   "outputs": [
    {
     "name": "stdout",
     "output_type": "stream",
     "text": [
      "Downloading data from https://storage.googleapis.com/tensorflow/tf-keras-datasets/mnist.npz\n",
      "11493376/11490434 [==============================] - 0s 0us/step\n",
      "11501568/11490434 [==============================] - 0s 0us/step\n"
     ]
    }
   ],
   "source": [
    "(x_train, y_train), (x_test, y_test) = mnist.load_data()"
   ]
  },
  {
   "cell_type": "code",
   "execution_count": null,
   "id": "a71af542",
   "metadata": {
    "colab": {
     "base_uri": "https://localhost:8080/"
    },
    "executionInfo": {
     "elapsed": 5,
     "status": "ok",
     "timestamp": 1647590569144,
     "user": {
      "displayName": "박건후",
      "photoUrl": "https://lh3.googleusercontent.com/a-/AOh14GhaYtZyjr6hcOW1YyRrTjn2cFNOnuoxbGXifFqT=s64",
      "userId": "00163064144750334353"
     },
     "user_tz": -540
    },
    "id": "a71af542",
    "outputId": "203f2b01-1811-4076-97e0-fcaefc6d0ff1"
   },
   "outputs": [
    {
     "name": "stdout",
     "output_type": "stream",
     "text": [
      "(60000, 28, 28)\n",
      "(10000, 28, 28)\n",
      "(60000,)\n",
      "(10000,)\n"
     ]
    }
   ],
   "source": [
    "print(x_train.shape)\n",
    "print(x_test.shape)\n",
    "print(y_train.shape)\n",
    "print(y_test.shape)"
   ]
  },
  {
   "cell_type": "code",
   "execution_count": null,
   "id": "2049f92d",
   "metadata": {
    "colab": {
     "base_uri": "https://localhost:8080/"
    },
    "executionInfo": {
     "elapsed": 236,
     "status": "ok",
     "timestamp": 1647590570378,
     "user": {
      "displayName": "박건후",
      "photoUrl": "https://lh3.googleusercontent.com/a-/AOh14GhaYtZyjr6hcOW1YyRrTjn2cFNOnuoxbGXifFqT=s64",
      "userId": "00163064144750334353"
     },
     "user_tz": -540
    },
    "id": "2049f92d",
    "outputId": "55a36b0c-bb67-4593-fe0c-ef4395f985ae"
   },
   "outputs": [
    {
     "data": {
      "text/plain": [
       "(28, 28)"
      ]
     },
     "execution_count": 6,
     "metadata": {},
     "output_type": "execute_result"
    }
   ],
   "source": [
    "x_train[0].shape"
   ]
  },
  {
   "cell_type": "code",
   "execution_count": null,
   "id": "8ba21f2e",
   "metadata": {
    "colab": {
     "base_uri": "https://localhost:8080/",
     "height": 283
    },
    "executionInfo": {
     "elapsed": 397,
     "status": "ok",
     "timestamp": 1647590571617,
     "user": {
      "displayName": "박건후",
      "photoUrl": "https://lh3.googleusercontent.com/a-/AOh14GhaYtZyjr6hcOW1YyRrTjn2cFNOnuoxbGXifFqT=s64",
      "userId": "00163064144750334353"
     },
     "user_tz": -540
    },
    "id": "8ba21f2e",
    "outputId": "dd8e8172-4550-497b-93b1-122e948dc4a0"
   },
   "outputs": [
    {
     "data": {
      "text/plain": [
       "<matplotlib.image.AxesImage at 0x7f454d9ba910>"
      ]
     },
     "execution_count": 7,
     "metadata": {},
     "output_type": "execute_result"
    },
    {
     "data": {
      "image/png": "[encoded data removed]",
      "text/plain": [
       "<Figure size 432x288 with 1 Axes>"
      ]
     },
     "metadata": {
      "needs_background": "light"
     },
     "output_type": "display_data"
    }
   ],
   "source": [
    "plt.imshow(x_train[0], cmap='Greys')"
   ]
  },
  {
   "cell_type": "code",
   "execution_count": null,
   "id": "963e41fc",
   "metadata": {
    "id": "963e41fc"
   },
   "outputs": [],
   "source": []
  },
  {
   "cell_type": "code",
   "execution_count": null,
   "id": "5ac40d92",
   "metadata": {
    "id": "5ac40d92"
   },
   "outputs": [],
   "source": [
    "x_train_vec = x_train.reshape(60000, 28*28)\n",
    "x_test_vec = x_test.reshape(10000, 28*28)"
   ]
  },
  {
   "cell_type": "code",
   "execution_count": null,
   "id": "97486f75",
   "metadata": {
    "id": "97486f75"
   },
   "outputs": [],
   "source": []
  },
  {
   "cell_type": "code",
   "execution_count": null,
   "id": "c295df6b",
   "metadata": {
    "id": "c295df6b"
   },
   "outputs": [],
   "source": [
    "y_train_oh = utils.to_categorical(y_train)\n",
    "y_test_oh = utils.to_categorical(y_test)"
   ]
  },
  {
   "cell_type": "code",
   "execution_count": null,
   "id": "35ceb2dc",
   "metadata": {
    "id": "35ceb2dc"
   },
   "outputs": [],
   "source": []
  },
  {
   "cell_type": "code",
   "execution_count": null,
   "id": "7754d612",
   "metadata": {
    "id": "7754d612"
   },
   "outputs": [],
   "source": [
    "model = Sequential()\n",
    "model.add(Dense(112, input_dim = 28*28, activation='relu'))\n",
    "model.add(Dense(56, activation='relu'))\n",
    "model.add(Dense(28, activation='relu'))\n",
    "model.add(Dense(10, activation='softmax'))"
   ]
  },
  {
   "cell_type": "code",
   "execution_count": null,
   "id": "4a580669",
   "metadata": {
    "id": "4a580669"
   },
   "outputs": [],
   "source": []
  },
  {
   "cell_type": "code",
   "execution_count": null,
   "id": "d15b05e4",
   "metadata": {
    "id": "d15b05e4"
   },
   "outputs": [],
   "source": [
    "model.compile(loss='categorical_crossentropy', metrics=['accuracy'], optimizer='adam')"
   ]
  },
  {
   "cell_type": "code",
   "execution_count": null,
   "id": "28e6274c",
   "metadata": {
    "colab": {
     "base_uri": "https://localhost:8080/"
    },
    "executionInfo": {
     "elapsed": 142938,
     "status": "ok",
     "timestamp": 1647590780239,
     "user": {
      "displayName": "박건후",
      "photoUrl": "https://lh3.googleusercontent.com/a-/AOh14GhaYtZyjr6hcOW1YyRrTjn2cFNOnuoxbGXifFqT=s64",
      "userId": "00163064144750334353"
     },
     "user_tz": -540
    },
    "id": "28e6274c",
    "outputId": "0fb50798-df43-48c7-9caf-892aa206ab42",
    "scrolled": true
   },
   "outputs": [
    {
     "name": "stdout",
     "output_type": "stream",
     "text": [
      "Epoch 1/10\n",
      "2400/2400 [==============================] - 14s 5ms/step - loss: 1.1384 - accuracy: 0.7801 - val_loss: 0.4382 - val_accuracy: 0.8859\n",
      "Epoch 2/10\n",
      "2400/2400 [==============================] - 10s 4ms/step - loss: 0.3225 - accuracy: 0.9146 - val_loss: 0.2170 - val_accuracy: 0.9434\n",
      "Epoch 3/10\n",
      "2400/2400 [==============================] - 11s 5ms/step - loss: 0.2222 - accuracy: 0.9399 - val_loss: 0.1847 - val_accuracy: 0.9505\n",
      "Epoch 4/10\n",
      "2400/2400 [==============================] - 11s 5ms/step - loss: 0.1730 - accuracy: 0.9530 - val_loss: 0.1785 - val_accuracy: 0.9523\n",
      "Epoch 5/10\n",
      "2400/2400 [==============================] - 10s 4ms/step - loss: 0.1429 - accuracy: 0.9604 - val_loss: 0.1608 - val_accuracy: 0.9578\n",
      "Epoch 6/10\n",
      "2400/2400 [==============================] - 10s 4ms/step - loss: 0.1278 - accuracy: 0.9655 - val_loss: 0.1631 - val_accuracy: 0.9601\n",
      "Epoch 7/10\n",
      "2400/2400 [==============================] - 11s 5ms/step - loss: 0.1063 - accuracy: 0.9711 - val_loss: 0.1726 - val_accuracy: 0.9560\n",
      "Epoch 8/10\n",
      "2400/2400 [==============================] - 11s 5ms/step - loss: 0.0969 - accuracy: 0.9735 - val_loss: 0.1552 - val_accuracy: 0.9622\n",
      "Epoch 9/10\n",
      "2400/2400 [==============================] - 11s 5ms/step - loss: 0.0880 - accuracy: 0.9755 - val_loss: 0.1383 - val_accuracy: 0.9698\n",
      "Epoch 10/10\n",
      "2400/2400 [==============================] - 11s 5ms/step - loss: 0.0821 - accuracy: 0.9784 - val_loss: 0.1442 - val_accuracy: 0.9641\n"
     ]
    }
   ],
   "source": [
    "hist = model.fit(x_train_vec, y_train_oh, validation_split=0.2, epochs=10, batch_size=20)"
   ]
  },
  {
   "cell_type": "code",
   "execution_count": null,
   "id": "c8ab01dd",
   "metadata": {
    "colab": {
     "base_uri": "https://localhost:8080/"
    },
    "executionInfo": {
     "elapsed": 1844,
     "status": "ok",
     "timestamp": 1647590888991,
     "user": {
      "displayName": "박건후",
      "photoUrl": "https://lh3.googleusercontent.com/a-/AOh14GhaYtZyjr6hcOW1YyRrTjn2cFNOnuoxbGXifFqT=s64",
      "userId": "00163064144750334353"
     },
     "user_tz": -540
    },
    "id": "c8ab01dd",
    "outputId": "e084d054-d474-4c09-c7de-2f0b772e2fe5"
   },
   "outputs": [
    {
     "name": "stdout",
     "output_type": "stream",
     "text": [
      "313/313 [==============================] - 2s 5ms/step - loss: 0.1569 - accuracy: 0.9660\n"
     ]
    },
    {
     "data": {
      "text/plain": [
       "[0.15689407289028168, 0.9660000205039978]"
      ]
     },
     "execution_count": 16,
     "metadata": {},
     "output_type": "execute_result"
    }
   ],
   "source": [
    "model.evaluate(x_test_vec, y_test_oh)"
   ]
  },
  {
   "cell_type": "code",
   "execution_count": null,
   "id": "091adb22",
   "metadata": {
    "id": "091adb22"
   },
   "outputs": [],
   "source": []
  },
  {
   "cell_type": "code",
   "execution_count": null,
   "id": "9fc197f2",
   "metadata": {
    "colab": {
     "base_uri": "https://localhost:8080/",
     "height": 283
    },
    "executionInfo": {
     "elapsed": 768,
     "status": "ok",
     "timestamp": 1647590895178,
     "user": {
      "displayName": "박건후",
      "photoUrl": "https://lh3.googleusercontent.com/a-/AOh14GhaYtZyjr6hcOW1YyRrTjn2cFNOnuoxbGXifFqT=s64",
      "userId": "00163064144750334353"
     },
     "user_tz": -540
    },
    "id": "9fc197f2",
    "outputId": "54ab80cc-3b62-4d14-a869-f89bd452af9c"
   },
   "outputs": [
    {
     "data": {
      "text/plain": [
       "[<matplotlib.lines.Line2D at 0x7f454026e450>]"
      ]
     },
     "execution_count": 17,
     "metadata": {},
     "output_type": "execute_result"
    },
    {
     "data": {
      "image/png": "[encoded data removed]",
      "text/plain": [
       "<Figure size 432x288 with 1 Axes>"
      ]
     },
     "metadata": {
      "needs_background": "light"
     },
     "output_type": "display_data"
    }
   ],
   "source": [
    "plt.plot(hist.history['accuracy'])\n",
    "plt.plot(hist.history['val_accuracy'])"
   ]
  },
  {
   "cell_type": "code",
   "execution_count": null,
   "id": "168dd063",
   "metadata": {
    "id": "168dd063"
   },
   "outputs": [],
   "source": []
  },
  {
   "cell_type": "code",
   "execution_count": null,
   "id": "8c0c17ea",
   "metadata": {
    "id": "8c0c17ea"
   },
   "outputs": [],
   "source": [
    "# - CNN"
   ]
  },
  {
   "cell_type": "code",
   "execution_count": null,
   "id": "9e8e7f19",
   "metadata": {
    "id": "9e8e7f19"
   },
   "outputs": [],
   "source": [
    "from tensorflow.keras.layers import Conv2D, Flatten, MaxPooling2D, Dropout"
   ]
  },
  {
   "cell_type": "code",
   "execution_count": null,
   "id": "296db842",
   "metadata": {
    "id": "296db842"
   },
   "outputs": [],
   "source": [
    "x_train_cov = x_train.reshape(60000, 28, 28, 1)\n",
    "y_train_cov = x_test.reshape(10000, 28, 28, 1)"
   ]
  },
  {
   "cell_type": "code",
   "execution_count": null,
   "id": "31f097e3",
   "metadata": {
    "id": "31f097e3"
   },
   "outputs": [],
   "source": []
  },
  {
   "cell_type": "code",
   "execution_count": null,
   "id": "6c9ae36a",
   "metadata": {
    "colab": {
     "base_uri": "https://localhost:8080/"
    },
    "executionInfo": {
     "elapsed": 240,
     "status": "ok",
     "timestamp": 1647591033655,
     "user": {
      "displayName": "박건후",
      "photoUrl": "https://lh3.googleusercontent.com/a-/AOh14GhaYtZyjr6hcOW1YyRrTjn2cFNOnuoxbGXifFqT=s64",
      "userId": "00163064144750334353"
     },
     "user_tz": -540
    },
    "id": "6c9ae36a",
    "outputId": "7b400339-f6d7-48ac-b9ed-40bde49d51b0"
   },
   "outputs": [
    {
     "name": "stdout",
     "output_type": "stream",
     "text": [
      "Model: \"sequential_2\"\n",
      "_________________________________________________________________\n",
      " Layer (type)                Output Shape              Param #   \n",
      "=================================================================\n",
      " conv2d (Conv2D)             (None, 26, 26, 32)        320       \n",
      "                                                                 \n",
      " conv2d_1 (Conv2D)           (None, 24, 24, 64)        18496     \n",
      "                                                                 \n",
      " max_pooling2d (MaxPooling2D  (None, 12, 12, 64)       0         \n",
      " )                                                               \n",
      "                                                                 \n",
      " flatten (Flatten)           (None, 9216)              0         \n",
      "                                                                 \n",
      " dense_8 (Dense)             (None, 128)               1179776   \n",
      "                                                                 \n",
      " dense_9 (Dense)             (None, 10)                1290      \n",
      "                                                                 \n",
      "=================================================================\n",
      "Total params: 1,199,882\n",
      "Trainable params: 1,199,882\n",
      "Non-trainable params: 0\n",
      "_________________________________________________________________\n"
     ]
    }
   ],
   "source": [
    "model = b()\n",
    "model.add(Conv2D(32, kernel_size = (3,3), input_shape = (28,28,1), activation='relu'))\n",
    "model.add(Conv2D(64, (3,3), activation='relu'))\n",
    "model.add(MaxPooling2D(pool_size=2))\n",
    "model.add(Flatten())\n",
    "model.add(Dense(128, activation='relu'))\n",
    "model.add(Dense(10, activation='softmax'))\n",
    "model.summary()"
   ]
  },
  {
   "cell_type": "code",
   "execution_count": null,
   "id": "39d17500",
   "metadata": {
    "id": "39d17500"
   },
   "outputs": [],
   "source": []
  },
  {
   "cell_type": "code",
   "execution_count": null,
   "id": "54d18f04",
   "metadata": {
    "id": "54d18f04"
   },
   "outputs": [],
   "source": [
    "model.compile(loss='categorical_crossentropy', metrics = ['accuracy'], optimizer='adam')"
   ]
  },
  {
   "cell_type": "code",
   "execution_count": null,
   "id": "9ac40087",
   "metadata": {
    "colab": {
     "base_uri": "https://localhost:8080/"
    },
    "executionInfo": {
     "elapsed": 209248,
     "status": "ok",
     "timestamp": 1647589957979,
     "user": {
      "displayName": "박건후",
      "photoUrl": "https://lh3.googleusercontent.com/a-/AOh14GhaYtZyjr6hcOW1YyRrTjn2cFNOnuoxbGXifFqT=s64",
      "userId": "00163064144750334353"
     },
     "user_tz": -540
    },
    "id": "9ac40087",
    "outputId": "cc3edfe2-6da4-43ae-a9f8-a6accad47f85"
   },
   "outputs": [
    {
     "name": "stdout",
     "output_type": "stream",
     "text": [
      "Epoch 1/10\n",
      "2400/2400 [==============================] - 29s 9ms/step - loss: 0.3069 - accuracy: 0.9548 - val_loss: 0.0740 - val_accuracy: 0.9768\n",
      "Epoch 2/10\n",
      "2400/2400 [==============================] - 22s 9ms/step - loss: 0.0658 - accuracy: 0.9813 - val_loss: 0.0604 - val_accuracy: 0.9816\n",
      "Epoch 3/10\n",
      "2400/2400 [==============================] - 21s 9ms/step - loss: 0.0440 - accuracy: 0.9860 - val_loss: 0.0865 - val_accuracy: 0.9783\n",
      "Epoch 4/10\n",
      "2400/2400 [==============================] - 20s 9ms/step - loss: 0.0354 - accuracy: 0.9892 - val_loss: 0.0900 - val_accuracy: 0.9791\n",
      "Epoch 5/10\n",
      "2400/2400 [==============================] - 20s 8ms/step - loss: 0.0308 - accuracy: 0.9907 - val_loss: 0.0625 - val_accuracy: 0.9847\n",
      "Epoch 6/10\n",
      "2400/2400 [==============================] - 20s 8ms/step - loss: 0.0228 - accuracy: 0.9929 - val_loss: 0.1084 - val_accuracy: 0.9783\n",
      "Epoch 7/10\n",
      "2400/2400 [==============================] - 19s 8ms/step - loss: 0.0227 - accuracy: 0.9935 - val_loss: 0.0794 - val_accuracy: 0.9845\n",
      "Epoch 8/10\n",
      "2400/2400 [==============================] - 20s 8ms/step - loss: 0.0188 - accuracy: 0.9953 - val_loss: 0.1100 - val_accuracy: 0.9828\n",
      "Epoch 9/10\n",
      "2400/2400 [==============================] - 19s 8ms/step - loss: 0.0173 - accuracy: 0.9952 - val_loss: 0.1275 - val_accuracy: 0.9805\n",
      "Epoch 10/10\n",
      "2400/2400 [==============================] - 19s 8ms/step - loss: 0.0173 - accuracy: 0.9959 - val_loss: 0.1555 - val_accuracy: 0.9821\n"
     ]
    }
   ],
   "source": [
    "hist = model.fit(x_train_cov, y_train_oh, epochs=10, batch_size=20, validation_split=0.2)"
   ]
  },
  {
   "cell_type": "code",
   "execution_count": null,
   "id": "d57e656b",
   "metadata": {
    "id": "d57e656b"
   },
   "outputs": [],
   "source": []
  },
  {
   "cell_type": "code",
   "execution_count": null,
   "id": "ad7e0542",
   "metadata": {
    "id": "ad7e0542"
   },
   "outputs": [],
   "source": []
  }
 ],
 "metadata": {
  "accelerator": "GPU",
  "colab": {
   "collapsed_sections": [],
   "name": "minist_cnn.ipynb",
   "provenance": []
  },
  "kernelspec": {
   "display_name": "Python 3 (ipykernel)",
   "language": "python",
   "name": "python3"
  },
  "language_info": {
   "codemirror_mode": {
    "name": "ipython",
    "version": 3
   },
   "file_extension": ".py",
   "mimetype": "text/x-python",
   "name": "python",
   "nbconvert_exporter": "python",
   "pygments_lexer": "ipython3",
   "version": "3.9.7"
  }
 },
 "nbformat": 4,
 "nbformat_minor": 5
}
