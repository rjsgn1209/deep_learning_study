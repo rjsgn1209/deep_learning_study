{
 "cells": [
  {
   "cell_type": "markdown",
   "id": "8071d893",
   "metadata": {},
   "source": [
    "## RNN(Recurrent Neural Network)"
   ]
  },
  {
   "cell_type": "code",
   "execution_count": 35,
   "id": "f372854a",
   "metadata": {},
   "outputs": [],
   "source": [
    "# https://blog.naver.com/PostView.nhn?blogId=winddori2002&logNo=221974391796"
   ]
  },
  {
   "cell_type": "code",
   "execution_count": null,
   "id": "ac04ef52",
   "metadata": {},
   "outputs": [],
   "source": []
  },
  {
   "cell_type": "code",
   "execution_count": null,
   "id": "453729cb",
   "metadata": {},
   "outputs": [],
   "source": []
  },
  {
   "cell_type": "code",
   "execution_count": 38,
   "id": "X2XYxWcQfW--",
   "metadata": {
    "id": "X2XYxWcQfW--"
   },
   "outputs": [],
   "source": [
    "import pandas as pd\n",
    "import numpy as np\n",
    "import matplotlib.pyplot as plt\n",
    "import seaborn as sns"
   ]
  },
  {
   "cell_type": "code",
   "execution_count": 16,
   "id": "bEcH7Dv6hCAX",
   "metadata": {
    "id": "bEcH7Dv6hCAX"
   },
   "outputs": [],
   "source": [
    "from tensorflow.keras.preprocessing import sequence\n",
    "from tensorflow.keras import Sequential\n",
    "from tensorflow.keras .layers import Dense, Dropout, Activation, Embedding, SimpleRNN, LSTM"
   ]
  },
  {
   "cell_type": "code",
   "execution_count": 17,
   "id": "57721a4e",
   "metadata": {
    "id": "57721a4e"
   },
   "outputs": [],
   "source": [
    "from tensorflow.keras.datasets import imdb\n",
    "\n",
    "(x_train, y_train), (x_test, y_test) = imdb.load_data(num_words = 500)"
   ]
  },
  {
   "cell_type": "code",
   "execution_count": 18,
   "id": "3756f320",
   "metadata": {},
   "outputs": [
    {
     "data": {
      "text/plain": [
       "(25000,)"
      ]
     },
     "execution_count": 18,
     "metadata": {},
     "output_type": "execute_result"
    }
   ],
   "source": [
    "x_train.shape"
   ]
  },
  {
   "cell_type": "code",
   "execution_count": 19,
   "id": "46CkXRJ2k_v7",
   "metadata": {
    "id": "46CkXRJ2k_v7"
   },
   "outputs": [],
   "source": [
    "x_train = x_train[:2500]\n",
    "x_test = x_test[:2500]\n",
    "y_train = y_train[:2500]\n",
    "y_test = y_test[:2500]"
   ]
  },
  {
   "cell_type": "code",
   "execution_count": 20,
   "id": "u3IsI8RSZUBI",
   "metadata": {
    "colab": {
     "base_uri": "https://localhost:8080/"
    },
    "id": "u3IsI8RSZUBI",
    "outputId": "fa13cd44-4ff5-47d6-deb6-7f473277a7a4"
   },
   "outputs": [
    {
     "name": "stdout",
     "output_type": "stream",
     "text": [
      "(2500,) (2500,)\n"
     ]
    }
   ],
   "source": [
    "print(x_train.shape, x_test.shape)"
   ]
  },
  {
   "cell_type": "code",
   "execution_count": 21,
   "id": "tj2IASJWeVgn",
   "metadata": {
    "colab": {
     "base_uri": "https://localhost:8080/"
    },
    "id": "tj2IASJWeVgn",
    "outputId": "c261e208-f00c-47a4-a1b4-0df8b1a0788b"
   },
   "outputs": [
    {
     "data": {
      "text/plain": [
       "array([list([1, 14, 22, 16, 43, 2, 2, 2, 2, 65, 458, 2, 66, 2, 4, 173, 36, 256, 5, 25, 100, 43, 2, 112, 50, 2, 2, 9, 35, 480, 284, 5, 150, 4, 172, 112, 167, 2, 336, 385, 39, 4, 172, 2, 2, 17, 2, 38, 13, 447, 4, 192, 50, 16, 6, 147, 2, 19, 14, 22, 4, 2, 2, 469, 4, 22, 71, 87, 12, 16, 43, 2, 38, 76, 15, 13, 2, 4, 22, 17, 2, 17, 12, 16, 2, 18, 2, 5, 62, 386, 12, 8, 316, 8, 106, 5, 4, 2, 2, 16, 480, 66, 2, 33, 4, 130, 12, 16, 38, 2, 5, 25, 124, 51, 36, 135, 48, 25, 2, 33, 6, 22, 12, 215, 28, 77, 52, 5, 14, 407, 16, 82, 2, 8, 4, 107, 117, 2, 15, 256, 4, 2, 7, 2, 5, 2, 36, 71, 43, 2, 476, 26, 400, 317, 46, 7, 4, 2, 2, 13, 104, 88, 4, 381, 15, 297, 98, 32, 2, 56, 26, 141, 6, 194, 2, 18, 4, 226, 22, 21, 134, 476, 26, 480, 5, 144, 30, 2, 18, 51, 36, 28, 224, 92, 25, 104, 4, 226, 65, 16, 38, 2, 88, 12, 16, 283, 5, 16, 2, 113, 103, 32, 15, 16, 2, 19, 178, 32]),\n",
       "       list([1, 194, 2, 194, 2, 78, 228, 5, 6, 2, 2, 2, 134, 26, 4, 2, 8, 118, 2, 14, 394, 20, 13, 119, 2, 189, 102, 5, 207, 110, 2, 21, 14, 69, 188, 8, 30, 23, 7, 4, 249, 126, 93, 4, 114, 9, 2, 2, 5, 2, 4, 116, 9, 35, 2, 4, 229, 9, 340, 2, 4, 118, 9, 4, 130, 2, 19, 4, 2, 5, 89, 29, 2, 46, 37, 4, 455, 9, 45, 43, 38, 2, 2, 398, 4, 2, 26, 2, 5, 163, 11, 2, 2, 4, 2, 9, 194, 2, 7, 2, 2, 349, 2, 148, 2, 2, 2, 15, 123, 125, 68, 2, 2, 15, 349, 165, 2, 98, 5, 4, 228, 9, 43, 2, 2, 15, 299, 120, 5, 120, 174, 11, 220, 175, 136, 50, 9, 2, 228, 2, 5, 2, 2, 245, 2, 5, 4, 2, 131, 152, 491, 18, 2, 32, 2, 2, 14, 9, 6, 371, 78, 22, 2, 64, 2, 9, 8, 168, 145, 23, 4, 2, 15, 16, 4, 2, 5, 28, 6, 52, 154, 462, 33, 89, 78, 285, 16, 145, 95]),\n",
       "       list([1, 14, 47, 8, 30, 31, 7, 4, 249, 108, 7, 4, 2, 54, 61, 369, 13, 71, 149, 14, 22, 112, 4, 2, 311, 12, 16, 2, 33, 75, 43, 2, 296, 4, 86, 320, 35, 2, 19, 263, 2, 2, 4, 2, 33, 89, 78, 12, 66, 16, 4, 360, 7, 4, 58, 316, 334, 11, 4, 2, 43, 2, 2, 8, 257, 85, 2, 42, 2, 2, 83, 68, 2, 15, 36, 165, 2, 278, 36, 69, 2, 2, 8, 106, 14, 2, 2, 18, 6, 22, 12, 215, 28, 2, 40, 6, 87, 326, 23, 2, 21, 23, 22, 12, 272, 40, 57, 31, 11, 4, 22, 47, 6, 2, 51, 9, 170, 23, 2, 116, 2, 2, 13, 191, 79, 2, 89, 2, 14, 9, 8, 106, 2, 2, 35, 2, 6, 227, 7, 129, 113]),\n",
       "       list([1, 4, 2, 2, 33, 2, 4, 2, 432, 111, 153, 103, 4, 2, 13, 70, 131, 67, 11, 61, 2, 2, 35, 2, 2, 61, 2, 452, 2, 4, 2, 7, 2, 59, 166, 4, 105, 216, 2, 41, 2, 9, 15, 7, 35, 2, 2, 31, 8, 4, 2, 23, 4, 2, 2, 6, 2, 42, 38, 39, 121, 59, 456, 10, 10, 7, 265, 12, 2, 111, 153, 159, 59, 16, 2, 21, 25, 2, 482, 39, 4, 96, 59, 2, 12, 4, 172, 65, 9, 2, 11, 2, 4, 2, 5, 2, 7, 2, 17, 13, 2, 12, 19, 6, 464, 31, 314, 11, 2, 6, 2, 2, 11, 8, 202, 27, 310, 4, 2, 2, 8, 2, 58, 10, 10, 2, 2, 180, 40, 14, 413, 173, 7, 263, 112, 37, 152, 377, 4, 2, 263, 2, 2, 178, 54, 75, 71, 476, 36, 413, 263, 2, 182, 5, 17, 75, 2, 2, 36, 279, 131, 2, 17, 2, 42, 17, 35, 2, 2, 192, 5, 2, 2, 19, 2, 217, 2, 2, 2, 2, 2, 5, 2, 10, 10, 61, 403, 9, 2, 40, 61, 2, 5, 27, 2, 159, 90, 263, 2, 2, 309, 8, 178, 5, 82, 2, 4, 65, 15, 2, 145, 143, 2, 12, 2, 2, 2, 2, 2, 15, 2, 4, 2, 2, 7, 2, 94, 2, 2, 2, 11, 2, 4, 2, 7, 2, 246, 2, 9, 2, 11, 2, 14, 9, 51, 408, 12, 94, 318, 2, 12, 47, 6, 2, 2, 5, 2, 2, 19, 49, 7, 4, 2, 2, 2, 25, 80, 126, 2, 10, 10, 2, 2, 2, 27, 2, 11, 2, 2, 159, 27, 341, 29, 2, 19, 2, 173, 7, 90, 2, 8, 30, 11, 4, 2, 86, 2, 8, 2, 46, 11, 2, 21, 29, 9, 2, 23, 4, 2, 2, 2, 6, 2, 2, 2, 10, 10, 246, 50, 9, 6, 2, 2, 2, 90, 29, 2, 8, 124, 4, 2, 4, 2, 496, 27, 2, 2, 2, 121, 127, 2, 130, 5, 29, 494, 8, 124, 4, 2, 496, 4, 341, 7, 27, 2, 10, 10, 29, 9, 2, 8, 97, 6, 236, 2, 2, 8, 4, 2, 7, 31, 7, 2, 91, 2, 2, 70, 4, 2, 30, 2, 42, 9, 12, 32, 11, 2, 10, 10, 11, 14, 65, 44, 2, 75, 2, 2, 2, 2, 2, 4, 2, 7, 154, 5, 4, 2, 53, 2, 2, 7, 2, 2, 11, 399, 38, 75, 257, 2, 19, 2, 17, 29, 456, 4, 65, 7, 27, 205, 113, 10, 10, 2, 4, 2, 2, 9, 242, 4, 91, 2, 2, 5, 2, 307, 22, 7, 2, 126, 93, 40, 2, 13, 188, 2, 2, 19, 4, 2, 7, 2, 2, 23, 53, 2, 21, 82, 40, 2, 13, 2, 14, 280, 13, 219, 4, 2, 431, 2, 2, 4, 2, 2, 2, 7, 2, 5, 94, 40, 25, 238, 60, 2, 4, 2, 2, 2, 7, 4, 2, 132, 8, 67, 6, 22, 15, 9, 283, 8, 2, 14, 31, 9, 242, 2, 48, 25, 279, 2, 23, 12, 2, 195, 25, 238, 60, 2, 2, 4, 2, 7, 2, 5, 4, 2, 154, 2, 7, 2, 50, 26, 49, 2, 15, 2, 30, 2, 21, 64, 2])],\n",
       "      dtype=object)"
      ]
     },
     "execution_count": 21,
     "metadata": {},
     "output_type": "execute_result"
    }
   ],
   "source": [
    "x_train[:4]"
   ]
  },
  {
   "cell_type": "code",
   "execution_count": 22,
   "id": "7xAtMOizeY_M",
   "metadata": {
    "colab": {
     "base_uri": "https://localhost:8080/"
    },
    "id": "7xAtMOizeY_M",
    "outputId": "10dacd77-558a-40de-b063-fe29b90c13b7"
   },
   "outputs": [
    {
     "data": {
      "text/plain": [
       "array([1, 0, 0, 1], dtype=int64)"
      ]
     },
     "execution_count": 22,
     "metadata": {},
     "output_type": "execute_result"
    }
   ],
   "source": [
    "y_train[:4]   # 긍부정 binary cls"
   ]
  },
  {
   "cell_type": "code",
   "execution_count": 23,
   "id": "DeI7ZpW_elt2",
   "metadata": {
    "id": "DeI7ZpW_elt2"
   },
   "outputs": [],
   "source": [
    "lengths = [len(line) for line in x_train]"
   ]
  },
  {
   "cell_type": "code",
   "execution_count": 40,
   "id": "KOseuRnTfMmz",
   "metadata": {
    "colab": {
     "base_uri": "https://localhost:8080/",
     "height": 742
    },
    "id": "KOseuRnTfMmz",
    "outputId": "998f498a-67ba-4ff2-b1cb-02039fe1fa2f"
   },
   "outputs": [
    {
     "data": {
      "text/plain": [
       "(array([  8.,  34.,  79.,  67.,  75., 103., 242., 262., 212., 158., 144.,\n",
       "        117.,  94.,  94.,  70.,  71.,  41.,  49.,  50.,  47.,  37.,  35.,\n",
       "         24.,  21.,  29.,  21.,  28.,  18.,  22.,  16.,  13.,  16.,  20.,\n",
       "         11.,  10.,  10.,   9.,  11.,  18.,  11.,   3.,   7.,   8.,   7.,\n",
       "          6.,   5.,   4.,   8.,   3.,   4.,   5.,   3.,   3.,   2.,   2.,\n",
       "          3.,   5.,   3.,   2.,   2.,   5.,   9.,   1.,   2.,   0.,   0.,\n",
       "          0.,   0.,   0.,   0.,   0.,   0.,   0.,   0.,   0.,   0.,   0.,\n",
       "          0.,   0.,   0.,   0.,   0.,   0.,   0.,   0.,   0.,   0.,   0.,\n",
       "          0.,   0.,   0.,   0.,   0.,   0.,   0.,   0.,   0.,   0.,   0.,\n",
       "          1.]),\n",
       " array([  16.  ,   32.13,   48.26,   64.39,   80.52,   96.65,  112.78,\n",
       "         128.91,  145.04,  161.17,  177.3 ,  193.43,  209.56,  225.69,\n",
       "         241.82,  257.95,  274.08,  290.21,  306.34,  322.47,  338.6 ,\n",
       "         354.73,  370.86,  386.99,  403.12,  419.25,  435.38,  451.51,\n",
       "         467.64,  483.77,  499.9 ,  516.03,  532.16,  548.29,  564.42,\n",
       "         580.55,  596.68,  612.81,  628.94,  645.07,  661.2 ,  677.33,\n",
       "         693.46,  709.59,  725.72,  741.85,  757.98,  774.11,  790.24,\n",
       "         806.37,  822.5 ,  838.63,  854.76,  870.89,  887.02,  903.15,\n",
       "         919.28,  935.41,  951.54,  967.67,  983.8 ,  999.93, 1016.06,\n",
       "        1032.19, 1048.32, 1064.45, 1080.58, 1096.71, 1112.84, 1128.97,\n",
       "        1145.1 , 1161.23, 1177.36, 1193.49, 1209.62, 1225.75, 1241.88,\n",
       "        1258.01, 1274.14, 1290.27, 1306.4 , 1322.53, 1338.66, 1354.79,\n",
       "        1370.92, 1387.05, 1403.18, 1419.31, 1435.44, 1451.57, 1467.7 ,\n",
       "        1483.83, 1499.96, 1516.09, 1532.22, 1548.35, 1564.48, 1580.61,\n",
       "        1596.74, 1612.87, 1629.  ]),\n",
       " <BarContainer object of 100 artists>)"
      ]
     },
     "execution_count": 40,
     "metadata": {},
     "output_type": "execute_result"
    },
    {
     "data": {
      "image/png": "[encoded data removed]",
      "text/plain": [
       "<Figure size 432x288 with 1 Axes>"
      ]
     },
     "metadata": {
      "needs_background": "light"
     },
     "output_type": "display_data"
    }
   ],
   "source": [
    "plt.hist(lengths, bins = 100)"
   ]
  },
  {
   "cell_type": "code",
   "execution_count": null,
   "id": "RELpSGlYfmOb",
   "metadata": {
    "id": "RELpSGlYfmOb"
   },
   "outputs": [],
   "source": []
  },
  {
   "cell_type": "code",
   "execution_count": 25,
   "id": "nWRiPhj_f4gE",
   "metadata": {
    "id": "nWRiPhj_f4gE"
   },
   "outputs": [],
   "source": [
    "from tensorflow.keras.preprocessing.sequence import pad_sequences   \n",
    "\n",
    "# pad_sequences\n",
    "## 전체 훈련 데이터에서 각 샘플의 길이는 서로 다를 수 있다.\n",
    "## 모델의 입력으로 사용하려면 모든 샘플의 길이를 동일하게 맞추어야할 때가 있다.\n",
    "## 모든 샘플의 길이를 동일하게 맞추어준다.\n",
    "## 정해준 길이보다 길이가 긴 샘플은 값을 일부 자르고, 정해준 길이보다 길이가 짧은 샘플은 값을 0으로 채웁니다.\n",
    "\n",
    "\n",
    "\n",
    "x_train_seq = pad_sequences(x_train, maxlen = 200)                   # maxlen : 모든 데이터에 대해서 정규화 할 길이\n",
    "x_test_seq = pad_sequences(x_test, maxlen = 200)"
   ]
  },
  {
   "cell_type": "code",
   "execution_count": 26,
   "id": "d4O7mYWvgTAc",
   "metadata": {
    "colab": {
     "base_uri": "https://localhost:8080/"
    },
    "id": "d4O7mYWvgTAc",
    "outputId": "2298705b-7f4a-4ec1-c685-474260c6bad4"
   },
   "outputs": [
    {
     "name": "stdout",
     "output_type": "stream",
     "text": [
      "(2500, 200) (2500, 200)\n"
     ]
    }
   ],
   "source": [
    "print(x_train_seq.shape, x_test_seq.shape)"
   ]
  },
  {
   "cell_type": "code",
   "execution_count": 27,
   "id": "RpafF8gPgaVr",
   "metadata": {
    "id": "RpafF8gPgaVr"
   },
   "outputs": [
    {
     "name": "stdout",
     "output_type": "stream",
     "text": [
      "(2500,) (2500,)\n"
     ]
    }
   ],
   "source": [
    "print(y_train.shape, y_test.shape)"
   ]
  },
  {
   "cell_type": "code",
   "execution_count": null,
   "id": "eec8cee4",
   "metadata": {},
   "outputs": [],
   "source": []
  },
  {
   "cell_type": "code",
   "execution_count": 17,
   "id": "0yqLYW6gghhN",
   "metadata": {
    "colab": {
     "base_uri": "https://localhost:8080/"
    },
    "id": "0yqLYW6gghhN",
    "outputId": "ecad03ac-7c6a-4b57-f2a6-057195ddb13d"
   },
   "outputs": [
    {
     "name": "stdout",
     "output_type": "stream",
     "text": [
      "Model: \"sequential\"\n",
      "_________________________________________________________________\n",
      " Layer (type)                Output Shape              Param #   \n",
      "=================================================================\n",
      " simple_rnn (SimpleRNN)      (None, 8)                 80        \n",
      "                                                                 \n",
      " dense (Dense)               (None, 1)                 9         \n",
      "                                                                 \n",
      "=================================================================\n",
      "Total params: 89\n",
      "Trainable params: 89\n",
      "Non-trainable params: 0\n",
      "_________________________________________________________________\n"
     ]
    }
   ],
   "source": [
    "model = Sequential()\n",
    "model.add(SimpleRNN(8, input_shape = (200, 1)))\n",
    "model.add(Dense(1, activation = 'sigmoid'))\n",
    "model.summary()"
   ]
  },
  {
   "cell_type": "code",
   "execution_count": 18,
   "id": "UVWWFKqziu7x",
   "metadata": {
    "id": "UVWWFKqziu7x"
   },
   "outputs": [],
   "source": [
    "model.compile(loss = 'binary_crossentropy', metrics = ['accuracy'], optimizer = 'adam')"
   ]
  },
  {
   "cell_type": "code",
   "execution_count": 19,
   "id": "5y6i2PL-i4PT",
   "metadata": {
    "colab": {
     "base_uri": "https://localhost:8080/"
    },
    "id": "5y6i2PL-i4PT",
    "outputId": "1c37817d-b9d5-4f4a-dcba-e4c37716f268"
   },
   "outputs": [
    {
     "name": "stdout",
     "output_type": "stream",
     "text": [
      "Epoch 1/10\n",
      "40/40 [==============================] - 13s 261ms/step - loss: 0.9245 - accuracy: 0.4872 - val_loss: 0.7972 - val_accuracy: 0.5232\n",
      "Epoch 2/10\n",
      "40/40 [==============================] - 11s 272ms/step - loss: 0.7738 - accuracy: 0.4872 - val_loss: 0.7145 - val_accuracy: 0.5232\n",
      "Epoch 3/10\n",
      "40/40 [==============================] - 10s 253ms/step - loss: 0.7148 - accuracy: 0.4908 - val_loss: 0.6979 - val_accuracy: 0.5248\n",
      "Epoch 4/10\n",
      "40/40 [==============================] - 10s 254ms/step - loss: 0.7012 - accuracy: 0.5020 - val_loss: 0.6956 - val_accuracy: 0.5068\n",
      "Epoch 5/10\n",
      "40/40 [==============================] - 10s 253ms/step - loss: 0.6968 - accuracy: 0.5016 - val_loss: 0.6953 - val_accuracy: 0.5060\n",
      "Epoch 6/10\n",
      "40/40 [==============================] - 10s 251ms/step - loss: 0.6949 - accuracy: 0.5016 - val_loss: 0.6949 - val_accuracy: 0.5080\n",
      "Epoch 7/10\n",
      "40/40 [==============================] - 10s 258ms/step - loss: 0.6940 - accuracy: 0.5012 - val_loss: 0.6938 - val_accuracy: 0.5084\n",
      "Epoch 8/10\n",
      "40/40 [==============================] - 10s 262ms/step - loss: 0.6933 - accuracy: 0.5036 - val_loss: 0.6945 - val_accuracy: 0.4860\n",
      "Epoch 9/10\n",
      "40/40 [==============================] - 10s 246ms/step - loss: 0.6930 - accuracy: 0.5148 - val_loss: 0.6945 - val_accuracy: 0.4804\n",
      "Epoch 10/10\n",
      "40/40 [==============================] - 10s 249ms/step - loss: 0.6930 - accuracy: 0.5092 - val_loss: 0.6938 - val_accuracy: 0.4944\n"
     ]
    },
    {
     "data": {
      "text/plain": [
       "<keras.callbacks.History at 0x7f1f1950f7d0>"
      ]
     },
     "execution_count": 19,
     "metadata": {},
     "output_type": "execute_result"
    }
   ],
   "source": [
    "model.fit(x_train_seq, y_train, epochs = 10, batch_size = 64, validation_data=(x_test_seq, y_test))"
   ]
  },
  {
   "cell_type": "code",
   "execution_count": 20,
   "id": "6nfLCPfcjDpS",
   "metadata": {
    "colab": {
     "base_uri": "https://localhost:8080/"
    },
    "id": "6nfLCPfcjDpS",
    "outputId": "e8955c60-3abe-49d0-8edc-c1222ac7373b"
   },
   "outputs": [
    {
     "data": {
      "text/plain": [
       "array([[  5,  25, 100, ...,  19, 178,  32],\n",
       "       [  0,   0,   0, ...,  16, 145,  95],\n",
       "       [  0,   0,   0, ...,   7, 129, 113],\n",
       "       ...,\n",
       "       [207, 126, 110, ...,  30,   2, 133],\n",
       "       [  2, 123,   6, ...,  95, 106,  15],\n",
       "       [  2,   2,  34, ...,   2, 457, 158]], dtype=int32)"
      ]
     },
     "execution_count": 20,
     "metadata": {},
     "output_type": "execute_result"
    }
   ],
   "source": [
    "x_train_seq"
   ]
  },
  {
   "cell_type": "code",
   "execution_count": 41,
   "id": "IfK4Q0nlmT5Z",
   "metadata": {
    "id": "IfK4Q0nlmT5Z"
   },
   "outputs": [],
   "source": [
    "from tensorflow.keras.utils import to_categorical\n",
    "\n",
    "x_train_oh = to_categorical(x_train_seq)\n",
    "x_test_oh = to_categorical(x_test_seq)"
   ]
  },
  {
   "cell_type": "code",
   "execution_count": 42,
   "id": "XDCDnA7CmgiJ",
   "metadata": {
    "colab": {
     "base_uri": "https://localhost:8080/"
    },
    "id": "XDCDnA7CmgiJ",
    "outputId": "59125d67-71fb-47dd-9139-46867836719d"
   },
   "outputs": [
    {
     "data": {
      "text/plain": [
       "(2500, 200, 500)"
      ]
     },
     "execution_count": 42,
     "metadata": {},
     "output_type": "execute_result"
    }
   ],
   "source": [
    "x_train_oh.shape"
   ]
  },
  {
   "cell_type": "code",
   "execution_count": 30,
   "id": "64d89a76",
   "metadata": {
    "collapsed": true
   },
   "outputs": [
    {
     "data": {
      "text/plain": [
       "array([[[0., 0., 0., ..., 0., 0., 0.],\n",
       "        [0., 0., 0., ..., 0., 0., 0.],\n",
       "        [0., 0., 0., ..., 0., 0., 0.],\n",
       "        ...,\n",
       "        [0., 0., 0., ..., 0., 0., 0.],\n",
       "        [0., 0., 0., ..., 0., 0., 0.],\n",
       "        [0., 0., 0., ..., 0., 0., 0.]],\n",
       "\n",
       "       [[1., 0., 0., ..., 0., 0., 0.],\n",
       "        [1., 0., 0., ..., 0., 0., 0.],\n",
       "        [1., 0., 0., ..., 0., 0., 0.],\n",
       "        ...,\n",
       "        [0., 0., 0., ..., 0., 0., 0.],\n",
       "        [0., 0., 0., ..., 0., 0., 0.],\n",
       "        [0., 0., 0., ..., 0., 0., 0.]],\n",
       "\n",
       "       [[1., 0., 0., ..., 0., 0., 0.],\n",
       "        [1., 0., 0., ..., 0., 0., 0.],\n",
       "        [1., 0., 0., ..., 0., 0., 0.],\n",
       "        ...,\n",
       "        [0., 0., 0., ..., 0., 0., 0.],\n",
       "        [0., 0., 0., ..., 0., 0., 0.],\n",
       "        [0., 0., 0., ..., 0., 0., 0.]],\n",
       "\n",
       "       ...,\n",
       "\n",
       "       [[0., 0., 0., ..., 0., 0., 0.],\n",
       "        [0., 0., 0., ..., 0., 0., 0.],\n",
       "        [0., 0., 0., ..., 0., 0., 0.],\n",
       "        ...,\n",
       "        [0., 0., 0., ..., 0., 0., 0.],\n",
       "        [0., 0., 1., ..., 0., 0., 0.],\n",
       "        [0., 0., 0., ..., 0., 0., 0.]],\n",
       "\n",
       "       [[0., 0., 1., ..., 0., 0., 0.],\n",
       "        [0., 0., 0., ..., 0., 0., 0.],\n",
       "        [0., 0., 0., ..., 0., 0., 0.],\n",
       "        ...,\n",
       "        [0., 0., 0., ..., 0., 0., 0.],\n",
       "        [0., 0., 0., ..., 0., 0., 0.],\n",
       "        [0., 0., 0., ..., 0., 0., 0.]],\n",
       "\n",
       "       [[0., 0., 1., ..., 0., 0., 0.],\n",
       "        [0., 0., 1., ..., 0., 0., 0.],\n",
       "        [0., 0., 0., ..., 0., 0., 0.],\n",
       "        ...,\n",
       "        [0., 0., 1., ..., 0., 0., 0.],\n",
       "        [0., 0., 0., ..., 0., 0., 0.],\n",
       "        [0., 0., 0., ..., 0., 0., 0.]]], dtype=float32)"
      ]
     },
     "execution_count": 30,
     "metadata": {},
     "output_type": "execute_result"
    }
   ],
   "source": [
    "x_train_oh"
   ]
  },
  {
   "cell_type": "code",
   "execution_count": 43,
   "id": "hmNpDGkJmivh",
   "metadata": {
    "colab": {
     "base_uri": "https://localhost:8080/"
    },
    "id": "hmNpDGkJmivh",
    "outputId": "86fa1980-e50a-48c1-ec86-95c6744b3231"
   },
   "outputs": [
    {
     "name": "stdout",
     "output_type": "stream",
     "text": [
      "Model: \"sequential\"\n",
      "_________________________________________________________________\n",
      " Layer (type)                Output Shape              Param #   \n",
      "=================================================================\n",
      " simple_rnn (SimpleRNN)      (None, 8)                 4072      \n",
      "                                                                 \n",
      " dense (Dense)               (None, 1)                 9         \n",
      "                                                                 \n",
      "=================================================================\n",
      "Total params: 4,081\n",
      "Trainable params: 4,081\n",
      "Non-trainable params: 0\n",
      "_________________________________________________________________\n"
     ]
    }
   ],
   "source": [
    "model = Sequential()\n",
    "model.add(SimpleRNN(8, input_shape = (200, 500)))\n",
    "model.add(Dense(1, activation = 'sigmoid'))\n",
    "model.summary()"
   ]
  },
  {
   "cell_type": "code",
   "execution_count": 44,
   "id": "F_uJetp9mr6c",
   "metadata": {
    "id": "F_uJetp9mr6c"
   },
   "outputs": [],
   "source": [
    "model.compile(loss = 'binary_crossentropy', metrics = ['accuracy'], optimizer = 'adam')"
   ]
  },
  {
   "cell_type": "code",
   "execution_count": 45,
   "id": "9aG4Nn41mxdB",
   "metadata": {
    "colab": {
     "base_uri": "https://localhost:8080/"
    },
    "id": "9aG4Nn41mxdB",
    "outputId": "278692de-2561-4267-e36f-17861b0a3193"
   },
   "outputs": [
    {
     "name": "stdout",
     "output_type": "stream",
     "text": [
      "Epoch 1/10\n",
      "40/40 [==============================] - 3s 54ms/step - loss: 0.6971 - accuracy: 0.5172 - val_loss: 0.6992 - val_accuracy: 0.5008\n",
      "Epoch 2/10\n",
      "40/40 [==============================] - 2s 50ms/step - loss: 0.6836 - accuracy: 0.5608 - val_loss: 0.6987 - val_accuracy: 0.5100\n",
      "Epoch 3/10\n",
      "40/40 [==============================] - 2s 51ms/step - loss: 0.6735 - accuracy: 0.5912 - val_loss: 0.6988 - val_accuracy: 0.5040\n",
      "Epoch 4/10\n",
      "40/40 [==============================] - 2s 51ms/step - loss: 0.6625 - accuracy: 0.6184 - val_loss: 0.6998 - val_accuracy: 0.5160\n",
      "Epoch 5/10\n",
      "40/40 [==============================] - 2s 51ms/step - loss: 0.6494 - accuracy: 0.6428 - val_loss: 0.7018 - val_accuracy: 0.5216\n",
      "Epoch 6/10\n",
      "40/40 [==============================] - 2s 51ms/step - loss: 0.6370 - accuracy: 0.6740 - val_loss: 0.7052 - val_accuracy: 0.5220\n",
      "Epoch 7/10\n",
      "40/40 [==============================] - 2s 50ms/step - loss: 0.6160 - accuracy: 0.7072 - val_loss: 0.7080 - val_accuracy: 0.5152\n",
      "Epoch 8/10\n",
      "40/40 [==============================] - 2s 50ms/step - loss: 0.5941 - accuracy: 0.7276 - val_loss: 0.7134 - val_accuracy: 0.5212\n",
      "Epoch 9/10\n",
      "40/40 [==============================] - 2s 50ms/step - loss: 0.5837 - accuracy: 0.7312 - val_loss: 0.7207 - val_accuracy: 0.5160\n",
      "Epoch 10/10\n",
      "40/40 [==============================] - 2s 51ms/step - loss: 0.5528 - accuracy: 0.7708 - val_loss: 0.7272 - val_accuracy: 0.5184\n"
     ]
    },
    {
     "data": {
      "text/plain": [
       "<keras.callbacks.History at 0x254b63d7eb0>"
      ]
     },
     "execution_count": 45,
     "metadata": {},
     "output_type": "execute_result"
    }
   ],
   "source": [
    "model.fit(x_train_oh, y_train, epochs = 10, batch_size = 64, validation_data=(x_test_oh, y_test))"
   ]
  },
  {
   "cell_type": "code",
   "execution_count": null,
   "id": "RNXDQypknQxw",
   "metadata": {
    "id": "RNXDQypknQxw"
   },
   "outputs": [],
   "source": []
  },
  {
   "cell_type": "markdown",
   "id": "ca0e7a11",
   "metadata": {
    "id": "6vk7hDd5oDSb"
   },
   "source": [
    "## LSTM"
   ]
  },
  {
   "cell_type": "code",
   "execution_count": 46,
   "id": "LD-OOIlDoDYs",
   "metadata": {
    "id": "LD-OOIlDoDYs"
   },
   "outputs": [],
   "source": [
    "# https://wegonnamakeit.tistory.com/7"
   ]
  },
  {
   "cell_type": "code",
   "execution_count": 53,
   "id": "YghT98RQoDv-",
   "metadata": {
    "colab": {
     "base_uri": "https://localhost:8080/"
    },
    "id": "YghT98RQoDv-",
    "outputId": "2eeb52ce-c549-4e3e-dc8b-a8e911c4b711"
   },
   "outputs": [
    {
     "name": "stdout",
     "output_type": "stream",
     "text": [
      "Model: \"sequential_3\"\n",
      "_________________________________________________________________\n",
      " Layer (type)                Output Shape              Param #   \n",
      "=================================================================\n",
      " lstm_2 (LSTM)               (None, 8)                 16288     \n",
      "                                                                 \n",
      " dense_3 (Dense)             (None, 1)                 9         \n",
      "                                                                 \n",
      "=================================================================\n",
      "Total params: 16,297\n",
      "Trainable params: 16,297\n",
      "Non-trainable params: 0\n",
      "_________________________________________________________________\n"
     ]
    }
   ],
   "source": [
    "model = Sequential()\n",
    "model.add(LSTM(8, input_shape = (200, 500)))\n",
    "model.add(Dense(1, activation = 'sigmoid'))\n",
    "model.summary()"
   ]
  },
  {
   "cell_type": "code",
   "execution_count": 54,
   "id": "VV3pfB0DoHsY",
   "metadata": {
    "id": "VV3pfB0DoHsY"
   },
   "outputs": [],
   "source": [
    "model.compile(loss = 'binary_crossentropy', metrics = ['accuracy'], optimizer = 'adam')"
   ]
  },
  {
   "cell_type": "code",
   "execution_count": 55,
   "id": "b78DzNK1oNHo",
   "metadata": {
    "colab": {
     "base_uri": "https://localhost:8080/"
    },
    "id": "b78DzNK1oNHo",
    "outputId": "a83d25be-feb4-4d09-f6d2-4c6323c5ec38"
   },
   "outputs": [
    {
     "name": "stdout",
     "output_type": "stream",
     "text": [
      "Epoch 1/10\n",
      "40/40 [==============================] - 4s 64ms/step - loss: 0.6924 - accuracy: 0.5072 - val_loss: 0.6924 - val_accuracy: 0.5000\n",
      "Epoch 2/10\n",
      "40/40 [==============================] - 2s 56ms/step - loss: 0.6878 - accuracy: 0.5644 - val_loss: 0.6875 - val_accuracy: 0.5676\n",
      "Epoch 3/10\n",
      "40/40 [==============================] - 2s 54ms/step - loss: 0.6793 - accuracy: 0.6048 - val_loss: 0.6732 - val_accuracy: 0.6356\n",
      "Epoch 4/10\n",
      "40/40 [==============================] - 2s 55ms/step - loss: 0.6275 - accuracy: 0.6564 - val_loss: 0.5914 - val_accuracy: 0.7120\n",
      "Epoch 5/10\n",
      "40/40 [==============================] - 2s 54ms/step - loss: 0.5418 - accuracy: 0.7532 - val_loss: 0.5108 - val_accuracy: 0.7736\n",
      "Epoch 6/10\n",
      "40/40 [==============================] - 2s 55ms/step - loss: 0.4802 - accuracy: 0.7868 - val_loss: 0.4844 - val_accuracy: 0.7800\n",
      "Epoch 7/10\n",
      "40/40 [==============================] - 2s 54ms/step - loss: 0.4353 - accuracy: 0.8212 - val_loss: 0.4845 - val_accuracy: 0.7812\n",
      "Epoch 8/10\n",
      "40/40 [==============================] - 2s 55ms/step - loss: 0.4075 - accuracy: 0.8308 - val_loss: 0.4651 - val_accuracy: 0.7900\n",
      "Epoch 9/10\n",
      "40/40 [==============================] - 2s 56ms/step - loss: 0.3945 - accuracy: 0.8424 - val_loss: 0.4753 - val_accuracy: 0.7868\n",
      "Epoch 10/10\n",
      "40/40 [==============================] - 2s 56ms/step - loss: 0.3714 - accuracy: 0.8476 - val_loss: 0.4759 - val_accuracy: 0.7724\n"
     ]
    },
    {
     "data": {
      "text/plain": [
       "<keras.callbacks.History at 0x2551c019b50>"
      ]
     },
     "execution_count": 55,
     "metadata": {},
     "output_type": "execute_result"
    }
   ],
   "source": [
    "model.fit(x_train_oh, y_train, epochs = 10, batch_size = 64, validation_data=(x_test_oh, y_test))"
   ]
  },
  {
   "cell_type": "code",
   "execution_count": 28,
   "id": "65EgobqCoNmf",
   "metadata": {
    "id": "65EgobqCoNmf"
   },
   "outputs": [],
   "source": []
  },
  {
   "cell_type": "code",
   "execution_count": 28,
   "id": "eR2JKemaozHK",
   "metadata": {
    "id": "eR2JKemaozHK"
   },
   "outputs": [],
   "source": []
  },
  {
   "cell_type": "code",
   "execution_count": 28,
   "id": "Kkta_ID7ozjk",
   "metadata": {
    "id": "Kkta_ID7ozjk"
   },
   "outputs": [],
   "source": []
  },
  {
   "cell_type": "code",
   "execution_count": 28,
   "id": "OclgDpf3oz24",
   "metadata": {
    "id": "OclgDpf3oz24"
   },
   "outputs": [],
   "source": []
  },
  {
   "cell_type": "code",
   "execution_count": 50,
   "id": "DpE1pdsAo0CH",
   "metadata": {
    "colab": {
     "base_uri": "https://localhost:8080/"
    },
    "id": "DpE1pdsAo0CH",
    "outputId": "fe075112-30f7-4a0b-f3e8-37ee1b815b94"
   },
   "outputs": [
    {
     "name": "stdout",
     "output_type": "stream",
     "text": [
      "Model: \"sequential_2\"\n",
      "_________________________________________________________________\n",
      " Layer (type)                Output Shape              Param #   \n",
      "=================================================================\n",
      " embedding_1 (Embedding)     (None, 200, 16)           8000      \n",
      "                                                                 \n",
      " lstm_1 (LSTM)               (None, 8)                 800       \n",
      "                                                                 \n",
      " dense_2 (Dense)             (None, 1)                 9         \n",
      "                                                                 \n",
      "=================================================================\n",
      "Total params: 8,809\n",
      "Trainable params: 8,809\n",
      "Non-trainable params: 0\n",
      "_________________________________________________________________\n"
     ]
    }
   ],
   "source": [
    "model = Sequential()\n",
    "model.add(Embedding(500, 16, input_length = 200))      \n",
    "\n",
    "# Embedding\n",
    "## 사람이 쓰는 자연어를 기계가 이해할 수 있는 숫자의 나열인 벡터로 바꾼 결과 혹은 그 과정 전체\n",
    "## 임베딩의 가장 간단한 형태는 단어의 빈도를 그대로 벡터로 사용하는 것\n",
    "## 요즘 단어를 숫자로 바꾸는법 (단어 500가지, 16차원)\n",
    "\n",
    "model.add(LSTM(8))\n",
    "model.add(Dense(1, activation = 'sigmoid'))\n",
    "model.summary()"
   ]
  },
  {
   "cell_type": "code",
   "execution_count": 51,
   "id": "Alty1-kTpTVP",
   "metadata": {
    "id": "Alty1-kTpTVP"
   },
   "outputs": [],
   "source": [
    "model.compile(loss = 'binary_crossentropy', metrics = ['accuracy'], optimizer = 'adam')"
   ]
  },
  {
   "cell_type": "code",
   "execution_count": 52,
   "id": "_GM-vhoUpVKD",
   "metadata": {
    "colab": {
     "base_uri": "https://localhost:8080/"
    },
    "id": "_GM-vhoUpVKD",
    "outputId": "55a3883d-9f0b-4ea1-c285-432e062fac95"
   },
   "outputs": [
    {
     "name": "stdout",
     "output_type": "stream",
     "text": [
      "Epoch 1/10\n",
      "40/40 [==============================] - 3s 48ms/step - loss: 0.6926 - accuracy: 0.5140 - val_loss: 0.6928 - val_accuracy: 0.4856\n",
      "Epoch 2/10\n",
      "40/40 [==============================] - 2s 41ms/step - loss: 0.6885 - accuracy: 0.5672 - val_loss: 0.6896 - val_accuracy: 0.5172\n",
      "Epoch 3/10\n",
      "40/40 [==============================] - 2s 41ms/step - loss: 0.6756 - accuracy: 0.5932 - val_loss: 0.6770 - val_accuracy: 0.5416\n",
      "Epoch 4/10\n",
      "40/40 [==============================] - 2s 41ms/step - loss: 0.6139 - accuracy: 0.6768 - val_loss: 0.5944 - val_accuracy: 0.7052\n",
      "Epoch 5/10\n",
      "40/40 [==============================] - 2s 41ms/step - loss: 0.5608 - accuracy: 0.7436 - val_loss: 0.5610 - val_accuracy: 0.7304\n",
      "Epoch 6/10\n",
      "40/40 [==============================] - 2s 41ms/step - loss: 0.5059 - accuracy: 0.7784 - val_loss: 0.5270 - val_accuracy: 0.7636\n",
      "Epoch 7/10\n",
      "40/40 [==============================] - 2s 41ms/step - loss: 0.4691 - accuracy: 0.7912 - val_loss: 0.5107 - val_accuracy: 0.7660\n",
      "Epoch 8/10\n",
      "40/40 [==============================] - 2s 41ms/step - loss: 0.4333 - accuracy: 0.8088 - val_loss: 0.4834 - val_accuracy: 0.7760\n",
      "Epoch 9/10\n",
      "40/40 [==============================] - 2s 41ms/step - loss: 0.4443 - accuracy: 0.7992 - val_loss: 0.5010 - val_accuracy: 0.7664\n",
      "Epoch 10/10\n",
      "40/40 [==============================] - 2s 41ms/step - loss: 0.3967 - accuracy: 0.8348 - val_loss: 0.4914 - val_accuracy: 0.7676\n"
     ]
    }
   ],
   "source": [
    "hist = model.fit(x_train_seq, y_train, epochs = 10, batch_size = 64, validation_data=(x_test_seq, y_test))"
   ]
  },
  {
   "cell_type": "code",
   "execution_count": 31,
   "id": "vL7QxK9Rpl02",
   "metadata": {
    "id": "vL7QxK9Rpl02"
   },
   "outputs": [],
   "source": []
  }
 ],
 "metadata": {
  "accelerator": "GPU",
  "colab": {
   "collapsed_sections": [],
   "name": "imdb_rnn.ipynb",
   "provenance": []
  },
  "kernelspec": {
   "display_name": "Python 3 (ipykernel)",
   "language": "python",
   "name": "python3"
  },
  "language_info": {
   "codemirror_mode": {
    "name": "ipython",
    "version": 3
   },
   "file_extension": ".py",
   "mimetype": "text/x-python",
   "name": "python",
   "nbconvert_exporter": "python",
   "pygments_lexer": "ipython3",
   "version": "3.9.7"
  }
 },
 "nbformat": 4,
 "nbformat_minor": 5
}
