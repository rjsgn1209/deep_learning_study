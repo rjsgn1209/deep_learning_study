{
 "cells": [
  {
   "cell_type": "code",
   "execution_count": 1,
   "id": "69c5260a",
   "metadata": {},
   "outputs": [],
   "source": [
    "# https://drive.google.com/drive/folders/1TDAeYT30IDKgULs0UBxsv3YLaDnawOkg?usp=sharing"
   ]
  },
  {
   "cell_type": "code",
   "execution_count": 2,
   "id": "50bace4f",
   "metadata": {},
   "outputs": [],
   "source": [
    "# 역전파(Backpropagation)\n",
    "# https://sacko.tistory.com/19"
   ]
  },
  {
   "cell_type": "code",
   "execution_count": 3,
   "id": "85b822b1",
   "metadata": {},
   "outputs": [],
   "source": [
    "import pandas as pd\n",
    "import numpy as np\n",
    "import matplotlib.pyplot as plt\n",
    "import seaborn as sns"
   ]
  },
  {
   "cell_type": "code",
   "execution_count": 5,
   "id": "2501bd17",
   "metadata": {},
   "outputs": [
    {
     "data": {
      "text/html": [
       "<div>\n",
       "<style scoped>\n",
       "    .dataframe tbody tr th:only-of-type {\n",
       "        vertical-align: middle;\n",
       "    }\n",
       "\n",
       "    .dataframe tbody tr th {\n",
       "        vertical-align: top;\n",
       "    }\n",
       "\n",
       "    .dataframe thead th {\n",
       "        text-align: right;\n",
       "    }\n",
       "</style>\n",
       "<table border=\"1\" class=\"dataframe\">\n",
       "  <thead>\n",
       "    <tr style=\"text-align: right;\">\n",
       "      <th></th>\n",
       "      <th>pregnant</th>\n",
       "      <th>piasma</th>\n",
       "      <th>pressure</th>\n",
       "      <th>thickness</th>\n",
       "      <th>insuline</th>\n",
       "      <th>bmi</th>\n",
       "      <th>pedigree</th>\n",
       "      <th>age</th>\n",
       "      <th>class</th>\n",
       "    </tr>\n",
       "  </thead>\n",
       "  <tbody>\n",
       "    <tr>\n",
       "      <th>0</th>\n",
       "      <td>6</td>\n",
       "      <td>148</td>\n",
       "      <td>72</td>\n",
       "      <td>35</td>\n",
       "      <td>0</td>\n",
       "      <td>33.6</td>\n",
       "      <td>0.627</td>\n",
       "      <td>50</td>\n",
       "      <td>1</td>\n",
       "    </tr>\n",
       "    <tr>\n",
       "      <th>1</th>\n",
       "      <td>1</td>\n",
       "      <td>85</td>\n",
       "      <td>66</td>\n",
       "      <td>29</td>\n",
       "      <td>0</td>\n",
       "      <td>26.6</td>\n",
       "      <td>0.351</td>\n",
       "      <td>31</td>\n",
       "      <td>0</td>\n",
       "    </tr>\n",
       "    <tr>\n",
       "      <th>2</th>\n",
       "      <td>8</td>\n",
       "      <td>183</td>\n",
       "      <td>64</td>\n",
       "      <td>0</td>\n",
       "      <td>0</td>\n",
       "      <td>23.3</td>\n",
       "      <td>0.672</td>\n",
       "      <td>32</td>\n",
       "      <td>1</td>\n",
       "    </tr>\n",
       "    <tr>\n",
       "      <th>3</th>\n",
       "      <td>1</td>\n",
       "      <td>89</td>\n",
       "      <td>66</td>\n",
       "      <td>23</td>\n",
       "      <td>94</td>\n",
       "      <td>28.1</td>\n",
       "      <td>0.167</td>\n",
       "      <td>21</td>\n",
       "      <td>0</td>\n",
       "    </tr>\n",
       "    <tr>\n",
       "      <th>4</th>\n",
       "      <td>0</td>\n",
       "      <td>137</td>\n",
       "      <td>40</td>\n",
       "      <td>35</td>\n",
       "      <td>168</td>\n",
       "      <td>43.1</td>\n",
       "      <td>2.288</td>\n",
       "      <td>33</td>\n",
       "      <td>1</td>\n",
       "    </tr>\n",
       "  </tbody>\n",
       "</table>\n",
       "</div>"
      ],
      "text/plain": [
       "   pregnant  piasma  pressure  thickness  insuline   bmi  pedigree  age  class\n",
       "0         6     148        72         35         0  33.6     0.627   50      1\n",
       "1         1      85        66         29         0  26.6     0.351   31      0\n",
       "2         8     183        64          0         0  23.3     0.672   32      1\n",
       "3         1      89        66         23        94  28.1     0.167   21      0\n",
       "4         0     137        40         35       168  43.1     2.288   33      1"
      ]
     },
     "execution_count": 5,
     "metadata": {},
     "output_type": "execute_result"
    }
   ],
   "source": [
    "cols = ['pregnant','piasma', 'pressure','thickness','insuline','bmi','pedigree','age','class']\n",
    "df = pd.read_csv('./Data/pima-indians-diabetes.csv', header=None, names = cols)\n",
    "df.head()\n"
   ]
  },
  {
   "cell_type": "code",
   "execution_count": 6,
   "id": "a6048606",
   "metadata": {},
   "outputs": [
    {
     "name": "stdout",
     "output_type": "stream",
     "text": [
      "<class 'pandas.core.frame.DataFrame'>\n",
      "RangeIndex: 768 entries, 0 to 767\n",
      "Data columns (total 9 columns):\n",
      " #   Column     Non-Null Count  Dtype  \n",
      "---  ------     --------------  -----  \n",
      " 0   pregnant   768 non-null    int64  \n",
      " 1   piasma     768 non-null    int64  \n",
      " 2   pressure   768 non-null    int64  \n",
      " 3   thickness  768 non-null    int64  \n",
      " 4   insuline   768 non-null    int64  \n",
      " 5   bmi        768 non-null    float64\n",
      " 6   pedigree   768 non-null    float64\n",
      " 7   age        768 non-null    int64  \n",
      " 8   class      768 non-null    int64  \n",
      "dtypes: float64(2), int64(7)\n",
      "memory usage: 54.1 KB\n"
     ]
    }
   ],
   "source": [
    "df.info()"
   ]
  },
  {
   "cell_type": "code",
   "execution_count": 8,
   "id": "fbeda0d3",
   "metadata": {},
   "outputs": [
    {
     "data": {
      "text/plain": [
       "<AxesSubplot:>"
      ]
     },
     "execution_count": 8,
     "metadata": {},
     "output_type": "execute_result"
    },
    {
     "data": {
      "image/png": "[encoded data removed]",
      "text/plain": [
       "<Figure size 432x288 with 2 Axes>"
      ]
     },
     "metadata": {
      "needs_background": "light"
     },
     "output_type": "display_data"
    }
   ],
   "source": [
    "sns.heatmap(df.corr())"
   ]
  },
  {
   "cell_type": "code",
   "execution_count": null,
   "id": "b7585992",
   "metadata": {},
   "outputs": [],
   "source": []
  },
  {
   "cell_type": "code",
   "execution_count": 9,
   "id": "35ad3211",
   "metadata": {},
   "outputs": [],
   "source": [
    "from tensorflow.keras.models import Sequential\n",
    "from tensorflow.keras.layers import Dense\n",
    "import tensorflow as tf"
   ]
  },
  {
   "cell_type": "code",
   "execution_count": 10,
   "id": "e9a45208",
   "metadata": {
    "scrolled": true
   },
   "outputs": [
    {
     "data": {
      "text/plain": [
       "array([[  6.   , 148.   ,  72.   , ...,   0.627,  50.   ,   1.   ],\n",
       "       [  1.   ,  85.   ,  66.   , ...,   0.351,  31.   ,   0.   ],\n",
       "       [  8.   , 183.   ,  64.   , ...,   0.672,  32.   ,   1.   ],\n",
       "       ...,\n",
       "       [  5.   , 121.   ,  72.   , ...,   0.245,  30.   ,   0.   ],\n",
       "       [  1.   , 126.   ,  60.   , ...,   0.349,  47.   ,   1.   ],\n",
       "       [  1.   ,  93.   ,  70.   , ...,   0.315,  23.   ,   0.   ]])"
      ]
     },
     "execution_count": 10,
     "metadata": {},
     "output_type": "execute_result"
    }
   ],
   "source": [
    "dataset = np.loadtxt('./Data/pima-indians-diabetes.csv', delimiter=',')\n",
    "dataset"
   ]
  },
  {
   "cell_type": "code",
   "execution_count": 11,
   "id": "a9d32983",
   "metadata": {},
   "outputs": [],
   "source": [
    "y = dataset[:, 8]\n",
    "x = dataset[:, 0:8]"
   ]
  },
  {
   "cell_type": "code",
   "execution_count": 12,
   "id": "13be846e",
   "metadata": {},
   "outputs": [
    {
     "data": {
      "text/plain": [
       "(768,)"
      ]
     },
     "execution_count": 12,
     "metadata": {},
     "output_type": "execute_result"
    }
   ],
   "source": [
    "y.shape"
   ]
  },
  {
   "cell_type": "code",
   "execution_count": 13,
   "id": "4fca61de",
   "metadata": {},
   "outputs": [
    {
     "name": "stdout",
     "output_type": "stream",
     "text": [
      "Model: \"sequential\"\n",
      "_________________________________________________________________\n",
      " Layer (type)                Output Shape              Param #   \n",
      "=================================================================\n",
      " dense (Dense)               (None, 12)                108       \n",
      "                                                                 \n",
      " dense_1 (Dense)             (None, 8)                 104       \n",
      "                                                                 \n",
      " dense_2 (Dense)             (None, 1)                 9         \n",
      "                                                                 \n",
      "=================================================================\n",
      "Total params: 221\n",
      "Trainable params: 221\n",
      "Non-trainable params: 0\n",
      "_________________________________________________________________\n"
     ]
    }
   ],
   "source": [
    "model = Sequential()\n",
    "model.add(Dense(12, input_dim = 8, activation = 'relu'))     # input layer\n",
    "model.add(Dense(8, activation = 'relu'))                     # hidden layer\n",
    "model.add(Dense(1)) # activation = 'sigmoid')                 # output layer\n",
    "model.summary()"
   ]
  },
  {
   "cell_type": "code",
   "execution_count": 17,
   "id": "ffca0f98",
   "metadata": {},
   "outputs": [],
   "source": [
    "model.compile(loss = 'binary_crossentropy', metrics = ['accuracy'], optimizer = 'adam')   \n",
    "\n",
    "# optimizer : gradientdescent 방식\n",
    "\n",
    "# 손실함수(loss function) - 머신러닝 혹은 딥러닝 모델의 출력값과 사용자가 원하는 출력값의 오차를 의미\n",
    "# https://cheris8.github.io/artificial%20intelligence/DL-Keras-Loss-Function/"
   ]
  },
  {
   "cell_type": "code",
   "execution_count": 20,
   "id": "58e4eeb4",
   "metadata": {},
   "outputs": [
    {
     "name": "stdout",
     "output_type": "stream",
     "text": [
      "Epoch 1/100\n",
      "39/39 [==============================] - 0s 866us/step - loss: 5.4813 - accuracy: 0.6445\n",
      "Epoch 2/100\n",
      "39/39 [==============================] - 0s 793us/step - loss: 5.4813 - accuracy: 0.6445\n",
      "Epoch 3/100\n",
      "39/39 [==============================] - 0s 692us/step - loss: 5.4813 - accuracy: 0.6445\n",
      "Epoch 4/100\n",
      "39/39 [==============================] - 0s 663us/step - loss: 5.4813 - accuracy: 0.6445\n",
      "Epoch 5/100\n",
      "39/39 [==============================] - 0s 689us/step - loss: 5.4813 - accuracy: 0.6445\n",
      "Epoch 6/100\n",
      "39/39 [==============================] - 0s 714us/step - loss: 5.4813 - accuracy: 0.6445\n",
      "Epoch 7/100\n",
      "39/39 [==============================] - 0s 696us/step - loss: 5.4813 - accuracy: 0.6445\n",
      "Epoch 8/100\n",
      "39/39 [==============================] - 0s 744us/step - loss: 5.4813 - accuracy: 0.6445\n",
      "Epoch 9/100\n",
      "39/39 [==============================] - 0s 718us/step - loss: 5.4813 - accuracy: 0.6445\n",
      "Epoch 10/100\n",
      "39/39 [==============================] - 0s 697us/step - loss: 5.4813 - accuracy: 0.6445\n",
      "Epoch 11/100\n",
      "39/39 [==============================] - 0s 691us/step - loss: 5.4813 - accuracy: 0.6445\n",
      "Epoch 12/100\n",
      "39/39 [==============================] - 0s 713us/step - loss: 5.4813 - accuracy: 0.6445\n",
      "Epoch 13/100\n",
      "39/39 [==============================] - 0s 709us/step - loss: 5.4813 - accuracy: 0.6445\n",
      "Epoch 14/100\n",
      "39/39 [==============================] - 0s 719us/step - loss: 5.4813 - accuracy: 0.6445\n",
      "Epoch 15/100\n",
      "39/39 [==============================] - 0s 731us/step - loss: 5.4813 - accuracy: 0.6445\n",
      "Epoch 16/100\n",
      "39/39 [==============================] - 0s 725us/step - loss: 5.4813 - accuracy: 0.6445\n",
      "Epoch 17/100\n",
      "39/39 [==============================] - 0s 735us/step - loss: 5.4813 - accuracy: 0.6445\n",
      "Epoch 18/100\n",
      "39/39 [==============================] - 0s 715us/step - loss: 5.4813 - accuracy: 0.6445\n",
      "Epoch 19/100\n",
      "39/39 [==============================] - 0s 708us/step - loss: 5.4813 - accuracy: 0.6445\n",
      "Epoch 20/100\n",
      "39/39 [==============================] - 0s 827us/step - loss: 5.4813 - accuracy: 0.6445\n",
      "Epoch 21/100\n",
      "39/39 [==============================] - 0s 673us/step - loss: 5.4813 - accuracy: 0.6445\n",
      "Epoch 22/100\n",
      "39/39 [==============================] - 0s 656us/step - loss: 5.4813 - accuracy: 0.6445\n",
      "Epoch 23/100\n",
      "39/39 [==============================] - 0s 667us/step - loss: 5.4813 - accuracy: 0.6445\n",
      "Epoch 24/100\n",
      "39/39 [==============================] - 0s 816us/step - loss: 5.4813 - accuracy: 0.6445\n",
      "Epoch 25/100\n",
      "39/39 [==============================] - 0s 731us/step - loss: 5.4813 - accuracy: 0.6445\n",
      "Epoch 26/100\n",
      "39/39 [==============================] - 0s 670us/step - loss: 5.4813 - accuracy: 0.6445\n",
      "Epoch 27/100\n",
      "39/39 [==============================] - 0s 718us/step - loss: 5.4813 - accuracy: 0.6445\n",
      "Epoch 28/100\n",
      "39/39 [==============================] - 0s 776us/step - loss: 5.4813 - accuracy: 0.6445\n",
      "Epoch 29/100\n",
      "39/39 [==============================] - 0s 812us/step - loss: 5.4813 - accuracy: 0.6445\n",
      "Epoch 30/100\n",
      "39/39 [==============================] - 0s 743us/step - loss: 5.4813 - accuracy: 0.6445\n",
      "Epoch 31/100\n",
      "39/39 [==============================] - 0s 689us/step - loss: 5.4813 - accuracy: 0.6445\n",
      "Epoch 32/100\n",
      "39/39 [==============================] - 0s 668us/step - loss: 5.4813 - accuracy: 0.6445\n",
      "Epoch 33/100\n",
      "39/39 [==============================] - 0s 681us/step - loss: 5.4813 - accuracy: 0.6445\n",
      "Epoch 34/100\n",
      "39/39 [==============================] - 0s 711us/step - loss: 5.4813 - accuracy: 0.6445\n",
      "Epoch 35/100\n",
      "39/39 [==============================] - 0s 680us/step - loss: 5.4813 - accuracy: 0.6445\n",
      "Epoch 36/100\n",
      "39/39 [==============================] - 0s 663us/step - loss: 5.4813 - accuracy: 0.6445\n",
      "Epoch 37/100\n",
      "39/39 [==============================] - 0s 707us/step - loss: 5.4813 - accuracy: 0.6445\n",
      "Epoch 38/100\n",
      "39/39 [==============================] - 0s 661us/step - loss: 5.4813 - accuracy: 0.6445\n",
      "Epoch 39/100\n",
      "39/39 [==============================] - 0s 655us/step - loss: 5.4813 - accuracy: 0.6445\n",
      "Epoch 40/100\n",
      "39/39 [==============================] - 0s 681us/step - loss: 5.4813 - accuracy: 0.6445\n",
      "Epoch 41/100\n",
      "39/39 [==============================] - 0s 691us/step - loss: 5.4813 - accuracy: 0.6445\n",
      "Epoch 42/100\n",
      "39/39 [==============================] - 0s 683us/step - loss: 5.4813 - accuracy: 0.6445\n",
      "Epoch 43/100\n",
      "39/39 [==============================] - 0s 669us/step - loss: 5.4813 - accuracy: 0.6445\n",
      "Epoch 44/100\n",
      "39/39 [==============================] - 0s 700us/step - loss: 5.4813 - accuracy: 0.6445\n",
      "Epoch 45/100\n",
      "39/39 [==============================] - 0s 691us/step - loss: 5.4813 - accuracy: 0.6445\n",
      "Epoch 46/100\n",
      "39/39 [==============================] - 0s 657us/step - loss: 5.4813 - accuracy: 0.6445\n",
      "Epoch 47/100\n",
      "39/39 [==============================] - 0s 699us/step - loss: 5.4813 - accuracy: 0.6445\n",
      "Epoch 48/100\n",
      "39/39 [==============================] - 0s 687us/step - loss: 5.4813 - accuracy: 0.6445\n",
      "Epoch 49/100\n",
      "39/39 [==============================] - 0s 730us/step - loss: 5.4813 - accuracy: 0.6445\n",
      "Epoch 50/100\n",
      "39/39 [==============================] - 0s 691us/step - loss: 5.4813 - accuracy: 0.6445\n",
      "Epoch 51/100\n",
      "39/39 [==============================] - 0s 691us/step - loss: 5.4813 - accuracy: 0.6445\n",
      "Epoch 52/100\n",
      "39/39 [==============================] - 0s 664us/step - loss: 5.4813 - accuracy: 0.6445\n",
      "Epoch 53/100\n",
      "39/39 [==============================] - 0s 730us/step - loss: 5.4813 - accuracy: 0.6445\n",
      "Epoch 54/100\n",
      "39/39 [==============================] - 0s 707us/step - loss: 5.4813 - accuracy: 0.6445\n",
      "Epoch 55/100\n",
      "39/39 [==============================] - 0s 743us/step - loss: 5.4813 - accuracy: 0.6445\n",
      "Epoch 56/100\n",
      "39/39 [==============================] - 0s 726us/step - loss: 5.4813 - accuracy: 0.6445\n",
      "Epoch 57/100\n",
      "39/39 [==============================] - 0s 673us/step - loss: 5.4813 - accuracy: 0.6445\n",
      "Epoch 58/100\n",
      "39/39 [==============================] - 0s 680us/step - loss: 5.4813 - accuracy: 0.6445\n",
      "Epoch 59/100\n",
      "39/39 [==============================] - 0s 696us/step - loss: 5.4813 - accuracy: 0.6445\n",
      "Epoch 60/100\n",
      "39/39 [==============================] - 0s 653us/step - loss: 5.4813 - accuracy: 0.6445\n",
      "Epoch 61/100\n",
      "39/39 [==============================] - 0s 676us/step - loss: 5.4813 - accuracy: 0.6445\n",
      "Epoch 62/100\n",
      "39/39 [==============================] - 0s 702us/step - loss: 5.4813 - accuracy: 0.6445\n",
      "Epoch 63/100\n",
      "39/39 [==============================] - 0s 664us/step - loss: 5.4813 - accuracy: 0.6445\n",
      "Epoch 64/100\n",
      "39/39 [==============================] - 0s 691us/step - loss: 5.4813 - accuracy: 0.6445\n",
      "Epoch 65/100\n",
      "39/39 [==============================] - 0s 707us/step - loss: 5.4813 - accuracy: 0.6445\n",
      "Epoch 66/100\n",
      "39/39 [==============================] - 0s 681us/step - loss: 5.4813 - accuracy: 0.6445\n",
      "Epoch 67/100\n",
      "39/39 [==============================] - 0s 645us/step - loss: 5.4813 - accuracy: 0.6445\n",
      "Epoch 68/100\n",
      "39/39 [==============================] - 0s 690us/step - loss: 5.4813 - accuracy: 0.6445\n",
      "Epoch 69/100\n",
      "39/39 [==============================] - 0s 671us/step - loss: 5.4813 - accuracy: 0.6445\n",
      "Epoch 70/100\n",
      "39/39 [==============================] - 0s 729us/step - loss: 5.4813 - accuracy: 0.6445\n",
      "Epoch 71/100\n",
      "39/39 [==============================] - 0s 699us/step - loss: 5.4813 - accuracy: 0.6445\n",
      "Epoch 72/100\n",
      "39/39 [==============================] - 0s 664us/step - loss: 5.4813 - accuracy: 0.6445\n",
      "Epoch 73/100\n",
      "39/39 [==============================] - 0s 686us/step - loss: 5.4813 - accuracy: 0.6445\n",
      "Epoch 74/100\n",
      "39/39 [==============================] - 0s 684us/step - loss: 5.4813 - accuracy: 0.6445\n",
      "Epoch 75/100\n",
      "39/39 [==============================] - 0s 685us/step - loss: 5.4813 - accuracy: 0.6445\n",
      "Epoch 76/100\n",
      "39/39 [==============================] - 0s 675us/step - loss: 5.4813 - accuracy: 0.6445\n",
      "Epoch 77/100\n",
      "39/39 [==============================] - 0s 716us/step - loss: 5.4813 - accuracy: 0.6445\n",
      "Epoch 78/100\n",
      "39/39 [==============================] - 0s 866us/step - loss: 5.4813 - accuracy: 0.6445\n",
      "Epoch 79/100\n",
      "39/39 [==============================] - 0s 867us/step - loss: 5.4813 - accuracy: 0.6445\n",
      "Epoch 80/100\n",
      "39/39 [==============================] - 0s 787us/step - loss: 5.4813 - accuracy: 0.6445\n",
      "Epoch 81/100\n"
     ]
    },
    {
     "name": "stdout",
     "output_type": "stream",
     "text": [
      "39/39 [==============================] - 0s 814us/step - loss: 5.4813 - accuracy: 0.6445\n",
      "Epoch 82/100\n",
      "39/39 [==============================] - 0s 840us/step - loss: 5.4813 - accuracy: 0.6445\n",
      "Epoch 83/100\n",
      "39/39 [==============================] - 0s 814us/step - loss: 5.4813 - accuracy: 0.6445\n",
      "Epoch 84/100\n",
      "39/39 [==============================] - 0s 814us/step - loss: 5.4813 - accuracy: 0.6445\n",
      "Epoch 85/100\n",
      "39/39 [==============================] - 0s 814us/step - loss: 5.4813 - accuracy: 0.6445\n",
      "Epoch 86/100\n",
      "39/39 [==============================] - 0s 840us/step - loss: 5.4813 - accuracy: 0.6445\n",
      "Epoch 87/100\n",
      "39/39 [==============================] - 0s 814us/step - loss: 5.4813 - accuracy: 0.6445\n",
      "Epoch 88/100\n",
      "39/39 [==============================] - 0s 866us/step - loss: 5.4813 - accuracy: 0.6445\n",
      "Epoch 89/100\n",
      "39/39 [==============================] - 0s 762us/step - loss: 5.4813 - accuracy: 0.6445\n",
      "Epoch 90/100\n",
      "39/39 [==============================] - 0s 840us/step - loss: 5.4813 - accuracy: 0.6445\n",
      "Epoch 91/100\n",
      "39/39 [==============================] - 0s 892us/step - loss: 5.4813 - accuracy: 0.6445\n",
      "Epoch 92/100\n",
      "39/39 [==============================] - 0s 892us/step - loss: 5.4813 - accuracy: 0.6445\n",
      "Epoch 93/100\n",
      "39/39 [==============================] - 0s 762us/step - loss: 5.4813 - accuracy: 0.6445\n",
      "Epoch 94/100\n",
      "39/39 [==============================] - 0s 678us/step - loss: 5.4813 - accuracy: 0.6445\n",
      "Epoch 95/100\n",
      "39/39 [==============================] - 0s 654us/step - loss: 5.4813 - accuracy: 0.6445\n",
      "Epoch 96/100\n",
      "39/39 [==============================] - 0s 701us/step - loss: 5.4813 - accuracy: 0.6445\n",
      "Epoch 97/100\n",
      "39/39 [==============================] - 0s 666us/step - loss: 5.4813 - accuracy: 0.6445\n",
      "Epoch 98/100\n",
      "39/39 [==============================] - 0s 716us/step - loss: 5.4813 - accuracy: 0.6445\n",
      "Epoch 99/100\n",
      "39/39 [==============================] - 0s 658us/step - loss: 5.4813 - accuracy: 0.6445\n",
      "Epoch 100/100\n",
      "39/39 [==============================] - 0s 666us/step - loss: 5.4813 - accuracy: 0.6445\n"
     ]
    },
    {
     "data": {
      "text/plain": [
       "<keras.callbacks.History at 0x23639ecd490>"
      ]
     },
     "execution_count": 20,
     "metadata": {},
     "output_type": "execute_result"
    }
   ],
   "source": [
    "model.fit(x, y, epochs=100, batch_size = 20)\n",
    "\n",
    "# epochs : 전체 데이터를 몇 번 학습을 시킬 것인가\n",
    "# batch_size : 한 번 학습 시 몇 개의 데이터를 학습시킬 것인가\n",
    "# batch_size가 클 때 : 업데이트 하는데 메모리와 시간이 많이 소요 / 업데이트는 안정적\n",
    "# batch_size가 작을 때 : 업데이트 하는데 메모리와 시간이 적게 소요 / 업데이트는 불안정적\n",
    "\n",
    "\n",
    "# loss 와 accuracy가 늘지도 줄지도 않고있어 학습이 전혀 안되고 있다"
   ]
  },
  {
   "cell_type": "code",
   "execution_count": null,
   "id": "e70793af",
   "metadata": {},
   "outputs": [],
   "source": []
  },
  {
   "cell_type": "code",
   "execution_count": null,
   "id": "c84c68c9",
   "metadata": {},
   "outputs": [],
   "source": []
  },
  {
   "cell_type": "code",
   "execution_count": 21,
   "id": "8a115f64",
   "metadata": {},
   "outputs": [],
   "source": [
    "from sklearn.preprocessing import StandardScaler\n",
    "scaler = StandardScaler()\n",
    "x_scaled = scaler.fit_transform(df.iloc[:, :8])"
   ]
  },
  {
   "cell_type": "code",
   "execution_count": 22,
   "id": "3c65f79c",
   "metadata": {},
   "outputs": [
    {
     "data": {
      "text/plain": [
       "array([[ 0.63994726,  0.84832379,  0.14964075, ...,  0.20401277,\n",
       "         0.46849198,  1.4259954 ],\n",
       "       [-0.84488505, -1.12339636, -0.16054575, ..., -0.68442195,\n",
       "        -0.36506078, -0.19067191],\n",
       "       [ 1.23388019,  1.94372388, -0.26394125, ..., -1.10325546,\n",
       "         0.60439732, -0.10558415],\n",
       "       ...,\n",
       "       [ 0.3429808 ,  0.00330087,  0.14964075, ..., -0.73518964,\n",
       "        -0.68519336, -0.27575966],\n",
       "       [-0.84488505,  0.1597866 , -0.47073225, ..., -0.24020459,\n",
       "        -0.37110101,  1.17073215],\n",
       "       [-0.84488505, -0.8730192 ,  0.04624525, ..., -0.20212881,\n",
       "        -0.47378505, -0.87137393]])"
      ]
     },
     "execution_count": 22,
     "metadata": {},
     "output_type": "execute_result"
    }
   ],
   "source": [
    "x_scaled"
   ]
  },
  {
   "cell_type": "code",
   "execution_count": 23,
   "id": "2b9eb04d",
   "metadata": {},
   "outputs": [
    {
     "name": "stdout",
     "output_type": "stream",
     "text": [
      "Epoch 1/100\n",
      "39/39 [==============================] - 0s 787us/step - loss: 3.9388 - accuracy: 0.6732\n",
      "Epoch 2/100\n",
      "39/39 [==============================] - 0s 820us/step - loss: 1.9839 - accuracy: 0.7096\n",
      "Epoch 3/100\n",
      "39/39 [==============================] - 0s 814us/step - loss: 1.6532 - accuracy: 0.7266\n",
      "Epoch 4/100\n",
      "39/39 [==============================] - 0s 787us/step - loss: 1.0745 - accuracy: 0.7344\n",
      "Epoch 5/100\n",
      "39/39 [==============================] - 0s 787us/step - loss: 0.8255 - accuracy: 0.7513\n",
      "Epoch 6/100\n",
      "39/39 [==============================] - 0s 814us/step - loss: 0.7582 - accuracy: 0.7578\n",
      "Epoch 7/100\n",
      "39/39 [==============================] - 0s 796us/step - loss: 0.7355 - accuracy: 0.7565\n",
      "Epoch 8/100\n",
      "39/39 [==============================] - 0s 713us/step - loss: 0.7351 - accuracy: 0.7604\n",
      "Epoch 9/100\n",
      "39/39 [==============================] - 0s 752us/step - loss: 0.7049 - accuracy: 0.7630\n",
      "Epoch 10/100\n",
      "39/39 [==============================] - 0s 749us/step - loss: 0.6984 - accuracy: 0.7669\n",
      "Epoch 11/100\n",
      "39/39 [==============================] - 0s 763us/step - loss: 0.6862 - accuracy: 0.7695\n",
      "Epoch 12/100\n",
      "39/39 [==============================] - 0s 776us/step - loss: 0.6581 - accuracy: 0.7461\n",
      "Epoch 13/100\n",
      "39/39 [==============================] - 0s 690us/step - loss: 0.6989 - accuracy: 0.7721\n",
      "Epoch 14/100\n",
      "39/39 [==============================] - 0s 735us/step - loss: 0.6688 - accuracy: 0.7643\n",
      "Epoch 15/100\n",
      "39/39 [==============================] - 0s 698us/step - loss: 0.6601 - accuracy: 0.7682\n",
      "Epoch 16/100\n",
      "39/39 [==============================] - 0s 707us/step - loss: 0.6023 - accuracy: 0.7591\n",
      "Epoch 17/100\n",
      "39/39 [==============================] - 0s 681us/step - loss: 0.5465 - accuracy: 0.7695\n",
      "Epoch 18/100\n",
      "39/39 [==============================] - 0s 676us/step - loss: 0.5424 - accuracy: 0.7708\n",
      "Epoch 19/100\n",
      "39/39 [==============================] - 0s 699us/step - loss: 0.5401 - accuracy: 0.7721\n",
      "Epoch 20/100\n",
      "39/39 [==============================] - 0s 707us/step - loss: 0.5381 - accuracy: 0.7695\n",
      "Epoch 21/100\n",
      "39/39 [==============================] - 0s 694us/step - loss: 0.5369 - accuracy: 0.7734\n",
      "Epoch 22/100\n",
      "39/39 [==============================] - 0s 698us/step - loss: 0.5353 - accuracy: 0.7760\n",
      "Epoch 23/100\n",
      "39/39 [==============================] - 0s 719us/step - loss: 0.5344 - accuracy: 0.7747\n",
      "Epoch 24/100\n",
      "39/39 [==============================] - 0s 664us/step - loss: 0.5332 - accuracy: 0.7747\n",
      "Epoch 25/100\n",
      "39/39 [==============================] - 0s 668us/step - loss: 0.5324 - accuracy: 0.7747\n",
      "Epoch 26/100\n",
      "39/39 [==============================] - 0s 753us/step - loss: 0.5309 - accuracy: 0.7760\n",
      "Epoch 27/100\n",
      "39/39 [==============================] - 0s 692us/step - loss: 0.5296 - accuracy: 0.7747\n",
      "Epoch 28/100\n",
      "39/39 [==============================] - 0s 723us/step - loss: 0.5292 - accuracy: 0.7773\n",
      "Epoch 29/100\n",
      "39/39 [==============================] - 0s 737us/step - loss: 0.5277 - accuracy: 0.7812\n",
      "Epoch 30/100\n",
      "39/39 [==============================] - 0s 728us/step - loss: 0.5269 - accuracy: 0.7826\n",
      "Epoch 31/100\n",
      "39/39 [==============================] - 0s 713us/step - loss: 0.5262 - accuracy: 0.7826\n",
      "Epoch 32/100\n",
      "39/39 [==============================] - 0s 691us/step - loss: 0.5254 - accuracy: 0.7826\n",
      "Epoch 33/100\n",
      "39/39 [==============================] - 0s 715us/step - loss: 0.5244 - accuracy: 0.7839\n",
      "Epoch 34/100\n",
      "39/39 [==============================] - 0s 723us/step - loss: 0.5235 - accuracy: 0.7839\n",
      "Epoch 35/100\n",
      "39/39 [==============================] - 0s 714us/step - loss: 0.5229 - accuracy: 0.7839\n",
      "Epoch 36/100\n",
      "39/39 [==============================] - 0s 727us/step - loss: 0.5220 - accuracy: 0.7826\n",
      "Epoch 37/100\n",
      "39/39 [==============================] - 0s 682us/step - loss: 0.5215 - accuracy: 0.7799\n",
      "Epoch 38/100\n",
      "39/39 [==============================] - 0s 694us/step - loss: 0.5206 - accuracy: 0.7812\n",
      "Epoch 39/100\n",
      "39/39 [==============================] - 0s 727us/step - loss: 0.5201 - accuracy: 0.7812\n",
      "Epoch 40/100\n",
      "39/39 [==============================] - 0s 701us/step - loss: 0.5192 - accuracy: 0.7852\n",
      "Epoch 41/100\n",
      "39/39 [==============================] - 0s 699us/step - loss: 0.5192 - accuracy: 0.7760\n",
      "Epoch 42/100\n",
      "39/39 [==============================] - 0s 673us/step - loss: 0.5177 - accuracy: 0.7839\n",
      "Epoch 43/100\n",
      "39/39 [==============================] - 0s 681us/step - loss: 0.5171 - accuracy: 0.7773\n",
      "Epoch 44/100\n",
      "39/39 [==============================] - 0s 677us/step - loss: 0.5163 - accuracy: 0.7760\n",
      "Epoch 45/100\n",
      "39/39 [==============================] - 0s 722us/step - loss: 0.5160 - accuracy: 0.7773\n",
      "Epoch 46/100\n",
      "39/39 [==============================] - 0s 709us/step - loss: 0.5147 - accuracy: 0.7760\n",
      "Epoch 47/100\n",
      "39/39 [==============================] - 0s 712us/step - loss: 0.5144 - accuracy: 0.7799\n",
      "Epoch 48/100\n",
      "39/39 [==============================] - 0s 682us/step - loss: 0.5145 - accuracy: 0.7721\n",
      "Epoch 49/100\n",
      "39/39 [==============================] - 0s 706us/step - loss: 0.5138 - accuracy: 0.7773\n",
      "Epoch 50/100\n",
      "39/39 [==============================] - 0s 740us/step - loss: 0.5133 - accuracy: 0.7760\n",
      "Epoch 51/100\n",
      "39/39 [==============================] - 0s 715us/step - loss: 0.5123 - accuracy: 0.7799\n",
      "Epoch 52/100\n",
      "39/39 [==============================] - 0s 728us/step - loss: 0.5117 - accuracy: 0.7760\n",
      "Epoch 53/100\n",
      "39/39 [==============================] - 0s 748us/step - loss: 0.5113 - accuracy: 0.7786\n",
      "Epoch 54/100\n",
      "39/39 [==============================] - 0s 716us/step - loss: 0.5106 - accuracy: 0.7786\n",
      "Epoch 55/100\n",
      "39/39 [==============================] - 0s 744us/step - loss: 0.5099 - accuracy: 0.7786\n",
      "Epoch 56/100\n",
      "39/39 [==============================] - 0s 661us/step - loss: 0.5094 - accuracy: 0.7812\n",
      "Epoch 57/100\n",
      "39/39 [==============================] - 0s 666us/step - loss: 0.5098 - accuracy: 0.7786\n",
      "Epoch 58/100\n",
      "39/39 [==============================] - 0s 663us/step - loss: 0.5085 - accuracy: 0.7747\n",
      "Epoch 59/100\n",
      "39/39 [==============================] - 0s 692us/step - loss: 0.5081 - accuracy: 0.7812\n",
      "Epoch 60/100\n",
      "39/39 [==============================] - 0s 747us/step - loss: 0.5074 - accuracy: 0.7773\n",
      "Epoch 61/100\n",
      "39/39 [==============================] - 0s 729us/step - loss: 0.5069 - accuracy: 0.7826\n",
      "Epoch 62/100\n",
      "39/39 [==============================] - 0s 690us/step - loss: 0.5065 - accuracy: 0.7799\n",
      "Epoch 63/100\n",
      "39/39 [==============================] - 0s 702us/step - loss: 0.5075 - accuracy: 0.7826\n",
      "Epoch 64/100\n",
      "39/39 [==============================] - 0s 682us/step - loss: 0.5049 - accuracy: 0.7786\n",
      "Epoch 65/100\n",
      "39/39 [==============================] - 0s 735us/step - loss: 0.5047 - accuracy: 0.7799\n",
      "Epoch 66/100\n",
      "39/39 [==============================] - 0s 668us/step - loss: 0.5037 - accuracy: 0.7812\n",
      "Epoch 67/100\n",
      "39/39 [==============================] - 0s 661us/step - loss: 0.5030 - accuracy: 0.7799\n",
      "Epoch 68/100\n",
      "39/39 [==============================] - 0s 666us/step - loss: 0.5026 - accuracy: 0.7786\n",
      "Epoch 69/100\n",
      "39/39 [==============================] - 0s 676us/step - loss: 0.5027 - accuracy: 0.7839\n",
      "Epoch 70/100\n",
      "39/39 [==============================] - 0s 793us/step - loss: 0.5021 - accuracy: 0.7799\n",
      "Epoch 71/100\n",
      "39/39 [==============================] - 0s 677us/step - loss: 0.5032 - accuracy: 0.7812\n",
      "Epoch 72/100\n",
      "39/39 [==============================] - 0s 667us/step - loss: 0.5007 - accuracy: 0.7786\n",
      "Epoch 73/100\n",
      "39/39 [==============================] - 0s 631us/step - loss: 0.5000 - accuracy: 0.7826\n",
      "Epoch 74/100\n",
      "39/39 [==============================] - 0s 702us/step - loss: 0.5000 - accuracy: 0.7799\n",
      "Epoch 75/100\n",
      "39/39 [==============================] - 0s 667us/step - loss: 0.4995 - accuracy: 0.7786\n",
      "Epoch 76/100\n",
      "39/39 [==============================] - 0s 682us/step - loss: 0.4995 - accuracy: 0.7773\n",
      "Epoch 77/100\n",
      "39/39 [==============================] - 0s 730us/step - loss: 0.4982 - accuracy: 0.7773\n",
      "Epoch 78/100\n",
      "39/39 [==============================] - 0s 698us/step - loss: 0.4974 - accuracy: 0.7826\n",
      "Epoch 79/100\n",
      "39/39 [==============================] - 0s 650us/step - loss: 0.4974 - accuracy: 0.7799\n",
      "Epoch 80/100\n",
      "39/39 [==============================] - 0s 731us/step - loss: 0.4971 - accuracy: 0.7826\n",
      "Epoch 81/100\n"
     ]
    },
    {
     "name": "stdout",
     "output_type": "stream",
     "text": [
      "39/39 [==============================] - 0s 724us/step - loss: 0.4977 - accuracy: 0.7812\n",
      "Epoch 82/100\n",
      "39/39 [==============================] - 0s 713us/step - loss: 0.4961 - accuracy: 0.7799\n",
      "Epoch 83/100\n",
      "39/39 [==============================] - 0s 701us/step - loss: 0.4964 - accuracy: 0.7839\n",
      "Epoch 84/100\n",
      "39/39 [==============================] - 0s 681us/step - loss: 0.4958 - accuracy: 0.7799\n",
      "Epoch 85/100\n",
      "39/39 [==============================] - 0s 646us/step - loss: 0.4946 - accuracy: 0.7786\n",
      "Epoch 86/100\n",
      "39/39 [==============================] - 0s 705us/step - loss: 0.4946 - accuracy: 0.7799\n",
      "Epoch 87/100\n",
      "39/39 [==============================] - 0s 684us/step - loss: 0.4939 - accuracy: 0.7786\n",
      "Epoch 88/100\n",
      "39/39 [==============================] - 0s 698us/step - loss: 0.4930 - accuracy: 0.7812\n",
      "Epoch 89/100\n",
      "39/39 [==============================] - 0s 678us/step - loss: 0.4928 - accuracy: 0.7826\n",
      "Epoch 90/100\n",
      "39/39 [==============================] - 0s 689us/step - loss: 0.4920 - accuracy: 0.7773\n",
      "Epoch 91/100\n",
      "39/39 [==============================] - 0s 728us/step - loss: 0.4921 - accuracy: 0.7812\n",
      "Epoch 92/100\n",
      "39/39 [==============================] - 0s 740us/step - loss: 0.4911 - accuracy: 0.7799\n",
      "Epoch 93/100\n",
      "39/39 [==============================] - 0s 734us/step - loss: 0.4898 - accuracy: 0.7839\n",
      "Epoch 94/100\n",
      "39/39 [==============================] - 0s 656us/step - loss: 0.4902 - accuracy: 0.7812\n",
      "Epoch 95/100\n",
      "39/39 [==============================] - 0s 661us/step - loss: 0.4889 - accuracy: 0.7826\n",
      "Epoch 96/100\n",
      "39/39 [==============================] - 0s 801us/step - loss: 0.4887 - accuracy: 0.7826\n",
      "Epoch 97/100\n",
      "39/39 [==============================] - 0s 705us/step - loss: 0.4884 - accuracy: 0.7812\n",
      "Epoch 98/100\n",
      "39/39 [==============================] - 0s 699us/step - loss: 0.4871 - accuracy: 0.7839\n",
      "Epoch 99/100\n",
      "39/39 [==============================] - 0s 666us/step - loss: 0.4874 - accuracy: 0.7852\n",
      "Epoch 100/100\n",
      "39/39 [==============================] - 0s 681us/step - loss: 0.4872 - accuracy: 0.7865\n"
     ]
    },
    {
     "data": {
      "text/plain": [
       "<keras.callbacks.History at 0x2363a0cfe80>"
      ]
     },
     "execution_count": 23,
     "metadata": {},
     "output_type": "execute_result"
    }
   ],
   "source": [
    "model.fit(x_scaled, y, epochs=100, batch_size = 20)"
   ]
  },
  {
   "cell_type": "code",
   "execution_count": 24,
   "id": "1c540787",
   "metadata": {},
   "outputs": [
    {
     "name": "stdout",
     "output_type": "stream",
     "text": [
      "24/24 [==============================] - 0s 607us/step - loss: 0.4839 - accuracy: 0.7839\n"
     ]
    },
    {
     "data": {
      "text/plain": [
       "[0.48389729857444763, 0.7838541865348816]"
      ]
     },
     "execution_count": 24,
     "metadata": {},
     "output_type": "execute_result"
    }
   ],
   "source": [
    "model.evaluate(x_scaled, y)"
   ]
  },
  {
   "cell_type": "code",
   "execution_count": null,
   "id": "1ba34d8d",
   "metadata": {},
   "outputs": [],
   "source": []
  }
 ],
 "metadata": {
  "kernelspec": {
   "display_name": "Python 3 (ipykernel)",
   "language": "python",
   "name": "python3"
  },
  "language_info": {
   "codemirror_mode": {
    "name": "ipython",
    "version": 3
   },
   "file_extension": ".py",
   "mimetype": "text/x-python",
   "name": "python",
   "nbconvert_exporter": "python",
   "pygments_lexer": "ipython3",
   "version": "3.9.7"
  }
 },
 "nbformat": 4,
 "nbformat_minor": 5
}
