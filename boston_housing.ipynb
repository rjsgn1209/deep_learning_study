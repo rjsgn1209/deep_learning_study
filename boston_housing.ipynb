{
 "cells": [
  {
   "cell_type": "code",
   "execution_count": 11,
   "id": "434277ab",
   "metadata": {},
   "outputs": [],
   "source": [
    "import pandas as pd \n",
    "import numpy as np\n",
    "import matplotlib.pyplot as plt\n",
    "import seaborn as sns"
   ]
  },
  {
   "cell_type": "code",
   "execution_count": 12,
   "id": "bf73e254",
   "metadata": {},
   "outputs": [],
   "source": [
    "from tensorflow.keras.models import Sequential\n",
    "from tensorflow.keras.layers import Dense\n",
    "from sklearn.model_selection import train_test_split"
   ]
  },
  {
   "cell_type": "code",
   "execution_count": 14,
   "id": "544eadee",
   "metadata": {},
   "outputs": [
    {
     "data": {
      "text/html": [
       "<div>\n",
       "<style scoped>\n",
       "    .dataframe tbody tr th:only-of-type {\n",
       "        vertical-align: middle;\n",
       "    }\n",
       "\n",
       "    .dataframe tbody tr th {\n",
       "        vertical-align: top;\n",
       "    }\n",
       "\n",
       "    .dataframe thead th {\n",
       "        text-align: right;\n",
       "    }\n",
       "</style>\n",
       "<table border=\"1\" class=\"dataframe\">\n",
       "  <thead>\n",
       "    <tr style=\"text-align: right;\">\n",
       "      <th></th>\n",
       "      <th>0</th>\n",
       "      <th>1</th>\n",
       "      <th>2</th>\n",
       "      <th>3</th>\n",
       "      <th>4</th>\n",
       "      <th>5</th>\n",
       "      <th>6</th>\n",
       "      <th>7</th>\n",
       "      <th>8</th>\n",
       "      <th>9</th>\n",
       "      <th>10</th>\n",
       "      <th>11</th>\n",
       "      <th>12</th>\n",
       "      <th>13</th>\n",
       "    </tr>\n",
       "  </thead>\n",
       "  <tbody>\n",
       "    <tr>\n",
       "      <th>0</th>\n",
       "      <td>0.00632</td>\n",
       "      <td>18.0</td>\n",
       "      <td>2.31</td>\n",
       "      <td>0</td>\n",
       "      <td>0.538</td>\n",
       "      <td>6.575</td>\n",
       "      <td>65.2</td>\n",
       "      <td>4.0900</td>\n",
       "      <td>1</td>\n",
       "      <td>296.0</td>\n",
       "      <td>15.3</td>\n",
       "      <td>396.90</td>\n",
       "      <td>4.98</td>\n",
       "      <td>24.0</td>\n",
       "    </tr>\n",
       "    <tr>\n",
       "      <th>1</th>\n",
       "      <td>0.02731</td>\n",
       "      <td>0.0</td>\n",
       "      <td>7.07</td>\n",
       "      <td>0</td>\n",
       "      <td>0.469</td>\n",
       "      <td>6.421</td>\n",
       "      <td>78.9</td>\n",
       "      <td>4.9671</td>\n",
       "      <td>2</td>\n",
       "      <td>242.0</td>\n",
       "      <td>17.8</td>\n",
       "      <td>396.90</td>\n",
       "      <td>9.14</td>\n",
       "      <td>21.6</td>\n",
       "    </tr>\n",
       "    <tr>\n",
       "      <th>2</th>\n",
       "      <td>0.02729</td>\n",
       "      <td>0.0</td>\n",
       "      <td>7.07</td>\n",
       "      <td>0</td>\n",
       "      <td>0.469</td>\n",
       "      <td>7.185</td>\n",
       "      <td>61.1</td>\n",
       "      <td>4.9671</td>\n",
       "      <td>2</td>\n",
       "      <td>242.0</td>\n",
       "      <td>17.8</td>\n",
       "      <td>392.83</td>\n",
       "      <td>4.03</td>\n",
       "      <td>34.7</td>\n",
       "    </tr>\n",
       "  </tbody>\n",
       "</table>\n",
       "</div>"
      ],
      "text/plain": [
       "        0     1     2   3      4      5     6       7   8      9     10  \\\n",
       "0  0.00632  18.0  2.31   0  0.538  6.575  65.2  4.0900   1  296.0  15.3   \n",
       "1  0.02731   0.0  7.07   0  0.469  6.421  78.9  4.9671   2  242.0  17.8   \n",
       "2  0.02729   0.0  7.07   0  0.469  7.185  61.1  4.9671   2  242.0  17.8   \n",
       "\n",
       "       11    12    13  \n",
       "0  396.90  4.98  24.0  \n",
       "1  396.90  9.14  21.6  \n",
       "2  392.83  4.03  34.7  "
      ]
     },
     "execution_count": 14,
     "metadata": {},
     "output_type": "execute_result"
    }
   ],
   "source": [
    "df = pd.read_csv('./data/housing.csv', header=None, delim_whitespace=True)\n",
    "df.head(3)"
   ]
  },
  {
   "cell_type": "code",
   "execution_count": 16,
   "id": "2474c91d",
   "metadata": {
    "collapsed": true
   },
   "outputs": [
    {
     "name": "stdout",
     "output_type": "stream",
     "text": [
      "<class 'pandas.core.frame.DataFrame'>\n",
      "RangeIndex: 506 entries, 0 to 505\n",
      "Data columns (total 14 columns):\n",
      " #   Column  Non-Null Count  Dtype  \n",
      "---  ------  --------------  -----  \n",
      " 0   0       506 non-null    float64\n",
      " 1   1       506 non-null    float64\n",
      " 2   2       506 non-null    float64\n",
      " 3   3       506 non-null    int64  \n",
      " 4   4       506 non-null    float64\n",
      " 5   5       506 non-null    float64\n",
      " 6   6       506 non-null    float64\n",
      " 7   7       506 non-null    float64\n",
      " 8   8       506 non-null    int64  \n",
      " 9   9       506 non-null    float64\n",
      " 10  10      506 non-null    float64\n",
      " 11  11      506 non-null    float64\n",
      " 12  12      506 non-null    float64\n",
      " 13  13      506 non-null    float64\n",
      "dtypes: float64(12), int64(2)\n",
      "memory usage: 55.5 KB\n"
     ]
    }
   ],
   "source": [
    "df.info()"
   ]
  },
  {
   "cell_type": "code",
   "execution_count": 19,
   "id": "e3aa43fd",
   "metadata": {},
   "outputs": [],
   "source": [
    "y = df.values[:, 13]\n",
    "x = df.values[:, :13]"
   ]
  },
  {
   "cell_type": "code",
   "execution_count": 24,
   "id": "fb3b85d3",
   "metadata": {
    "collapsed": true
   },
   "outputs": [
    {
     "data": {
      "text/plain": [
       "array([24. , 21.6, 34.7, 33.4, 36.2, 28.7, 22.9, 27.1, 16.5, 18.9, 15. ,\n",
       "       18.9, 21.7, 20.4, 18.2, 19.9, 23.1, 17.5, 20.2, 18.2, 13.6, 19.6,\n",
       "       15.2, 14.5, 15.6, 13.9, 16.6, 14.8, 18.4, 21. , 12.7, 14.5, 13.2,\n",
       "       13.1, 13.5, 18.9, 20. , 21. , 24.7, 30.8, 34.9, 26.6, 25.3, 24.7,\n",
       "       21.2, 19.3, 20. , 16.6, 14.4, 19.4, 19.7, 20.5, 25. , 23.4, 18.9,\n",
       "       35.4, 24.7, 31.6, 23.3, 19.6, 18.7, 16. , 22.2, 25. , 33. , 23.5,\n",
       "       19.4, 22. , 17.4, 20.9, 24.2, 21.7, 22.8, 23.4, 24.1, 21.4, 20. ,\n",
       "       20.8, 21.2, 20.3, 28. , 23.9, 24.8, 22.9, 23.9, 26.6, 22.5, 22.2,\n",
       "       23.6, 28.7, 22.6, 22. , 22.9, 25. , 20.6, 28.4, 21.4, 38.7, 43.8,\n",
       "       33.2, 27.5, 26.5, 18.6, 19.3, 20.1, 19.5, 19.5, 20.4, 19.8, 19.4,\n",
       "       21.7, 22.8, 18.8, 18.7, 18.5, 18.3, 21.2, 19.2, 20.4, 19.3, 22. ,\n",
       "       20.3, 20.5, 17.3, 18.8, 21.4, 15.7, 16.2, 18. , 14.3, 19.2, 19.6,\n",
       "       23. , 18.4, 15.6, 18.1, 17.4, 17.1, 13.3, 17.8, 14. , 14.4, 13.4,\n",
       "       15.6, 11.8, 13.8, 15.6, 14.6, 17.8, 15.4, 21.5, 19.6, 15.3, 19.4,\n",
       "       17. , 15.6, 13.1, 41.3, 24.3, 23.3, 27. , 50. , 50. , 50. , 22.7,\n",
       "       25. , 50. , 23.8, 23.8, 22.3, 17.4, 19.1, 23.1, 23.6, 22.6, 29.4,\n",
       "       23.2, 24.6, 29.9, 37.2, 39.8, 36.2, 37.9, 32.5, 26.4, 29.6, 50. ,\n",
       "       32. , 29.8, 34.9, 37. , 30.5, 36.4, 31.1, 29.1, 50. , 33.3, 30.3,\n",
       "       34.6, 34.9, 32.9, 24.1, 42.3, 48.5, 50. , 22.6, 24.4, 22.5, 24.4,\n",
       "       20. , 21.7, 19.3, 22.4, 28.1, 23.7, 25. , 23.3, 28.7, 21.5, 23. ,\n",
       "       26.7, 21.7, 27.5, 30.1, 44.8, 50. , 37.6, 31.6, 46.7, 31.5, 24.3,\n",
       "       31.7, 41.7, 48.3, 29. , 24. , 25.1, 31.5, 23.7, 23.3, 22. , 20.1,\n",
       "       22.2, 23.7, 17.6, 18.5, 24.3, 20.5, 24.5, 26.2, 24.4, 24.8, 29.6,\n",
       "       42.8, 21.9, 20.9, 44. , 50. , 36. , 30.1, 33.8, 43.1, 48.8, 31. ,\n",
       "       36.5, 22.8, 30.7, 50. , 43.5, 20.7, 21.1, 25.2, 24.4, 35.2, 32.4,\n",
       "       32. , 33.2, 33.1, 29.1, 35.1, 45.4, 35.4, 46. , 50. , 32.2, 22. ,\n",
       "       20.1, 23.2, 22.3, 24.8, 28.5, 37.3, 27.9, 23.9, 21.7, 28.6, 27.1,\n",
       "       20.3, 22.5, 29. , 24.8, 22. , 26.4, 33.1, 36.1, 28.4, 33.4, 28.2,\n",
       "       22.8, 20.3, 16.1, 22.1, 19.4, 21.6, 23.8, 16.2, 17.8, 19.8, 23.1,\n",
       "       21. , 23.8, 23.1, 20.4, 18.5, 25. , 24.6, 23. , 22.2, 19.3, 22.6,\n",
       "       19.8, 17.1, 19.4, 22.2, 20.7, 21.1, 19.5, 18.5, 20.6, 19. , 18.7,\n",
       "       32.7, 16.5, 23.9, 31.2, 17.5, 17.2, 23.1, 24.5, 26.6, 22.9, 24.1,\n",
       "       18.6, 30.1, 18.2, 20.6, 17.8, 21.7, 22.7, 22.6, 25. , 19.9, 20.8,\n",
       "       16.8, 21.9, 27.5, 21.9, 23.1, 50. , 50. , 50. , 50. , 50. , 13.8,\n",
       "       13.8, 15. , 13.9, 13.3, 13.1, 10.2, 10.4, 10.9, 11.3, 12.3,  8.8,\n",
       "        7.2, 10.5,  7.4, 10.2, 11.5, 15.1, 23.2,  9.7, 13.8, 12.7, 13.1,\n",
       "       12.5,  8.5,  5. ,  6.3,  5.6,  7.2, 12.1,  8.3,  8.5,  5. , 11.9,\n",
       "       27.9, 17.2, 27.5, 15. , 17.2, 17.9, 16.3,  7. ,  7.2,  7.5, 10.4,\n",
       "        8.8,  8.4, 16.7, 14.2, 20.8, 13.4, 11.7,  8.3, 10.2, 10.9, 11. ,\n",
       "        9.5, 14.5, 14.1, 16.1, 14.3, 11.7, 13.4,  9.6,  8.7,  8.4, 12.8,\n",
       "       10.5, 17.1, 18.4, 15.4, 10.8, 11.8, 14.9, 12.6, 14.1, 13. , 13.4,\n",
       "       15.2, 16.1, 17.8, 14.9, 14.1, 12.7, 13.5, 14.9, 20. , 16.4, 17.7,\n",
       "       19.5, 20.2, 21.4, 19.9, 19. , 19.1, 19.1, 20.1, 19.9, 19.6, 23.2,\n",
       "       29.8, 13.8, 13.3, 16.7, 12. , 14.6, 21.4, 23. , 23.7, 25. , 21.8,\n",
       "       20.6, 21.2, 19.1, 20.6, 15.2,  7. ,  8.1, 13.6, 20.1, 21.8, 24.5,\n",
       "       23.1, 19.7, 18.3, 21.2, 17.5, 16.8, 22.4, 20.6, 23.9, 22. , 11.9])"
      ]
     },
     "execution_count": 24,
     "metadata": {},
     "output_type": "execute_result"
    }
   ],
   "source": [
    "y # continuous data => regression"
   ]
  },
  {
   "cell_type": "code",
   "execution_count": 25,
   "id": "55a91ce1",
   "metadata": {},
   "outputs": [],
   "source": [
    "x_train, x_test, y_train, y_test = train_test_split(x,y, random_state=111)"
   ]
  },
  {
   "cell_type": "code",
   "execution_count": 26,
   "id": "0a41ec7f",
   "metadata": {},
   "outputs": [
    {
     "data": {
      "text/plain": [
       "(379, 13)"
      ]
     },
     "execution_count": 26,
     "metadata": {},
     "output_type": "execute_result"
    }
   ],
   "source": [
    "x_train.shape"
   ]
  },
  {
   "cell_type": "code",
   "execution_count": 58,
   "id": "f00f24e9",
   "metadata": {},
   "outputs": [],
   "source": [
    "model = Sequential()\n",
    "model.add(Dense(30, input_dim=13, activation='relu'))\n",
    "model.add(Dense(20, activation='relu'))\n",
    "model.add(Dense(10, activation='relu'))\n",
    "model.add(Dense(1)) # regresion에서는 output layer에 activation function을 사용하지 않는다.\n",
    "\n",
    "# binary cls activation: sigmoid()\n",
    "# multiflassification: sofmax()"
   ]
  },
  {
   "cell_type": "code",
   "execution_count": null,
   "id": "bf7bddf1",
   "metadata": {},
   "outputs": [],
   "source": []
  },
  {
   "cell_type": "code",
   "execution_count": 59,
   "id": "b0721645",
   "metadata": {},
   "outputs": [],
   "source": [
    "model.compile(loss='mean_squared_error', optimizer='adam')"
   ]
  },
  {
   "cell_type": "code",
   "execution_count": null,
   "id": "031ee721",
   "metadata": {},
   "outputs": [],
   "source": []
  },
  {
   "cell_type": "code",
   "execution_count": 60,
   "id": "e031c630",
   "metadata": {
    "collapsed": true
   },
   "outputs": [
    {
     "name": "stdout",
     "output_type": "stream",
     "text": [
      "Epoch 1/100\n",
      "16/16 [==============================] - 0s 7ms/step - loss: 82.8001 - val_loss: 83.0428\n",
      "Epoch 2/100\n",
      "16/16 [==============================] - 0s 2ms/step - loss: 73.1092 - val_loss: 89.4944\n",
      "Epoch 3/100\n",
      "16/16 [==============================] - 0s 2ms/step - loss: 73.5594 - val_loss: 82.4936\n",
      "Epoch 4/100\n",
      "16/16 [==============================] - 0s 2ms/step - loss: 66.0410 - val_loss: 68.7990\n",
      "Epoch 5/100\n",
      "16/16 [==============================] - 0s 2ms/step - loss: 62.9382 - val_loss: 65.3375\n",
      "Epoch 6/100\n",
      "16/16 [==============================] - 0s 2ms/step - loss: 66.7511 - val_loss: 66.0044\n",
      "Epoch 7/100\n",
      "16/16 [==============================] - 0s 2ms/step - loss: 60.0379 - val_loss: 65.8358\n",
      "Epoch 8/100\n",
      "16/16 [==============================] - 0s 2ms/step - loss: 65.3072 - val_loss: 61.0268\n",
      "Epoch 9/100\n",
      "16/16 [==============================] - 0s 2ms/step - loss: 57.3134 - val_loss: 63.0078\n",
      "Epoch 10/100\n",
      "16/16 [==============================] - 0s 2ms/step - loss: 55.4931 - val_loss: 60.8042\n",
      "Epoch 11/100\n",
      "16/16 [==============================] - 0s 2ms/step - loss: 55.1665 - val_loss: 63.3076\n",
      "Epoch 12/100\n",
      "16/16 [==============================] - 0s 2ms/step - loss: 53.0133 - val_loss: 56.6801\n",
      "Epoch 13/100\n",
      "16/16 [==============================] - 0s 2ms/step - loss: 53.5640 - val_loss: 61.4866\n",
      "Epoch 14/100\n",
      "16/16 [==============================] - 0s 2ms/step - loss: 53.8842 - val_loss: 54.6675\n",
      "Epoch 15/100\n",
      "16/16 [==============================] - 0s 2ms/step - loss: 51.5204 - val_loss: 59.3219\n",
      "Epoch 16/100\n",
      "16/16 [==============================] - 0s 2ms/step - loss: 50.7199 - val_loss: 56.3831\n",
      "Epoch 17/100\n",
      "16/16 [==============================] - 0s 2ms/step - loss: 51.2712 - val_loss: 56.4054\n",
      "Epoch 18/100\n",
      "16/16 [==============================] - 0s 2ms/step - loss: 48.2051 - val_loss: 51.9637\n",
      "Epoch 19/100\n",
      "16/16 [==============================] - 0s 2ms/step - loss: 47.6505 - val_loss: 52.3225\n",
      "Epoch 20/100\n",
      "16/16 [==============================] - 0s 2ms/step - loss: 49.0178 - val_loss: 51.5449\n",
      "Epoch 21/100\n",
      "16/16 [==============================] - 0s 2ms/step - loss: 47.6245 - val_loss: 51.1227\n",
      "Epoch 22/100\n",
      "16/16 [==============================] - 0s 2ms/step - loss: 45.9057 - val_loss: 50.4704\n",
      "Epoch 23/100\n",
      "16/16 [==============================] - 0s 2ms/step - loss: 61.2042 - val_loss: 56.6611\n",
      "Epoch 24/100\n",
      "16/16 [==============================] - 0s 2ms/step - loss: 49.4732 - val_loss: 50.8958\n",
      "Epoch 25/100\n",
      "16/16 [==============================] - 0s 2ms/step - loss: 45.6358 - val_loss: 60.1254\n",
      "Epoch 26/100\n",
      "16/16 [==============================] - 0s 2ms/step - loss: 46.5301 - val_loss: 53.7127\n",
      "Epoch 27/100\n",
      "16/16 [==============================] - 0s 2ms/step - loss: 44.0576 - val_loss: 54.0534\n",
      "Epoch 28/100\n",
      "16/16 [==============================] - 0s 2ms/step - loss: 44.9180 - val_loss: 51.8897\n",
      "Epoch 29/100\n",
      "16/16 [==============================] - 0s 2ms/step - loss: 43.6044 - val_loss: 54.8349\n",
      "Epoch 30/100\n",
      "16/16 [==============================] - 0s 2ms/step - loss: 42.0227 - val_loss: 51.1294\n",
      "Epoch 31/100\n",
      "16/16 [==============================] - 0s 2ms/step - loss: 44.1029 - val_loss: 65.5216\n",
      "Epoch 32/100\n",
      "16/16 [==============================] - 0s 2ms/step - loss: 43.2407 - val_loss: 57.4064\n",
      "Epoch 33/100\n",
      "16/16 [==============================] - 0s 2ms/step - loss: 41.6277 - val_loss: 47.5568\n",
      "Epoch 34/100\n",
      "16/16 [==============================] - 0s 2ms/step - loss: 42.1327 - val_loss: 44.1353\n",
      "Epoch 35/100\n",
      "16/16 [==============================] - 0s 2ms/step - loss: 41.5862 - val_loss: 44.5908\n",
      "Epoch 36/100\n",
      "16/16 [==============================] - 0s 2ms/step - loss: 39.8946 - val_loss: 42.8595\n",
      "Epoch 37/100\n",
      "16/16 [==============================] - 0s 2ms/step - loss: 39.4442 - val_loss: 46.1324\n",
      "Epoch 38/100\n",
      "16/16 [==============================] - 0s 2ms/step - loss: 37.7153 - val_loss: 48.8176\n",
      "Epoch 39/100\n",
      "16/16 [==============================] - 0s 2ms/step - loss: 38.0300 - val_loss: 43.8252\n",
      "Epoch 40/100\n",
      "16/16 [==============================] - 0s 2ms/step - loss: 37.4199 - val_loss: 41.0705\n",
      "Epoch 41/100\n",
      "16/16 [==============================] - 0s 2ms/step - loss: 37.6940 - val_loss: 42.9892\n",
      "Epoch 42/100\n",
      "16/16 [==============================] - 0s 2ms/step - loss: 37.5350 - val_loss: 41.6713\n",
      "Epoch 43/100\n",
      "16/16 [==============================] - 0s 2ms/step - loss: 37.7202 - val_loss: 41.2596\n",
      "Epoch 44/100\n",
      "16/16 [==============================] - 0s 2ms/step - loss: 37.2081 - val_loss: 43.2943\n",
      "Epoch 45/100\n",
      "16/16 [==============================] - 0s 2ms/step - loss: 36.9335 - val_loss: 44.9620\n",
      "Epoch 46/100\n",
      "16/16 [==============================] - 0s 2ms/step - loss: 35.5204 - val_loss: 43.2366\n",
      "Epoch 47/100\n",
      "16/16 [==============================] - 0s 2ms/step - loss: 34.1916 - val_loss: 39.6114\n",
      "Epoch 48/100\n",
      "16/16 [==============================] - 0s 2ms/step - loss: 33.8105 - val_loss: 44.3548\n",
      "Epoch 49/100\n",
      "16/16 [==============================] - 0s 2ms/step - loss: 35.2457 - val_loss: 39.7999\n",
      "Epoch 50/100\n",
      "16/16 [==============================] - 0s 2ms/step - loss: 34.6851 - val_loss: 37.3955\n",
      "Epoch 51/100\n",
      "16/16 [==============================] - 0s 2ms/step - loss: 32.9565 - val_loss: 40.5268\n",
      "Epoch 52/100\n",
      "16/16 [==============================] - 0s 2ms/step - loss: 35.3455 - val_loss: 40.0949\n",
      "Epoch 53/100\n",
      "16/16 [==============================] - 0s 2ms/step - loss: 34.6942 - val_loss: 37.1203\n",
      "Epoch 54/100\n",
      "16/16 [==============================] - 0s 2ms/step - loss: 32.4029 - val_loss: 43.4013\n",
      "Epoch 55/100\n",
      "16/16 [==============================] - 0s 2ms/step - loss: 32.9967 - val_loss: 43.3359\n",
      "Epoch 56/100\n",
      "16/16 [==============================] - 0s 2ms/step - loss: 33.8064 - val_loss: 56.4754\n",
      "Epoch 57/100\n",
      "16/16 [==============================] - 0s 2ms/step - loss: 37.0302 - val_loss: 45.9646\n",
      "Epoch 58/100\n",
      "16/16 [==============================] - 0s 2ms/step - loss: 33.5863 - val_loss: 35.2204\n",
      "Epoch 59/100\n",
      "16/16 [==============================] - 0s 2ms/step - loss: 31.6164 - val_loss: 39.6792\n",
      "Epoch 60/100\n",
      "16/16 [==============================] - 0s 2ms/step - loss: 32.1184 - val_loss: 45.9757\n",
      "Epoch 61/100\n",
      "16/16 [==============================] - 0s 2ms/step - loss: 33.6686 - val_loss: 38.0463\n",
      "Epoch 62/100\n",
      "16/16 [==============================] - 0s 2ms/step - loss: 31.7347 - val_loss: 34.7985\n",
      "Epoch 63/100\n",
      "16/16 [==============================] - 0s 2ms/step - loss: 39.7945 - val_loss: 38.9083\n",
      "Epoch 64/100\n",
      "16/16 [==============================] - 0s 2ms/step - loss: 33.7909 - val_loss: 38.5726\n",
      "Epoch 65/100\n",
      "16/16 [==============================] - 0s 2ms/step - loss: 30.9061 - val_loss: 34.0002\n",
      "Epoch 66/100\n",
      "16/16 [==============================] - 0s 2ms/step - loss: 30.4417 - val_loss: 36.9948\n",
      "Epoch 67/100\n",
      "16/16 [==============================] - 0s 2ms/step - loss: 33.1803 - val_loss: 38.5778\n",
      "Epoch 68/100\n",
      "16/16 [==============================] - 0s 2ms/step - loss: 33.6677 - val_loss: 37.9912\n",
      "Epoch 69/100\n",
      "16/16 [==============================] - 0s 2ms/step - loss: 31.2620 - val_loss: 39.0526\n",
      "Epoch 70/100\n",
      "16/16 [==============================] - 0s 2ms/step - loss: 30.4337 - val_loss: 34.1287\n",
      "Epoch 71/100\n",
      "16/16 [==============================] - 0s 2ms/step - loss: 30.2726 - val_loss: 33.7118\n",
      "Epoch 72/100\n",
      "16/16 [==============================] - 0s 2ms/step - loss: 32.5788 - val_loss: 33.3296\n",
      "Epoch 73/100\n",
      "16/16 [==============================] - 0s 2ms/step - loss: 30.5443 - val_loss: 38.6542\n",
      "Epoch 74/100\n",
      "16/16 [==============================] - 0s 2ms/step - loss: 31.7869 - val_loss: 33.9495\n",
      "Epoch 75/100\n",
      "16/16 [==============================] - 0s 2ms/step - loss: 32.2888 - val_loss: 33.2000\n",
      "Epoch 76/100\n",
      "16/16 [==============================] - 0s 2ms/step - loss: 29.6213 - val_loss: 33.2176\n",
      "Epoch 77/100\n",
      "16/16 [==============================] - 0s 2ms/step - loss: 30.9510 - val_loss: 36.8254\n",
      "Epoch 78/100\n",
      "16/16 [==============================] - 0s 2ms/step - loss: 31.6523 - val_loss: 35.6493\n",
      "Epoch 79/100\n",
      "16/16 [==============================] - 0s 2ms/step - loss: 31.0344 - val_loss: 35.4983\n",
      "Epoch 80/100\n",
      "16/16 [==============================] - 0s 2ms/step - loss: 29.3530 - val_loss: 33.3334\n",
      "Epoch 81/100\n"
     ]
    },
    {
     "name": "stdout",
     "output_type": "stream",
     "text": [
      "16/16 [==============================] - 0s 2ms/step - loss: 28.7559 - val_loss: 31.8197\n",
      "Epoch 82/100\n",
      "16/16 [==============================] - 0s 2ms/step - loss: 28.3877 - val_loss: 35.8674\n",
      "Epoch 83/100\n",
      "16/16 [==============================] - 0s 2ms/step - loss: 29.0807 - val_loss: 33.0480\n",
      "Epoch 84/100\n",
      "16/16 [==============================] - 0s 2ms/step - loss: 28.4116 - val_loss: 39.6424\n",
      "Epoch 85/100\n",
      "16/16 [==============================] - 0s 2ms/step - loss: 31.0529 - val_loss: 38.5595\n",
      "Epoch 86/100\n",
      "16/16 [==============================] - 0s 2ms/step - loss: 29.0723 - val_loss: 31.3970\n",
      "Epoch 87/100\n",
      "16/16 [==============================] - 0s 2ms/step - loss: 28.5526 - val_loss: 33.0576\n",
      "Epoch 88/100\n",
      "16/16 [==============================] - 0s 2ms/step - loss: 30.8654 - val_loss: 33.9904\n",
      "Epoch 89/100\n",
      "16/16 [==============================] - 0s 2ms/step - loss: 28.1067 - val_loss: 33.4640\n",
      "Epoch 90/100\n",
      "16/16 [==============================] - 0s 2ms/step - loss: 33.0052 - val_loss: 31.7636\n",
      "Epoch 91/100\n",
      "16/16 [==============================] - 0s 2ms/step - loss: 29.3596 - val_loss: 32.0572\n",
      "Epoch 92/100\n",
      "16/16 [==============================] - 0s 2ms/step - loss: 29.6269 - val_loss: 32.1038\n",
      "Epoch 93/100\n",
      "16/16 [==============================] - 0s 2ms/step - loss: 29.3444 - val_loss: 32.5997\n",
      "Epoch 94/100\n",
      "16/16 [==============================] - 0s 2ms/step - loss: 28.1729 - val_loss: 30.7292\n",
      "Epoch 95/100\n",
      "16/16 [==============================] - 0s 2ms/step - loss: 27.5463 - val_loss: 30.8295\n",
      "Epoch 96/100\n",
      "16/16 [==============================] - 0s 2ms/step - loss: 28.6469 - val_loss: 30.9246\n",
      "Epoch 97/100\n",
      "16/16 [==============================] - 0s 2ms/step - loss: 30.0368 - val_loss: 32.3947\n",
      "Epoch 98/100\n",
      "16/16 [==============================] - 0s 2ms/step - loss: 28.5917 - val_loss: 33.0808\n",
      "Epoch 99/100\n",
      "16/16 [==============================] - 0s 2ms/step - loss: 27.1100 - val_loss: 29.8801\n",
      "Epoch 100/100\n",
      "16/16 [==============================] - 0s 2ms/step - loss: 26.9734 - val_loss: 29.7969\n"
     ]
    }
   ],
   "source": [
    "hist = model.fit(x_train, y_train, validation_split=0.2, epochs=100, batch_size=20)"
   ]
  },
  {
   "cell_type": "code",
   "execution_count": 61,
   "id": "17c7d24d",
   "metadata": {},
   "outputs": [
    {
     "data": {
      "text/plain": [
       "[<matplotlib.lines.Line2D at 0x22f2e14b370>]"
      ]
     },
     "execution_count": 61,
     "metadata": {},
     "output_type": "execute_result"
    },
    {
     "data": {
      "image/png": "[encoded data removed]",
      "text/plain": [
       "<Figure size 432x288 with 1 Axes>"
      ]
     },
     "metadata": {
      "needs_background": "light"
     },
     "output_type": "display_data"
    }
   ],
   "source": [
    "plt.plot(hist.history['loss'])\n",
    "plt.plot(hist.history['val_loss'])"
   ]
  },
  {
   "cell_type": "code",
   "execution_count": 62,
   "id": "d066513b",
   "metadata": {},
   "outputs": [
    {
     "name": "stdout",
     "output_type": "stream",
     "text": [
      "4/4 [==============================] - 0s 999us/step - loss: 35.0127\n"
     ]
    },
    {
     "data": {
      "text/plain": [
       "35.012657165527344"
      ]
     },
     "execution_count": 62,
     "metadata": {},
     "output_type": "execute_result"
    }
   ],
   "source": [
    "model.evaluate(x_test, y_test)"
   ]
  },
  {
   "cell_type": "code",
   "execution_count": null,
   "id": "a1f9db45",
   "metadata": {},
   "outputs": [],
   "source": []
  },
  {
   "cell_type": "code",
   "execution_count": 46,
   "id": "638b966e",
   "metadata": {},
   "outputs": [],
   "source": [
    "from sklearn.preprocessing import MinMaxScaler"
   ]
  },
  {
   "cell_type": "code",
   "execution_count": 50,
   "id": "935803db",
   "metadata": {},
   "outputs": [],
   "source": [
    "scaler = MinMaxScaler()\n",
    "scaler.fit(x_train)\n",
    "x_train_scaled = scaler.transform(x_train)\n",
    "x_test_scaled = scaler.transform(x_test)"
   ]
  },
  {
   "cell_type": "code",
   "execution_count": null,
   "id": "3f2ef11e",
   "metadata": {},
   "outputs": [],
   "source": []
  },
  {
   "cell_type": "code",
   "execution_count": 63,
   "id": "8619044f",
   "metadata": {},
   "outputs": [],
   "source": [
    "model = Sequential()\n",
    "model.add(Dense(30, input_dim=13, activation='relu'))\n",
    "model.add(Dense(20, activation='relu'))\n",
    "model.add(Dense(10, activation='relu'))\n",
    "model.add(Dense(1)) # regresion에서는 output layer에 activation function을 사용하지 않는다.\n",
    "\n",
    "# binary cls activation: sigmoid()\n",
    "# multiflassification: sofmax()"
   ]
  },
  {
   "cell_type": "code",
   "execution_count": null,
   "id": "80a1baa4",
   "metadata": {},
   "outputs": [],
   "source": []
  },
  {
   "cell_type": "code",
   "execution_count": 64,
   "id": "ce1c0d2a",
   "metadata": {},
   "outputs": [],
   "source": [
    "model.compile(loss='mean_squared_error', optimizer='adam')"
   ]
  },
  {
   "cell_type": "code",
   "execution_count": null,
   "id": "61107e5e",
   "metadata": {},
   "outputs": [],
   "source": []
  },
  {
   "cell_type": "code",
   "execution_count": 65,
   "id": "c9e34d13",
   "metadata": {},
   "outputs": [
    {
     "name": "stdout",
     "output_type": "stream",
     "text": [
      "Epoch 1/100\n",
      "16/16 [==============================] - 0s 6ms/step - loss: 554.1780 - val_loss: 594.5137\n",
      "Epoch 2/100\n",
      "16/16 [==============================] - 0s 2ms/step - loss: 537.5939 - val_loss: 574.2147\n",
      "Epoch 3/100\n",
      "16/16 [==============================] - 0s 2ms/step - loss: 514.7983 - val_loss: 543.4661\n",
      "Epoch 4/100\n",
      "16/16 [==============================] - 0s 2ms/step - loss: 479.5422 - val_loss: 495.0681\n",
      "Epoch 5/100\n",
      "16/16 [==============================] - 0s 2ms/step - loss: 425.9589 - val_loss: 425.2091\n",
      "Epoch 6/100\n",
      "16/16 [==============================] - 0s 2ms/step - loss: 352.0085 - val_loss: 334.8349\n",
      "Epoch 7/100\n",
      "16/16 [==============================] - 0s 2ms/step - loss: 263.4289 - val_loss: 237.2516\n",
      "Epoch 8/100\n",
      "16/16 [==============================] - 0s 2ms/step - loss: 181.7769 - val_loss: 164.6213\n",
      "Epoch 9/100\n",
      "16/16 [==============================] - 0s 2ms/step - loss: 136.4639 - val_loss: 134.7615\n",
      "Epoch 10/100\n",
      "16/16 [==============================] - 0s 2ms/step - loss: 123.0120 - val_loss: 126.3574\n",
      "Epoch 11/100\n",
      "16/16 [==============================] - 0s 2ms/step - loss: 115.3243 - val_loss: 119.0435\n",
      "Epoch 12/100\n",
      "16/16 [==============================] - 0s 2ms/step - loss: 107.0180 - val_loss: 111.2482\n",
      "Epoch 13/100\n",
      "16/16 [==============================] - 0s 2ms/step - loss: 99.8569 - val_loss: 105.2658\n",
      "Epoch 14/100\n",
      "16/16 [==============================] - 0s 2ms/step - loss: 92.4171 - val_loss: 98.1864\n",
      "Epoch 15/100\n",
      "16/16 [==============================] - 0s 2ms/step - loss: 85.8738 - val_loss: 92.3662\n",
      "Epoch 16/100\n",
      "16/16 [==============================] - 0s 2ms/step - loss: 79.5094 - val_loss: 86.4196\n",
      "Epoch 17/100\n",
      "16/16 [==============================] - 0s 2ms/step - loss: 73.2562 - val_loss: 81.1065\n",
      "Epoch 18/100\n",
      "16/16 [==============================] - 0s 2ms/step - loss: 67.9795 - val_loss: 77.5280\n",
      "Epoch 19/100\n",
      "16/16 [==============================] - 0s 2ms/step - loss: 63.4689 - val_loss: 73.4545\n",
      "Epoch 20/100\n",
      "16/16 [==============================] - 0s 2ms/step - loss: 59.2909 - val_loss: 69.5401\n",
      "Epoch 21/100\n",
      "16/16 [==============================] - 0s 2ms/step - loss: 56.0998 - val_loss: 68.5093\n",
      "Epoch 22/100\n",
      "16/16 [==============================] - 0s 2ms/step - loss: 53.6337 - val_loss: 64.4155\n",
      "Epoch 23/100\n",
      "16/16 [==============================] - 0s 2ms/step - loss: 50.5997 - val_loss: 63.3869\n",
      "Epoch 24/100\n",
      "16/16 [==============================] - 0s 2ms/step - loss: 48.6919 - val_loss: 61.0230\n",
      "Epoch 25/100\n",
      "16/16 [==============================] - 0s 2ms/step - loss: 47.0335 - val_loss: 60.5016\n",
      "Epoch 26/100\n",
      "16/16 [==============================] - 0s 2ms/step - loss: 45.8780 - val_loss: 59.4809\n",
      "Epoch 27/100\n",
      "16/16 [==============================] - 0s 2ms/step - loss: 44.4135 - val_loss: 57.4332\n",
      "Epoch 28/100\n",
      "16/16 [==============================] - 0s 2ms/step - loss: 43.1014 - val_loss: 56.9568\n",
      "Epoch 29/100\n",
      "16/16 [==============================] - 0s 2ms/step - loss: 42.1513 - val_loss: 56.5200\n",
      "Epoch 30/100\n",
      "16/16 [==============================] - 0s 2ms/step - loss: 41.2358 - val_loss: 55.1768\n",
      "Epoch 31/100\n",
      "16/16 [==============================] - 0s 2ms/step - loss: 40.3540 - val_loss: 53.1808\n",
      "Epoch 32/100\n",
      "16/16 [==============================] - 0s 2ms/step - loss: 39.6372 - val_loss: 53.1770\n",
      "Epoch 33/100\n",
      "16/16 [==============================] - 0s 2ms/step - loss: 38.0117 - val_loss: 51.6441\n",
      "Epoch 34/100\n",
      "16/16 [==============================] - 0s 2ms/step - loss: 37.0904 - val_loss: 50.5219\n",
      "Epoch 35/100\n",
      "16/16 [==============================] - 0s 2ms/step - loss: 36.2777 - val_loss: 49.4578\n",
      "Epoch 36/100\n",
      "16/16 [==============================] - 0s 2ms/step - loss: 35.1481 - val_loss: 49.0282\n",
      "Epoch 37/100\n",
      "16/16 [==============================] - 0s 2ms/step - loss: 34.0989 - val_loss: 48.4107\n",
      "Epoch 38/100\n",
      "16/16 [==============================] - 0s 2ms/step - loss: 33.2957 - val_loss: 47.2389\n",
      "Epoch 39/100\n",
      "16/16 [==============================] - 0s 2ms/step - loss: 32.7814 - val_loss: 46.4484\n",
      "Epoch 40/100\n",
      "16/16 [==============================] - 0s 2ms/step - loss: 31.9018 - val_loss: 45.8848\n",
      "Epoch 41/100\n",
      "16/16 [==============================] - 0s 2ms/step - loss: 30.9429 - val_loss: 45.4664\n",
      "Epoch 42/100\n",
      "16/16 [==============================] - 0s 2ms/step - loss: 30.0801 - val_loss: 44.3851\n",
      "Epoch 43/100\n",
      "16/16 [==============================] - 0s 2ms/step - loss: 29.4007 - val_loss: 43.4494\n",
      "Epoch 44/100\n",
      "16/16 [==============================] - 0s 2ms/step - loss: 29.2014 - val_loss: 43.0460\n",
      "Epoch 45/100\n",
      "16/16 [==============================] - 0s 2ms/step - loss: 27.9181 - val_loss: 42.9231\n",
      "Epoch 46/100\n",
      "16/16 [==============================] - 0s 2ms/step - loss: 27.3660 - val_loss: 41.9834\n",
      "Epoch 47/100\n",
      "16/16 [==============================] - 0s 2ms/step - loss: 27.0118 - val_loss: 41.7386\n",
      "Epoch 48/100\n",
      "16/16 [==============================] - 0s 2ms/step - loss: 26.3505 - val_loss: 41.2493\n",
      "Epoch 49/100\n",
      "16/16 [==============================] - 0s 2ms/step - loss: 25.6630 - val_loss: 40.7558\n",
      "Epoch 50/100\n",
      "16/16 [==============================] - 0s 2ms/step - loss: 25.3165 - val_loss: 40.1730\n",
      "Epoch 51/100\n",
      "16/16 [==============================] - 0s 2ms/step - loss: 24.9533 - val_loss: 39.9521\n",
      "Epoch 52/100\n",
      "16/16 [==============================] - 0s 2ms/step - loss: 24.7590 - val_loss: 39.2421\n",
      "Epoch 53/100\n",
      "16/16 [==============================] - 0s 2ms/step - loss: 24.0445 - val_loss: 39.1674\n",
      "Epoch 54/100\n",
      "16/16 [==============================] - 0s 2ms/step - loss: 23.7853 - val_loss: 38.2643\n",
      "Epoch 55/100\n",
      "16/16 [==============================] - 0s 2ms/step - loss: 23.3296 - val_loss: 37.7947\n",
      "Epoch 56/100\n",
      "16/16 [==============================] - 0s 2ms/step - loss: 22.8307 - val_loss: 37.4050\n",
      "Epoch 57/100\n",
      "16/16 [==============================] - 0s 2ms/step - loss: 22.5039 - val_loss: 36.9287\n",
      "Epoch 58/100\n",
      "16/16 [==============================] - 0s 2ms/step - loss: 22.2279 - val_loss: 36.6132\n",
      "Epoch 59/100\n",
      "16/16 [==============================] - 0s 2ms/step - loss: 22.0844 - val_loss: 36.1598\n",
      "Epoch 60/100\n",
      "16/16 [==============================] - 0s 2ms/step - loss: 21.9918 - val_loss: 35.9602\n",
      "Epoch 61/100\n",
      "16/16 [==============================] - 0s 2ms/step - loss: 21.4007 - val_loss: 35.6824\n",
      "Epoch 62/100\n",
      "16/16 [==============================] - 0s 2ms/step - loss: 21.5352 - val_loss: 35.4206\n",
      "Epoch 63/100\n",
      "16/16 [==============================] - 0s 2ms/step - loss: 21.0374 - val_loss: 35.1496\n",
      "Epoch 64/100\n",
      "16/16 [==============================] - 0s 2ms/step - loss: 21.2191 - val_loss: 34.8867\n",
      "Epoch 65/100\n",
      "16/16 [==============================] - 0s 2ms/step - loss: 21.1609 - val_loss: 34.6570\n",
      "Epoch 66/100\n",
      "16/16 [==============================] - 0s 2ms/step - loss: 20.4046 - val_loss: 34.4644\n",
      "Epoch 67/100\n",
      "16/16 [==============================] - 0s 2ms/step - loss: 20.2412 - val_loss: 34.1921\n",
      "Epoch 68/100\n",
      "16/16 [==============================] - 0s 2ms/step - loss: 20.0893 - val_loss: 34.0314\n",
      "Epoch 69/100\n",
      "16/16 [==============================] - 0s 2ms/step - loss: 20.2946 - val_loss: 34.7060\n",
      "Epoch 70/100\n",
      "16/16 [==============================] - 0s 2ms/step - loss: 19.9342 - val_loss: 34.2560\n",
      "Epoch 71/100\n",
      "16/16 [==============================] - 0s 2ms/step - loss: 19.7928 - val_loss: 34.1994\n",
      "Epoch 72/100\n",
      "16/16 [==============================] - 0s 2ms/step - loss: 19.9211 - val_loss: 33.8826\n",
      "Epoch 73/100\n",
      "16/16 [==============================] - 0s 2ms/step - loss: 19.4397 - val_loss: 34.1031\n",
      "Epoch 74/100\n",
      "16/16 [==============================] - 0s 2ms/step - loss: 20.3874 - val_loss: 33.6234\n",
      "Epoch 75/100\n",
      "16/16 [==============================] - 0s 3ms/step - loss: 19.4413 - val_loss: 33.5273\n",
      "Epoch 76/100\n",
      "16/16 [==============================] - 0s 2ms/step - loss: 19.3261 - val_loss: 33.4404\n",
      "Epoch 77/100\n",
      "16/16 [==============================] - 0s 2ms/step - loss: 19.2772 - val_loss: 33.2888\n",
      "Epoch 78/100\n",
      "16/16 [==============================] - 0s 2ms/step - loss: 19.3850 - val_loss: 33.8918\n",
      "Epoch 79/100\n",
      "16/16 [==============================] - 0s 2ms/step - loss: 19.0419 - val_loss: 33.4926\n",
      "Epoch 80/100\n",
      "16/16 [==============================] - 0s 2ms/step - loss: 19.0805 - val_loss: 33.3942\n",
      "Epoch 81/100\n"
     ]
    },
    {
     "name": "stdout",
     "output_type": "stream",
     "text": [
      "16/16 [==============================] - 0s 2ms/step - loss: 18.9110 - val_loss: 33.2741\n",
      "Epoch 82/100\n",
      "16/16 [==============================] - 0s 2ms/step - loss: 18.8367 - val_loss: 33.0502\n",
      "Epoch 83/100\n",
      "16/16 [==============================] - 0s 2ms/step - loss: 18.7377 - val_loss: 33.0037\n",
      "Epoch 84/100\n",
      "16/16 [==============================] - 0s 2ms/step - loss: 18.6812 - val_loss: 32.8391\n",
      "Epoch 85/100\n",
      "16/16 [==============================] - 0s 2ms/step - loss: 18.8099 - val_loss: 32.6747\n",
      "Epoch 86/100\n",
      "16/16 [==============================] - 0s 2ms/step - loss: 18.6593 - val_loss: 32.5408\n",
      "Epoch 87/100\n",
      "16/16 [==============================] - 0s 2ms/step - loss: 18.5478 - val_loss: 32.4700\n",
      "Epoch 88/100\n",
      "16/16 [==============================] - 0s 2ms/step - loss: 18.5227 - val_loss: 32.4569\n",
      "Epoch 89/100\n",
      "16/16 [==============================] - 0s 2ms/step - loss: 18.5273 - val_loss: 32.3871\n",
      "Epoch 90/100\n",
      "16/16 [==============================] - 0s 2ms/step - loss: 18.3688 - val_loss: 32.2745\n",
      "Epoch 91/100\n",
      "16/16 [==============================] - 0s 2ms/step - loss: 18.7856 - val_loss: 32.1318\n",
      "Epoch 92/100\n",
      "16/16 [==============================] - 0s 2ms/step - loss: 18.2542 - val_loss: 32.3094\n",
      "Epoch 93/100\n",
      "16/16 [==============================] - 0s 2ms/step - loss: 18.1805 - val_loss: 32.1403\n",
      "Epoch 94/100\n",
      "16/16 [==============================] - 0s 2ms/step - loss: 18.3071 - val_loss: 32.3890\n",
      "Epoch 95/100\n",
      "16/16 [==============================] - 0s 2ms/step - loss: 18.0105 - val_loss: 31.9731\n",
      "Epoch 96/100\n",
      "16/16 [==============================] - 0s 2ms/step - loss: 18.1753 - val_loss: 32.0308\n",
      "Epoch 97/100\n",
      "16/16 [==============================] - 0s 2ms/step - loss: 18.0091 - val_loss: 31.9906\n",
      "Epoch 98/100\n",
      "16/16 [==============================] - 0s 2ms/step - loss: 17.8667 - val_loss: 31.9553\n",
      "Epoch 99/100\n",
      "16/16 [==============================] - 0s 2ms/step - loss: 17.8195 - val_loss: 31.7084\n",
      "Epoch 100/100\n",
      "16/16 [==============================] - 0s 2ms/step - loss: 17.8552 - val_loss: 31.7707\n"
     ]
    }
   ],
   "source": [
    "hist = model.fit(x_train_scaled, y_train, validation_split=0.2, epochs=100, batch_size=20)"
   ]
  },
  {
   "cell_type": "code",
   "execution_count": null,
   "id": "858f92de",
   "metadata": {},
   "outputs": [],
   "source": []
  },
  {
   "cell_type": "code",
   "execution_count": 66,
   "id": "02396941",
   "metadata": {},
   "outputs": [
    {
     "data": {
      "text/plain": [
       "[<matplotlib.lines.Line2D at 0x22f394612b0>]"
      ]
     },
     "execution_count": 66,
     "metadata": {},
     "output_type": "execute_result"
    },
    {
     "data": {
      "image/png": "[encoded data removed]",
      "text/plain": [
       "<Figure size 432x288 with 1 Axes>"
      ]
     },
     "metadata": {
      "needs_background": "light"
     },
     "output_type": "display_data"
    }
   ],
   "source": [
    "plt.plot(hist.history['loss'])\n",
    "plt.plot(hist.history['val_loss'])"
   ]
  },
  {
   "cell_type": "code",
   "execution_count": 68,
   "id": "765baf3c",
   "metadata": {},
   "outputs": [
    {
     "name": "stdout",
     "output_type": "stream",
     "text": [
      "4/4 [==============================] - 0s 998us/step - loss: 19.3952\n"
     ]
    },
    {
     "data": {
      "text/plain": [
       "19.395191192626953"
      ]
     },
     "execution_count": 68,
     "metadata": {},
     "output_type": "execute_result"
    }
   ],
   "source": [
    "model.evaluate(x_test_scaled, y_test)"
   ]
  },
  {
   "cell_type": "code",
   "execution_count": null,
   "id": "57b1ed58",
   "metadata": {},
   "outputs": [],
   "source": []
  },
  {
   "cell_type": "code",
   "execution_count": 70,
   "id": "be011efa",
   "metadata": {},
   "outputs": [],
   "source": [
    "# prediction"
   ]
  },
  {
   "cell_type": "code",
   "execution_count": 71,
   "id": "bf8b4858",
   "metadata": {},
   "outputs": [],
   "source": [
    "preds = model.predict(x_test_scaled)"
   ]
  },
  {
   "cell_type": "code",
   "execution_count": null,
   "id": "d04f8bc6",
   "metadata": {},
   "outputs": [],
   "source": []
  },
  {
   "cell_type": "code",
   "execution_count": 73,
   "id": "84abb4c6",
   "metadata": {},
   "outputs": [],
   "source": [
    "# evaluation"
   ]
  },
  {
   "cell_type": "code",
   "execution_count": 76,
   "id": "3380b00c",
   "metadata": {},
   "outputs": [
    {
     "data": {
      "text/plain": [
       "0.7339127010371084"
      ]
     },
     "execution_count": 76,
     "metadata": {},
     "output_type": "execute_result"
    }
   ],
   "source": [
    "from sklearn.metrics import r2_score\n",
    "\n",
    "r2_score(preds, y_test)"
   ]
  },
  {
   "cell_type": "code",
   "execution_count": null,
   "id": "2fb02050",
   "metadata": {},
   "outputs": [],
   "source": []
  },
  {
   "cell_type": "code",
   "execution_count": 80,
   "id": "c499fb7e",
   "metadata": {},
   "outputs": [
    {
     "name": "stdout",
     "output_type": "stream",
     "text": [
      "25 - 27\n",
      "30 - 29\n",
      "31 - 30\n",
      "20 - 17\n",
      "48 - 41\n",
      "22 - 27\n",
      "35 - 33\n",
      "16 - 17\n",
      "23 - 22\n",
      "10 - 13\n"
     ]
    }
   ],
   "source": [
    "for i in range(10):\n",
    "    pred_price = preds[i]\n",
    "    real_price = y_test[i]\n",
    "    print(\"{} - {}\".format(round(real_price), round(pred_price[0])))"
   ]
  },
  {
   "cell_type": "code",
   "execution_count": null,
   "id": "45960fa9",
   "metadata": {},
   "outputs": [],
   "source": []
  },
  {
   "cell_type": "code",
   "execution_count": null,
   "id": "209339a4",
   "metadata": {},
   "outputs": [],
   "source": []
  },
  {
   "cell_type": "code",
   "execution_count": null,
   "id": "cf7c5706",
   "metadata": {},
   "outputs": [],
   "source": []
  },
  {
   "cell_type": "code",
   "execution_count": null,
   "id": "92a14576",
   "metadata": {},
   "outputs": [],
   "source": []
  }
 ],
 "metadata": {
  "kernelspec": {
   "display_name": "Python 3 (ipykernel)",
   "language": "python",
   "name": "python3"
  },
  "language_info": {
   "codemirror_mode": {
    "name": "ipython",
    "version": 3
   },
   "file_extension": ".py",
   "mimetype": "text/x-python",
   "name": "python",
   "nbconvert_exporter": "python",
   "pygments_lexer": "ipython3",
   "version": "3.9.7"
  }
 },
 "nbformat": 4,
 "nbformat_minor": 5
}
