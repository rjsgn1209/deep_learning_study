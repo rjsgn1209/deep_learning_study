{
 "cells": [
  {
   "cell_type": "code",
   "execution_count": null,
   "id": "da19967e",
   "metadata": {},
   "outputs": [],
   "source": [
    "# 딥러닝 기초모델 : LInearRegression = > sigmoid() => 2진 분류 : LogisticRegression \n",
    "# => 다중 분류 : LogisticRegression을 여러개 사용..\n",
    "# => 클래스 a, b, c : a / bc, b / ac, c / ab\n",
    "\n",
    "# LinearRegression CostFunction => MSE(sigma(y - y_hat)**2)/m\n",
    "# LogisticRegression CostFunction => y*log(y_hat) _ (1-y)*log(1-y_hat)\n",
    "# Multiclassification CostFunction => sigma(y*log(y_hat))"
   ]
  },
  {
   "cell_type": "code",
   "execution_count": null,
   "id": "176e19ba",
   "metadata": {},
   "outputs": [],
   "source": [
    "# Y_hat = Wx + b\n",
    "\n",
    "# LinearRegression CostFunction => MSE(sigma(y - Wx + b)**2)/m\n",
    "# LogisticRegression CostFunction => y*log(Wx + b) _ (1-y)*log(1-Wx + b)\n",
    "# Multiclassification CostFunction => sigma(y*log(Wx + b))"
   ]
  },
  {
   "cell_type": "code",
   "execution_count": null,
   "id": "864532f1",
   "metadata": {},
   "outputs": [],
   "source": [
    "딥러닝의 목표 : Cost함수를 최소화하는 W, b를 찾아라.. => cost가 가장 작은 모델을 생성.. "
   ]
  },
  {
   "cell_type": "code",
   "execution_count": null,
   "id": "aec41b3c",
   "metadata": {},
   "outputs": [],
   "source": [
    "Gradient descent\n",
    "2차 곡선의 \n",
    "곡선의 접선의 기울기는 x로 f(x)를 미분하여 구한다.\n",
    " \n",
    "cost함수를 미분한 값으로 w를 빼서 업데이트를 반복한다.\n",
    "csost가 최소가 되는 w점으로 수령하게 된다.."
   ]
  },
  {
   "cell_type": "code",
   "execution_count": null,
   "id": "8b4d31df",
   "metadata": {},
   "outputs": [],
   "source": []
  },
  {
   "cell_type": "code",
   "execution_count": null,
   "id": "936bf164",
   "metadata": {},
   "outputs": [],
   "source": []
  }
 ],
 "metadata": {
  "kernelspec": {
   "display_name": "Python 3 (ipykernel)",
   "language": "python",
   "name": "python3"
  },
  "language_info": {
   "codemirror_mode": {
    "name": "ipython",
    "version": 3
   },
   "file_extension": ".py",
   "mimetype": "text/x-python",
   "name": "python",
   "nbconvert_exporter": "python",
   "pygments_lexer": "ipython3",
   "version": "3.9.7"
  }
 },
 "nbformat": 4,
 "nbformat_minor": 5
}
