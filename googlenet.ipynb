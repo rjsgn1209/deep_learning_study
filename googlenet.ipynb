{
 "cells": [
  {
   "cell_type": "code",
   "execution_count": 1,
   "metadata": {
    "id": "qrcO_jxBkqOJ"
   },
   "outputs": [],
   "source": [
    "from tensorflow.keras.layers import Input, Conv2D, MaxPooling2D, Dropout, BatchNormalization, Activation, add, Flatten, AveragePooling2D, concatenate, Dense\n",
    "from tensorflow.keras.models import Model\n",
    "\n",
    "from tensorflow.keras.preprocessing.image import ImageDataGenerator\n",
    "import tensorflow as tf\n",
    "\n",
    "import numpy as np\n",
    "import pandas as pd\n",
    "import matplotlib.pyplot as plt\n",
    "\n",
    "width = 32\n",
    "height = 32"
   ]
  },
  {
   "cell_type": "code",
   "execution_count": 2,
   "metadata": {
    "colab": {
     "base_uri": "https://localhost:8080/"
    },
    "executionInfo": {
     "elapsed": 4730,
     "status": "ok",
     "timestamp": 1647834496667,
     "user": {
      "displayName": "박건후",
      "photoUrl": "https://lh3.googleusercontent.com/a-/AOh14GhaYtZyjr6hcOW1YyRrTjn2cFNOnuoxbGXifFqT=s64",
      "userId": "00163064144750334353"
     },
     "user_tz": -540
    },
    "id": "8E5ygFaolW-Z",
    "outputId": "c8b8f121-68eb-4b34-c9d8-e279c85b032e"
   },
   "outputs": [
    {
     "name": "stdout",
     "output_type": "stream",
     "text": [
      "Downloading data from https://www.cs.toronto.edu/~kriz/cifar-10-python.tar.gz\n",
      "170500096/170498071 [==============================] - 10s 0us/step\n",
      "170508288/170498071 [==============================] - 10s 0us/step\n"
     ]
    }
   ],
   "source": [
    "(x_train, y_train), (x_test, y_test) = tf.keras.datasets.cifar10.load_data()"
   ]
  },
  {
   "cell_type": "code",
   "execution_count": 3,
   "metadata": {
    "id": "zm2EjjNzloU5"
   },
   "outputs": [],
   "source": [
    "num_classes = 10\n",
    "y_train = tf.keras.utils.to_categorical(y_train)\n",
    "y_test = tf.keras.utils.to_categorical(y_test)"
   ]
  },
  {
   "cell_type": "code",
   "execution_count": 4,
   "metadata": {
    "id": "yGop0f0wl0d5"
   },
   "outputs": [],
   "source": [
    "validation_images, validation_labels = x_train[:500], y_train[:500]\n",
    "train_images, validation = x_train[500:], y_train[500:]"
   ]
  },
  {
   "cell_type": "code",
   "execution_count": 5,
   "metadata": {
    "colab": {
     "base_uri": "https://localhost:8080/"
    },
    "executionInfo": {
     "elapsed": 2,
     "status": "ok",
     "timestamp": 1647834724879,
     "user": {
      "displayName": "박건후",
      "photoUrl": "https://lh3.googleusercontent.com/a-/AOh14GhaYtZyjr6hcOW1YyRrTjn2cFNOnuoxbGXifFqT=s64",
      "userId": "00163064144750334353"
     },
     "user_tz": -540
    },
    "id": "mdUG1zGjmfYp",
    "outputId": "15c204ff-05d5-4d8e-b956-3697e7f9c186"
   },
   "outputs": [
    {
     "data": {
      "text/plain": [
       "(49500, 32, 32, 3)"
      ]
     },
     "execution_count": 5,
     "metadata": {},
     "output_type": "execute_result"
    }
   ],
   "source": [
    "train_images.shape"
   ]
  },
  {
   "cell_type": "code",
   "execution_count": 21,
   "metadata": {
    "id": "7zfW8i0OnmIT"
   },
   "outputs": [
    {
     "name": "stdout",
     "output_type": "stream",
     "text": [
      "None\n"
     ]
    }
   ],
   "source": [
    "input_shape = x_train[0].shape\n",
    "inputs = Input(shape=input_shape)\n",
    "\n",
    "x = Conv2D(64, kernel_size=(7,7), strides=2, padding='same', activation='relu')(inputs)\n",
    "x = BatchNormalization()(x)\n",
    "x = Conv2D(192, kernel_size=(3,3), padding='same', activation='relu')(x)\n",
    "x = BatchNormalization()(x)\n",
    "\n",
    "x = inception(x, [64, 128, 32, 32])\n",
    "print(x)\n",
    "#x = inception(x, [128, 192, 96, 64])"
   ]
  },
  {
   "cell_type": "code",
   "execution_count": 22,
   "metadata": {
    "id": "LEkRxtRcmnfY"
   },
   "outputs": [],
   "source": [
    "def inception(x, filters):\n",
    "    pre_layer = x\n",
    "    f1, f2, f3, f4 = filters\n",
    "\n",
    "    conv1 = Conv2D(f1, kernel_size=(1,1), padding='same', activation='relu')(pre_layer)\n",
    "\n",
    "    conv2 = Conv2D(f4, kernel_size=(1,1), padding='same', activation='relu')(pre_layer)\n",
    "    conv2 = Conv2D(f2, kernel_size=(3,3), padding='same', activation='relu')(conv2)\n",
    "\n",
    "    conv3 = Conv2D(f4, kernel_size=(1,1), padding='same', activation='relu')(pre_layer)\n",
    "    conv3 = Conv2D(f3, kernel_size=(5,5), padding='same', activation='relu')(conv3)\n",
    "\n",
    "    max_pool = MaxPooling2D(pool_size=(3,3), strides=1, padding='same')(pre_layer)\n",
    "    max_pool = Conv2D(f4, kernel_size=(1,1), padding='same')(max_pool)\n",
    "\n",
    "    concat = concatenate([conv1, conv2, conv3, max_pool], axis=-1)\n",
    "    return concat"
   ]
  },
  {
   "cell_type": "code",
   "execution_count": 27,
   "metadata": {
    "colab": {
     "base_uri": "https://localhost:8080/",
     "height": 229
    },
    "executionInfo": {
     "elapsed": 260,
     "status": "error",
     "timestamp": 1647849026076,
     "user": {
      "displayName": "박건후",
      "photoUrl": "https://lh3.googleusercontent.com/a-/AOh14GhaYtZyjr6hcOW1YyRrTjn2cFNOnuoxbGXifFqT=s64",
      "userId": "00163064144750334353"
     },
     "user_tz": -540
    },
    "id": "pzKzM3empVDZ",
    "outputId": "08408ec4-8d0e-4517-b463-0d4a9df582cd"
   },
   "outputs": [
    {
     "name": "stdout",
     "output_type": "stream",
     "text": [
      "Model: \"model\"\n",
      "__________________________________________________________________________________________________\n",
      " Layer (type)                   Output Shape         Param #     Connected to                     \n",
      "==================================================================================================\n",
      " input_17 (InputLayer)          [(None, 32, 32, 3)]  0           []                               \n",
      "                                                                                                  \n",
      " conv2d_206 (Conv2D)            (None, 16, 16, 64)   9472        ['input_17[0][0]']               \n",
      "                                                                                                  \n",
      " batch_normalization_28 (BatchN  (None, 16, 16, 64)  256         ['conv2d_206[0][0]']             \n",
      " ormalization)                                                                                    \n",
      "                                                                                                  \n",
      " conv2d_207 (Conv2D)            (None, 16, 16, 192)  110784      ['batch_normalization_28[0][0]'] \n",
      "                                                                                                  \n",
      " batch_normalization_29 (BatchN  (None, 16, 16, 192)  768        ['conv2d_207[0][0]']             \n",
      " ormalization)                                                                                    \n",
      "                                                                                                  \n",
      " conv2d_209 (Conv2D)            (None, 16, 16, 32)   6176        ['batch_normalization_29[0][0]'] \n",
      "                                                                                                  \n",
      " conv2d_211 (Conv2D)            (None, 16, 16, 32)   6176        ['batch_normalization_29[0][0]'] \n",
      "                                                                                                  \n",
      " max_pooling2d_32 (MaxPooling2D  (None, 16, 16, 192)  0          ['batch_normalization_29[0][0]'] \n",
      " )                                                                                                \n",
      "                                                                                                  \n",
      " conv2d_208 (Conv2D)            (None, 16, 16, 64)   12352       ['batch_normalization_29[0][0]'] \n",
      "                                                                                                  \n",
      " conv2d_210 (Conv2D)            (None, 16, 16, 128)  36992       ['conv2d_209[0][0]']             \n",
      "                                                                                                  \n",
      " conv2d_212 (Conv2D)            (None, 16, 16, 32)   25632       ['conv2d_211[0][0]']             \n",
      "                                                                                                  \n",
      " conv2d_213 (Conv2D)            (None, 16, 16, 32)   6176        ['max_pooling2d_32[0][0]']       \n",
      "                                                                                                  \n",
      " concatenate_28 (Concatenate)   (None, 16, 16, 256)  0           ['conv2d_208[0][0]',             \n",
      "                                                                  'conv2d_210[0][0]',             \n",
      "                                                                  'conv2d_212[0][0]',             \n",
      "                                                                  'conv2d_213[0][0]']             \n",
      "                                                                                                  \n",
      " conv2d_215 (Conv2D)            (None, 16, 16, 64)   16448       ['concatenate_28[0][0]']         \n",
      "                                                                                                  \n",
      " conv2d_217 (Conv2D)            (None, 16, 16, 64)   16448       ['concatenate_28[0][0]']         \n",
      "                                                                                                  \n",
      " max_pooling2d_33 (MaxPooling2D  (None, 16, 16, 256)  0          ['concatenate_28[0][0]']         \n",
      " )                                                                                                \n",
      "                                                                                                  \n",
      " conv2d_214 (Conv2D)            (None, 16, 16, 128)  32896       ['concatenate_28[0][0]']         \n",
      "                                                                                                  \n",
      " conv2d_216 (Conv2D)            (None, 16, 16, 192)  110784      ['conv2d_215[0][0]']             \n",
      "                                                                                                  \n",
      " conv2d_218 (Conv2D)            (None, 16, 16, 96)   153696      ['conv2d_217[0][0]']             \n",
      "                                                                                                  \n",
      " conv2d_219 (Conv2D)            (None, 16, 16, 64)   16448       ['max_pooling2d_33[0][0]']       \n",
      "                                                                                                  \n",
      " concatenate_29 (Concatenate)   (None, 16, 16, 480)  0           ['conv2d_214[0][0]',             \n",
      "                                                                  'conv2d_216[0][0]',             \n",
      "                                                                  'conv2d_218[0][0]',             \n",
      "                                                                  'conv2d_219[0][0]']             \n",
      "                                                                                                  \n",
      " max_pooling2d_34 (MaxPooling2D  (None, 8, 8, 480)   0           ['concatenate_29[0][0]']         \n",
      " )                                                                                                \n",
      "                                                                                                  \n",
      " conv2d_221 (Conv2D)            (None, 8, 8, 64)     30784       ['max_pooling2d_34[0][0]']       \n",
      "                                                                                                  \n",
      " conv2d_223 (Conv2D)            (None, 8, 8, 64)     30784       ['max_pooling2d_34[0][0]']       \n",
      "                                                                                                  \n",
      " max_pooling2d_35 (MaxPooling2D  (None, 8, 8, 480)   0           ['max_pooling2d_34[0][0]']       \n",
      " )                                                                                                \n",
      "                                                                                                  \n",
      " conv2d_220 (Conv2D)            (None, 8, 8, 192)    92352       ['max_pooling2d_34[0][0]']       \n",
      "                                                                                                  \n",
      " conv2d_222 (Conv2D)            (None, 8, 8, 208)    120016      ['conv2d_221[0][0]']             \n",
      "                                                                                                  \n",
      " conv2d_224 (Conv2D)            (None, 8, 8, 48)     76848       ['conv2d_223[0][0]']             \n",
      "                                                                                                  \n",
      " conv2d_225 (Conv2D)            (None, 8, 8, 64)     30784       ['max_pooling2d_35[0][0]']       \n",
      "                                                                                                  \n",
      " concatenate_30 (Concatenate)   (None, 8, 8, 512)    0           ['conv2d_220[0][0]',             \n",
      "                                                                  'conv2d_222[0][0]',             \n",
      "                                                                  'conv2d_224[0][0]',             \n",
      "                                                                  'conv2d_225[0][0]']             \n",
      "                                                                                                  \n",
      " conv2d_228 (Conv2D)            (None, 8, 8, 64)     32832       ['concatenate_30[0][0]']         \n",
      "                                                                                                  \n",
      " conv2d_230 (Conv2D)            (None, 8, 8, 64)     32832       ['concatenate_30[0][0]']         \n",
      "                                                                                                  \n",
      " max_pooling2d_36 (MaxPooling2D  (None, 8, 8, 512)   0           ['concatenate_30[0][0]']         \n"
     ]
    },
    {
     "name": "stdout",
     "output_type": "stream",
     "text": [
      " )                                                                                                \n",
      "                                                                                                  \n",
      " conv2d_227 (Conv2D)            (None, 8, 8, 160)    82080       ['concatenate_30[0][0]']         \n",
      "                                                                                                  \n",
      " conv2d_229 (Conv2D)            (None, 8, 8, 224)    129248      ['conv2d_228[0][0]']             \n",
      "                                                                                                  \n",
      " conv2d_231 (Conv2D)            (None, 8, 8, 64)     102464      ['conv2d_230[0][0]']             \n",
      "                                                                                                  \n",
      " conv2d_232 (Conv2D)            (None, 8, 8, 64)     32832       ['max_pooling2d_36[0][0]']       \n",
      "                                                                                                  \n",
      " concatenate_31 (Concatenate)   (None, 8, 8, 512)    0           ['conv2d_227[0][0]',             \n",
      "                                                                  'conv2d_229[0][0]',             \n",
      "                                                                  'conv2d_231[0][0]',             \n",
      "                                                                  'conv2d_232[0][0]']             \n",
      "                                                                                                  \n",
      " conv2d_234 (Conv2D)            (None, 8, 8, 64)     32832       ['concatenate_31[0][0]']         \n",
      "                                                                                                  \n",
      " conv2d_236 (Conv2D)            (None, 8, 8, 64)     32832       ['concatenate_31[0][0]']         \n",
      "                                                                                                  \n",
      " max_pooling2d_37 (MaxPooling2D  (None, 8, 8, 512)   0           ['concatenate_31[0][0]']         \n",
      " )                                                                                                \n",
      "                                                                                                  \n",
      " conv2d_233 (Conv2D)            (None, 8, 8, 128)    65664       ['concatenate_31[0][0]']         \n",
      "                                                                                                  \n",
      " conv2d_235 (Conv2D)            (None, 8, 8, 256)    147712      ['conv2d_234[0][0]']             \n",
      "                                                                                                  \n",
      " conv2d_237 (Conv2D)            (None, 8, 8, 64)     102464      ['conv2d_236[0][0]']             \n",
      "                                                                                                  \n",
      " conv2d_238 (Conv2D)            (None, 8, 8, 64)     32832       ['max_pooling2d_37[0][0]']       \n",
      "                                                                                                  \n",
      " concatenate_32 (Concatenate)   (None, 8, 8, 512)    0           ['conv2d_233[0][0]',             \n",
      "                                                                  'conv2d_235[0][0]',             \n",
      "                                                                  'conv2d_237[0][0]',             \n",
      "                                                                  'conv2d_238[0][0]']             \n",
      "                                                                                                  \n",
      " conv2d_240 (Conv2D)            (None, 8, 8, 64)     32832       ['concatenate_32[0][0]']         \n",
      "                                                                                                  \n",
      " conv2d_242 (Conv2D)            (None, 8, 8, 64)     32832       ['concatenate_32[0][0]']         \n",
      "                                                                                                  \n",
      " max_pooling2d_38 (MaxPooling2D  (None, 8, 8, 512)   0           ['concatenate_32[0][0]']         \n",
      " )                                                                                                \n",
      "                                                                                                  \n",
      " conv2d_239 (Conv2D)            (None, 8, 8, 112)    57456       ['concatenate_32[0][0]']         \n",
      "                                                                                                  \n",
      " conv2d_241 (Conv2D)            (None, 8, 8, 288)    166176      ['conv2d_240[0][0]']             \n",
      "                                                                                                  \n",
      " conv2d_243 (Conv2D)            (None, 8, 8, 64)     102464      ['conv2d_242[0][0]']             \n",
      "                                                                                                  \n",
      " conv2d_244 (Conv2D)            (None, 8, 8, 64)     32832       ['max_pooling2d_38[0][0]']       \n",
      "                                                                                                  \n",
      " concatenate_33 (Concatenate)   (None, 8, 8, 528)    0           ['conv2d_239[0][0]',             \n",
      "                                                                  'conv2d_241[0][0]',             \n",
      "                                                                  'conv2d_243[0][0]',             \n",
      "                                                                  'conv2d_244[0][0]']             \n",
      "                                                                                                  \n",
      " conv2d_247 (Conv2D)            (None, 8, 8, 128)    67712       ['concatenate_33[0][0]']         \n",
      "                                                                                                  \n",
      " conv2d_249 (Conv2D)            (None, 8, 8, 128)    67712       ['concatenate_33[0][0]']         \n",
      "                                                                                                  \n",
      " max_pooling2d_39 (MaxPooling2D  (None, 8, 8, 528)   0           ['concatenate_33[0][0]']         \n",
      " )                                                                                                \n",
      "                                                                                                  \n",
      " conv2d_246 (Conv2D)            (None, 8, 8, 256)    135424      ['concatenate_33[0][0]']         \n",
      "                                                                                                  \n",
      " conv2d_248 (Conv2D)            (None, 8, 8, 320)    368960      ['conv2d_247[0][0]']             \n",
      "                                                                                                  \n",
      " conv2d_250 (Conv2D)            (None, 8, 8, 128)    409728      ['conv2d_249[0][0]']             \n",
      "                                                                                                  \n",
      " conv2d_251 (Conv2D)            (None, 8, 8, 128)    67712       ['max_pooling2d_39[0][0]']       \n",
      "                                                                                                  \n",
      " concatenate_34 (Concatenate)   (None, 8, 8, 832)    0           ['conv2d_246[0][0]',             \n",
      "                                                                  'conv2d_248[0][0]',             \n",
      "                                                                  'conv2d_250[0][0]',             \n",
      "                                                                  'conv2d_251[0][0]']             \n",
      "                                                                                                  \n",
      " conv2d_253 (Conv2D)            (None, 8, 8, 128)    106624      ['concatenate_34[0][0]']         \n",
      "                                                                                                  \n",
      " conv2d_255 (Conv2D)            (None, 8, 8, 128)    106624      ['concatenate_34[0][0]']         \n",
      "                                                                                                  \n",
      " max_pooling2d_40 (MaxPooling2D  (None, 8, 8, 832)   0           ['concatenate_34[0][0]']         \n",
      " )                                                                                                \n",
      "                                                                                                  \n",
      " conv2d_252 (Conv2D)            (None, 8, 8, 256)    213248      ['concatenate_34[0][0]']         \n"
     ]
    },
    {
     "name": "stdout",
     "output_type": "stream",
     "text": [
      "                                                                                                  \n",
      " conv2d_254 (Conv2D)            (None, 8, 8, 320)    368960      ['conv2d_253[0][0]']             \n",
      "                                                                                                  \n",
      " conv2d_256 (Conv2D)            (None, 8, 8, 128)    409728      ['conv2d_255[0][0]']             \n",
      "                                                                                                  \n",
      " conv2d_257 (Conv2D)            (None, 8, 8, 128)    106624      ['max_pooling2d_40[0][0]']       \n",
      "                                                                                                  \n",
      " concatenate_35 (Concatenate)   (None, 8, 8, 832)    0           ['conv2d_252[0][0]',             \n",
      "                                                                  'conv2d_254[0][0]',             \n",
      "                                                                  'conv2d_256[0][0]',             \n",
      "                                                                  'conv2d_257[0][0]']             \n",
      "                                                                                                  \n",
      " conv2d_259 (Conv2D)            (None, 8, 8, 128)    106624      ['concatenate_35[0][0]']         \n",
      "                                                                                                  \n",
      " conv2d_261 (Conv2D)            (None, 8, 8, 128)    106624      ['concatenate_35[0][0]']         \n",
      "                                                                                                  \n",
      " max_pooling2d_41 (MaxPooling2D  (None, 8, 8, 832)   0           ['concatenate_35[0][0]']         \n",
      " )                                                                                                \n",
      "                                                                                                  \n",
      " conv2d_258 (Conv2D)            (None, 8, 8, 384)    319872      ['concatenate_35[0][0]']         \n",
      "                                                                                                  \n",
      " conv2d_260 (Conv2D)            (None, 8, 8, 384)    442752      ['conv2d_259[0][0]']             \n",
      "                                                                                                  \n",
      " conv2d_262 (Conv2D)            (None, 8, 8, 128)    409728      ['conv2d_261[0][0]']             \n",
      "                                                                                                  \n",
      " conv2d_263 (Conv2D)            (None, 8, 8, 128)    106624      ['max_pooling2d_41[0][0]']       \n",
      "                                                                                                  \n",
      " average_pooling2d_6 (AveragePo  (None, 2, 2, 512)   0           ['concatenate_30[0][0]']         \n",
      " oling2D)                                                                                         \n",
      "                                                                                                  \n",
      " concatenate_36 (Concatenate)   (None, 8, 8, 1024)   0           ['conv2d_258[0][0]',             \n",
      "                                                                  'conv2d_260[0][0]',             \n",
      "                                                                  'conv2d_262[0][0]',             \n",
      "                                                                  'conv2d_263[0][0]']             \n",
      "                                                                                                  \n",
      " conv2d_226 (Conv2D)            (None, 2, 2, 128)    65664       ['average_pooling2d_6[0][0]']    \n",
      "                                                                                                  \n",
      " average_pooling2d_8 (AveragePo  (None, 2, 2, 1024)  0           ['concatenate_36[0][0]']         \n",
      " oling2D)                                                                                         \n",
      "                                                                                                  \n",
      " dense_5 (Dense)                (None, 2, 2, 512)    66048       ['conv2d_226[0][0]']             \n",
      "                                                                                                  \n",
      " dropout_1 (Dropout)            (None, 2, 2, 1024)   0           ['average_pooling2d_8[0][0]']    \n",
      "                                                                                                  \n",
      " dense_6 (Dense)                (None, 2, 2, 10)     5130        ['dense_5[0][0]']                \n",
      "                                                                                                  \n",
      " flatten_8 (Flatten)            (None, 4096)         0           ['dropout_1[0][0]']              \n",
      "                                                                                                  \n",
      " dense_8 (Dense)                (None, 2, 2, 10)     110         ['dense_6[0][0]']                \n",
      "                                                                                                  \n",
      " dense_9 (Dense)                (None, 10)           40970       ['flatten_8[0][0]']              \n",
      "                                                                                                  \n",
      "==================================================================================================\n",
      "Total params: 6,293,490\n",
      "Trainable params: 6,292,978\n",
      "Non-trainable params: 512\n",
      "__________________________________________________________________________________________________\n"
     ]
    }
   ],
   "source": [
    "input_shape = x_train[0].shape\n",
    "inputs = Input(shape=input_shape)\n",
    "\n",
    "x = Conv2D(64, kernel_size=(7,7), strides=2, padding='same', activation='relu')(inputs)\n",
    "x = BatchNormalization()(x)\n",
    "x = Conv2D(192, kernel_size=(3,3), padding='same', activation='relu')(x)\n",
    "x = BatchNormalization()(x)\n",
    "\n",
    "x = inception(x, [64, 128, 32, 32])\n",
    "x = inception(x, [128, 192, 96, 64])\n",
    "x = MaxPooling2D(pool_size=(3,3), strides=2, padding='same')(x)\n",
    "\n",
    "x = inception(x, [192, 208, 48, 64])\n",
    "aux1 = AveragePooling2D(pool_size=(5,5), strides=3, padding='valid')(x)\n",
    "aux1 = Conv2D(128, kernel_size=(1,1), padding='same', activation='relu')(aux1)\n",
    "Flatten()(aux1)\n",
    "aux1 = Dense(512, activation='relu')(aux1)\n",
    "aux1 = Dense(10, activation='softmax')(aux1)\n",
    "\n",
    "x = inception(x,[160,224,64,64])\n",
    "x = inception(x,[128,256,64,64])\n",
    "x = inception(x, [112, 288, 64, 64])\n",
    "\n",
    "aux2 = AveragePooling2D(pool_size=(5,5), strides=3, padding='valid')(x)\n",
    "aux2 = Conv2D(128, kernel_size=(1,1), padding='same', activation='relu')(aux2)\n",
    "Flatten()(aux2)\n",
    "aux2 = Dense(512, activation='relu')(aux1)\n",
    "aux2 = Dense(10, activation='softmax')(aux1)\n",
    "\n",
    "x = inception(x, [256, 320, 128, 128])\n",
    "x = inception(x, [256, 320, 128, 128])\n",
    "x = inception(x, [384, 384, 128, 128])\n",
    "\n",
    "x = AveragePooling2D(pool_size=(4,4), padding='valid')(x)\n",
    "x = Dropout(0.4)(x)\n",
    "x = Flatten()(x)\n",
    "\n",
    "outputs = Dense(10, activation='softmax')(x)\n",
    "\n",
    "model = Model(inputs = inputs, outputs = [aux1, aux2, outputs])\n",
    "model.summary()"
   ]
  },
  {
   "cell_type": "code",
   "execution_count": null,
   "metadata": {
    "id": "rY7PZFoiEJ2h"
   },
   "outputs": [],
   "source": []
  }
 ],
 "metadata": {
  "colab": {
   "authorship_tag": "ABX9TyMLAjWGUP/fwQBxIrmizwKx",
   "collapsed_sections": [],
   "name": "googlenet.ipynb",
   "provenance": []
  },
  "kernelspec": {
   "display_name": "Python 3 (ipykernel)",
   "language": "python",
   "name": "python3"
  },
  "language_info": {
   "codemirror_mode": {
    "name": "ipython",
    "version": 3
   },
   "file_extension": ".py",
   "mimetype": "text/x-python",
   "name": "python",
   "nbconvert_exporter": "python",
   "pygments_lexer": "ipython3",
   "version": "3.9.7"
  }
 },
 "nbformat": 4,
 "nbformat_minor": 1
}
