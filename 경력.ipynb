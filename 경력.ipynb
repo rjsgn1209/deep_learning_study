{
 "cells": [
  {
   "cell_type": "code",
   "execution_count": 4,
   "id": "3b359991",
   "metadata": {},
   "outputs": [],
   "source": [
    "import datetime"
   ]
  },
  {
   "cell_type": "code",
   "execution_count": null,
   "id": "031af299",
   "metadata": {},
   "outputs": [],
   "source": [
    "  "
   ]
  },
  {
   "cell_type": "code",
   "execution_count": null,
   "id": "4db1638f",
   "metadata": {},
   "outputs": [],
   "source": []
  },
  {
   "cell_type": "code",
   "execution_count": null,
   "id": "5fb23f4f",
   "metadata": {},
   "outputs": [],
   "source": []
  },
  {
   "cell_type": "code",
   "execution_count": 9,
   "id": "55248ebf",
   "metadata": {},
   "outputs": [],
   "source": [
    "dt = datetime.datetime(2019, 9, 16)"
   ]
  },
  {
   "cell_type": "code",
   "execution_count": 14,
   "id": "2311041c",
   "metadata": {},
   "outputs": [
    {
     "data": {
      "text/plain": [
       "datetime.timedelta(days=-670)"
      ]
     },
     "execution_count": 14,
     "metadata": {},
     "output_type": "execute_result"
    }
   ],
   "source": [
    "datetime.datetime(2017, 6, 26) - datetime.datetime(2019, 4, 27) # 군대 670일"
   ]
  },
  {
   "cell_type": "code",
   "execution_count": 10,
   "id": "047ff30d",
   "metadata": {},
   "outputs": [
    {
     "data": {
      "text/plain": [
       "datetime.timedelta(days=114)"
      ]
     },
     "execution_count": 10,
     "metadata": {},
     "output_type": "execute_result"
    }
   ],
   "source": [
    "datetime.datetime(2019, 9, 16) - datetime.datetime(2019, 5, 25) # 워터파크 114일"
   ]
  },
  {
   "cell_type": "code",
   "execution_count": 18,
   "id": "dfcba395",
   "metadata": {},
   "outputs": [
    {
     "data": {
      "text/plain": [
       "datetime.timedelta(days=74)"
      ]
     },
     "execution_count": 18,
     "metadata": {},
     "output_type": "execute_result"
    }
   ],
   "source": [
    "datetime.datetime(2020, 12, 13) - datetime.datetime(2020, 9, 30) # 버거킹 74일"
   ]
  },
  {
   "cell_type": "code",
   "execution_count": 11,
   "id": "d5e5d473",
   "metadata": {},
   "outputs": [
    {
     "data": {
      "text/plain": [
       "datetime.timedelta(days=135)"
      ]
     },
     "execution_count": 11,
     "metadata": {},
     "output_type": "execute_result"
    }
   ],
   "source": [
    "datetime.datetime(2020, 7, 1) - datetime.datetime(2020, 2, 17) # LG공장 135일"
   ]
  },
  {
   "cell_type": "code",
   "execution_count": 12,
   "id": "fb53f023",
   "metadata": {},
   "outputs": [
    {
     "data": {
      "text/plain": [
       "141"
      ]
     },
     "execution_count": 12,
     "metadata": {},
     "output_type": "execute_result"
    }
   ],
   "source": [
    "26+14+28+28+20+6+5+11+3 # 통영 물차 + 오렌지 팩토리 + 공장 잠깐 141일"
   ]
  },
  {
   "cell_type": "code",
   "execution_count": 19,
   "id": "874c4dab",
   "metadata": {},
   "outputs": [
    {
     "data": {
      "text/plain": [
       "1134"
      ]
     },
     "execution_count": 19,
     "metadata": {},
     "output_type": "execute_result"
    }
   ],
   "source": [
    "114+135+141+670 + 74"
   ]
  },
  {
   "cell_type": "code",
   "execution_count": 20,
   "id": "54a4a11d",
   "metadata": {},
   "outputs": [
    {
     "data": {
      "text/plain": [
       "-39"
      ]
     },
     "execution_count": 20,
     "metadata": {},
     "output_type": "execute_result"
    }
   ],
   "source": [
    "365*3 - 1134"
   ]
  },
  {
   "cell_type": "code",
   "execution_count": null,
   "id": "283ba970",
   "metadata": {},
   "outputs": [],
   "source": [
    "9"
   ]
  },
  {
   "cell_type": "code",
   "execution_count": null,
   "id": "e1599c05",
   "metadata": {},
   "outputs": [],
   "source": []
  }
 ],
 "metadata": {
  "kernelspec": {
   "display_name": "Python 3 (ipykernel)",
   "language": "python",
   "name": "python3"
  },
  "language_info": {
   "codemirror_mode": {
    "name": "ipython",
    "version": 3
   },
   "file_extension": ".py",
   "mimetype": "text/x-python",
   "name": "python",
   "nbconvert_exporter": "python",
   "pygments_lexer": "ipython3",
   "version": "3.9.7"
  }
 },
 "nbformat": 4,
 "nbformat_minor": 5
}
