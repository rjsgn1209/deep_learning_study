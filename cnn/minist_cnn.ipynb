{
 "cells": [
  {
   "cell_type": "code",
   "execution_count": 8,
   "id": "69ff3ab4",
   "metadata": {},
   "outputs": [],
   "source": [
    "import pandas as pd\n",
    "import numpy as np\n",
    "import matplotlib.pyplot as plt\n",
    "import seaborn as sns"
   ]
  },
  {
   "cell_type": "code",
   "execution_count": 9,
   "id": "39196555",
   "metadata": {},
   "outputs": [],
   "source": [
    "from tensorflow.keras.datasets import mnist\n",
    "from tensorflow.keras import utils\n",
    "import tensorflow as tf"
   ]
  },
  {
   "cell_type": "code",
   "execution_count": 16,
   "id": "4d8b2558",
   "metadata": {},
   "outputs": [],
   "source": [
    "from tensorflow.keras.models import Sequential\n",
    "from tensorflow.keras.layers import Dense"
   ]
  },
  {
   "cell_type": "code",
   "execution_count": 10,
   "id": "40de48cd",
   "metadata": {},
   "outputs": [],
   "source": [
    "(x_train, y_train), (x_test, y_test) = mnist.load_data()"
   ]
  },
  {
   "cell_type": "code",
   "execution_count": 11,
   "id": "28f62a34",
   "metadata": {},
   "outputs": [
    {
     "name": "stdout",
     "output_type": "stream",
     "text": [
      "(60000, 28, 28)\n",
      "(10000, 28, 28)\n",
      "(60000,)\n",
      "(10000,)\n"
     ]
    }
   ],
   "source": [
    "print(x_train.shape)\n",
    "print(x_test.shape)\n",
    "print(y_train.shape)\n",
    "print(y_test.shape)"
   ]
  },
  {
   "cell_type": "code",
   "execution_count": 12,
   "id": "586c4b75",
   "metadata": {},
   "outputs": [
    {
     "data": {
      "text/plain": [
       "(28, 28)"
      ]
     },
     "execution_count": 12,
     "metadata": {},
     "output_type": "execute_result"
    }
   ],
   "source": [
    "x_train[0].shape"
   ]
  },
  {
   "cell_type": "code",
   "execution_count": 14,
   "id": "9ccd6b99",
   "metadata": {},
   "outputs": [
    {
     "data": {
      "text/plain": [
       "<matplotlib.image.AxesImage at 0x1cc6356cb80>"
      ]
     },
     "execution_count": 14,
     "metadata": {},
     "output_type": "execute_result"
    },
    {
     "data": {
      "image/png": "[encoded data removed]",
      "text/plain": [
       "<Figure size 432x288 with 1 Axes>"
      ]
     },
     "metadata": {
      "needs_background": "light"
     },
     "output_type": "display_data"
    }
   ],
   "source": [
    "plt.imshow(x_train[0], cmap='Greys')"
   ]
  },
  {
   "cell_type": "code",
   "execution_count": null,
   "id": "11c82df9",
   "metadata": {},
   "outputs": [],
   "source": []
  },
  {
   "cell_type": "code",
   "execution_count": 26,
   "id": "29da4eb3",
   "metadata": {},
   "outputs": [],
   "source": [
    "x_train_vec = x_train.reshape(60000, 28*28)\n",
    "x_test_vec = x_test.reshape(10000, 28*28)"
   ]
  },
  {
   "cell_type": "code",
   "execution_count": null,
   "id": "2e555daa",
   "metadata": {},
   "outputs": [],
   "source": []
  },
  {
   "cell_type": "code",
   "execution_count": 27,
   "id": "5967d110",
   "metadata": {},
   "outputs": [],
   "source": [
    "y_train_oh = utils.to_categorical(y_train)\n",
    "y_test_oh = utils.to_categorical(y_test)"
   ]
  },
  {
   "cell_type": "code",
   "execution_count": null,
   "id": "3863ac9a",
   "metadata": {},
   "outputs": [],
   "source": []
  },
  {
   "cell_type": "code",
   "execution_count": 28,
   "id": "f36ddb9d",
   "metadata": {},
   "outputs": [],
   "source": [
    "model = Sequential()\n",
    "model.add(Dense(112, input_dim = 28*28, activation='relu'))\n",
    "model.add(Dense(56, activation='relu'))\n",
    "model.add(Dense(28, activation='relu'))\n",
    "model.add(Dense(10, activation='softmax'))"
   ]
  },
  {
   "cell_type": "code",
   "execution_count": null,
   "id": "8cc0a4a0",
   "metadata": {},
   "outputs": [],
   "source": []
  },
  {
   "cell_type": "code",
   "execution_count": 29,
   "id": "4549b224",
   "metadata": {},
   "outputs": [],
   "source": [
    "model.compile(loss='categorical_crossentropy', metrics=['accuracy'], optimizer='adam')"
   ]
  },
  {
   "cell_type": "code",
   "execution_count": 30,
   "id": "69725e5e",
   "metadata": {
    "scrolled": true
   },
   "outputs": [
    {
     "name": "stdout",
     "output_type": "stream",
     "text": [
      "Epoch 1/30\n",
      "2400/2400 [==============================] - 3s 1ms/step - loss: 0.9985 - accuracy: 0.8101 - val_loss: 0.3097 - val_accuracy: 0.9218\n",
      "Epoch 2/30\n",
      "2400/2400 [==============================] - 2s 966us/step - loss: 0.2939 - accuracy: 0.9236 - val_loss: 0.3126 - val_accuracy: 0.9233\n",
      "Epoch 3/30\n",
      "2400/2400 [==============================] - 2s 998us/step - loss: 0.2164 - accuracy: 0.9417 - val_loss: 0.2116 - val_accuracy: 0.9472\n",
      "Epoch 4/30\n",
      "2400/2400 [==============================] - 2s 983us/step - loss: 0.1731 - accuracy: 0.9531 - val_loss: 0.1764 - val_accuracy: 0.9524\n",
      "Epoch 5/30\n",
      "2400/2400 [==============================] - 2s 994us/step - loss: 0.1389 - accuracy: 0.9618 - val_loss: 0.1666 - val_accuracy: 0.9563\n",
      "Epoch 6/30\n",
      "2400/2400 [==============================] - 2s 978us/step - loss: 0.1195 - accuracy: 0.9665 - val_loss: 0.1518 - val_accuracy: 0.9622\n",
      "Epoch 7/30\n",
      "2400/2400 [==============================] - 2s 964us/step - loss: 0.1070 - accuracy: 0.9709 - val_loss: 0.1463 - val_accuracy: 0.9654\n",
      "Epoch 8/30\n",
      "2400/2400 [==============================] - 2s 998us/step - loss: 0.0899 - accuracy: 0.9748 - val_loss: 0.1535 - val_accuracy: 0.9653\n",
      "Epoch 9/30\n",
      "2400/2400 [==============================] - 2s 963us/step - loss: 0.0887 - accuracy: 0.9762 - val_loss: 0.1338 - val_accuracy: 0.9718\n",
      "Epoch 10/30\n",
      "2400/2400 [==============================] - 2s 1ms/step - loss: 0.0758 - accuracy: 0.9791 - val_loss: 0.1416 - val_accuracy: 0.9677\n",
      "Epoch 11/30\n",
      "2400/2400 [==============================] - 2s 991us/step - loss: 0.0731 - accuracy: 0.9805 - val_loss: 0.1512 - val_accuracy: 0.9678\n",
      "Epoch 12/30\n",
      "2400/2400 [==============================] - 2s 1ms/step - loss: 0.0780 - accuracy: 0.9806 - val_loss: 0.1524 - val_accuracy: 0.9641\n",
      "Epoch 13/30\n",
      "2400/2400 [==============================] - 2s 997us/step - loss: 0.0622 - accuracy: 0.9831 - val_loss: 0.1397 - val_accuracy: 0.9707\n",
      "Epoch 14/30\n",
      "2400/2400 [==============================] - 2s 986us/step - loss: 0.0652 - accuracy: 0.9832 - val_loss: 0.1338 - val_accuracy: 0.9724\n",
      "Epoch 15/30\n",
      "2400/2400 [==============================] - 3s 1ms/step - loss: 0.0604 - accuracy: 0.9846 - val_loss: 0.1486 - val_accuracy: 0.9713\n",
      "Epoch 16/30\n",
      "2400/2400 [==============================] - 2s 954us/step - loss: 0.0576 - accuracy: 0.9848 - val_loss: 0.1980 - val_accuracy: 0.9653\n",
      "Epoch 17/30\n",
      "2400/2400 [==============================] - 2s 1ms/step - loss: 0.0557 - accuracy: 0.9854 - val_loss: 0.1480 - val_accuracy: 0.9706\n",
      "Epoch 18/30\n",
      "2400/2400 [==============================] - 2s 1ms/step - loss: 0.0510 - accuracy: 0.9875 - val_loss: 0.1649 - val_accuracy: 0.9704\n",
      "Epoch 19/30\n",
      "2400/2400 [==============================] - 2s 1ms/step - loss: 0.0496 - accuracy: 0.9874 - val_loss: 0.1729 - val_accuracy: 0.9697\n",
      "Epoch 20/30\n",
      "2400/2400 [==============================] - 3s 1ms/step - loss: 0.0458 - accuracy: 0.9881 - val_loss: 0.1870 - val_accuracy: 0.9665\n",
      "Epoch 21/30\n",
      "2400/2400 [==============================] - 3s 1ms/step - loss: 0.0536 - accuracy: 0.9876 - val_loss: 0.1656 - val_accuracy: 0.9707\n",
      "Epoch 22/30\n",
      "2400/2400 [==============================] - 2s 980us/step - loss: 0.0467 - accuracy: 0.9892 - val_loss: 0.1611 - val_accuracy: 0.9740\n",
      "Epoch 23/30\n",
      "2400/2400 [==============================] - 2s 926us/step - loss: 0.0426 - accuracy: 0.9906 - val_loss: 0.2083 - val_accuracy: 0.9691\n",
      "Epoch 24/30\n",
      "2400/2400 [==============================] - 2s 1ms/step - loss: 0.0486 - accuracy: 0.9889 - val_loss: 0.2173 - val_accuracy: 0.9664\n",
      "Epoch 25/30\n",
      "2400/2400 [==============================] - 2s 984us/step - loss: 0.0514 - accuracy: 0.9893 - val_loss: 0.2061 - val_accuracy: 0.9672\n",
      "Epoch 26/30\n",
      "2400/2400 [==============================] - 2s 996us/step - loss: 0.0394 - accuracy: 0.9903 - val_loss: 0.2206 - val_accuracy: 0.9695\n",
      "Epoch 27/30\n",
      "2400/2400 [==============================] - 2s 1ms/step - loss: 0.0400 - accuracy: 0.9903 - val_loss: 0.2476 - val_accuracy: 0.9707\n",
      "Epoch 28/30\n",
      "2400/2400 [==============================] - 2s 1ms/step - loss: 0.0503 - accuracy: 0.9895 - val_loss: 0.2108 - val_accuracy: 0.9704\n",
      "Epoch 29/30\n",
      "2400/2400 [==============================] - 2s 997us/step - loss: 0.0390 - accuracy: 0.9909 - val_loss: 0.2489 - val_accuracy: 0.9677\n",
      "Epoch 30/30\n",
      "2400/2400 [==============================] - 3s 1ms/step - loss: 0.0422 - accuracy: 0.9905 - val_loss: 0.2122 - val_accuracy: 0.9709\n"
     ]
    }
   ],
   "source": [
    "hist = model.fit(x_train_vec, y_train_oh, validation_split=0.2, epochs=30, batch_size=20)"
   ]
  },
  {
   "cell_type": "code",
   "execution_count": 32,
   "id": "0c528722",
   "metadata": {},
   "outputs": [
    {
     "name": "stdout",
     "output_type": "stream",
     "text": [
      "313/313 [==============================] - 0s 1ms/step - loss: 0.1952 - accuracy: 0.9729\n"
     ]
    },
    {
     "data": {
      "text/plain": [
       "[0.19516396522521973, 0.9728999733924866]"
      ]
     },
     "execution_count": 32,
     "metadata": {},
     "output_type": "execute_result"
    }
   ],
   "source": [
    "model.evaluate(x_test_vec, y_test_oh)"
   ]
  },
  {
   "cell_type": "code",
   "execution_count": null,
   "id": "bd5814ad",
   "metadata": {},
   "outputs": [],
   "source": []
  },
  {
   "cell_type": "code",
   "execution_count": 34,
   "id": "0f1cd749",
   "metadata": {},
   "outputs": [
    {
     "data": {
      "text/plain": [
       "[<matplotlib.lines.Line2D at 0x1cc730d28e0>]"
      ]
     },
     "execution_count": 34,
     "metadata": {},
     "output_type": "execute_result"
    },
    {
     "data": {
      "image/png": "[encoded data removed]",
      "text/plain": [
       "<Figure size 432x288 with 1 Axes>"
      ]
     },
     "metadata": {
      "needs_background": "light"
     },
     "output_type": "display_data"
    }
   ],
   "source": [
    "plt.plot(hist.history['accuracy'])\n",
    "plt.plot(hist.history['val_accuracy'])"
   ]
  },
  {
   "cell_type": "code",
   "execution_count": null,
   "id": "9de091da",
   "metadata": {},
   "outputs": [],
   "source": []
  },
  {
   "cell_type": "code",
   "execution_count": 35,
   "id": "d5626347",
   "metadata": {},
   "outputs": [],
   "source": [
    "# - CNN"
   ]
  },
  {
   "cell_type": "code",
   "execution_count": 38,
   "id": "55646adc",
   "metadata": {},
   "outputs": [],
   "source": [
    "from tensorflow.keras.layers import Conv2D, Flatten, MaxPooling2D, Dropout"
   ]
  },
  {
   "cell_type": "code",
   "execution_count": 39,
   "id": "71386972",
   "metadata": {},
   "outputs": [],
   "source": [
    "x_train_cov = x_train.reshape(60000, 28, 28, 1)\n",
    "y_train_cov = x_test.reshape(10000, 28, 28, 1)"
   ]
  },
  {
   "cell_type": "code",
   "execution_count": null,
   "id": "805f89b5",
   "metadata": {},
   "outputs": [],
   "source": []
  },
  {
   "cell_type": "code",
   "execution_count": 48,
   "id": "238fa6a4",
   "metadata": {},
   "outputs": [
    {
     "name": "stdout",
     "output_type": "stream",
     "text": [
      "Model: \"sequential_9\"\n",
      "_________________________________________________________________\n",
      " Layer (type)                Output Shape              Param #   \n",
      "=================================================================\n",
      " conv2d_10 (Conv2D)          (None, 26, 26, 32)        320       \n",
      "                                                                 \n",
      " conv2d_11 (Conv2D)          (None, 24, 24, 64)        18496     \n",
      "                                                                 \n",
      " max_pooling2d_4 (MaxPooling  (None, 12, 12, 64)       0         \n",
      " 2D)                                                             \n",
      "                                                                 \n",
      " flatten_1 (Flatten)         (None, 9216)              0         \n",
      "                                                                 \n",
      " dense_16 (Dense)            (None, 128)               1179776   \n",
      "                                                                 \n",
      " dense_17 (Dense)            (None, 10)                1290      \n",
      "                                                                 \n",
      "=================================================================\n",
      "Total params: 1,199,882\n",
      "Trainable params: 1,199,882\n",
      "Non-trainable params: 0\n",
      "_________________________________________________________________\n"
     ]
    }
   ],
   "source": [
    "model = Sequential()\n",
    "model.add(Conv2D(32, kernel_size = (3,3), input_shape = (28,28,1), activation='relu'))\n",
    "model.add(Conv2D(64, (3,3), activation='relu'))\n",
    "model.add(MaxPooling2D(pool_size=2))\n",
    "model.add(Flatten())\n",
    "model.add(Dense(128, activation='relu'))\n",
    "model.add(Dense(10, activation='softmax'))\n",
    "model.summary()"
   ]
  },
  {
   "cell_type": "code",
   "execution_count": null,
   "id": "ec9d180a",
   "metadata": {},
   "outputs": [],
   "source": []
  },
  {
   "cell_type": "code",
   "execution_count": 49,
   "id": "c1c90087",
   "metadata": {},
   "outputs": [],
   "source": [
    "model.compile(loss='categorical_crossentropy', metrics = ['accuracy'], optimizer='adam')"
   ]
  },
  {
   "cell_type": "code",
   "execution_count": 47,
   "id": "bd5f727a",
   "metadata": {},
   "outputs": [
    {
     "name": "stdout",
     "output_type": "stream",
     "text": [
      "Epoch 1/30\n",
      "2400/2400 [==============================] - 37s 15ms/step - loss: 0.2865 - accuracy: 0.9535 - val_loss: 0.0816 - val_accuracy: 0.9777\n",
      "Epoch 2/30\n",
      "2400/2400 [==============================] - 38s 16ms/step - loss: 0.0611 - accuracy: 0.9816 - val_loss: 0.0842 - val_accuracy: 0.9777\n",
      "Epoch 3/30\n",
      "2400/2400 [==============================] - 38s 16ms/step - loss: 0.0414 - accuracy: 0.9876 - val_loss: 0.0823 - val_accuracy: 0.9811\n",
      "Epoch 4/30\n",
      "2400/2400 [==============================] - 38s 16ms/step - loss: 0.0328 - accuracy: 0.9902 - val_loss: 0.0786 - val_accuracy: 0.9814\n",
      "Epoch 5/30\n",
      "2400/2400 [==============================] - 38s 16ms/step - loss: 0.0249 - accuracy: 0.9923 - val_loss: 0.0824 - val_accuracy: 0.9829\n",
      "Epoch 6/30\n",
      "2400/2400 [==============================] - 38s 16ms/step - loss: 0.0242 - accuracy: 0.9931 - val_loss: 0.1100 - val_accuracy: 0.9797\n",
      "Epoch 7/30\n",
      "2400/2400 [==============================] - 38s 16ms/step - loss: 0.0191 - accuracy: 0.9950 - val_loss: 0.1005 - val_accuracy: 0.9836\n",
      "Epoch 8/30\n",
      "2400/2400 [==============================] - 39s 16ms/step - loss: 0.0189 - accuracy: 0.9947 - val_loss: 0.0998 - val_accuracy: 0.9843\n",
      "Epoch 9/30\n",
      "2400/2400 [==============================] - 38s 16ms/step - loss: 0.0212 - accuracy: 0.9953 - val_loss: 0.1452 - val_accuracy: 0.9804\n",
      "Epoch 10/30\n",
      "2400/2400 [==============================] - 37s 16ms/step - loss: 0.0173 - accuracy: 0.9961 - val_loss: 0.1463 - val_accuracy: 0.9812\n",
      "Epoch 11/30\n",
      "2400/2400 [==============================] - 38s 16ms/step - loss: 0.0159 - accuracy: 0.9961 - val_loss: 0.1821 - val_accuracy: 0.9792\n",
      "Epoch 12/30\n",
      "2400/2400 [==============================] - 39s 16ms/step - loss: 0.0188 - accuracy: 0.9960 - val_loss: 0.1737 - val_accuracy: 0.9841\n",
      "Epoch 13/30\n",
      "2400/2400 [==============================] - 38s 16ms/step - loss: 0.0180 - accuracy: 0.9966 - val_loss: 0.1384 - val_accuracy: 0.9836\n",
      "Epoch 14/30\n",
      "2400/2400 [==============================] - 38s 16ms/step - loss: 0.0168 - accuracy: 0.9967 - val_loss: 0.2229 - val_accuracy: 0.9818\n",
      "Epoch 15/30\n",
      "2400/2400 [==============================] - 39s 16ms/step - loss: 0.0188 - accuracy: 0.9970 - val_loss: 0.2041 - val_accuracy: 0.9835\n",
      "Epoch 16/30\n",
      "2400/2400 [==============================] - 37s 16ms/step - loss: 0.0188 - accuracy: 0.9968 - val_loss: 0.1899 - val_accuracy: 0.9857\n",
      "Epoch 17/30\n",
      "2400/2400 [==============================] - 38s 16ms/step - loss: 0.0186 - accuracy: 0.9971 - val_loss: 0.2149 - val_accuracy: 0.9856\n",
      "Epoch 18/30\n",
      "2400/2400 [==============================] - 39s 16ms/step - loss: 0.0149 - accuracy: 0.9977 - val_loss: 0.2778 - val_accuracy: 0.9833\n",
      "Epoch 19/30\n",
      "2400/2400 [==============================] - 39s 16ms/step - loss: 0.0186 - accuracy: 0.9974 - val_loss: 0.2627 - val_accuracy: 0.9822\n",
      "Epoch 20/30\n",
      "2400/2400 [==============================] - 39s 16ms/step - loss: 0.0165 - accuracy: 0.9974 - val_loss: 0.2266 - val_accuracy: 0.9824\n",
      "Epoch 21/30\n",
      "2400/2400 [==============================] - 38s 16ms/step - loss: 0.0188 - accuracy: 0.9975 - val_loss: 0.2463 - val_accuracy: 0.9862\n",
      "Epoch 22/30\n",
      "2400/2400 [==============================] - 38s 16ms/step - loss: 0.0177 - accuracy: 0.9978 - val_loss: 0.2571 - val_accuracy: 0.9843\n",
      "Epoch 23/30\n",
      "2400/2400 [==============================] - 39s 16ms/step - loss: 0.0172 - accuracy: 0.9980 - val_loss: 0.2630 - val_accuracy: 0.9852\n",
      "Epoch 24/30\n",
      "2400/2400 [==============================] - 38s 16ms/step - loss: 0.0151 - accuracy: 0.9982 - val_loss: 0.3230 - val_accuracy: 0.9844\n",
      "Epoch 25/30\n",
      "2400/2400 [==============================] - 38s 16ms/step - loss: 0.0182 - accuracy: 0.9981 - val_loss: 0.3441 - val_accuracy: 0.9831\n",
      "Epoch 26/30\n",
      "2400/2400 [==============================] - 38s 16ms/step - loss: 0.0127 - accuracy: 0.9985 - val_loss: 0.4151 - val_accuracy: 0.9824\n",
      "Epoch 27/30\n",
      "2400/2400 [==============================] - 37s 15ms/step - loss: 0.0213 - accuracy: 0.9979 - val_loss: 0.2734 - val_accuracy: 0.9852\n",
      "Epoch 28/30\n",
      "2400/2400 [==============================] - 37s 15ms/step - loss: 0.0146 - accuracy: 0.9986 - val_loss: 0.3186 - val_accuracy: 0.9847\n",
      "Epoch 29/30\n",
      "2400/2400 [==============================] - 37s 15ms/step - loss: 0.0226 - accuracy: 0.9981 - val_loss: 0.4458 - val_accuracy: 0.9852\n",
      "Epoch 30/30\n",
      "2400/2400 [==============================] - 37s 15ms/step - loss: 0.0185 - accuracy: 0.9985 - val_loss: 0.4176 - val_accuracy: 0.9843\n"
     ]
    }
   ],
   "source": [
    "hist = model.fit(x_train_cov, y_train_oh, epochs=10, batch_size=20, validation_split=0.2)"
   ]
  },
  {
   "cell_type": "code",
   "execution_count": null,
   "id": "a6207365",
   "metadata": {},
   "outputs": [],
   "source": []
  },
  {
   "cell_type": "code",
   "execution_count": null,
   "id": "70713a9b",
   "metadata": {},
   "outputs": [],
   "source": []
  }
 ],
 "metadata": {
  "kernelspec": {
   "display_name": "Python 3 (ipykernel)",
   "language": "python",
   "name": "python3"
  },
  "language_info": {
   "codemirror_mode": {
    "name": "ipython",
    "version": 3
   },
   "file_extension": ".py",
   "mimetype": "text/x-python",
   "name": "python",
   "nbconvert_exporter": "python",
   "pygments_lexer": "ipython3",
   "version": "3.9.7"
  }
 },
 "nbformat": 4,
 "nbformat_minor": 5
}
