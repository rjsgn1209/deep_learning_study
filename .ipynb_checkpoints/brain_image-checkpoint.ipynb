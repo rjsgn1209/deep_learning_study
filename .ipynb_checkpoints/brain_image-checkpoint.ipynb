{
 "cells": [
  {
   "cell_type": "code",
   "execution_count": 1,
   "metadata": {
    "colab": {
     "base_uri": "https://localhost:8080/"
    },
    "executionInfo": {
     "elapsed": 14745,
     "status": "ok",
     "timestamp": 1647857013777,
     "user": {
      "displayName": "박건후",
      "photoUrl": "https://lh3.googleusercontent.com/a-/AOh14GhaYtZyjr6hcOW1YyRrTjn2cFNOnuoxbGXifFqT=s64",
      "userId": "00163064144750334353"
     },
     "user_tz": -540
    },
    "id": "OhyNPxcSJk_d",
    "outputId": "57cd91e5-d366-42cc-9da5-698e1eacb58b"
   },
   "outputs": [
    {
     "ename": "ModuleNotFoundError",
     "evalue": "No module named 'google.colab'",
     "output_type": "error",
     "traceback": [
      "\u001b[1;31m---------------------------------------------------------------------------\u001b[0m",
      "\u001b[1;31mModuleNotFoundError\u001b[0m                       Traceback (most recent call last)",
      "\u001b[1;32m~\\AppData\\Local\\Temp/ipykernel_7492/16543937.py\u001b[0m in \u001b[0;36m<module>\u001b[1;34m\u001b[0m\n\u001b[1;32m----> 1\u001b[1;33m \u001b[1;32mfrom\u001b[0m \u001b[0mgoogle\u001b[0m\u001b[1;33m.\u001b[0m\u001b[0mcolab\u001b[0m \u001b[1;32mimport\u001b[0m \u001b[0mdrive\u001b[0m\u001b[1;33m\u001b[0m\u001b[1;33m\u001b[0m\u001b[0m\n\u001b[0m\u001b[0;32m      2\u001b[0m \u001b[0mdrive\u001b[0m\u001b[1;33m.\u001b[0m\u001b[0mmount\u001b[0m\u001b[1;33m(\u001b[0m\u001b[1;34m'./mydrive'\u001b[0m\u001b[1;33m)\u001b[0m\u001b[1;33m\u001b[0m\u001b[1;33m\u001b[0m\u001b[0m\n",
      "\u001b[1;31mModuleNotFoundError\u001b[0m: No module named 'google.colab'"
     ]
    }
   ],
   "source": [
    "from google.colab import drive\n",
    "drive.mount('./mydrive')"
   ]
  },
  {
   "cell_type": "code",
   "execution_count": null,
   "metadata": {
    "colab": {
     "base_uri": "https://localhost:8080/",
     "height": 35
    },
    "executionInfo": {
     "elapsed": 10,
     "status": "ok",
     "timestamp": 1647857013778,
     "user": {
      "displayName": "박건후",
      "photoUrl": "https://lh3.googleusercontent.com/a-/AOh14GhaYtZyjr6hcOW1YyRrTjn2cFNOnuoxbGXifFqT=s64",
      "userId": "00163064144750334353"
     },
     "user_tz": -540
    },
    "id": "AYa9b6qeK1EF",
    "outputId": "deb1918f-5b21-45b3-d3fd-b374bbb67f49"
   },
   "outputs": [
    {
     "data": {
      "application/vnd.google.colaboratory.intrinsic+json": {
       "type": "string"
      },
      "text/plain": [
       "'/content'"
      ]
     },
     "execution_count": 4,
     "metadata": {},
     "output_type": "execute_result"
    }
   ],
   "source": [
    "pwd"
   ]
  },
  {
   "cell_type": "code",
   "execution_count": null,
   "metadata": {
    "colab": {
     "base_uri": "https://localhost:8080/"
    },
    "executionInfo": {
     "elapsed": 8,
     "status": "ok",
     "timestamp": 1647857013778,
     "user": {
      "displayName": "박건후",
      "photoUrl": "https://lh3.googleusercontent.com/a-/AOh14GhaYtZyjr6hcOW1YyRrTjn2cFNOnuoxbGXifFqT=s64",
      "userId": "00163064144750334353"
     },
     "user_tz": -540
    },
    "id": "pjEG9aTzK__S",
    "outputId": "b1e0de14-4414-413b-e2b0-0e05a39dbd9e"
   },
   "outputs": [
    {
     "name": "stdout",
     "output_type": "stream",
     "text": [
      "\u001b[0m\u001b[01;34mmydrive\u001b[0m/  \u001b[01;34msample_data\u001b[0m/\n"
     ]
    }
   ],
   "source": [
    "ls"
   ]
  },
  {
   "cell_type": "code",
   "execution_count": null,
   "metadata": {
    "colab": {
     "base_uri": "https://localhost:8080/"
    },
    "executionInfo": {
     "elapsed": 5,
     "status": "ok",
     "timestamp": 1647857013778,
     "user": {
      "displayName": "박건후",
      "photoUrl": "https://lh3.googleusercontent.com/a-/AOh14GhaYtZyjr6hcOW1YyRrTjn2cFNOnuoxbGXifFqT=s64",
      "userId": "00163064144750334353"
     },
     "user_tz": -540
    },
    "id": "cKa2vHt_LB4j",
    "outputId": "abbe9219-a50d-44b7-d383-9ac12bc27d5b"
   },
   "outputs": [
    {
     "name": "stdout",
     "output_type": "stream",
     "text": [
      "/content/mydrive\n"
     ]
    }
   ],
   "source": [
    "cd mydrive"
   ]
  },
  {
   "cell_type": "code",
   "execution_count": null,
   "metadata": {
    "colab": {
     "base_uri": "https://localhost:8080/"
    },
    "executionInfo": {
     "elapsed": 420,
     "status": "ok",
     "timestamp": 1647857014194,
     "user": {
      "displayName": "박건후",
      "photoUrl": "https://lh3.googleusercontent.com/a-/AOh14GhaYtZyjr6hcOW1YyRrTjn2cFNOnuoxbGXifFqT=s64",
      "userId": "00163064144750334353"
     },
     "user_tz": -540
    },
    "id": "K38k5rhYLiJT",
    "outputId": "00bc0921-bcf1-402f-b699-3ba3a80478a1"
   },
   "outputs": [
    {
     "name": "stdout",
     "output_type": "stream",
     "text": [
      "/content/mydrive/MyDrive\n"
     ]
    }
   ],
   "source": [
    "cd MyDrive"
   ]
  },
  {
   "cell_type": "code",
   "execution_count": null,
   "metadata": {
    "colab": {
     "base_uri": "https://localhost:8080/"
    },
    "executionInfo": {
     "elapsed": 7,
     "status": "ok",
     "timestamp": 1647857014194,
     "user": {
      "displayName": "박건후",
      "photoUrl": "https://lh3.googleusercontent.com/a-/AOh14GhaYtZyjr6hcOW1YyRrTjn2cFNOnuoxbGXifFqT=s64",
      "userId": "00163064144750334353"
     },
     "user_tz": -540
    },
    "id": "uY3wJA2-SdBD",
    "outputId": "7ede3eab-581c-4fcb-b3b0-9ce1f58874c0"
   },
   "outputs": [
    {
     "name": "stdout",
     "output_type": "stream",
     "text": [
      "/content/mydrive/MyDrive/brainimages\n"
     ]
    }
   ],
   "source": [
    "cd brainimages/"
   ]
  },
  {
   "cell_type": "code",
   "execution_count": null,
   "metadata": {
    "id": "51CQIX5rLOxC"
   },
   "outputs": [],
   "source": [
    "import tensorflow as tf\n",
    "import os\n",
    "from tensorflow.keras.models import Sequential\n",
    "from tensorflow.keras.layers import Dense, Conv2D, MaxPooling2D, Flatten, Activation, Dropout\n",
    "from tensorflow.keras.preprocessing.image import ImageDataGenerator\n",
    "from tensorflow.keras import optimizers, initializers, regularizers, metrics\n",
    "\n",
    "import pandas as pd\n",
    "import numpy as np\n",
    "import matplotlib.pyplot as plt\n",
    "import seaborn as sns"
   ]
  },
  {
   "cell_type": "code",
   "execution_count": null,
   "metadata": {
    "id": "Z_5U_y3WM7y0"
   },
   "outputs": [],
   "source": [
    "train_datagen = ImageDataGenerator(rescale=1./255, \n",
    "                                   horizontal_flip = True,\n",
    "                                   width_shift_range=0.1,\n",
    "                                   height_shift_range=0.1,\n",
    "                                   rotation_range=5,\n",
    "                                   shear_range=0.7,\n",
    "                                   zoom_range=[0.9, 2],\n",
    "                                   vertical_flip = True,\n",
    "                                   fill_mode='nearest')"
   ]
  },
  {
   "cell_type": "code",
   "execution_count": null,
   "metadata": {
    "colab": {
     "base_uri": "https://localhost:8080/"
    },
    "executionInfo": {
     "elapsed": 455,
     "status": "ok",
     "timestamp": 1647857018488,
     "user": {
      "displayName": "박건후",
      "photoUrl": "https://lh3.googleusercontent.com/a-/AOh14GhaYtZyjr6hcOW1YyRrTjn2cFNOnuoxbGXifFqT=s64",
      "userId": "00163064144750334353"
     },
     "user_tz": -540
    },
    "id": "ikN-5x0VNWxa",
    "outputId": "4b719959-e76a-4300-9145-1feb62b8a8fe"
   },
   "outputs": [
    {
     "name": "stdout",
     "output_type": "stream",
     "text": [
      "Found 160 images belonging to 2 classes.\n"
     ]
    }
   ],
   "source": [
    "train_generator = train_datagen.flow_from_directory('train',\n",
    "                                  target_size=(150,150),\n",
    "                                  batch_size=5,\n",
    "                                  class_mode='binary')"
   ]
  },
  {
   "cell_type": "code",
   "execution_count": null,
   "metadata": {
    "id": "dWLDZ1JO-6g9"
   },
   "outputs": [],
   "source": [
    "train_generator.next()"
   ]
  },
  {
   "cell_type": "code",
   "execution_count": null,
   "metadata": {
    "id": "3UIiF5ZDOC_p"
   },
   "outputs": [],
   "source": [
    "test_dategen = ImageDataGenerator(rescale=1./255)"
   ]
  },
  {
   "cell_type": "code",
   "execution_count": null,
   "metadata": {
    "colab": {
     "base_uri": "https://localhost:8080/"
    },
    "executionInfo": {
     "elapsed": 398,
     "status": "ok",
     "timestamp": 1647857020198,
     "user": {
      "displayName": "박건후",
      "photoUrl": "https://lh3.googleusercontent.com/a-/AOh14GhaYtZyjr6hcOW1YyRrTjn2cFNOnuoxbGXifFqT=s64",
      "userId": "00163064144750334353"
     },
     "user_tz": -540
    },
    "id": "Dm3leQ6sPksC",
    "outputId": "24874e5c-7bfc-467c-d372-c2347da4b30d"
   },
   "outputs": [
    {
     "name": "stdout",
     "output_type": "stream",
     "text": [
      "Found 120 images belonging to 2 classes.\n"
     ]
    }
   ],
   "source": [
    "test_generator = test_dategen.flow_from_directory(\n",
    "    './test',\n",
    "    target_size=(150,150),\n",
    "    batch_size=5,\n",
    "    class_mode='binary'\n",
    ")"
   ]
  },
  {
   "cell_type": "code",
   "execution_count": null,
   "metadata": {
    "colab": {
     "base_uri": "https://localhost:8080/"
    },
    "executionInfo": {
     "elapsed": 908,
     "status": "ok",
     "timestamp": 1647857021104,
     "user": {
      "displayName": "박건후",
      "photoUrl": "https://lh3.googleusercontent.com/a-/AOh14GhaYtZyjr6hcOW1YyRrTjn2cFNOnuoxbGXifFqT=s64",
      "userId": "00163064144750334353"
     },
     "user_tz": -540
    },
    "id": "PWMM2ou7QbTC",
    "outputId": "5847a3e9-ba14-4897-a7f5-6d615a7eecf1"
   },
   "outputs": [
    {
     "name": "stdout",
     "output_type": "stream",
     "text": [
      "Model: \"sequential\"\n",
      "_________________________________________________________________\n",
      " Layer (type)                Output Shape              Param #   \n",
      "=================================================================\n",
      " conv2d (Conv2D)             (None, 148, 148, 32)      896       \n",
      "                                                                 \n",
      " activation (Activation)     (None, 148, 148, 32)      0         \n",
      "                                                                 \n",
      " max_pooling2d (MaxPooling2D  (None, 74, 74, 32)       0         \n",
      " )                                                               \n",
      "                                                                 \n",
      " conv2d_1 (Conv2D)           (None, 72, 72, 32)        9248      \n",
      "                                                                 \n",
      " activation_1 (Activation)   (None, 72, 72, 32)        0         \n",
      "                                                                 \n",
      " max_pooling2d_1 (MaxPooling  (None, 36, 36, 32)       0         \n",
      " 2D)                                                             \n",
      "                                                                 \n",
      " conv2d_2 (Conv2D)           (None, 34, 34, 64)        18496     \n",
      "                                                                 \n",
      " activation_2 (Activation)   (None, 34, 34, 64)        0         \n",
      "                                                                 \n",
      " max_pooling2d_2 (MaxPooling  (None, 17, 17, 64)       0         \n",
      " 2D)                                                             \n",
      "                                                                 \n",
      " flatten (Flatten)           (None, 18496)             0         \n",
      "                                                                 \n",
      " dense (Dense)               (None, 64)                1183808   \n",
      "                                                                 \n",
      " activation_3 (Activation)   (None, 64)                0         \n",
      "                                                                 \n",
      " dropout (Dropout)           (None, 64)                0         \n",
      "                                                                 \n",
      " dense_1 (Dense)             (None, 2)                 130       \n",
      "                                                                 \n",
      " activation_4 (Activation)   (None, 2)                 0         \n",
      "                                                                 \n",
      "=================================================================\n",
      "Total params: 1,212,578\n",
      "Trainable params: 1,212,578\n",
      "Non-trainable params: 0\n",
      "_________________________________________________________________\n"
     ]
    }
   ],
   "source": [
    "model = Sequential()\n",
    "model.add(Conv2D(32, (3,3), input_shape=(150, 150, 3)))\n",
    "model.add(Activation('relu'))\n",
    "model.add(MaxPooling2D(pool_size=(2,2)))\n",
    "\n",
    "model.add(Conv2D(32, (3, 3)))\n",
    "model.add(Activation('relu'))\n",
    "model.add(MaxPooling2D(pool_size=(2,2)))\n",
    "\n",
    "model.add(Conv2D(64, (3, 3)))\n",
    "model.add(Activation('relu'))\n",
    "model.add(MaxPooling2D(pool_size=(2,2)))\n",
    "\n",
    "model.add(Flatten())\n",
    "model.add(Dense(64))\n",
    "model.add(Activation('relu'))\n",
    "model.add(Dropout(0.5))\n",
    "model.add(Dense(2))\n",
    "model.add(Activation('softmax'))\n",
    "model.summary()"
   ]
  },
  {
   "cell_type": "code",
   "execution_count": null,
   "metadata": {
    "id": "AQilhEPlbI2P"
   },
   "outputs": [],
   "source": [
    "# y(label) : binary\n",
    "# abnorbal, normal : 0, 1\n",
    "\n",
    "# y(label) : one_hot\n",
    "# normal : [1, 0]\n",
    "# abnormal : [0, 1]\n",
    "\n",
    "# y(label) : 0, 1, 2, 3 ... => 'sqarse_categorical_crossentropy'"
   ]
  },
  {
   "cell_type": "code",
   "execution_count": null,
   "metadata": {
    "id": "MrUHALWrSA3B"
   },
   "outputs": [],
   "source": [
    "adam = optimizers.Adam(learning_rate=0.0002)\n",
    "model.compile(loss='sparse_categorical_crossentropy', optimizer=adam, metrics=['accuracy'])"
   ]
  },
  {
   "cell_type": "code",
   "execution_count": null,
   "metadata": {
    "colab": {
     "base_uri": "https://localhost:8080/"
    },
    "executionInfo": {
     "elapsed": 230012,
     "status": "ok",
     "timestamp": 1647857251112,
     "user": {
      "displayName": "박건후",
      "photoUrl": "https://lh3.googleusercontent.com/a-/AOh14GhaYtZyjr6hcOW1YyRrTjn2cFNOnuoxbGXifFqT=s64",
      "userId": "00163064144750334353"
     },
     "user_tz": -540
    },
    "id": "4yOjNfPWV2mf",
    "outputId": "4edabec4-024d-4085-84ad-44085e0d0de1"
   },
   "outputs": [
    {
     "name": "stdout",
     "output_type": "stream",
     "text": [
      "Epoch 1/20\n",
      "32/32 [==============================] - 64s 2s/step - loss: 0.6881 - accuracy: 0.5188 - val_loss: 0.7430 - val_accuracy: 0.5000\n",
      "Epoch 2/20\n",
      "32/32 [==============================] - 9s 286ms/step - loss: 0.7061 - accuracy: 0.4375 - val_loss: 0.6985 - val_accuracy: 0.5000\n",
      "Epoch 3/20\n",
      "32/32 [==============================] - 7s 217ms/step - loss: 0.6936 - accuracy: 0.5250 - val_loss: 0.6876 - val_accuracy: 0.4900\n",
      "Epoch 4/20\n",
      "32/32 [==============================] - 6s 199ms/step - loss: 0.6885 - accuracy: 0.5625 - val_loss: 0.6857 - val_accuracy: 0.4900\n",
      "Epoch 5/20\n",
      "32/32 [==============================] - 7s 233ms/step - loss: 0.6782 - accuracy: 0.6062 - val_loss: 0.6924 - val_accuracy: 0.4800\n",
      "Epoch 6/20\n",
      "32/32 [==============================] - 6s 193ms/step - loss: 0.6771 - accuracy: 0.5562 - val_loss: 0.6996 - val_accuracy: 0.4800\n",
      "Epoch 7/20\n",
      "32/32 [==============================] - 6s 193ms/step - loss: 0.6665 - accuracy: 0.5813 - val_loss: 0.6648 - val_accuracy: 0.5100\n",
      "Epoch 8/20\n",
      "32/32 [==============================] - 6s 197ms/step - loss: 0.6297 - accuracy: 0.6938 - val_loss: 0.6170 - val_accuracy: 0.6400\n",
      "Epoch 9/20\n",
      "32/32 [==============================] - 6s 198ms/step - loss: 0.6241 - accuracy: 0.6125 - val_loss: 0.5894 - val_accuracy: 0.6600\n",
      "Epoch 10/20\n",
      "32/32 [==============================] - 6s 195ms/step - loss: 0.5914 - accuracy: 0.7063 - val_loss: 0.5524 - val_accuracy: 0.8200\n",
      "Epoch 11/20\n",
      "32/32 [==============================] - 6s 194ms/step - loss: 0.5313 - accuracy: 0.7875 - val_loss: 0.5701 - val_accuracy: 0.6600\n",
      "Epoch 12/20\n",
      "32/32 [==============================] - 6s 194ms/step - loss: 0.5290 - accuracy: 0.7312 - val_loss: 0.5025 - val_accuracy: 0.7700\n",
      "Epoch 13/20\n",
      "32/32 [==============================] - 6s 197ms/step - loss: 0.4552 - accuracy: 0.8125 - val_loss: 0.6130 - val_accuracy: 0.6900\n",
      "Epoch 14/20\n",
      "32/32 [==============================] - 6s 196ms/step - loss: 0.4112 - accuracy: 0.8750 - val_loss: 0.5437 - val_accuracy: 0.7400\n",
      "Epoch 15/20\n",
      "32/32 [==============================] - 6s 195ms/step - loss: 0.3370 - accuracy: 0.8500 - val_loss: 0.3011 - val_accuracy: 0.8800\n",
      "Epoch 16/20\n",
      "32/32 [==============================] - 7s 204ms/step - loss: 0.3689 - accuracy: 0.8562 - val_loss: 0.4551 - val_accuracy: 0.7700\n",
      "Epoch 17/20\n",
      "32/32 [==============================] - 7s 202ms/step - loss: 0.2830 - accuracy: 0.9062 - val_loss: 0.6725 - val_accuracy: 0.7200\n",
      "Epoch 18/20\n",
      "32/32 [==============================] - 6s 198ms/step - loss: 0.3095 - accuracy: 0.8813 - val_loss: 0.3424 - val_accuracy: 0.8300\n",
      "Epoch 19/20\n",
      "32/32 [==============================] - 6s 196ms/step - loss: 0.2465 - accuracy: 0.8938 - val_loss: 0.2857 - val_accuracy: 0.8600\n",
      "Epoch 20/20\n",
      "32/32 [==============================] - 6s 196ms/step - loss: 0.2218 - accuracy: 0.9312 - val_loss: 0.3254 - val_accuracy: 0.8700\n"
     ]
    }
   ],
   "source": [
    "# fit_generator => fit\n",
    "# x,y 나누지 않고 파일 이름에 따라서 자동 라벨링\n",
    "hist = model.fit(\n",
    "    train_generator,\n",
    "    #steps_per_epoch=100,\n",
    "    epochs=20,\n",
    "    validation_data = test_generator,\n",
    "    validation_steps = 20\n",
    ")"
   ]
  },
  {
   "cell_type": "code",
   "execution_count": null,
   "metadata": {
    "colab": {
     "base_uri": "https://localhost:8080/",
     "height": 265
    },
    "executionInfo": {
     "elapsed": 14,
     "status": "ok",
     "timestamp": 1647857251643,
     "user": {
      "displayName": "박건후",
      "photoUrl": "https://lh3.googleusercontent.com/a-/AOh14GhaYtZyjr6hcOW1YyRrTjn2cFNOnuoxbGXifFqT=s64",
      "userId": "00163064144750334353"
     },
     "user_tz": -540
    },
    "id": "nAsooExIWyj-",
    "outputId": "7e9229ee-2a92-403b-a42d-8bb3f91fd192"
   },
   "outputs": [
    {
     "data": {
      "image/png": "[encoded data removed]",
      "text/plain": [
       "<Figure size 432x288 with 1 Axes>"
      ]
     },
     "metadata": {
      "needs_background": "light"
     },
     "output_type": "display_data"
    }
   ],
   "source": [
    "acc = hist.history['accuracy']\n",
    "val_acc = hist.history['val_accuracy']\n",
    "loss = hist.history['loss']\n",
    "val_loss = hist.history['val_loss']\n",
    "x_len = np.arange(len(loss))\n",
    "plt.plot(x_len, acc, marker='.', c='red', label='Train_Acc')\n",
    "plt.plot(x_len, val_acc, marker='.', c='lightcoral', label='Testtest_Acc')\n",
    "plt.plot(x_len, loss, marker='.', c='cornflowerblue', label='Train_Loss')\n",
    "plt.plot(x_len, val_loss, marker='.', c='blue', label='Test_Lose')\n",
    "\n",
    "plt.legend()\n",
    "plt.grid()\n",
    "plt.show()"
   ]
  },
  {
   "cell_type": "code",
   "execution_count": null,
   "metadata": {
    "id": "W03Lcg6hZMUm"
   },
   "outputs": [],
   "source": []
  },
  {
   "cell_type": "code",
   "execution_count": null,
   "metadata": {
    "id": "Nz97T5jGcTTN"
   },
   "outputs": [],
   "source": [
    "from tensorflow.keras.applications import VGG16"
   ]
  },
  {
   "cell_type": "code",
   "execution_count": null,
   "metadata": {
    "colab": {
     "base_uri": "https://localhost:8080/"
    },
    "executionInfo": {
     "elapsed": 1013,
     "status": "ok",
     "timestamp": 1647857252651,
     "user": {
      "displayName": "박건후",
      "photoUrl": "https://lh3.googleusercontent.com/a-/AOh14GhaYtZyjr6hcOW1YyRrTjn2cFNOnuoxbGXifFqT=s64",
      "userId": "00163064144750334353"
     },
     "user_tz": -540
    },
    "id": "0S2uI7cBcatN",
    "outputId": "6b1bf772-bb0c-4bab-b3c3-42162c0b9f2d"
   },
   "outputs": [
    {
     "name": "stdout",
     "output_type": "stream",
     "text": [
      "Downloading data from https://storage.googleapis.com/tensorflow/keras-applications/vgg16/vgg16_weights_tf_dim_ordering_tf_kernels_notop.h5\n",
      "58892288/58889256 [==============================] - 0s 0us/step\n",
      "58900480/58889256 [==============================] - 0s 0us/step\n",
      "Model: \"vgg16\"\n",
      "_________________________________________________________________\n",
      " Layer (type)                Output Shape              Param #   \n",
      "=================================================================\n",
      " input_1 (InputLayer)        [(None, 150, 150, 3)]     0         \n",
      "                                                                 \n",
      " block1_conv1 (Conv2D)       (None, 150, 150, 64)      1792      \n",
      "                                                                 \n",
      " block1_conv2 (Conv2D)       (None, 150, 150, 64)      36928     \n",
      "                                                                 \n",
      " block1_pool (MaxPooling2D)  (None, 75, 75, 64)        0         \n",
      "                                                                 \n",
      " block2_conv1 (Conv2D)       (None, 75, 75, 128)       73856     \n",
      "                                                                 \n",
      " block2_conv2 (Conv2D)       (None, 75, 75, 128)       147584    \n",
      "                                                                 \n",
      " block2_pool (MaxPooling2D)  (None, 37, 37, 128)       0         \n",
      "                                                                 \n",
      " block3_conv1 (Conv2D)       (None, 37, 37, 256)       295168    \n",
      "                                                                 \n",
      " block3_conv2 (Conv2D)       (None, 37, 37, 256)       590080    \n",
      "                                                                 \n",
      " block3_conv3 (Conv2D)       (None, 37, 37, 256)       590080    \n",
      "                                                                 \n",
      " block3_pool (MaxPooling2D)  (None, 18, 18, 256)       0         \n",
      "                                                                 \n",
      " block4_conv1 (Conv2D)       (None, 18, 18, 512)       1180160   \n",
      "                                                                 \n",
      " block4_conv2 (Conv2D)       (None, 18, 18, 512)       2359808   \n",
      "                                                                 \n",
      " block4_conv3 (Conv2D)       (None, 18, 18, 512)       2359808   \n",
      "                                                                 \n",
      " block4_pool (MaxPooling2D)  (None, 9, 9, 512)         0         \n",
      "                                                                 \n",
      " block5_conv1 (Conv2D)       (None, 9, 9, 512)         2359808   \n",
      "                                                                 \n",
      " block5_conv2 (Conv2D)       (None, 9, 9, 512)         2359808   \n",
      "                                                                 \n",
      " block5_conv3 (Conv2D)       (None, 9, 9, 512)         2359808   \n",
      "                                                                 \n",
      " block5_pool (MaxPooling2D)  (None, 4, 4, 512)         0         \n",
      "                                                                 \n",
      "=================================================================\n",
      "Total params: 14,714,688\n",
      "Trainable params: 0\n",
      "Non-trainable params: 14,714,688\n",
      "_________________________________________________________________\n"
     ]
    }
   ],
   "source": [
    "transfer_model = VGG16(weights ='imagenet', include_top=False, input_shape=(150,150,3))\n",
    "transfer_model.trainable = False\n",
    "transfer_model.summary()"
   ]
  },
  {
   "cell_type": "code",
   "execution_count": null,
   "metadata": {
    "colab": {
     "base_uri": "https://localhost:8080/"
    },
    "executionInfo": {
     "elapsed": 8,
     "status": "ok",
     "timestamp": 1647857252651,
     "user": {
      "displayName": "박건후",
      "photoUrl": "https://lh3.googleusercontent.com/a-/AOh14GhaYtZyjr6hcOW1YyRrTjn2cFNOnuoxbGXifFqT=s64",
      "userId": "00163064144750334353"
     },
     "user_tz": -540
    },
    "id": "zSk603-vcbAc",
    "outputId": "c8b38737-a089-4f2e-b448-29bfd6b1ccc2"
   },
   "outputs": [
    {
     "name": "stdout",
     "output_type": "stream",
     "text": [
      "Model: \"sequential_1\"\n",
      "_________________________________________________________________\n",
      " Layer (type)                Output Shape              Param #   \n",
      "=================================================================\n",
      " vgg16 (Functional)          (None, 4, 4, 512)         14714688  \n",
      "                                                                 \n",
      " flatten_1 (Flatten)         (None, 8192)              0         \n",
      "                                                                 \n",
      " dense_2 (Dense)             (None, 64)                524352    \n",
      "                                                                 \n",
      " dense_3 (Dense)             (None, 2)                 130       \n",
      "                                                                 \n",
      "=================================================================\n",
      "Total params: 15,239,170\n",
      "Trainable params: 524,482\n",
      "Non-trainable params: 14,714,688\n",
      "_________________________________________________________________\n"
     ]
    }
   ],
   "source": [
    "finetune_model = Sequential()\n",
    "finetune_model.add(transfer_model)\n",
    "finetune_model.add(Flatten())\n",
    "finetune_model.add(Dense(64, activation='relu'))\n",
    "finetune_model.add(Dense(2, activation='softmax'))\n",
    "finetune_model.summary()"
   ]
  },
  {
   "cell_type": "code",
   "execution_count": null,
   "metadata": {
    "id": "P0rWi6LncbG9"
   },
   "outputs": [],
   "source": [
    "finetune_model.compile(loss='sparse_categorical_crossentropy', optimizer=adam, metrics=['accuracy'])"
   ]
  },
  {
   "cell_type": "code",
   "execution_count": null,
   "metadata": {
    "colab": {
     "base_uri": "https://localhost:8080/"
    },
    "id": "A0fbjJTacbLd",
    "outputId": "8009c7bf-48a3-4683-c66b-a8610669d0ec"
   },
   "outputs": [
    {
     "name": "stdout",
     "output_type": "stream",
     "text": [
      "Epoch 1/50\n",
      "32/32 [==============================] - 38s 1s/step - loss: 0.7646 - accuracy: 0.6313 - val_loss: 0.4569 - val_accuracy: 0.8000\n",
      "Epoch 2/50\n",
      "32/32 [==============================] - 37s 1s/step - loss: 0.3595 - accuracy: 0.8750 - val_loss: 0.3741 - val_accuracy: 0.8500\n",
      "Epoch 3/50\n",
      "32/32 [==============================] - 37s 1s/step - loss: 0.3109 - accuracy: 0.8875 - val_loss: 0.5968 - val_accuracy: 0.7500\n",
      "Epoch 4/50\n",
      "32/32 [==============================] - 37s 1s/step - loss: 0.2266 - accuracy: 0.9187 - val_loss: 0.2878 - val_accuracy: 0.8500\n",
      "Epoch 5/50\n",
      "32/32 [==============================] - 37s 1s/step - loss: 0.1981 - accuracy: 0.9625 - val_loss: 0.6115 - val_accuracy: 0.7500\n",
      "Epoch 6/50\n",
      "32/32 [==============================] - 37s 1s/step - loss: 0.1892 - accuracy: 0.9500 - val_loss: 0.2136 - val_accuracy: 0.9000\n",
      "Epoch 7/50\n",
      "32/32 [==============================] - 36s 1s/step - loss: 0.1909 - accuracy: 0.9250 - val_loss: 0.2390 - val_accuracy: 0.9000\n",
      "Epoch 8/50\n",
      "32/32 [==============================] - 36s 1s/step - loss: 0.1715 - accuracy: 0.9500 - val_loss: 0.4714 - val_accuracy: 0.7500\n",
      "Epoch 9/50\n",
      "32/32 [==============================] - 36s 1s/step - loss: 0.1412 - accuracy: 0.9563 - val_loss: 0.2097 - val_accuracy: 0.9000\n",
      "Epoch 10/50\n",
      "32/32 [==============================] - 37s 1s/step - loss: 0.2586 - accuracy: 0.8875 - val_loss: 0.1515 - val_accuracy: 0.9000\n",
      "Epoch 11/50\n",
      "32/32 [==============================] - 37s 1s/step - loss: 0.1539 - accuracy: 0.9500 - val_loss: 0.1640 - val_accuracy: 0.9500\n",
      "Epoch 12/50\n",
      "32/32 [==============================] - 37s 1s/step - loss: 0.1813 - accuracy: 0.9500 - val_loss: 0.0409 - val_accuracy: 1.0000\n",
      "Epoch 13/50\n",
      "32/32 [==============================] - 37s 1s/step - loss: 0.1806 - accuracy: 0.9312 - val_loss: 0.0638 - val_accuracy: 1.0000\n",
      "Epoch 14/50\n",
      "32/32 [==============================] - 37s 1s/step - loss: 0.1420 - accuracy: 0.9438 - val_loss: 0.1938 - val_accuracy: 0.9000\n",
      "Epoch 15/50\n",
      "32/32 [==============================] - 37s 1s/step - loss: 0.1617 - accuracy: 0.9312 - val_loss: 0.1645 - val_accuracy: 0.9000\n",
      "Epoch 16/50\n",
      "32/32 [==============================] - 37s 1s/step - loss: 0.1370 - accuracy: 0.9375 - val_loss: 0.3376 - val_accuracy: 0.9500\n",
      "Epoch 17/50\n",
      "32/32 [==============================] - 36s 1s/step - loss: 0.1238 - accuracy: 0.9438 - val_loss: 0.2914 - val_accuracy: 0.9000\n",
      "Epoch 18/50\n",
      "32/32 [==============================] - 36s 1s/step - loss: 0.1280 - accuracy: 0.9625 - val_loss: 0.1467 - val_accuracy: 0.9500\n",
      "Epoch 19/50\n",
      "32/32 [==============================] - 36s 1s/step - loss: 0.1505 - accuracy: 0.9438 - val_loss: 0.2218 - val_accuracy: 0.9000\n",
      "Epoch 20/50\n",
      "12/32 [==========>...................] - ETA: 20s - loss: 0.2149 - accuracy: 0.9000"
     ]
    }
   ],
   "source": [
    "hist = finetune_model.fit(\n",
    "    train_generator,\n",
    "    epochs=50,\n",
    "    validation_data=test_generator,\n",
    "    validation_steps=4\n",
    ")"
   ]
  },
  {
   "cell_type": "code",
   "execution_count": null,
   "metadata": {
    "id": "fnC7VZrLcbqx"
   },
   "outputs": [],
   "source": [
    " "
   ]
  },
  {
   "cell_type": "code",
   "execution_count": null,
   "metadata": {
    "id": "7dzCJyd6cb8T"
   },
   "outputs": [],
   "source": []
  },
  {
   "cell_type": "code",
   "execution_count": null,
   "metadata": {
    "id": "_QzBhOTbccHM"
   },
   "outputs": [],
   "source": []
  },
  {
   "cell_type": "code",
   "execution_count": null,
   "metadata": {
    "id": "92Z6ixMtcceS"
   },
   "outputs": [],
   "source": []
  },
  {
   "cell_type": "code",
   "execution_count": null,
   "metadata": {
    "id": "SC8waJlgcclv"
   },
   "outputs": [],
   "source": []
  },
  {
   "cell_type": "code",
   "execution_count": null,
   "metadata": {
    "id": "HMUFuslYccsM"
   },
   "outputs": [],
   "source": []
  },
  {
   "cell_type": "code",
   "execution_count": null,
   "metadata": {
    "id": "KVIx-LX7cczu"
   },
   "outputs": [],
   "source": []
  }
 ],
 "metadata": {
  "colab": {
   "authorship_tag": "ABX9TyOS5ZW8/wra063dEMUizx5E",
   "collapsed_sections": [],
   "name": "brain_image.ipynb",
   "provenance": []
  },
  "kernelspec": {
   "display_name": "Python 3 (ipykernel)",
   "language": "python",
   "name": "python3"
  },
  "language_info": {
   "codemirror_mode": {
    "name": "ipython",
    "version": 3
   },
   "file_extension": ".py",
   "mimetype": "text/x-python",
   "name": "python",
   "nbconvert_exporter": "python",
   "pygments_lexer": "ipython3",
   "version": "3.9.7"
  }
 },
 "nbformat": 4,
 "nbformat_minor": 1
}
