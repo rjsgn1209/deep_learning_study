{
 "cells": [
  {
   "cell_type": "code",
   "execution_count": 52,
   "id": "cb1c79ee",
   "metadata": {},
   "outputs": [],
   "source": [
    "import pandas as pd \n",
    "import numpy as np\n",
    "import matplotlib.pyplot as plt\n",
    "import seaborn as sns\n",
    "\n",
    "from tensorflow.keras.models import *\n",
    "from tensorflow.keras.layers import *\n",
    "from sklearn.model_selection import train_test_split\n",
    "import tensorflow as tf"
   ]
  },
  {
   "cell_type": "code",
   "execution_count": 53,
   "id": "3b30e378",
   "metadata": {},
   "outputs": [],
   "source": [
    "df = pd.read_csv('./data/adult.txt', header=None, names = ['age', 'workclass','fnlwgt', 'education', 'education_num', 'marital_status', 'occupation', 'relationship', 'race'\\\n",
    ", 'sex', 'capital-gain', 'capital-loss', 'hours-per-week', 'native-country', '50k'])"
   ]
  },
  {
   "cell_type": "code",
   "execution_count": 54,
   "id": "15582323",
   "metadata": {},
   "outputs": [
    {
     "data": {
      "text/html": [
       "<div>\n",
       "<style scoped>\n",
       "    .dataframe tbody tr th:only-of-type {\n",
       "        vertical-align: middle;\n",
       "    }\n",
       "\n",
       "    .dataframe tbody tr th {\n",
       "        vertical-align: top;\n",
       "    }\n",
       "\n",
       "    .dataframe thead th {\n",
       "        text-align: right;\n",
       "    }\n",
       "</style>\n",
       "<table border=\"1\" class=\"dataframe\">\n",
       "  <thead>\n",
       "    <tr style=\"text-align: right;\">\n",
       "      <th></th>\n",
       "      <th>age</th>\n",
       "      <th>workclass</th>\n",
       "      <th>fnlwgt</th>\n",
       "      <th>education</th>\n",
       "      <th>education_num</th>\n",
       "      <th>marital_status</th>\n",
       "      <th>occupation</th>\n",
       "      <th>relationship</th>\n",
       "      <th>race</th>\n",
       "      <th>sex</th>\n",
       "      <th>capital-gain</th>\n",
       "      <th>capital-loss</th>\n",
       "      <th>hours-per-week</th>\n",
       "      <th>native-country</th>\n",
       "      <th>50k</th>\n",
       "    </tr>\n",
       "  </thead>\n",
       "  <tbody>\n",
       "    <tr>\n",
       "      <th>0</th>\n",
       "      <td>39</td>\n",
       "      <td>State-gov</td>\n",
       "      <td>77516</td>\n",
       "      <td>Bachelors</td>\n",
       "      <td>13</td>\n",
       "      <td>Never-married</td>\n",
       "      <td>Adm-clerical</td>\n",
       "      <td>Not-in-family</td>\n",
       "      <td>White</td>\n",
       "      <td>Male</td>\n",
       "      <td>2174</td>\n",
       "      <td>0</td>\n",
       "      <td>40</td>\n",
       "      <td>United-States</td>\n",
       "      <td>&lt;=50K</td>\n",
       "    </tr>\n",
       "    <tr>\n",
       "      <th>1</th>\n",
       "      <td>50</td>\n",
       "      <td>Self-emp-not-inc</td>\n",
       "      <td>83311</td>\n",
       "      <td>Bachelors</td>\n",
       "      <td>13</td>\n",
       "      <td>Married-civ-spouse</td>\n",
       "      <td>Exec-managerial</td>\n",
       "      <td>Husband</td>\n",
       "      <td>White</td>\n",
       "      <td>Male</td>\n",
       "      <td>0</td>\n",
       "      <td>0</td>\n",
       "      <td>13</td>\n",
       "      <td>United-States</td>\n",
       "      <td>&lt;=50K</td>\n",
       "    </tr>\n",
       "    <tr>\n",
       "      <th>2</th>\n",
       "      <td>38</td>\n",
       "      <td>Private</td>\n",
       "      <td>215646</td>\n",
       "      <td>HS-grad</td>\n",
       "      <td>9</td>\n",
       "      <td>Divorced</td>\n",
       "      <td>Handlers-cleaners</td>\n",
       "      <td>Not-in-family</td>\n",
       "      <td>White</td>\n",
       "      <td>Male</td>\n",
       "      <td>0</td>\n",
       "      <td>0</td>\n",
       "      <td>40</td>\n",
       "      <td>United-States</td>\n",
       "      <td>&lt;=50K</td>\n",
       "    </tr>\n",
       "    <tr>\n",
       "      <th>3</th>\n",
       "      <td>53</td>\n",
       "      <td>Private</td>\n",
       "      <td>234721</td>\n",
       "      <td>11th</td>\n",
       "      <td>7</td>\n",
       "      <td>Married-civ-spouse</td>\n",
       "      <td>Handlers-cleaners</td>\n",
       "      <td>Husband</td>\n",
       "      <td>Black</td>\n",
       "      <td>Male</td>\n",
       "      <td>0</td>\n",
       "      <td>0</td>\n",
       "      <td>40</td>\n",
       "      <td>United-States</td>\n",
       "      <td>&lt;=50K</td>\n",
       "    </tr>\n",
       "    <tr>\n",
       "      <th>4</th>\n",
       "      <td>28</td>\n",
       "      <td>Private</td>\n",
       "      <td>338409</td>\n",
       "      <td>Bachelors</td>\n",
       "      <td>13</td>\n",
       "      <td>Married-civ-spouse</td>\n",
       "      <td>Prof-specialty</td>\n",
       "      <td>Wife</td>\n",
       "      <td>Black</td>\n",
       "      <td>Female</td>\n",
       "      <td>0</td>\n",
       "      <td>0</td>\n",
       "      <td>40</td>\n",
       "      <td>Cuba</td>\n",
       "      <td>&lt;=50K</td>\n",
       "    </tr>\n",
       "  </tbody>\n",
       "</table>\n",
       "</div>"
      ],
      "text/plain": [
       "   age          workclass  fnlwgt   education  education_num  \\\n",
       "0   39          State-gov   77516   Bachelors             13   \n",
       "1   50   Self-emp-not-inc   83311   Bachelors             13   \n",
       "2   38            Private  215646     HS-grad              9   \n",
       "3   53            Private  234721        11th              7   \n",
       "4   28            Private  338409   Bachelors             13   \n",
       "\n",
       "        marital_status          occupation    relationship    race      sex  \\\n",
       "0        Never-married        Adm-clerical   Not-in-family   White     Male   \n",
       "1   Married-civ-spouse     Exec-managerial         Husband   White     Male   \n",
       "2             Divorced   Handlers-cleaners   Not-in-family   White     Male   \n",
       "3   Married-civ-spouse   Handlers-cleaners         Husband   Black     Male   \n",
       "4   Married-civ-spouse      Prof-specialty            Wife   Black   Female   \n",
       "\n",
       "   capital-gain  capital-loss  hours-per-week  native-country     50k  \n",
       "0          2174             0              40   United-States   <=50K  \n",
       "1             0             0              13   United-States   <=50K  \n",
       "2             0             0              40   United-States   <=50K  \n",
       "3             0             0              40   United-States   <=50K  \n",
       "4             0             0              40            Cuba   <=50K  "
      ]
     },
     "execution_count": 54,
     "metadata": {},
     "output_type": "execute_result"
    }
   ],
   "source": [
    "df.head()"
   ]
  },
  {
   "cell_type": "code",
   "execution_count": 31,
   "id": "b279f013",
   "metadata": {},
   "outputs": [
    {
     "name": "stdout",
     "output_type": "stream",
     "text": [
      "<class 'pandas.core.frame.DataFrame'>\n",
      "RangeIndex: 32561 entries, 0 to 32560\n",
      "Data columns (total 15 columns):\n",
      " #   Column          Non-Null Count  Dtype \n",
      "---  ------          --------------  ----- \n",
      " 0   age             32561 non-null  int64 \n",
      " 1   workclass       32561 non-null  object\n",
      " 2   fnlwgt          32561 non-null  int64 \n",
      " 3   education       32561 non-null  object\n",
      " 4   education_num   32561 non-null  int64 \n",
      " 5   marital_status  32561 non-null  object\n",
      " 6   occupation      32561 non-null  object\n",
      " 7   relationship    32561 non-null  object\n",
      " 8   race            32561 non-null  object\n",
      " 9   sex             32561 non-null  object\n",
      " 10  capital-gain    32561 non-null  int64 \n",
      " 11  capital-loss    32561 non-null  int64 \n",
      " 12  hours-per-week  32561 non-null  int64 \n",
      " 13  native-country  32561 non-null  object\n",
      " 14  50k             32561 non-null  object\n",
      "dtypes: int64(6), object(9)\n",
      "memory usage: 3.7+ MB\n"
     ]
    }
   ],
   "source": [
    "df.info()"
   ]
  },
  {
   "cell_type": "code",
   "execution_count": null,
   "id": "3622e975",
   "metadata": {},
   "outputs": [],
   "source": []
  },
  {
   "cell_type": "code",
   "execution_count": 32,
   "id": "abedd5d7",
   "metadata": {},
   "outputs": [],
   "source": [
    "y = df['50k'] = df['50k'].apply(lambda x: 1 if x == ' >50K' else 0)\n",
    "x = df.iloc[:, :14]"
   ]
  },
  {
   "cell_type": "code",
   "execution_count": 33,
   "id": "18186ca8",
   "metadata": {},
   "outputs": [],
   "source": [
    "x = pd.get_dummies(x)"
   ]
  },
  {
   "cell_type": "code",
   "execution_count": 34,
   "id": "86b7b5b5",
   "metadata": {},
   "outputs": [],
   "source": [
    "y = tf.keras.utils.to_categorical(y)"
   ]
  },
  {
   "cell_type": "code",
   "execution_count": 35,
   "id": "9460436f",
   "metadata": {
    "scrolled": true
   },
   "outputs": [
    {
     "data": {
      "text/plain": [
       "array([[1., 0.],\n",
       "       [1., 0.],\n",
       "       [1., 0.],\n",
       "       ...,\n",
       "       [1., 0.],\n",
       "       [1., 0.],\n",
       "       [0., 1.]], dtype=float32)"
      ]
     },
     "execution_count": 35,
     "metadata": {},
     "output_type": "execute_result"
    }
   ],
   "source": [
    "y"
   ]
  },
  {
   "cell_type": "code",
   "execution_count": 36,
   "id": "b5bb596e",
   "metadata": {},
   "outputs": [],
   "source": [
    "x_train, x_test, y_train, y_test = train_test_split(x, y, test_size=0.3, random_state=111)"
   ]
  },
  {
   "cell_type": "code",
   "execution_count": 37,
   "id": "a820074f",
   "metadata": {},
   "outputs": [],
   "source": [
    "from sklearn.preprocessing import StandardScaler\n",
    "scaler = StandardScaler()\n",
    "scaler.fit(x_train)\n",
    "\n",
    "x_train_sc = scaler.transform(x_train)\n",
    "x_test_sc = scaler.transform(x_test)"
   ]
  },
  {
   "cell_type": "code",
   "execution_count": 38,
   "id": "58b42745",
   "metadata": {},
   "outputs": [
    {
     "data": {
      "text/plain": [
       "(22792, 108)"
      ]
     },
     "execution_count": 38,
     "metadata": {},
     "output_type": "execute_result"
    }
   ],
   "source": [
    "x_train.shape"
   ]
  },
  {
   "cell_type": "code",
   "execution_count": null,
   "id": "ff3e13b4",
   "metadata": {},
   "outputs": [],
   "source": []
  },
  {
   "cell_type": "code",
   "execution_count": 39,
   "id": "00110bb9",
   "metadata": {},
   "outputs": [],
   "source": [
    "# deep learning model을 생성하고 "
   ]
  },
  {
   "cell_type": "code",
   "execution_count": 40,
   "id": "4af6cd30",
   "metadata": {},
   "outputs": [
    {
     "name": "stdout",
     "output_type": "stream",
     "text": [
      "Model: \"sequential_1\"\n",
      "_________________________________________________________________\n",
      " Layer (type)                Output Shape              Param #   \n",
      "=================================================================\n",
      " dense_5 (Dense)             (None, 256)               27904     \n",
      "                                                                 \n",
      " dropout_4 (Dropout)         (None, 256)               0         \n",
      "                                                                 \n",
      " dense_6 (Dense)             (None, 128)               32896     \n",
      "                                                                 \n",
      " dropout_5 (Dropout)         (None, 128)               0         \n",
      "                                                                 \n",
      " dense_7 (Dense)             (None, 56)                7224      \n",
      "                                                                 \n",
      " dropout_6 (Dropout)         (None, 56)                0         \n",
      "                                                                 \n",
      " dense_8 (Dense)             (None, 28)                1596      \n",
      "                                                                 \n",
      " dropout_7 (Dropout)         (None, 28)                0         \n",
      "                                                                 \n",
      " dense_9 (Dense)             (None, 2)                 58        \n",
      "                                                                 \n",
      "=================================================================\n",
      "Total params: 69,678\n",
      "Trainable params: 69,678\n",
      "Non-trainable params: 0\n",
      "_________________________________________________________________\n"
     ]
    }
   ],
   "source": [
    "model = Sequential()\n",
    "model.add(Dense(256, activation='relu', input_dim=108))\n",
    "model.add(Dropout(0.3))\n",
    "model.add(Dense(128, activation='relu'))\n",
    "model.add(Dropout(0.3))\n",
    "model.add(Dense(56, activation='relu'))\n",
    "model.add(Dropout(0.3))\n",
    "model.add(Dense(28, activation='relu'))\n",
    "model.add(Dropout(0.3))\n",
    "model.add(Dense(2, activation='softmax'))  # multi_classification\n",
    "model.summary()"
   ]
  },
  {
   "cell_type": "code",
   "execution_count": 41,
   "id": "cd51bab2",
   "metadata": {},
   "outputs": [],
   "source": [
    "model.compile(loss='binary_crossentropy', metrics = ['accuracy'], optimizer='adam')"
   ]
  },
  {
   "cell_type": "code",
   "execution_count": 42,
   "id": "a1f99690",
   "metadata": {
    "scrolled": false
   },
   "outputs": [
    {
     "name": "stdout",
     "output_type": "stream",
     "text": [
      "Epoch 1/50\n",
      "912/912 [==============================] - 2s 1ms/step - loss: 0.3924 - accuracy: 0.8205 - val_loss: 0.3249 - val_accuracy: 0.8491\n",
      "Epoch 2/50\n",
      "912/912 [==============================] - 1s 1ms/step - loss: 0.3468 - accuracy: 0.8413 - val_loss: 0.3104 - val_accuracy: 0.8561\n",
      "Epoch 3/50\n",
      "912/912 [==============================] - 1s 1ms/step - loss: 0.3349 - accuracy: 0.8466 - val_loss: 0.3063 - val_accuracy: 0.8557\n",
      "Epoch 4/50\n",
      "912/912 [==============================] - 1s 1ms/step - loss: 0.3264 - accuracy: 0.8504 - val_loss: 0.3072 - val_accuracy: 0.8601\n",
      "Epoch 5/50\n",
      "912/912 [==============================] - 1s 1ms/step - loss: 0.3200 - accuracy: 0.8526 - val_loss: 0.3120 - val_accuracy: 0.8601\n",
      "Epoch 6/50\n",
      "912/912 [==============================] - 1s 1ms/step - loss: 0.3160 - accuracy: 0.8531 - val_loss: 0.3075 - val_accuracy: 0.8620\n",
      "Epoch 7/50\n",
      "912/912 [==============================] - 1s 1ms/step - loss: 0.3140 - accuracy: 0.8567 - val_loss: 0.3062 - val_accuracy: 0.8568\n",
      "Epoch 8/50\n",
      "912/912 [==============================] - 1s 1ms/step - loss: 0.3114 - accuracy: 0.8565 - val_loss: 0.2995 - val_accuracy: 0.8601\n",
      "Epoch 9/50\n",
      "912/912 [==============================] - 1s 1ms/step - loss: 0.3055 - accuracy: 0.8607 - val_loss: 0.3124 - val_accuracy: 0.8590\n",
      "Epoch 10/50\n",
      "912/912 [==============================] - 1s 1ms/step - loss: 0.3036 - accuracy: 0.8595 - val_loss: 0.3061 - val_accuracy: 0.8594\n",
      "Epoch 11/50\n",
      "912/912 [==============================] - 1s 1ms/step - loss: 0.3016 - accuracy: 0.8622 - val_loss: 0.3071 - val_accuracy: 0.8570\n",
      "Epoch 12/50\n",
      "912/912 [==============================] - 1s 1ms/step - loss: 0.2974 - accuracy: 0.8627 - val_loss: 0.3067 - val_accuracy: 0.8592\n",
      "Epoch 13/50\n",
      "912/912 [==============================] - 1s 1ms/step - loss: 0.2955 - accuracy: 0.8638 - val_loss: 0.3081 - val_accuracy: 0.8609\n",
      "Epoch 14/50\n",
      "912/912 [==============================] - 1s 1ms/step - loss: 0.2944 - accuracy: 0.8662 - val_loss: 0.3136 - val_accuracy: 0.8581\n",
      "Epoch 15/50\n",
      "912/912 [==============================] - 1s 1ms/step - loss: 0.2901 - accuracy: 0.8672 - val_loss: 0.3112 - val_accuracy: 0.8590\n",
      "Epoch 16/50\n",
      "912/912 [==============================] - 1s 1ms/step - loss: 0.2864 - accuracy: 0.8679 - val_loss: 0.3108 - val_accuracy: 0.8594\n",
      "Epoch 17/50\n",
      "912/912 [==============================] - 1s 1ms/step - loss: 0.2844 - accuracy: 0.8682 - val_loss: 0.3110 - val_accuracy: 0.8574\n",
      "Epoch 18/50\n",
      "912/912 [==============================] - 1s 1ms/step - loss: 0.2849 - accuracy: 0.8700 - val_loss: 0.3101 - val_accuracy: 0.8592\n",
      "Epoch 19/50\n",
      "912/912 [==============================] - 1s 1ms/step - loss: 0.2812 - accuracy: 0.8700 - val_loss: 0.3141 - val_accuracy: 0.8561\n",
      "Epoch 20/50\n",
      "912/912 [==============================] - 1s 1ms/step - loss: 0.2804 - accuracy: 0.8716 - val_loss: 0.3170 - val_accuracy: 0.8546\n",
      "Epoch 21/50\n",
      "912/912 [==============================] - 1s 1ms/step - loss: 0.2767 - accuracy: 0.8695 - val_loss: 0.3339 - val_accuracy: 0.8557\n",
      "Epoch 22/50\n",
      "912/912 [==============================] - 1s 1ms/step - loss: 0.2779 - accuracy: 0.8720 - val_loss: 0.3194 - val_accuracy: 0.8598\n",
      "Epoch 23/50\n",
      "912/912 [==============================] - 1s 1ms/step - loss: 0.2733 - accuracy: 0.8743 - val_loss: 0.3244 - val_accuracy: 0.8528\n",
      "Epoch 24/50\n",
      "912/912 [==============================] - 1s 1ms/step - loss: 0.2738 - accuracy: 0.8727 - val_loss: 0.3306 - val_accuracy: 0.8563\n",
      "Epoch 25/50\n",
      "912/912 [==============================] - 1s 1ms/step - loss: 0.2693 - accuracy: 0.8748 - val_loss: 0.3236 - val_accuracy: 0.8546\n",
      "Epoch 26/50\n",
      "912/912 [==============================] - 1s 1ms/step - loss: 0.2674 - accuracy: 0.8751 - val_loss: 0.3332 - val_accuracy: 0.8601\n",
      "Epoch 27/50\n",
      "912/912 [==============================] - 1s 1ms/step - loss: 0.2694 - accuracy: 0.8745 - val_loss: 0.3376 - val_accuracy: 0.8559\n",
      "Epoch 28/50\n",
      "912/912 [==============================] - 1s 1ms/step - loss: 0.2640 - accuracy: 0.8776 - val_loss: 0.3373 - val_accuracy: 0.8533\n",
      "Epoch 29/50\n",
      "912/912 [==============================] - 1s 1ms/step - loss: 0.2653 - accuracy: 0.8763 - val_loss: 0.3473 - val_accuracy: 0.8546\n",
      "Epoch 30/50\n",
      "912/912 [==============================] - 1s 1ms/step - loss: 0.2633 - accuracy: 0.8760 - val_loss: 0.3376 - val_accuracy: 0.8548\n",
      "Epoch 31/50\n",
      "912/912 [==============================] - 1s 1ms/step - loss: 0.2598 - accuracy: 0.8796 - val_loss: 0.3607 - val_accuracy: 0.8506\n",
      "Epoch 32/50\n",
      "912/912 [==============================] - 1s 1ms/step - loss: 0.2585 - accuracy: 0.8773 - val_loss: 0.3398 - val_accuracy: 0.8491\n",
      "Epoch 33/50\n",
      "912/912 [==============================] - 1s 1ms/step - loss: 0.2571 - accuracy: 0.8785 - val_loss: 0.3498 - val_accuracy: 0.8552\n",
      "Epoch 34/50\n",
      "912/912 [==============================] - 1s 2ms/step - loss: 0.2537 - accuracy: 0.8809 - val_loss: 0.3432 - val_accuracy: 0.8508\n",
      "Epoch 35/50\n",
      "912/912 [==============================] - 1s 1ms/step - loss: 0.2553 - accuracy: 0.8784 - val_loss: 0.3536 - val_accuracy: 0.8519\n",
      "Epoch 36/50\n",
      "912/912 [==============================] - 1s 1ms/step - loss: 0.2536 - accuracy: 0.8799 - val_loss: 0.3425 - val_accuracy: 0.8524\n",
      "Epoch 37/50\n",
      "912/912 [==============================] - 1s 1ms/step - loss: 0.2559 - accuracy: 0.8825 - val_loss: 0.3629 - val_accuracy: 0.8546\n",
      "Epoch 38/50\n",
      "912/912 [==============================] - 1s 1ms/step - loss: 0.2518 - accuracy: 0.8843 - val_loss: 0.3414 - val_accuracy: 0.8517\n",
      "Epoch 39/50\n",
      "912/912 [==============================] - 1s 1ms/step - loss: 0.2491 - accuracy: 0.8835 - val_loss: 0.3551 - val_accuracy: 0.8497\n",
      "Epoch 40/50\n",
      "912/912 [==============================] - 1s 1ms/step - loss: 0.2506 - accuracy: 0.8841 - val_loss: 0.3676 - val_accuracy: 0.8528\n",
      "Epoch 41/50\n",
      "912/912 [==============================] - 1s 1ms/step - loss: 0.2478 - accuracy: 0.8835 - val_loss: 0.3549 - val_accuracy: 0.8500\n",
      "Epoch 42/50\n",
      "912/912 [==============================] - 1s 1ms/step - loss: 0.2467 - accuracy: 0.8835 - val_loss: 0.3688 - val_accuracy: 0.8484\n",
      "Epoch 43/50\n",
      "912/912 [==============================] - 1s 1ms/step - loss: 0.2452 - accuracy: 0.8878 - val_loss: 0.3738 - val_accuracy: 0.8526\n",
      "Epoch 44/50\n",
      "912/912 [==============================] - 1s 1ms/step - loss: 0.2430 - accuracy: 0.8866 - val_loss: 0.4178 - val_accuracy: 0.8469\n",
      "Epoch 45/50\n",
      "912/912 [==============================] - 1s 1ms/step - loss: 0.2433 - accuracy: 0.8873 - val_loss: 0.3805 - val_accuracy: 0.8495\n",
      "Epoch 46/50\n",
      "912/912 [==============================] - 1s 1ms/step - loss: 0.2426 - accuracy: 0.8876 - val_loss: 0.3920 - val_accuracy: 0.8519\n",
      "Epoch 47/50\n",
      "912/912 [==============================] - 1s 1ms/step - loss: 0.2393 - accuracy: 0.8886 - val_loss: 0.4125 - val_accuracy: 0.8508\n",
      "Epoch 48/50\n",
      "912/912 [==============================] - 1s 1ms/step - loss: 0.2411 - accuracy: 0.8883 - val_loss: 0.4001 - val_accuracy: 0.8504\n",
      "Epoch 49/50\n",
      "912/912 [==============================] - 1s 1ms/step - loss: 0.2389 - accuracy: 0.8882 - val_loss: 0.4007 - val_accuracy: 0.8497\n",
      "Epoch 50/50\n",
      "912/912 [==============================] - 1s 1ms/step - loss: 0.2375 - accuracy: 0.8895 - val_loss: 0.4325 - val_accuracy: 0.8515\n"
     ]
    }
   ],
   "source": [
    "hist = model.fit(x_train_sc, y_train, validation_split=0.2, epochs=50, batch_size=20)"
   ]
  },
  {
   "cell_type": "code",
   "execution_count": null,
   "id": "f37977ff",
   "metadata": {},
   "outputs": [],
   "source": []
  },
  {
   "cell_type": "code",
   "execution_count": 46,
   "id": "4c8d1913",
   "metadata": {},
   "outputs": [
    {
     "name": "stdout",
     "output_type": "stream",
     "text": [
      "306/306 [==============================] - 0s 757us/step - loss: 0.5097 - accuracy: 0.8457\n"
     ]
    },
    {
     "data": {
      "text/plain": [
       "[0.5096869468688965, 0.8457365036010742]"
      ]
     },
     "execution_count": 46,
     "metadata": {},
     "output_type": "execute_result"
    }
   ],
   "source": [
    "model.evaluate(x_test_sc, y_test)"
   ]
  },
  {
   "cell_type": "code",
   "execution_count": null,
   "id": "7e2eb895",
   "metadata": {},
   "outputs": [],
   "source": []
  },
  {
   "cell_type": "code",
   "execution_count": 47,
   "id": "3886b213",
   "metadata": {},
   "outputs": [
    {
     "data": {
      "text/plain": [
       "[<matplotlib.lines.Line2D at 0x1ba3f0708e0>]"
      ]
     },
     "execution_count": 47,
     "metadata": {},
     "output_type": "execute_result"
    },
    {
     "data": {
      "image/png": "[encoded data removed]",
      "text/plain": [
       "<Figure size 432x288 with 1 Axes>"
      ]
     },
     "metadata": {
      "needs_background": "light"
     },
     "output_type": "display_data"
    }
   ],
   "source": [
    "plt.plot(hist.history['loss'], c='r')\n",
    "plt.plot(hist.history['val_loss'], c='b')"
   ]
  },
  {
   "cell_type": "code",
   "execution_count": 48,
   "id": "ed38d9dd",
   "metadata": {},
   "outputs": [
    {
     "data": {
      "text/plain": [
       "[<matplotlib.lines.Line2D at 0x1ba3e357dc0>]"
      ]
     },
     "execution_count": 48,
     "metadata": {},
     "output_type": "execute_result"
    },
    {
     "data": {
      "image/png": "[encoded data removed]",
      "text/plain": [
       "<Figure size 432x288 with 1 Axes>"
      ]
     },
     "metadata": {
      "needs_background": "light"
     },
     "output_type": "display_data"
    }
   ],
   "source": [
    "plt.plot(hist.history['accuracy'], c='r')\n",
    "plt.plot(hist.history['val_accuracy'], c='b')"
   ]
  },
  {
   "cell_type": "code",
   "execution_count": 57,
   "id": "3d002991",
   "metadata": {},
   "outputs": [
    {
     "data": {
      "text/plain": [
       "array([[1., 0.],\n",
       "       [1., 0.],\n",
       "       [1., 0.],\n",
       "       ...,\n",
       "       [1., 0.],\n",
       "       [0., 1.],\n",
       "       [1., 0.]], dtype=float32)"
      ]
     },
     "execution_count": 57,
     "metadata": {},
     "output_type": "execute_result"
    }
   ],
   "source": [
    "y_train"
   ]
  },
  {
   "cell_type": "code",
   "execution_count": 51,
   "id": "65300a1f",
   "metadata": {},
   "outputs": [
    {
     "data": {
      "text/plain": [
       "0.8502405568635479"
      ]
     },
     "execution_count": 51,
     "metadata": {},
     "output_type": "execute_result"
    }
   ],
   "source": [
    "from sklearn.ensemble import RandomForestClassifier\n",
    "rfc = RandomForestClassifier()\n",
    "rfc.fit(x_train_sc, y_train)\n",
    "rfc.score(x_test_sc, y_test)"
   ]
  },
  {
   "cell_type": "code",
   "execution_count": null,
   "id": "50a7b83d",
   "metadata": {},
   "outputs": [],
   "source": []
  },
  {
   "cell_type": "code",
   "execution_count": null,
   "id": "2e13d9e2",
   "metadata": {},
   "outputs": [],
   "source": []
  },
  {
   "cell_type": "code",
   "execution_count": null,
   "id": "5a240022",
   "metadata": {},
   "outputs": [],
   "source": []
  }
 ],
 "metadata": {
  "kernelspec": {
   "display_name": "Python 3 (ipykernel)",
   "language": "python",
   "name": "python3"
  },
  "language_info": {
   "codemirror_mode": {
    "name": "ipython",
    "version": 3
   },
   "file_extension": ".py",
   "mimetype": "text/x-python",
   "name": "python",
   "nbconvert_exporter": "python",
   "pygments_lexer": "ipython3",
   "version": "3.9.7"
  }
 },
 "nbformat": 4,
 "nbformat_minor": 5
}
